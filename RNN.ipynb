{
 "cells": [
  {
   "cell_type": "code",
   "execution_count": 19,
   "metadata": {},
   "outputs": [],
   "source": [
    "import torch\n",
    "import torch.nn as nn\n",
    "import torch.optim as optim\n",
    "from torch.utils.data import Dataset, DataLoader\n",
    "import numpy as np\n",
    "import os\n",
    "import mne\n",
    "import tensorflow as tf\n",
    "import gc\n",
    "import pickle\n",
    "from scipy.signal import welch\n",
    "from tensorflow.keras.models import Sequential\n",
    "from sklearn.utils.class_weight import compute_class_weight\n",
    "from tensorflow.keras.layers import GRU, Dense, Dropout\n",
    "from tensorflow.keras.optimizers import Adam\n",
    "from tensorflow.keras.callbacks import EarlyStopping, ReduceLROnPlateau\n",
    "from tensorflow.keras.layers import Masking\n",
    "import matplotlib.pyplot as plt\n",
    "from sklearn.preprocessing import StandardScaler\n",
    "from sklearn.metrics import f1_score\n",
    "from collections import Counter\n",
    "import optuna\n",
    "from sklearn.metrics import accuracy_score, classification_report, confusion_matrix\n",
    "import seaborn as sns\n",
    "\n",
    "data_dir = \"preprocessed_epochs\"\n",
    "frequency_bands = {\n",
    "    \"theta\": (4, 8),\n",
    "    \"alpha\": (8, 13),\n",
    "    \"beta\": (13, 30),\n",
    "}\n",
    "\n",
    "# region_channels = {\n",
    "#     \"frontal\": [\"Fp1\", \"Fp2\", \"Fz\", \"F3\", \"F4\"],\n",
    "#     \"central\": [\"Cz\", \"C3\", \"C4\"],\n",
    "#     \"parietal\": [\"Pz\", \"P3\", \"P4\"],\n",
    "#     \"occipital\": [\"O1\", \"O2\"],\n",
    "# }"
   ]
  },
  {
   "cell_type": "code",
   "execution_count": 26,
   "metadata": {},
   "outputs": [
    {
     "name": "stdout",
     "output_type": "stream",
     "text": [
      "Reading c:\\Users\\yaoyu\\Documents\\EE675\\preprocessed_epochs\\sub-01_ses-1_retained-epochs.fif ...\n",
      "    Found the data of interest:\n",
      "        t =       0.00 ...    3998.00 ms\n",
      "        0 CTF compensation matrices available\n",
      "Not setting metadata\n",
      "75 matching events found\n",
      "No baseline correction applied\n",
      "0 projection items activated\n"
     ]
    },
    {
     "name": "stderr",
     "output_type": "stream",
     "text": [
      "C:\\Users\\yaoyu\\AppData\\Local\\Temp\\ipykernel_3372\\1934459742.py:13: RuntimeWarning: This filename (preprocessed_epochs\\sub-01_ses-1_retained-epochs.fif) does not conform to MNE naming conventions. All epochs files should end with -epo.fif, -epo.fif.gz, _epo.fif or _epo.fif.gz\n",
      "  epochs = mne.read_epochs(file_path, preload=True)\n"
     ]
    },
    {
     "name": "stdout",
     "output_type": "stream",
     "text": [
      "Reading c:\\Users\\yaoyu\\Documents\\EE675\\preprocessed_epochs\\sub-01_ses-2_retained-epochs.fif ...\n",
      "    Found the data of interest:\n",
      "        t =       0.00 ...    3998.00 ms\n",
      "        0 CTF compensation matrices available\n",
      "Not setting metadata\n",
      "56 matching events found\n",
      "No baseline correction applied\n",
      "0 projection items activated\n"
     ]
    },
    {
     "name": "stderr",
     "output_type": "stream",
     "text": [
      "C:\\Users\\yaoyu\\AppData\\Local\\Temp\\ipykernel_3372\\1934459742.py:13: RuntimeWarning: This filename (preprocessed_epochs\\sub-01_ses-2_retained-epochs.fif) does not conform to MNE naming conventions. All epochs files should end with -epo.fif, -epo.fif.gz, _epo.fif or _epo.fif.gz\n",
      "  epochs = mne.read_epochs(file_path, preload=True)\n"
     ]
    },
    {
     "name": "stdout",
     "output_type": "stream",
     "text": [
      "Reading c:\\Users\\yaoyu\\Documents\\EE675\\preprocessed_epochs\\sub-02_ses-1_retained-epochs.fif ...\n",
      "    Found the data of interest:\n",
      "        t =       0.00 ...    3998.00 ms\n",
      "        0 CTF compensation matrices available\n",
      "Not setting metadata\n",
      "69 matching events found\n",
      "No baseline correction applied\n",
      "0 projection items activated\n"
     ]
    },
    {
     "name": "stderr",
     "output_type": "stream",
     "text": [
      "C:\\Users\\yaoyu\\AppData\\Local\\Temp\\ipykernel_3372\\1934459742.py:13: RuntimeWarning: This filename (preprocessed_epochs\\sub-02_ses-1_retained-epochs.fif) does not conform to MNE naming conventions. All epochs files should end with -epo.fif, -epo.fif.gz, _epo.fif or _epo.fif.gz\n",
      "  epochs = mne.read_epochs(file_path, preload=True)\n"
     ]
    },
    {
     "name": "stdout",
     "output_type": "stream",
     "text": [
      "Reading c:\\Users\\yaoyu\\Documents\\EE675\\preprocessed_epochs\\sub-02_ses-2_retained-epochs.fif ...\n",
      "    Found the data of interest:\n",
      "        t =       0.00 ...    3998.00 ms\n",
      "        0 CTF compensation matrices available\n",
      "Not setting metadata\n",
      "67 matching events found\n",
      "No baseline correction applied\n",
      "0 projection items activated\n"
     ]
    },
    {
     "name": "stderr",
     "output_type": "stream",
     "text": [
      "C:\\Users\\yaoyu\\AppData\\Local\\Temp\\ipykernel_3372\\1934459742.py:13: RuntimeWarning: This filename (preprocessed_epochs\\sub-02_ses-2_retained-epochs.fif) does not conform to MNE naming conventions. All epochs files should end with -epo.fif, -epo.fif.gz, _epo.fif or _epo.fif.gz\n",
      "  epochs = mne.read_epochs(file_path, preload=True)\n"
     ]
    },
    {
     "name": "stdout",
     "output_type": "stream",
     "text": [
      "Reading c:\\Users\\yaoyu\\Documents\\EE675\\preprocessed_epochs\\sub-03_ses-1_retained-epochs.fif ...\n",
      "    Found the data of interest:\n",
      "        t =       0.00 ...    3998.00 ms\n",
      "        0 CTF compensation matrices available\n",
      "Not setting metadata\n",
      "70 matching events found\n",
      "No baseline correction applied\n",
      "0 projection items activated\n"
     ]
    },
    {
     "name": "stderr",
     "output_type": "stream",
     "text": [
      "C:\\Users\\yaoyu\\AppData\\Local\\Temp\\ipykernel_3372\\1934459742.py:13: RuntimeWarning: This filename (preprocessed_epochs\\sub-03_ses-1_retained-epochs.fif) does not conform to MNE naming conventions. All epochs files should end with -epo.fif, -epo.fif.gz, _epo.fif or _epo.fif.gz\n",
      "  epochs = mne.read_epochs(file_path, preload=True)\n"
     ]
    },
    {
     "name": "stdout",
     "output_type": "stream",
     "text": [
      "Reading c:\\Users\\yaoyu\\Documents\\EE675\\preprocessed_epochs\\sub-03_ses-2_retained-epochs.fif ...\n",
      "    Found the data of interest:\n",
      "        t =       0.00 ...    3998.00 ms\n",
      "        0 CTF compensation matrices available\n",
      "Not setting metadata\n",
      "72 matching events found\n",
      "No baseline correction applied\n",
      "0 projection items activated\n"
     ]
    },
    {
     "name": "stderr",
     "output_type": "stream",
     "text": [
      "C:\\Users\\yaoyu\\AppData\\Local\\Temp\\ipykernel_3372\\1934459742.py:13: RuntimeWarning: This filename (preprocessed_epochs\\sub-03_ses-2_retained-epochs.fif) does not conform to MNE naming conventions. All epochs files should end with -epo.fif, -epo.fif.gz, _epo.fif or _epo.fif.gz\n",
      "  epochs = mne.read_epochs(file_path, preload=True)\n"
     ]
    },
    {
     "name": "stdout",
     "output_type": "stream",
     "text": [
      "Reading c:\\Users\\yaoyu\\Documents\\EE675\\preprocessed_epochs\\sub-04_ses-2_retained-epochs.fif ...\n",
      "    Found the data of interest:\n",
      "        t =       0.00 ...    3998.00 ms\n",
      "        0 CTF compensation matrices available\n",
      "Not setting metadata\n",
      "48 matching events found\n",
      "No baseline correction applied\n",
      "0 projection items activated\n"
     ]
    },
    {
     "name": "stderr",
     "output_type": "stream",
     "text": [
      "C:\\Users\\yaoyu\\AppData\\Local\\Temp\\ipykernel_3372\\1934459742.py:13: RuntimeWarning: This filename (preprocessed_epochs\\sub-04_ses-2_retained-epochs.fif) does not conform to MNE naming conventions. All epochs files should end with -epo.fif, -epo.fif.gz, _epo.fif or _epo.fif.gz\n",
      "  epochs = mne.read_epochs(file_path, preload=True)\n"
     ]
    },
    {
     "name": "stdout",
     "output_type": "stream",
     "text": [
      "Reading c:\\Users\\yaoyu\\Documents\\EE675\\preprocessed_epochs\\sub-05_ses-1_retained-epochs.fif ...\n",
      "    Found the data of interest:\n",
      "        t =       0.00 ...    3998.00 ms\n",
      "        0 CTF compensation matrices available\n",
      "Not setting metadata\n",
      "75 matching events found\n",
      "No baseline correction applied\n",
      "0 projection items activated\n"
     ]
    },
    {
     "name": "stderr",
     "output_type": "stream",
     "text": [
      "C:\\Users\\yaoyu\\AppData\\Local\\Temp\\ipykernel_3372\\1934459742.py:13: RuntimeWarning: This filename (preprocessed_epochs\\sub-05_ses-1_retained-epochs.fif) does not conform to MNE naming conventions. All epochs files should end with -epo.fif, -epo.fif.gz, _epo.fif or _epo.fif.gz\n",
      "  epochs = mne.read_epochs(file_path, preload=True)\n"
     ]
    },
    {
     "name": "stdout",
     "output_type": "stream",
     "text": [
      "Reading c:\\Users\\yaoyu\\Documents\\EE675\\preprocessed_epochs\\sub-05_ses-2_retained-epochs.fif ...\n",
      "    Found the data of interest:\n",
      "        t =       0.00 ...    3998.00 ms\n",
      "        0 CTF compensation matrices available\n",
      "Not setting metadata\n",
      "75 matching events found\n",
      "No baseline correction applied\n",
      "0 projection items activated\n"
     ]
    },
    {
     "name": "stderr",
     "output_type": "stream",
     "text": [
      "C:\\Users\\yaoyu\\AppData\\Local\\Temp\\ipykernel_3372\\1934459742.py:13: RuntimeWarning: This filename (preprocessed_epochs\\sub-05_ses-2_retained-epochs.fif) does not conform to MNE naming conventions. All epochs files should end with -epo.fif, -epo.fif.gz, _epo.fif or _epo.fif.gz\n",
      "  epochs = mne.read_epochs(file_path, preload=True)\n"
     ]
    },
    {
     "name": "stdout",
     "output_type": "stream",
     "text": [
      "Reading c:\\Users\\yaoyu\\Documents\\EE675\\preprocessed_epochs\\sub-06_ses-1_retained-epochs.fif ...\n",
      "    Found the data of interest:\n",
      "        t =       0.00 ...    3998.00 ms\n",
      "        0 CTF compensation matrices available\n",
      "Not setting metadata\n",
      "74 matching events found\n",
      "No baseline correction applied\n",
      "0 projection items activated\n"
     ]
    },
    {
     "name": "stderr",
     "output_type": "stream",
     "text": [
      "C:\\Users\\yaoyu\\AppData\\Local\\Temp\\ipykernel_3372\\1934459742.py:13: RuntimeWarning: This filename (preprocessed_epochs\\sub-06_ses-1_retained-epochs.fif) does not conform to MNE naming conventions. All epochs files should end with -epo.fif, -epo.fif.gz, _epo.fif or _epo.fif.gz\n",
      "  epochs = mne.read_epochs(file_path, preload=True)\n"
     ]
    },
    {
     "name": "stdout",
     "output_type": "stream",
     "text": [
      "Reading c:\\Users\\yaoyu\\Documents\\EE675\\preprocessed_epochs\\sub-06_ses-2_retained-epochs.fif ...\n",
      "    Found the data of interest:\n",
      "        t =       0.00 ...    3998.00 ms\n",
      "        0 CTF compensation matrices available\n",
      "Not setting metadata\n",
      "66 matching events found\n",
      "No baseline correction applied\n",
      "0 projection items activated\n"
     ]
    },
    {
     "name": "stderr",
     "output_type": "stream",
     "text": [
      "C:\\Users\\yaoyu\\AppData\\Local\\Temp\\ipykernel_3372\\1934459742.py:13: RuntimeWarning: This filename (preprocessed_epochs\\sub-06_ses-2_retained-epochs.fif) does not conform to MNE naming conventions. All epochs files should end with -epo.fif, -epo.fif.gz, _epo.fif or _epo.fif.gz\n",
      "  epochs = mne.read_epochs(file_path, preload=True)\n"
     ]
    },
    {
     "name": "stdout",
     "output_type": "stream",
     "text": [
      "Reading c:\\Users\\yaoyu\\Documents\\EE675\\preprocessed_epochs\\sub-07_ses-1_retained-epochs.fif ...\n",
      "    Found the data of interest:\n",
      "        t =       0.00 ...    3998.00 ms\n",
      "        0 CTF compensation matrices available\n",
      "Not setting metadata\n",
      "71 matching events found\n",
      "No baseline correction applied\n",
      "0 projection items activated\n"
     ]
    },
    {
     "name": "stderr",
     "output_type": "stream",
     "text": [
      "C:\\Users\\yaoyu\\AppData\\Local\\Temp\\ipykernel_3372\\1934459742.py:13: RuntimeWarning: This filename (preprocessed_epochs\\sub-07_ses-1_retained-epochs.fif) does not conform to MNE naming conventions. All epochs files should end with -epo.fif, -epo.fif.gz, _epo.fif or _epo.fif.gz\n",
      "  epochs = mne.read_epochs(file_path, preload=True)\n"
     ]
    },
    {
     "name": "stdout",
     "output_type": "stream",
     "text": [
      "Reading c:\\Users\\yaoyu\\Documents\\EE675\\preprocessed_epochs\\sub-07_ses-2_retained-epochs.fif ...\n",
      "    Found the data of interest:\n",
      "        t =       0.00 ...    3998.00 ms\n",
      "        0 CTF compensation matrices available\n",
      "Not setting metadata\n",
      "39 matching events found\n",
      "No baseline correction applied\n",
      "0 projection items activated\n"
     ]
    },
    {
     "name": "stderr",
     "output_type": "stream",
     "text": [
      "C:\\Users\\yaoyu\\AppData\\Local\\Temp\\ipykernel_3372\\1934459742.py:13: RuntimeWarning: This filename (preprocessed_epochs\\sub-07_ses-2_retained-epochs.fif) does not conform to MNE naming conventions. All epochs files should end with -epo.fif, -epo.fif.gz, _epo.fif or _epo.fif.gz\n",
      "  epochs = mne.read_epochs(file_path, preload=True)\n"
     ]
    },
    {
     "name": "stdout",
     "output_type": "stream",
     "text": [
      "Reading c:\\Users\\yaoyu\\Documents\\EE675\\preprocessed_epochs\\sub-08_ses-1_retained-epochs.fif ...\n",
      "    Found the data of interest:\n",
      "        t =       0.00 ...    3998.00 ms\n",
      "        0 CTF compensation matrices available\n",
      "Not setting metadata\n",
      "38 matching events found\n",
      "No baseline correction applied\n",
      "0 projection items activated\n",
      "Reading c:\\Users\\yaoyu\\Documents\\EE675\\preprocessed_epochs\\sub-08_ses-2_retained-epochs.fif ...\n"
     ]
    },
    {
     "name": "stderr",
     "output_type": "stream",
     "text": [
      "C:\\Users\\yaoyu\\AppData\\Local\\Temp\\ipykernel_3372\\1934459742.py:13: RuntimeWarning: This filename (preprocessed_epochs\\sub-08_ses-1_retained-epochs.fif) does not conform to MNE naming conventions. All epochs files should end with -epo.fif, -epo.fif.gz, _epo.fif or _epo.fif.gz\n",
      "  epochs = mne.read_epochs(file_path, preload=True)\n",
      "C:\\Users\\yaoyu\\AppData\\Local\\Temp\\ipykernel_3372\\1934459742.py:13: RuntimeWarning: This filename (preprocessed_epochs\\sub-08_ses-2_retained-epochs.fif) does not conform to MNE naming conventions. All epochs files should end with -epo.fif, -epo.fif.gz, _epo.fif or _epo.fif.gz\n",
      "  epochs = mne.read_epochs(file_path, preload=True)\n"
     ]
    },
    {
     "name": "stdout",
     "output_type": "stream",
     "text": [
      "    Found the data of interest:\n",
      "        t =       0.00 ...    3998.00 ms\n",
      "        0 CTF compensation matrices available\n",
      "Not setting metadata\n",
      "58 matching events found\n",
      "No baseline correction applied\n",
      "0 projection items activated\n",
      "Reading c:\\Users\\yaoyu\\Documents\\EE675\\preprocessed_epochs\\sub-09_ses-1_retained-epochs.fif ...\n",
      "    Found the data of interest:\n",
      "        t =       0.00 ...    3998.00 ms\n",
      "        0 CTF compensation matrices available\n",
      "Not setting metadata\n",
      "33 matching events found\n",
      "No baseline correction applied\n",
      "0 projection items activated\n",
      "Reading c:\\Users\\yaoyu\\Documents\\EE675\\preprocessed_epochs\\sub-09_ses-2_retained-epochs.fif ...\n"
     ]
    },
    {
     "name": "stderr",
     "output_type": "stream",
     "text": [
      "C:\\Users\\yaoyu\\AppData\\Local\\Temp\\ipykernel_3372\\1934459742.py:13: RuntimeWarning: This filename (preprocessed_epochs\\sub-09_ses-1_retained-epochs.fif) does not conform to MNE naming conventions. All epochs files should end with -epo.fif, -epo.fif.gz, _epo.fif or _epo.fif.gz\n",
      "  epochs = mne.read_epochs(file_path, preload=True)\n",
      "C:\\Users\\yaoyu\\AppData\\Local\\Temp\\ipykernel_3372\\1934459742.py:13: RuntimeWarning: This filename (preprocessed_epochs\\sub-09_ses-2_retained-epochs.fif) does not conform to MNE naming conventions. All epochs files should end with -epo.fif, -epo.fif.gz, _epo.fif or _epo.fif.gz\n",
      "  epochs = mne.read_epochs(file_path, preload=True)\n"
     ]
    },
    {
     "name": "stdout",
     "output_type": "stream",
     "text": [
      "    Found the data of interest:\n",
      "        t =       0.00 ...    3998.00 ms\n",
      "        0 CTF compensation matrices available\n",
      "Not setting metadata\n",
      "41 matching events found\n",
      "No baseline correction applied\n",
      "0 projection items activated\n",
      "Reading c:\\Users\\yaoyu\\Documents\\EE675\\preprocessed_epochs\\sub-10_ses-1_retained-epochs.fif ...\n",
      "    Found the data of interest:\n",
      "        t =       0.00 ...    3998.00 ms\n",
      "        0 CTF compensation matrices available\n",
      "Not setting metadata\n",
      "74 matching events found\n",
      "No baseline correction applied\n",
      "0 projection items activated\n"
     ]
    },
    {
     "name": "stderr",
     "output_type": "stream",
     "text": [
      "C:\\Users\\yaoyu\\AppData\\Local\\Temp\\ipykernel_3372\\1934459742.py:13: RuntimeWarning: This filename (preprocessed_epochs\\sub-10_ses-1_retained-epochs.fif) does not conform to MNE naming conventions. All epochs files should end with -epo.fif, -epo.fif.gz, _epo.fif or _epo.fif.gz\n",
      "  epochs = mne.read_epochs(file_path, preload=True)\n"
     ]
    },
    {
     "name": "stdout",
     "output_type": "stream",
     "text": [
      "Reading c:\\Users\\yaoyu\\Documents\\EE675\\preprocessed_epochs\\sub-10_ses-2_retained-epochs.fif ...\n",
      "    Found the data of interest:\n",
      "        t =       0.00 ...    3998.00 ms\n",
      "        0 CTF compensation matrices available\n",
      "Not setting metadata\n",
      "73 matching events found\n",
      "No baseline correction applied\n",
      "0 projection items activated\n"
     ]
    },
    {
     "name": "stderr",
     "output_type": "stream",
     "text": [
      "C:\\Users\\yaoyu\\AppData\\Local\\Temp\\ipykernel_3372\\1934459742.py:13: RuntimeWarning: This filename (preprocessed_epochs\\sub-10_ses-2_retained-epochs.fif) does not conform to MNE naming conventions. All epochs files should end with -epo.fif, -epo.fif.gz, _epo.fif or _epo.fif.gz\n",
      "  epochs = mne.read_epochs(file_path, preload=True)\n"
     ]
    },
    {
     "name": "stdout",
     "output_type": "stream",
     "text": [
      "Reading c:\\Users\\yaoyu\\Documents\\EE675\\preprocessed_epochs\\sub-11_ses-1_retained-epochs.fif ...\n",
      "    Found the data of interest:\n",
      "        t =       0.00 ...    3998.00 ms\n",
      "        0 CTF compensation matrices available\n",
      "Not setting metadata\n",
      "48 matching events found\n",
      "No baseline correction applied\n",
      "0 projection items activated\n"
     ]
    },
    {
     "name": "stderr",
     "output_type": "stream",
     "text": [
      "C:\\Users\\yaoyu\\AppData\\Local\\Temp\\ipykernel_3372\\1934459742.py:13: RuntimeWarning: This filename (preprocessed_epochs\\sub-11_ses-1_retained-epochs.fif) does not conform to MNE naming conventions. All epochs files should end with -epo.fif, -epo.fif.gz, _epo.fif or _epo.fif.gz\n",
      "  epochs = mne.read_epochs(file_path, preload=True)\n"
     ]
    },
    {
     "name": "stdout",
     "output_type": "stream",
     "text": [
      "Reading c:\\Users\\yaoyu\\Documents\\EE675\\preprocessed_epochs\\sub-11_ses-2_retained-epochs.fif ...\n",
      "    Found the data of interest:\n",
      "        t =       0.00 ...    3998.00 ms\n",
      "        0 CTF compensation matrices available\n",
      "Not setting metadata\n",
      "66 matching events found\n",
      "No baseline correction applied\n",
      "0 projection items activated\n"
     ]
    },
    {
     "name": "stderr",
     "output_type": "stream",
     "text": [
      "C:\\Users\\yaoyu\\AppData\\Local\\Temp\\ipykernel_3372\\1934459742.py:13: RuntimeWarning: This filename (preprocessed_epochs\\sub-11_ses-2_retained-epochs.fif) does not conform to MNE naming conventions. All epochs files should end with -epo.fif, -epo.fif.gz, _epo.fif or _epo.fif.gz\n",
      "  epochs = mne.read_epochs(file_path, preload=True)\n"
     ]
    },
    {
     "name": "stdout",
     "output_type": "stream",
     "text": [
      "Reading c:\\Users\\yaoyu\\Documents\\EE675\\preprocessed_epochs\\sub-12_ses-1_retained-epochs.fif ...\n",
      "    Found the data of interest:\n",
      "        t =       0.00 ...    3998.00 ms\n",
      "        0 CTF compensation matrices available\n",
      "Not setting metadata\n",
      "74 matching events found\n",
      "No baseline correction applied\n",
      "0 projection items activated\n"
     ]
    },
    {
     "name": "stderr",
     "output_type": "stream",
     "text": [
      "C:\\Users\\yaoyu\\AppData\\Local\\Temp\\ipykernel_3372\\1934459742.py:13: RuntimeWarning: This filename (preprocessed_epochs\\sub-12_ses-1_retained-epochs.fif) does not conform to MNE naming conventions. All epochs files should end with -epo.fif, -epo.fif.gz, _epo.fif or _epo.fif.gz\n",
      "  epochs = mne.read_epochs(file_path, preload=True)\n"
     ]
    },
    {
     "name": "stdout",
     "output_type": "stream",
     "text": [
      "Reading c:\\Users\\yaoyu\\Documents\\EE675\\preprocessed_epochs\\sub-12_ses-2_retained-epochs.fif ...\n",
      "    Found the data of interest:\n",
      "        t =       0.00 ...    3998.00 ms\n",
      "        0 CTF compensation matrices available\n",
      "Not setting metadata\n",
      "68 matching events found\n",
      "No baseline correction applied\n",
      "0 projection items activated\n"
     ]
    },
    {
     "name": "stderr",
     "output_type": "stream",
     "text": [
      "C:\\Users\\yaoyu\\AppData\\Local\\Temp\\ipykernel_3372\\1934459742.py:13: RuntimeWarning: This filename (preprocessed_epochs\\sub-12_ses-2_retained-epochs.fif) does not conform to MNE naming conventions. All epochs files should end with -epo.fif, -epo.fif.gz, _epo.fif or _epo.fif.gz\n",
      "  epochs = mne.read_epochs(file_path, preload=True)\n"
     ]
    },
    {
     "name": "stdout",
     "output_type": "stream",
     "text": [
      "Reading c:\\Users\\yaoyu\\Documents\\EE675\\preprocessed_epochs\\sub-13_ses-1_retained-epochs.fif ...\n",
      "    Found the data of interest:\n",
      "        t =       0.00 ...    3998.00 ms\n",
      "        0 CTF compensation matrices available\n",
      "Not setting metadata\n",
      "74 matching events found\n",
      "No baseline correction applied\n",
      "0 projection items activated\n"
     ]
    },
    {
     "name": "stderr",
     "output_type": "stream",
     "text": [
      "C:\\Users\\yaoyu\\AppData\\Local\\Temp\\ipykernel_3372\\1934459742.py:13: RuntimeWarning: This filename (preprocessed_epochs\\sub-13_ses-1_retained-epochs.fif) does not conform to MNE naming conventions. All epochs files should end with -epo.fif, -epo.fif.gz, _epo.fif or _epo.fif.gz\n",
      "  epochs = mne.read_epochs(file_path, preload=True)\n"
     ]
    },
    {
     "name": "stdout",
     "output_type": "stream",
     "text": [
      "Reading c:\\Users\\yaoyu\\Documents\\EE675\\preprocessed_epochs\\sub-13_ses-2_retained-epochs.fif ...\n",
      "    Found the data of interest:\n",
      "        t =       0.00 ...    3998.00 ms\n",
      "        0 CTF compensation matrices available\n",
      "Not setting metadata\n",
      "1 matching events found\n",
      "No baseline correction applied\n",
      "0 projection items activated\n",
      "Skipping patient sub-13_ses-2_retained-epochs.fif: less than 10 epochs.\n",
      "Reading c:\\Users\\yaoyu\\Documents\\EE675\\preprocessed_epochs\\sub-14_ses-1_retained-epochs.fif ...\n",
      "    Found the data of interest:\n",
      "        t =       0.00 ...    3998.00 ms\n",
      "        0 CTF compensation matrices available\n",
      "Not setting metadata\n",
      "67 matching events found\n",
      "No baseline correction applied\n",
      "0 projection items activated\n"
     ]
    },
    {
     "name": "stderr",
     "output_type": "stream",
     "text": [
      "C:\\Users\\yaoyu\\AppData\\Local\\Temp\\ipykernel_3372\\1934459742.py:13: RuntimeWarning: This filename (preprocessed_epochs\\sub-13_ses-2_retained-epochs.fif) does not conform to MNE naming conventions. All epochs files should end with -epo.fif, -epo.fif.gz, _epo.fif or _epo.fif.gz\n",
      "  epochs = mne.read_epochs(file_path, preload=True)\n",
      "C:\\Users\\yaoyu\\AppData\\Local\\Temp\\ipykernel_3372\\1934459742.py:13: RuntimeWarning: This filename (preprocessed_epochs\\sub-14_ses-1_retained-epochs.fif) does not conform to MNE naming conventions. All epochs files should end with -epo.fif, -epo.fif.gz, _epo.fif or _epo.fif.gz\n",
      "  epochs = mne.read_epochs(file_path, preload=True)\n"
     ]
    },
    {
     "name": "stdout",
     "output_type": "stream",
     "text": [
      "Reading c:\\Users\\yaoyu\\Documents\\EE675\\preprocessed_epochs\\sub-14_ses-2_retained-epochs.fif ...\n",
      "    Found the data of interest:\n",
      "        t =       0.00 ...    3998.00 ms\n",
      "        0 CTF compensation matrices available\n",
      "Not setting metadata\n",
      "70 matching events found\n",
      "No baseline correction applied\n",
      "0 projection items activated\n"
     ]
    },
    {
     "name": "stderr",
     "output_type": "stream",
     "text": [
      "C:\\Users\\yaoyu\\AppData\\Local\\Temp\\ipykernel_3372\\1934459742.py:13: RuntimeWarning: This filename (preprocessed_epochs\\sub-14_ses-2_retained-epochs.fif) does not conform to MNE naming conventions. All epochs files should end with -epo.fif, -epo.fif.gz, _epo.fif or _epo.fif.gz\n",
      "  epochs = mne.read_epochs(file_path, preload=True)\n"
     ]
    },
    {
     "name": "stdout",
     "output_type": "stream",
     "text": [
      "Reading c:\\Users\\yaoyu\\Documents\\EE675\\preprocessed_epochs\\sub-15_ses-1_retained-epochs.fif ...\n",
      "    Found the data of interest:\n",
      "        t =       0.00 ...    3998.00 ms\n",
      "        0 CTF compensation matrices available\n",
      "Not setting metadata\n",
      "65 matching events found\n",
      "No baseline correction applied\n",
      "0 projection items activated\n"
     ]
    },
    {
     "name": "stderr",
     "output_type": "stream",
     "text": [
      "C:\\Users\\yaoyu\\AppData\\Local\\Temp\\ipykernel_3372\\1934459742.py:13: RuntimeWarning: This filename (preprocessed_epochs\\sub-15_ses-1_retained-epochs.fif) does not conform to MNE naming conventions. All epochs files should end with -epo.fif, -epo.fif.gz, _epo.fif or _epo.fif.gz\n",
      "  epochs = mne.read_epochs(file_path, preload=True)\n"
     ]
    },
    {
     "name": "stdout",
     "output_type": "stream",
     "text": [
      "Reading c:\\Users\\yaoyu\\Documents\\EE675\\preprocessed_epochs\\sub-15_ses-2_retained-epochs.fif ...\n",
      "    Found the data of interest:\n",
      "        t =       0.00 ...    3998.00 ms\n",
      "        0 CTF compensation matrices available\n",
      "Not setting metadata\n",
      "73 matching events found\n",
      "No baseline correction applied\n",
      "0 projection items activated\n"
     ]
    },
    {
     "name": "stderr",
     "output_type": "stream",
     "text": [
      "C:\\Users\\yaoyu\\AppData\\Local\\Temp\\ipykernel_3372\\1934459742.py:13: RuntimeWarning: This filename (preprocessed_epochs\\sub-15_ses-2_retained-epochs.fif) does not conform to MNE naming conventions. All epochs files should end with -epo.fif, -epo.fif.gz, _epo.fif or _epo.fif.gz\n",
      "  epochs = mne.read_epochs(file_path, preload=True)\n"
     ]
    },
    {
     "name": "stdout",
     "output_type": "stream",
     "text": [
      "Reading c:\\Users\\yaoyu\\Documents\\EE675\\preprocessed_epochs\\sub-16_ses-1_retained-epochs.fif ...\n",
      "    Found the data of interest:\n",
      "        t =       0.00 ...    3998.00 ms\n",
      "        0 CTF compensation matrices available\n",
      "Not setting metadata\n",
      "71 matching events found\n",
      "No baseline correction applied\n",
      "0 projection items activated\n"
     ]
    },
    {
     "name": "stderr",
     "output_type": "stream",
     "text": [
      "C:\\Users\\yaoyu\\AppData\\Local\\Temp\\ipykernel_3372\\1934459742.py:13: RuntimeWarning: This filename (preprocessed_epochs\\sub-16_ses-1_retained-epochs.fif) does not conform to MNE naming conventions. All epochs files should end with -epo.fif, -epo.fif.gz, _epo.fif or _epo.fif.gz\n",
      "  epochs = mne.read_epochs(file_path, preload=True)\n"
     ]
    },
    {
     "name": "stdout",
     "output_type": "stream",
     "text": [
      "Reading c:\\Users\\yaoyu\\Documents\\EE675\\preprocessed_epochs\\sub-16_ses-2_retained-epochs.fif ...\n",
      "    Found the data of interest:\n",
      "        t =       0.00 ...    3998.00 ms\n",
      "        0 CTF compensation matrices available\n",
      "Not setting metadata\n",
      "68 matching events found\n",
      "No baseline correction applied\n",
      "0 projection items activated\n"
     ]
    },
    {
     "name": "stderr",
     "output_type": "stream",
     "text": [
      "C:\\Users\\yaoyu\\AppData\\Local\\Temp\\ipykernel_3372\\1934459742.py:13: RuntimeWarning: This filename (preprocessed_epochs\\sub-16_ses-2_retained-epochs.fif) does not conform to MNE naming conventions. All epochs files should end with -epo.fif, -epo.fif.gz, _epo.fif or _epo.fif.gz\n",
      "  epochs = mne.read_epochs(file_path, preload=True)\n"
     ]
    },
    {
     "name": "stdout",
     "output_type": "stream",
     "text": [
      "Reading c:\\Users\\yaoyu\\Documents\\EE675\\preprocessed_epochs\\sub-17_ses-1_retained-epochs.fif ...\n",
      "    Found the data of interest:\n",
      "        t =       0.00 ...    3998.00 ms\n",
      "        0 CTF compensation matrices available\n",
      "Not setting metadata\n",
      "68 matching events found\n",
      "No baseline correction applied\n",
      "0 projection items activated\n"
     ]
    },
    {
     "name": "stderr",
     "output_type": "stream",
     "text": [
      "C:\\Users\\yaoyu\\AppData\\Local\\Temp\\ipykernel_3372\\1934459742.py:13: RuntimeWarning: This filename (preprocessed_epochs\\sub-17_ses-1_retained-epochs.fif) does not conform to MNE naming conventions. All epochs files should end with -epo.fif, -epo.fif.gz, _epo.fif or _epo.fif.gz\n",
      "  epochs = mne.read_epochs(file_path, preload=True)\n"
     ]
    },
    {
     "name": "stdout",
     "output_type": "stream",
     "text": [
      "Reading c:\\Users\\yaoyu\\Documents\\EE675\\preprocessed_epochs\\sub-17_ses-2_retained-epochs.fif ...\n",
      "    Found the data of interest:\n",
      "        t =       0.00 ...    3998.00 ms\n",
      "        0 CTF compensation matrices available\n",
      "Not setting metadata\n",
      "74 matching events found\n",
      "No baseline correction applied\n",
      "0 projection items activated\n"
     ]
    },
    {
     "name": "stderr",
     "output_type": "stream",
     "text": [
      "C:\\Users\\yaoyu\\AppData\\Local\\Temp\\ipykernel_3372\\1934459742.py:13: RuntimeWarning: This filename (preprocessed_epochs\\sub-17_ses-2_retained-epochs.fif) does not conform to MNE naming conventions. All epochs files should end with -epo.fif, -epo.fif.gz, _epo.fif or _epo.fif.gz\n",
      "  epochs = mne.read_epochs(file_path, preload=True)\n"
     ]
    },
    {
     "name": "stdout",
     "output_type": "stream",
     "text": [
      "Reading c:\\Users\\yaoyu\\Documents\\EE675\\preprocessed_epochs\\sub-18_ses-1_retained-epochs.fif ...\n",
      "    Found the data of interest:\n",
      "        t =       0.00 ...    3998.00 ms\n",
      "        0 CTF compensation matrices available\n",
      "Not setting metadata\n",
      "73 matching events found\n",
      "No baseline correction applied\n",
      "0 projection items activated\n"
     ]
    },
    {
     "name": "stderr",
     "output_type": "stream",
     "text": [
      "C:\\Users\\yaoyu\\AppData\\Local\\Temp\\ipykernel_3372\\1934459742.py:13: RuntimeWarning: This filename (preprocessed_epochs\\sub-18_ses-1_retained-epochs.fif) does not conform to MNE naming conventions. All epochs files should end with -epo.fif, -epo.fif.gz, _epo.fif or _epo.fif.gz\n",
      "  epochs = mne.read_epochs(file_path, preload=True)\n"
     ]
    },
    {
     "name": "stdout",
     "output_type": "stream",
     "text": [
      "Reading c:\\Users\\yaoyu\\Documents\\EE675\\preprocessed_epochs\\sub-18_ses-2_retained-epochs.fif ...\n",
      "    Found the data of interest:\n",
      "        t =       0.00 ...    3998.00 ms\n",
      "        0 CTF compensation matrices available\n",
      "Not setting metadata\n",
      "75 matching events found\n",
      "No baseline correction applied\n",
      "0 projection items activated\n"
     ]
    },
    {
     "name": "stderr",
     "output_type": "stream",
     "text": [
      "C:\\Users\\yaoyu\\AppData\\Local\\Temp\\ipykernel_3372\\1934459742.py:13: RuntimeWarning: This filename (preprocessed_epochs\\sub-18_ses-2_retained-epochs.fif) does not conform to MNE naming conventions. All epochs files should end with -epo.fif, -epo.fif.gz, _epo.fif or _epo.fif.gz\n",
      "  epochs = mne.read_epochs(file_path, preload=True)\n"
     ]
    },
    {
     "name": "stdout",
     "output_type": "stream",
     "text": [
      "Reading c:\\Users\\yaoyu\\Documents\\EE675\\preprocessed_epochs\\sub-19_ses-1_retained-epochs.fif ...\n",
      "    Found the data of interest:\n",
      "        t =       0.00 ...    3998.00 ms\n",
      "        0 CTF compensation matrices available\n",
      "Not setting metadata\n",
      "75 matching events found\n",
      "No baseline correction applied\n",
      "0 projection items activated\n"
     ]
    },
    {
     "name": "stderr",
     "output_type": "stream",
     "text": [
      "C:\\Users\\yaoyu\\AppData\\Local\\Temp\\ipykernel_3372\\1934459742.py:13: RuntimeWarning: This filename (preprocessed_epochs\\sub-19_ses-1_retained-epochs.fif) does not conform to MNE naming conventions. All epochs files should end with -epo.fif, -epo.fif.gz, _epo.fif or _epo.fif.gz\n",
      "  epochs = mne.read_epochs(file_path, preload=True)\n"
     ]
    },
    {
     "name": "stdout",
     "output_type": "stream",
     "text": [
      "Reading c:\\Users\\yaoyu\\Documents\\EE675\\preprocessed_epochs\\sub-19_ses-2_retained-epochs.fif ...\n",
      "    Found the data of interest:\n",
      "        t =       0.00 ...    3998.00 ms\n",
      "        0 CTF compensation matrices available\n",
      "Not setting metadata\n",
      "72 matching events found\n",
      "No baseline correction applied\n",
      "0 projection items activated\n"
     ]
    },
    {
     "name": "stderr",
     "output_type": "stream",
     "text": [
      "C:\\Users\\yaoyu\\AppData\\Local\\Temp\\ipykernel_3372\\1934459742.py:13: RuntimeWarning: This filename (preprocessed_epochs\\sub-19_ses-2_retained-epochs.fif) does not conform to MNE naming conventions. All epochs files should end with -epo.fif, -epo.fif.gz, _epo.fif or _epo.fif.gz\n",
      "  epochs = mne.read_epochs(file_path, preload=True)\n"
     ]
    },
    {
     "name": "stdout",
     "output_type": "stream",
     "text": [
      "Reading c:\\Users\\yaoyu\\Documents\\EE675\\preprocessed_epochs\\sub-20_ses-1_retained-epochs.fif ...\n",
      "    Found the data of interest:\n",
      "        t =       0.00 ...    3998.00 ms\n",
      "        0 CTF compensation matrices available\n",
      "Not setting metadata\n",
      "74 matching events found\n",
      "No baseline correction applied\n",
      "0 projection items activated\n"
     ]
    },
    {
     "name": "stderr",
     "output_type": "stream",
     "text": [
      "C:\\Users\\yaoyu\\AppData\\Local\\Temp\\ipykernel_3372\\1934459742.py:13: RuntimeWarning: This filename (preprocessed_epochs\\sub-20_ses-1_retained-epochs.fif) does not conform to MNE naming conventions. All epochs files should end with -epo.fif, -epo.fif.gz, _epo.fif or _epo.fif.gz\n",
      "  epochs = mne.read_epochs(file_path, preload=True)\n"
     ]
    },
    {
     "name": "stdout",
     "output_type": "stream",
     "text": [
      "Reading c:\\Users\\yaoyu\\Documents\\EE675\\preprocessed_epochs\\sub-20_ses-2_retained-epochs.fif ...\n",
      "    Found the data of interest:\n",
      "        t =       0.00 ...    3998.00 ms\n",
      "        0 CTF compensation matrices available\n",
      "Not setting metadata\n",
      "58 matching events found\n",
      "No baseline correction applied\n",
      "0 projection items activated\n"
     ]
    },
    {
     "name": "stderr",
     "output_type": "stream",
     "text": [
      "C:\\Users\\yaoyu\\AppData\\Local\\Temp\\ipykernel_3372\\1934459742.py:13: RuntimeWarning: This filename (preprocessed_epochs\\sub-20_ses-2_retained-epochs.fif) does not conform to MNE naming conventions. All epochs files should end with -epo.fif, -epo.fif.gz, _epo.fif or _epo.fif.gz\n",
      "  epochs = mne.read_epochs(file_path, preload=True)\n"
     ]
    },
    {
     "name": "stdout",
     "output_type": "stream",
     "text": [
      "Reading c:\\Users\\yaoyu\\Documents\\EE675\\preprocessed_epochs\\sub-21_ses-1_retained-epochs.fif ...\n",
      "    Found the data of interest:\n",
      "        t =       0.00 ...    3998.00 ms\n",
      "        0 CTF compensation matrices available\n",
      "Not setting metadata\n",
      "45 matching events found\n",
      "No baseline correction applied\n",
      "0 projection items activated\n"
     ]
    },
    {
     "name": "stderr",
     "output_type": "stream",
     "text": [
      "C:\\Users\\yaoyu\\AppData\\Local\\Temp\\ipykernel_3372\\1934459742.py:13: RuntimeWarning: This filename (preprocessed_epochs\\sub-21_ses-1_retained-epochs.fif) does not conform to MNE naming conventions. All epochs files should end with -epo.fif, -epo.fif.gz, _epo.fif or _epo.fif.gz\n",
      "  epochs = mne.read_epochs(file_path, preload=True)\n"
     ]
    },
    {
     "name": "stdout",
     "output_type": "stream",
     "text": [
      "Reading c:\\Users\\yaoyu\\Documents\\EE675\\preprocessed_epochs\\sub-21_ses-2_retained-epochs.fif ...\n",
      "    Found the data of interest:\n",
      "        t =       0.00 ...    3998.00 ms\n",
      "        0 CTF compensation matrices available\n",
      "Not setting metadata\n",
      "49 matching events found\n",
      "No baseline correction applied\n",
      "0 projection items activated\n"
     ]
    },
    {
     "name": "stderr",
     "output_type": "stream",
     "text": [
      "C:\\Users\\yaoyu\\AppData\\Local\\Temp\\ipykernel_3372\\1934459742.py:13: RuntimeWarning: This filename (preprocessed_epochs\\sub-21_ses-2_retained-epochs.fif) does not conform to MNE naming conventions. All epochs files should end with -epo.fif, -epo.fif.gz, _epo.fif or _epo.fif.gz\n",
      "  epochs = mne.read_epochs(file_path, preload=True)\n"
     ]
    },
    {
     "name": "stdout",
     "output_type": "stream",
     "text": [
      "Reading c:\\Users\\yaoyu\\Documents\\EE675\\preprocessed_epochs\\sub-22_ses-1_retained-epochs.fif ...\n",
      "    Found the data of interest:\n",
      "        t =       0.00 ...    3998.00 ms\n",
      "        0 CTF compensation matrices available\n",
      "Not setting metadata\n",
      "72 matching events found\n",
      "No baseline correction applied\n",
      "0 projection items activated\n"
     ]
    },
    {
     "name": "stderr",
     "output_type": "stream",
     "text": [
      "C:\\Users\\yaoyu\\AppData\\Local\\Temp\\ipykernel_3372\\1934459742.py:13: RuntimeWarning: This filename (preprocessed_epochs\\sub-22_ses-1_retained-epochs.fif) does not conform to MNE naming conventions. All epochs files should end with -epo.fif, -epo.fif.gz, _epo.fif or _epo.fif.gz\n",
      "  epochs = mne.read_epochs(file_path, preload=True)\n"
     ]
    },
    {
     "name": "stdout",
     "output_type": "stream",
     "text": [
      "Reading c:\\Users\\yaoyu\\Documents\\EE675\\preprocessed_epochs\\sub-22_ses-2_retained-epochs.fif ...\n",
      "    Found the data of interest:\n",
      "        t =       0.00 ...    3998.00 ms\n",
      "        0 CTF compensation matrices available\n",
      "Not setting metadata\n",
      "73 matching events found\n",
      "No baseline correction applied\n",
      "0 projection items activated\n"
     ]
    },
    {
     "name": "stderr",
     "output_type": "stream",
     "text": [
      "C:\\Users\\yaoyu\\AppData\\Local\\Temp\\ipykernel_3372\\1934459742.py:13: RuntimeWarning: This filename (preprocessed_epochs\\sub-22_ses-2_retained-epochs.fif) does not conform to MNE naming conventions. All epochs files should end with -epo.fif, -epo.fif.gz, _epo.fif or _epo.fif.gz\n",
      "  epochs = mne.read_epochs(file_path, preload=True)\n"
     ]
    },
    {
     "name": "stdout",
     "output_type": "stream",
     "text": [
      "Reading c:\\Users\\yaoyu\\Documents\\EE675\\preprocessed_epochs\\sub-23_ses-1_retained-epochs.fif ...\n",
      "    Found the data of interest:\n",
      "        t =       0.00 ...    3998.00 ms\n",
      "        0 CTF compensation matrices available\n",
      "Not setting metadata\n",
      "70 matching events found\n",
      "No baseline correction applied\n",
      "0 projection items activated\n"
     ]
    },
    {
     "name": "stderr",
     "output_type": "stream",
     "text": [
      "C:\\Users\\yaoyu\\AppData\\Local\\Temp\\ipykernel_3372\\1934459742.py:13: RuntimeWarning: This filename (preprocessed_epochs\\sub-23_ses-1_retained-epochs.fif) does not conform to MNE naming conventions. All epochs files should end with -epo.fif, -epo.fif.gz, _epo.fif or _epo.fif.gz\n",
      "  epochs = mne.read_epochs(file_path, preload=True)\n"
     ]
    },
    {
     "name": "stdout",
     "output_type": "stream",
     "text": [
      "Reading c:\\Users\\yaoyu\\Documents\\EE675\\preprocessed_epochs\\sub-23_ses-2_retained-epochs.fif ...\n",
      "    Found the data of interest:\n",
      "        t =       0.00 ...    3998.00 ms\n",
      "        0 CTF compensation matrices available\n",
      "Not setting metadata\n",
      "74 matching events found\n",
      "No baseline correction applied\n",
      "0 projection items activated\n"
     ]
    },
    {
     "name": "stderr",
     "output_type": "stream",
     "text": [
      "C:\\Users\\yaoyu\\AppData\\Local\\Temp\\ipykernel_3372\\1934459742.py:13: RuntimeWarning: This filename (preprocessed_epochs\\sub-23_ses-2_retained-epochs.fif) does not conform to MNE naming conventions. All epochs files should end with -epo.fif, -epo.fif.gz, _epo.fif or _epo.fif.gz\n",
      "  epochs = mne.read_epochs(file_path, preload=True)\n"
     ]
    },
    {
     "name": "stdout",
     "output_type": "stream",
     "text": [
      "Reading c:\\Users\\yaoyu\\Documents\\EE675\\preprocessed_epochs\\sub-24_ses-1_retained-epochs.fif ...\n",
      "    Found the data of interest:\n",
      "        t =       0.00 ...    3998.00 ms\n",
      "        0 CTF compensation matrices available\n",
      "Not setting metadata\n",
      "73 matching events found\n",
      "No baseline correction applied\n",
      "0 projection items activated\n"
     ]
    },
    {
     "name": "stderr",
     "output_type": "stream",
     "text": [
      "C:\\Users\\yaoyu\\AppData\\Local\\Temp\\ipykernel_3372\\1934459742.py:13: RuntimeWarning: This filename (preprocessed_epochs\\sub-24_ses-1_retained-epochs.fif) does not conform to MNE naming conventions. All epochs files should end with -epo.fif, -epo.fif.gz, _epo.fif or _epo.fif.gz\n",
      "  epochs = mne.read_epochs(file_path, preload=True)\n"
     ]
    },
    {
     "name": "stdout",
     "output_type": "stream",
     "text": [
      "Reading c:\\Users\\yaoyu\\Documents\\EE675\\preprocessed_epochs\\sub-24_ses-2_retained-epochs.fif ...\n",
      "    Found the data of interest:\n",
      "        t =       0.00 ...    3998.00 ms\n",
      "        0 CTF compensation matrices available\n",
      "Not setting metadata\n",
      "50 matching events found\n",
      "No baseline correction applied\n",
      "0 projection items activated\n"
     ]
    },
    {
     "name": "stderr",
     "output_type": "stream",
     "text": [
      "C:\\Users\\yaoyu\\AppData\\Local\\Temp\\ipykernel_3372\\1934459742.py:13: RuntimeWarning: This filename (preprocessed_epochs\\sub-24_ses-2_retained-epochs.fif) does not conform to MNE naming conventions. All epochs files should end with -epo.fif, -epo.fif.gz, _epo.fif or _epo.fif.gz\n",
      "  epochs = mne.read_epochs(file_path, preload=True)\n"
     ]
    },
    {
     "name": "stdout",
     "output_type": "stream",
     "text": [
      "Reading c:\\Users\\yaoyu\\Documents\\EE675\\preprocessed_epochs\\sub-25_ses-1_retained-epochs.fif ...\n",
      "    Found the data of interest:\n",
      "        t =       0.00 ...    3998.00 ms\n",
      "        0 CTF compensation matrices available\n",
      "Not setting metadata\n",
      "74 matching events found\n",
      "No baseline correction applied\n",
      "0 projection items activated\n"
     ]
    },
    {
     "name": "stderr",
     "output_type": "stream",
     "text": [
      "C:\\Users\\yaoyu\\AppData\\Local\\Temp\\ipykernel_3372\\1934459742.py:13: RuntimeWarning: This filename (preprocessed_epochs\\sub-25_ses-1_retained-epochs.fif) does not conform to MNE naming conventions. All epochs files should end with -epo.fif, -epo.fif.gz, _epo.fif or _epo.fif.gz\n",
      "  epochs = mne.read_epochs(file_path, preload=True)\n"
     ]
    },
    {
     "name": "stdout",
     "output_type": "stream",
     "text": [
      "Reading c:\\Users\\yaoyu\\Documents\\EE675\\preprocessed_epochs\\sub-25_ses-2_retained-epochs.fif ...\n",
      "    Found the data of interest:\n",
      "        t =       0.00 ...    3998.00 ms\n",
      "        0 CTF compensation matrices available\n",
      "Not setting metadata\n",
      "69 matching events found\n",
      "No baseline correction applied\n",
      "0 projection items activated\n"
     ]
    },
    {
     "name": "stderr",
     "output_type": "stream",
     "text": [
      "C:\\Users\\yaoyu\\AppData\\Local\\Temp\\ipykernel_3372\\1934459742.py:13: RuntimeWarning: This filename (preprocessed_epochs\\sub-25_ses-2_retained-epochs.fif) does not conform to MNE naming conventions. All epochs files should end with -epo.fif, -epo.fif.gz, _epo.fif or _epo.fif.gz\n",
      "  epochs = mne.read_epochs(file_path, preload=True)\n"
     ]
    },
    {
     "name": "stdout",
     "output_type": "stream",
     "text": [
      "Reading c:\\Users\\yaoyu\\Documents\\EE675\\preprocessed_epochs\\sub-26_ses-1_retained-epochs.fif ...\n",
      "    Found the data of interest:\n",
      "        t =       0.00 ...    3998.00 ms\n",
      "        0 CTF compensation matrices available\n",
      "Not setting metadata\n",
      "75 matching events found\n",
      "No baseline correction applied\n",
      "0 projection items activated\n"
     ]
    },
    {
     "name": "stderr",
     "output_type": "stream",
     "text": [
      "C:\\Users\\yaoyu\\AppData\\Local\\Temp\\ipykernel_3372\\1934459742.py:13: RuntimeWarning: This filename (preprocessed_epochs\\sub-26_ses-1_retained-epochs.fif) does not conform to MNE naming conventions. All epochs files should end with -epo.fif, -epo.fif.gz, _epo.fif or _epo.fif.gz\n",
      "  epochs = mne.read_epochs(file_path, preload=True)\n"
     ]
    },
    {
     "name": "stdout",
     "output_type": "stream",
     "text": [
      "Reading c:\\Users\\yaoyu\\Documents\\EE675\\preprocessed_epochs\\sub-26_ses-2_retained-epochs.fif ...\n",
      "    Found the data of interest:\n",
      "        t =       0.00 ...    3998.00 ms\n",
      "        0 CTF compensation matrices available\n",
      "Not setting metadata\n",
      "75 matching events found\n",
      "No baseline correction applied\n",
      "0 projection items activated\n"
     ]
    },
    {
     "name": "stderr",
     "output_type": "stream",
     "text": [
      "C:\\Users\\yaoyu\\AppData\\Local\\Temp\\ipykernel_3372\\1934459742.py:13: RuntimeWarning: This filename (preprocessed_epochs\\sub-26_ses-2_retained-epochs.fif) does not conform to MNE naming conventions. All epochs files should end with -epo.fif, -epo.fif.gz, _epo.fif or _epo.fif.gz\n",
      "  epochs = mne.read_epochs(file_path, preload=True)\n"
     ]
    },
    {
     "name": "stdout",
     "output_type": "stream",
     "text": [
      "Reading c:\\Users\\yaoyu\\Documents\\EE675\\preprocessed_epochs\\sub-27_ses-1_retained-epochs.fif ...\n",
      "    Found the data of interest:\n",
      "        t =       0.00 ...    3998.00 ms\n",
      "        0 CTF compensation matrices available\n",
      "Not setting metadata\n",
      "73 matching events found\n",
      "No baseline correction applied\n",
      "0 projection items activated\n"
     ]
    },
    {
     "name": "stderr",
     "output_type": "stream",
     "text": [
      "C:\\Users\\yaoyu\\AppData\\Local\\Temp\\ipykernel_3372\\1934459742.py:13: RuntimeWarning: This filename (preprocessed_epochs\\sub-27_ses-1_retained-epochs.fif) does not conform to MNE naming conventions. All epochs files should end with -epo.fif, -epo.fif.gz, _epo.fif or _epo.fif.gz\n",
      "  epochs = mne.read_epochs(file_path, preload=True)\n"
     ]
    },
    {
     "name": "stdout",
     "output_type": "stream",
     "text": [
      "Reading c:\\Users\\yaoyu\\Documents\\EE675\\preprocessed_epochs\\sub-27_ses-2_retained-epochs.fif ...\n",
      "    Found the data of interest:\n",
      "        t =       0.00 ...    3998.00 ms\n",
      "        0 CTF compensation matrices available\n",
      "Not setting metadata\n",
      "73 matching events found\n",
      "No baseline correction applied\n",
      "0 projection items activated\n"
     ]
    },
    {
     "name": "stderr",
     "output_type": "stream",
     "text": [
      "C:\\Users\\yaoyu\\AppData\\Local\\Temp\\ipykernel_3372\\1934459742.py:13: RuntimeWarning: This filename (preprocessed_epochs\\sub-27_ses-2_retained-epochs.fif) does not conform to MNE naming conventions. All epochs files should end with -epo.fif, -epo.fif.gz, _epo.fif or _epo.fif.gz\n",
      "  epochs = mne.read_epochs(file_path, preload=True)\n"
     ]
    },
    {
     "name": "stdout",
     "output_type": "stream",
     "text": [
      "Reading c:\\Users\\yaoyu\\Documents\\EE675\\preprocessed_epochs\\sub-28_ses-1_retained-epochs.fif ...\n",
      "    Found the data of interest:\n",
      "        t =       0.00 ...    3998.00 ms\n",
      "        0 CTF compensation matrices available\n",
      "Not setting metadata\n",
      "54 matching events found\n",
      "No baseline correction applied\n",
      "0 projection items activated\n"
     ]
    },
    {
     "name": "stderr",
     "output_type": "stream",
     "text": [
      "C:\\Users\\yaoyu\\AppData\\Local\\Temp\\ipykernel_3372\\1934459742.py:13: RuntimeWarning: This filename (preprocessed_epochs\\sub-28_ses-1_retained-epochs.fif) does not conform to MNE naming conventions. All epochs files should end with -epo.fif, -epo.fif.gz, _epo.fif or _epo.fif.gz\n",
      "  epochs = mne.read_epochs(file_path, preload=True)\n"
     ]
    },
    {
     "name": "stdout",
     "output_type": "stream",
     "text": [
      "Reading c:\\Users\\yaoyu\\Documents\\EE675\\preprocessed_epochs\\sub-28_ses-2_retained-epochs.fif ...\n",
      "    Found the data of interest:\n",
      "        t =       0.00 ...    3998.00 ms\n",
      "        0 CTF compensation matrices available\n",
      "Not setting metadata\n",
      "8 matching events found\n",
      "No baseline correction applied\n",
      "0 projection items activated\n",
      "Skipping patient sub-28_ses-2_retained-epochs.fif: less than 10 epochs.\n",
      "Reading c:\\Users\\yaoyu\\Documents\\EE675\\preprocessed_epochs\\sub-29_ses-1_retained-epochs.fif ...\n",
      "    Found the data of interest:\n",
      "        t =       0.00 ...    3998.00 ms\n",
      "        0 CTF compensation matrices available\n",
      "Not setting metadata\n",
      "31 matching events found\n",
      "No baseline correction applied\n",
      "0 projection items activated\n",
      "Reading c:\\Users\\yaoyu\\Documents\\EE675\\preprocessed_epochs\\sub-29_ses-2_retained-epochs.fif ...\n"
     ]
    },
    {
     "name": "stderr",
     "output_type": "stream",
     "text": [
      "C:\\Users\\yaoyu\\AppData\\Local\\Temp\\ipykernel_3372\\1934459742.py:13: RuntimeWarning: This filename (preprocessed_epochs\\sub-28_ses-2_retained-epochs.fif) does not conform to MNE naming conventions. All epochs files should end with -epo.fif, -epo.fif.gz, _epo.fif or _epo.fif.gz\n",
      "  epochs = mne.read_epochs(file_path, preload=True)\n",
      "C:\\Users\\yaoyu\\AppData\\Local\\Temp\\ipykernel_3372\\1934459742.py:13: RuntimeWarning: This filename (preprocessed_epochs\\sub-29_ses-1_retained-epochs.fif) does not conform to MNE naming conventions. All epochs files should end with -epo.fif, -epo.fif.gz, _epo.fif or _epo.fif.gz\n",
      "  epochs = mne.read_epochs(file_path, preload=True)\n",
      "C:\\Users\\yaoyu\\AppData\\Local\\Temp\\ipykernel_3372\\1934459742.py:13: RuntimeWarning: This filename (preprocessed_epochs\\sub-29_ses-2_retained-epochs.fif) does not conform to MNE naming conventions. All epochs files should end with -epo.fif, -epo.fif.gz, _epo.fif or _epo.fif.gz\n",
      "  epochs = mne.read_epochs(file_path, preload=True)\n"
     ]
    },
    {
     "name": "stdout",
     "output_type": "stream",
     "text": [
      "    Found the data of interest:\n",
      "        t =       0.00 ...    3998.00 ms\n",
      "        0 CTF compensation matrices available\n",
      "Not setting metadata\n",
      "75 matching events found\n",
      "No baseline correction applied\n",
      "0 projection items activated\n",
      "Reading c:\\Users\\yaoyu\\Documents\\EE675\\preprocessed_epochs\\sub-30_ses-1_retained-epochs.fif ...\n",
      "    Found the data of interest:\n",
      "        t =       0.00 ...    3998.00 ms\n",
      "        0 CTF compensation matrices available\n",
      "Not setting metadata\n",
      "75 matching events found\n",
      "No baseline correction applied\n",
      "0 projection items activated\n"
     ]
    },
    {
     "name": "stderr",
     "output_type": "stream",
     "text": [
      "C:\\Users\\yaoyu\\AppData\\Local\\Temp\\ipykernel_3372\\1934459742.py:13: RuntimeWarning: This filename (preprocessed_epochs\\sub-30_ses-1_retained-epochs.fif) does not conform to MNE naming conventions. All epochs files should end with -epo.fif, -epo.fif.gz, _epo.fif or _epo.fif.gz\n",
      "  epochs = mne.read_epochs(file_path, preload=True)\n"
     ]
    },
    {
     "name": "stdout",
     "output_type": "stream",
     "text": [
      "Reading c:\\Users\\yaoyu\\Documents\\EE675\\preprocessed_epochs\\sub-30_ses-2_retained-epochs.fif ...\n",
      "    Found the data of interest:\n",
      "        t =       0.00 ...    3998.00 ms\n",
      "        0 CTF compensation matrices available\n",
      "Not setting metadata\n",
      "42 matching events found\n",
      "No baseline correction applied\n",
      "0 projection items activated\n"
     ]
    },
    {
     "name": "stderr",
     "output_type": "stream",
     "text": [
      "C:\\Users\\yaoyu\\AppData\\Local\\Temp\\ipykernel_3372\\1934459742.py:13: RuntimeWarning: This filename (preprocessed_epochs\\sub-30_ses-2_retained-epochs.fif) does not conform to MNE naming conventions. All epochs files should end with -epo.fif, -epo.fif.gz, _epo.fif or _epo.fif.gz\n",
      "  epochs = mne.read_epochs(file_path, preload=True)\n"
     ]
    },
    {
     "name": "stdout",
     "output_type": "stream",
     "text": [
      "Reading c:\\Users\\yaoyu\\Documents\\EE675\\preprocessed_epochs\\sub-31_ses-1_retained-epochs.fif ...\n",
      "    Found the data of interest:\n",
      "        t =       0.00 ...    3998.00 ms\n",
      "        0 CTF compensation matrices available\n",
      "Not setting metadata\n",
      "74 matching events found\n",
      "No baseline correction applied\n",
      "0 projection items activated\n"
     ]
    },
    {
     "name": "stderr",
     "output_type": "stream",
     "text": [
      "C:\\Users\\yaoyu\\AppData\\Local\\Temp\\ipykernel_3372\\1934459742.py:13: RuntimeWarning: This filename (preprocessed_epochs\\sub-31_ses-1_retained-epochs.fif) does not conform to MNE naming conventions. All epochs files should end with -epo.fif, -epo.fif.gz, _epo.fif or _epo.fif.gz\n",
      "  epochs = mne.read_epochs(file_path, preload=True)\n"
     ]
    },
    {
     "name": "stdout",
     "output_type": "stream",
     "text": [
      "Reading c:\\Users\\yaoyu\\Documents\\EE675\\preprocessed_epochs\\sub-31_ses-2_retained-epochs.fif ...\n",
      "    Found the data of interest:\n",
      "        t =       0.00 ...    3998.00 ms\n",
      "        0 CTF compensation matrices available\n",
      "Not setting metadata\n",
      "68 matching events found\n",
      "No baseline correction applied\n",
      "0 projection items activated\n"
     ]
    },
    {
     "name": "stderr",
     "output_type": "stream",
     "text": [
      "C:\\Users\\yaoyu\\AppData\\Local\\Temp\\ipykernel_3372\\1934459742.py:13: RuntimeWarning: This filename (preprocessed_epochs\\sub-31_ses-2_retained-epochs.fif) does not conform to MNE naming conventions. All epochs files should end with -epo.fif, -epo.fif.gz, _epo.fif or _epo.fif.gz\n",
      "  epochs = mne.read_epochs(file_path, preload=True)\n"
     ]
    },
    {
     "name": "stdout",
     "output_type": "stream",
     "text": [
      "Reading c:\\Users\\yaoyu\\Documents\\EE675\\preprocessed_epochs\\sub-32_ses-1_retained-epochs.fif ...\n",
      "    Found the data of interest:\n",
      "        t =       0.00 ...    3998.00 ms\n",
      "        0 CTF compensation matrices available\n",
      "Not setting metadata\n",
      "62 matching events found\n",
      "No baseline correction applied\n",
      "0 projection items activated\n"
     ]
    },
    {
     "name": "stderr",
     "output_type": "stream",
     "text": [
      "C:\\Users\\yaoyu\\AppData\\Local\\Temp\\ipykernel_3372\\1934459742.py:13: RuntimeWarning: This filename (preprocessed_epochs\\sub-32_ses-1_retained-epochs.fif) does not conform to MNE naming conventions. All epochs files should end with -epo.fif, -epo.fif.gz, _epo.fif or _epo.fif.gz\n",
      "  epochs = mne.read_epochs(file_path, preload=True)\n"
     ]
    },
    {
     "name": "stdout",
     "output_type": "stream",
     "text": [
      "Reading c:\\Users\\yaoyu\\Documents\\EE675\\preprocessed_epochs\\sub-32_ses-2_retained-epochs.fif ...\n",
      "    Found the data of interest:\n",
      "        t =       0.00 ...    3998.00 ms\n",
      "        0 CTF compensation matrices available\n",
      "Not setting metadata\n",
      "17 matching events found\n",
      "No baseline correction applied\n",
      "0 projection items activated\n",
      "Reading c:\\Users\\yaoyu\\Documents\\EE675\\preprocessed_epochs\\sub-33_ses-1_retained-epochs.fif ...\n",
      "    Found the data of interest:\n",
      "        t =       0.00 ...    3998.00 ms\n",
      "        0 CTF compensation matrices available\n",
      "Not setting metadata\n",
      "73 matching events found\n",
      "No baseline correction applied\n",
      "0 projection items activated\n"
     ]
    },
    {
     "name": "stderr",
     "output_type": "stream",
     "text": [
      "C:\\Users\\yaoyu\\AppData\\Local\\Temp\\ipykernel_3372\\1934459742.py:13: RuntimeWarning: This filename (preprocessed_epochs\\sub-32_ses-2_retained-epochs.fif) does not conform to MNE naming conventions. All epochs files should end with -epo.fif, -epo.fif.gz, _epo.fif or _epo.fif.gz\n",
      "  epochs = mne.read_epochs(file_path, preload=True)\n",
      "C:\\Users\\yaoyu\\AppData\\Local\\Temp\\ipykernel_3372\\1934459742.py:13: RuntimeWarning: This filename (preprocessed_epochs\\sub-33_ses-1_retained-epochs.fif) does not conform to MNE naming conventions. All epochs files should end with -epo.fif, -epo.fif.gz, _epo.fif or _epo.fif.gz\n",
      "  epochs = mne.read_epochs(file_path, preload=True)\n"
     ]
    },
    {
     "name": "stdout",
     "output_type": "stream",
     "text": [
      "Reading c:\\Users\\yaoyu\\Documents\\EE675\\preprocessed_epochs\\sub-33_ses-2_retained-epochs.fif ...\n",
      "    Found the data of interest:\n",
      "        t =       0.00 ...    3998.00 ms\n",
      "        0 CTF compensation matrices available\n",
      "Not setting metadata\n",
      "72 matching events found\n",
      "No baseline correction applied\n",
      "0 projection items activated\n"
     ]
    },
    {
     "name": "stderr",
     "output_type": "stream",
     "text": [
      "C:\\Users\\yaoyu\\AppData\\Local\\Temp\\ipykernel_3372\\1934459742.py:13: RuntimeWarning: This filename (preprocessed_epochs\\sub-33_ses-2_retained-epochs.fif) does not conform to MNE naming conventions. All epochs files should end with -epo.fif, -epo.fif.gz, _epo.fif or _epo.fif.gz\n",
      "  epochs = mne.read_epochs(file_path, preload=True)\n"
     ]
    },
    {
     "name": "stdout",
     "output_type": "stream",
     "text": [
      "Reading c:\\Users\\yaoyu\\Documents\\EE675\\preprocessed_epochs\\sub-34_ses-1_retained-epochs.fif ...\n",
      "    Found the data of interest:\n",
      "        t =       0.00 ...    3998.00 ms\n",
      "        0 CTF compensation matrices available\n",
      "Not setting metadata\n",
      "72 matching events found\n",
      "No baseline correction applied\n",
      "0 projection items activated\n"
     ]
    },
    {
     "name": "stderr",
     "output_type": "stream",
     "text": [
      "C:\\Users\\yaoyu\\AppData\\Local\\Temp\\ipykernel_3372\\1934459742.py:13: RuntimeWarning: This filename (preprocessed_epochs\\sub-34_ses-1_retained-epochs.fif) does not conform to MNE naming conventions. All epochs files should end with -epo.fif, -epo.fif.gz, _epo.fif or _epo.fif.gz\n",
      "  epochs = mne.read_epochs(file_path, preload=True)\n"
     ]
    },
    {
     "name": "stdout",
     "output_type": "stream",
     "text": [
      "Reading c:\\Users\\yaoyu\\Documents\\EE675\\preprocessed_epochs\\sub-34_ses-2_retained-epochs.fif ...\n",
      "    Found the data of interest:\n",
      "        t =       0.00 ...    3998.00 ms\n",
      "        0 CTF compensation matrices available\n",
      "Not setting metadata\n",
      "74 matching events found\n",
      "No baseline correction applied\n",
      "0 projection items activated\n"
     ]
    },
    {
     "name": "stderr",
     "output_type": "stream",
     "text": [
      "C:\\Users\\yaoyu\\AppData\\Local\\Temp\\ipykernel_3372\\1934459742.py:13: RuntimeWarning: This filename (preprocessed_epochs\\sub-34_ses-2_retained-epochs.fif) does not conform to MNE naming conventions. All epochs files should end with -epo.fif, -epo.fif.gz, _epo.fif or _epo.fif.gz\n",
      "  epochs = mne.read_epochs(file_path, preload=True)\n"
     ]
    },
    {
     "name": "stdout",
     "output_type": "stream",
     "text": [
      "Reading c:\\Users\\yaoyu\\Documents\\EE675\\preprocessed_epochs\\sub-35_ses-1_retained-epochs.fif ...\n",
      "    Found the data of interest:\n",
      "        t =       0.00 ...    3998.00 ms\n",
      "        0 CTF compensation matrices available\n",
      "Not setting metadata\n",
      "43 matching events found\n",
      "No baseline correction applied\n",
      "0 projection items activated\n"
     ]
    },
    {
     "name": "stderr",
     "output_type": "stream",
     "text": [
      "C:\\Users\\yaoyu\\AppData\\Local\\Temp\\ipykernel_3372\\1934459742.py:13: RuntimeWarning: This filename (preprocessed_epochs\\sub-35_ses-1_retained-epochs.fif) does not conform to MNE naming conventions. All epochs files should end with -epo.fif, -epo.fif.gz, _epo.fif or _epo.fif.gz\n",
      "  epochs = mne.read_epochs(file_path, preload=True)\n"
     ]
    },
    {
     "name": "stdout",
     "output_type": "stream",
     "text": [
      "Reading c:\\Users\\yaoyu\\Documents\\EE675\\preprocessed_epochs\\sub-35_ses-2_retained-epochs.fif ...\n",
      "    Found the data of interest:\n",
      "        t =       0.00 ...    3998.00 ms\n",
      "        0 CTF compensation matrices available\n",
      "Not setting metadata\n",
      "69 matching events found\n",
      "No baseline correction applied\n",
      "0 projection items activated\n"
     ]
    },
    {
     "name": "stderr",
     "output_type": "stream",
     "text": [
      "C:\\Users\\yaoyu\\AppData\\Local\\Temp\\ipykernel_3372\\1934459742.py:13: RuntimeWarning: This filename (preprocessed_epochs\\sub-35_ses-2_retained-epochs.fif) does not conform to MNE naming conventions. All epochs files should end with -epo.fif, -epo.fif.gz, _epo.fif or _epo.fif.gz\n",
      "  epochs = mne.read_epochs(file_path, preload=True)\n"
     ]
    },
    {
     "name": "stdout",
     "output_type": "stream",
     "text": [
      "Reading c:\\Users\\yaoyu\\Documents\\EE675\\preprocessed_epochs\\sub-36_ses-1_retained-epochs.fif ...\n",
      "    Found the data of interest:\n",
      "        t =       0.00 ...    3998.00 ms\n",
      "        0 CTF compensation matrices available\n",
      "Not setting metadata\n",
      "49 matching events found\n",
      "No baseline correction applied\n",
      "0 projection items activated\n"
     ]
    },
    {
     "name": "stderr",
     "output_type": "stream",
     "text": [
      "C:\\Users\\yaoyu\\AppData\\Local\\Temp\\ipykernel_3372\\1934459742.py:13: RuntimeWarning: This filename (preprocessed_epochs\\sub-36_ses-1_retained-epochs.fif) does not conform to MNE naming conventions. All epochs files should end with -epo.fif, -epo.fif.gz, _epo.fif or _epo.fif.gz\n",
      "  epochs = mne.read_epochs(file_path, preload=True)\n"
     ]
    },
    {
     "name": "stdout",
     "output_type": "stream",
     "text": [
      "Reading c:\\Users\\yaoyu\\Documents\\EE675\\preprocessed_epochs\\sub-36_ses-2_retained-epochs.fif ...\n",
      "    Found the data of interest:\n",
      "        t =       0.00 ...    3998.00 ms\n",
      "        0 CTF compensation matrices available\n",
      "Not setting metadata\n",
      "75 matching events found\n",
      "No baseline correction applied\n",
      "0 projection items activated\n"
     ]
    },
    {
     "name": "stderr",
     "output_type": "stream",
     "text": [
      "C:\\Users\\yaoyu\\AppData\\Local\\Temp\\ipykernel_3372\\1934459742.py:13: RuntimeWarning: This filename (preprocessed_epochs\\sub-36_ses-2_retained-epochs.fif) does not conform to MNE naming conventions. All epochs files should end with -epo.fif, -epo.fif.gz, _epo.fif or _epo.fif.gz\n",
      "  epochs = mne.read_epochs(file_path, preload=True)\n"
     ]
    },
    {
     "name": "stdout",
     "output_type": "stream",
     "text": [
      "Reading c:\\Users\\yaoyu\\Documents\\EE675\\preprocessed_epochs\\sub-37_ses-1_retained-epochs.fif ...\n",
      "    Found the data of interest:\n",
      "        t =       0.00 ...    3998.00 ms\n",
      "        0 CTF compensation matrices available\n",
      "Not setting metadata\n",
      "73 matching events found\n",
      "No baseline correction applied\n",
      "0 projection items activated\n"
     ]
    },
    {
     "name": "stderr",
     "output_type": "stream",
     "text": [
      "C:\\Users\\yaoyu\\AppData\\Local\\Temp\\ipykernel_3372\\1934459742.py:13: RuntimeWarning: This filename (preprocessed_epochs\\sub-37_ses-1_retained-epochs.fif) does not conform to MNE naming conventions. All epochs files should end with -epo.fif, -epo.fif.gz, _epo.fif or _epo.fif.gz\n",
      "  epochs = mne.read_epochs(file_path, preload=True)\n"
     ]
    },
    {
     "name": "stdout",
     "output_type": "stream",
     "text": [
      "Reading c:\\Users\\yaoyu\\Documents\\EE675\\preprocessed_epochs\\sub-37_ses-2_retained-epochs.fif ...\n",
      "    Found the data of interest:\n",
      "        t =       0.00 ...    3998.00 ms\n",
      "        0 CTF compensation matrices available\n",
      "Not setting metadata\n",
      "41 matching events found\n",
      "No baseline correction applied\n",
      "0 projection items activated\n"
     ]
    },
    {
     "name": "stderr",
     "output_type": "stream",
     "text": [
      "C:\\Users\\yaoyu\\AppData\\Local\\Temp\\ipykernel_3372\\1934459742.py:13: RuntimeWarning: This filename (preprocessed_epochs\\sub-37_ses-2_retained-epochs.fif) does not conform to MNE naming conventions. All epochs files should end with -epo.fif, -epo.fif.gz, _epo.fif or _epo.fif.gz\n",
      "  epochs = mne.read_epochs(file_path, preload=True)\n"
     ]
    },
    {
     "name": "stdout",
     "output_type": "stream",
     "text": [
      "Reading c:\\Users\\yaoyu\\Documents\\EE675\\preprocessed_epochs\\sub-38_ses-1_retained-epochs.fif ...\n",
      "    Found the data of interest:\n",
      "        t =       0.00 ...    3998.00 ms\n",
      "        0 CTF compensation matrices available\n",
      "Not setting metadata\n",
      "73 matching events found\n",
      "No baseline correction applied\n",
      "0 projection items activated\n"
     ]
    },
    {
     "name": "stderr",
     "output_type": "stream",
     "text": [
      "C:\\Users\\yaoyu\\AppData\\Local\\Temp\\ipykernel_3372\\1934459742.py:13: RuntimeWarning: This filename (preprocessed_epochs\\sub-38_ses-1_retained-epochs.fif) does not conform to MNE naming conventions. All epochs files should end with -epo.fif, -epo.fif.gz, _epo.fif or _epo.fif.gz\n",
      "  epochs = mne.read_epochs(file_path, preload=True)\n"
     ]
    },
    {
     "name": "stdout",
     "output_type": "stream",
     "text": [
      "Reading c:\\Users\\yaoyu\\Documents\\EE675\\preprocessed_epochs\\sub-39_ses-1_retained-epochs.fif ...\n",
      "    Found the data of interest:\n",
      "        t =       0.00 ...    3998.00 ms\n",
      "        0 CTF compensation matrices available\n",
      "Not setting metadata\n",
      "17 matching events found\n",
      "No baseline correction applied\n",
      "0 projection items activated\n",
      "Reading c:\\Users\\yaoyu\\Documents\\EE675\\preprocessed_epochs\\sub-39_ses-2_retained-epochs.fif ...\n",
      "    Found the data of interest:\n",
      "        t =       0.00 ...    3998.00 ms\n",
      "        0 CTF compensation matrices available\n",
      "Not setting metadata\n",
      "56 matching events found\n",
      "No baseline correction applied\n",
      "0 projection items activated\n"
     ]
    },
    {
     "name": "stderr",
     "output_type": "stream",
     "text": [
      "C:\\Users\\yaoyu\\AppData\\Local\\Temp\\ipykernel_3372\\1934459742.py:13: RuntimeWarning: This filename (preprocessed_epochs\\sub-39_ses-1_retained-epochs.fif) does not conform to MNE naming conventions. All epochs files should end with -epo.fif, -epo.fif.gz, _epo.fif or _epo.fif.gz\n",
      "  epochs = mne.read_epochs(file_path, preload=True)\n",
      "C:\\Users\\yaoyu\\AppData\\Local\\Temp\\ipykernel_3372\\1934459742.py:13: RuntimeWarning: This filename (preprocessed_epochs\\sub-39_ses-2_retained-epochs.fif) does not conform to MNE naming conventions. All epochs files should end with -epo.fif, -epo.fif.gz, _epo.fif or _epo.fif.gz\n",
      "  epochs = mne.read_epochs(file_path, preload=True)\n"
     ]
    },
    {
     "name": "stdout",
     "output_type": "stream",
     "text": [
      "Reading c:\\Users\\yaoyu\\Documents\\EE675\\preprocessed_epochs\\sub-40_ses-1_retained-epochs.fif ...\n",
      "    Found the data of interest:\n",
      "        t =       0.00 ...    3998.00 ms\n",
      "        0 CTF compensation matrices available\n",
      "Not setting metadata\n",
      "67 matching events found\n",
      "No baseline correction applied\n",
      "0 projection items activated\n"
     ]
    },
    {
     "name": "stderr",
     "output_type": "stream",
     "text": [
      "C:\\Users\\yaoyu\\AppData\\Local\\Temp\\ipykernel_3372\\1934459742.py:13: RuntimeWarning: This filename (preprocessed_epochs\\sub-40_ses-1_retained-epochs.fif) does not conform to MNE naming conventions. All epochs files should end with -epo.fif, -epo.fif.gz, _epo.fif or _epo.fif.gz\n",
      "  epochs = mne.read_epochs(file_path, preload=True)\n"
     ]
    },
    {
     "name": "stdout",
     "output_type": "stream",
     "text": [
      "Reading c:\\Users\\yaoyu\\Documents\\EE675\\preprocessed_epochs\\sub-40_ses-2_retained-epochs.fif ...\n",
      "    Found the data of interest:\n",
      "        t =       0.00 ...    3998.00 ms\n",
      "        0 CTF compensation matrices available\n",
      "Not setting metadata\n",
      "49 matching events found\n",
      "No baseline correction applied\n",
      "0 projection items activated\n"
     ]
    },
    {
     "name": "stderr",
     "output_type": "stream",
     "text": [
      "C:\\Users\\yaoyu\\AppData\\Local\\Temp\\ipykernel_3372\\1934459742.py:13: RuntimeWarning: This filename (preprocessed_epochs\\sub-40_ses-2_retained-epochs.fif) does not conform to MNE naming conventions. All epochs files should end with -epo.fif, -epo.fif.gz, _epo.fif or _epo.fif.gz\n",
      "  epochs = mne.read_epochs(file_path, preload=True)\n"
     ]
    },
    {
     "name": "stdout",
     "output_type": "stream",
     "text": [
      "Reading c:\\Users\\yaoyu\\Documents\\EE675\\preprocessed_epochs\\sub-41_ses-1_retained-epochs.fif ...\n",
      "    Found the data of interest:\n",
      "        t =       0.00 ...    3998.00 ms\n",
      "        0 CTF compensation matrices available\n",
      "Not setting metadata\n",
      "53 matching events found\n",
      "No baseline correction applied\n",
      "0 projection items activated\n"
     ]
    },
    {
     "name": "stderr",
     "output_type": "stream",
     "text": [
      "C:\\Users\\yaoyu\\AppData\\Local\\Temp\\ipykernel_3372\\1934459742.py:13: RuntimeWarning: This filename (preprocessed_epochs\\sub-41_ses-1_retained-epochs.fif) does not conform to MNE naming conventions. All epochs files should end with -epo.fif, -epo.fif.gz, _epo.fif or _epo.fif.gz\n",
      "  epochs = mne.read_epochs(file_path, preload=True)\n"
     ]
    },
    {
     "name": "stdout",
     "output_type": "stream",
     "text": [
      "Reading c:\\Users\\yaoyu\\Documents\\EE675\\preprocessed_epochs\\sub-41_ses-2_retained-epochs.fif ...\n",
      "    Found the data of interest:\n",
      "        t =       0.00 ...    3998.00 ms\n",
      "        0 CTF compensation matrices available\n",
      "Not setting metadata\n",
      "62 matching events found\n",
      "No baseline correction applied\n",
      "0 projection items activated\n"
     ]
    },
    {
     "name": "stderr",
     "output_type": "stream",
     "text": [
      "C:\\Users\\yaoyu\\AppData\\Local\\Temp\\ipykernel_3372\\1934459742.py:13: RuntimeWarning: This filename (preprocessed_epochs\\sub-41_ses-2_retained-epochs.fif) does not conform to MNE naming conventions. All epochs files should end with -epo.fif, -epo.fif.gz, _epo.fif or _epo.fif.gz\n",
      "  epochs = mne.read_epochs(file_path, preload=True)\n"
     ]
    },
    {
     "name": "stdout",
     "output_type": "stream",
     "text": [
      "Reading c:\\Users\\yaoyu\\Documents\\EE675\\preprocessed_epochs\\sub-42_ses-1_retained-epochs.fif ...\n",
      "    Found the data of interest:\n",
      "        t =       0.00 ...    3998.00 ms\n",
      "        0 CTF compensation matrices available\n",
      "Not setting metadata\n",
      "71 matching events found\n",
      "No baseline correction applied\n",
      "0 projection items activated\n"
     ]
    },
    {
     "name": "stderr",
     "output_type": "stream",
     "text": [
      "C:\\Users\\yaoyu\\AppData\\Local\\Temp\\ipykernel_3372\\1934459742.py:13: RuntimeWarning: This filename (preprocessed_epochs\\sub-42_ses-1_retained-epochs.fif) does not conform to MNE naming conventions. All epochs files should end with -epo.fif, -epo.fif.gz, _epo.fif or _epo.fif.gz\n",
      "  epochs = mne.read_epochs(file_path, preload=True)\n"
     ]
    },
    {
     "name": "stdout",
     "output_type": "stream",
     "text": [
      "Reading c:\\Users\\yaoyu\\Documents\\EE675\\preprocessed_epochs\\sub-42_ses-2_retained-epochs.fif ...\n",
      "    Found the data of interest:\n",
      "        t =       0.00 ...    3998.00 ms\n",
      "        0 CTF compensation matrices available\n",
      "Not setting metadata\n",
      "72 matching events found\n",
      "No baseline correction applied\n",
      "0 projection items activated\n"
     ]
    },
    {
     "name": "stderr",
     "output_type": "stream",
     "text": [
      "C:\\Users\\yaoyu\\AppData\\Local\\Temp\\ipykernel_3372\\1934459742.py:13: RuntimeWarning: This filename (preprocessed_epochs\\sub-42_ses-2_retained-epochs.fif) does not conform to MNE naming conventions. All epochs files should end with -epo.fif, -epo.fif.gz, _epo.fif or _epo.fif.gz\n",
      "  epochs = mne.read_epochs(file_path, preload=True)\n"
     ]
    },
    {
     "name": "stdout",
     "output_type": "stream",
     "text": [
      "Reading c:\\Users\\yaoyu\\Documents\\EE675\\preprocessed_epochs\\sub-43_ses-1_retained-epochs.fif ...\n",
      "    Found the data of interest:\n",
      "        t =       0.00 ...    3998.00 ms\n",
      "        0 CTF compensation matrices available\n",
      "Not setting metadata\n",
      "65 matching events found\n",
      "No baseline correction applied\n",
      "0 projection items activated\n"
     ]
    },
    {
     "name": "stderr",
     "output_type": "stream",
     "text": [
      "C:\\Users\\yaoyu\\AppData\\Local\\Temp\\ipykernel_3372\\1934459742.py:13: RuntimeWarning: This filename (preprocessed_epochs\\sub-43_ses-1_retained-epochs.fif) does not conform to MNE naming conventions. All epochs files should end with -epo.fif, -epo.fif.gz, _epo.fif or _epo.fif.gz\n",
      "  epochs = mne.read_epochs(file_path, preload=True)\n"
     ]
    },
    {
     "name": "stdout",
     "output_type": "stream",
     "text": [
      "Reading c:\\Users\\yaoyu\\Documents\\EE675\\preprocessed_epochs\\sub-43_ses-2_retained-epochs.fif ...\n",
      "    Found the data of interest:\n",
      "        t =       0.00 ...    3998.00 ms\n",
      "        0 CTF compensation matrices available\n",
      "Not setting metadata\n",
      "49 matching events found\n",
      "No baseline correction applied\n",
      "0 projection items activated\n"
     ]
    },
    {
     "name": "stderr",
     "output_type": "stream",
     "text": [
      "C:\\Users\\yaoyu\\AppData\\Local\\Temp\\ipykernel_3372\\1934459742.py:13: RuntimeWarning: This filename (preprocessed_epochs\\sub-43_ses-2_retained-epochs.fif) does not conform to MNE naming conventions. All epochs files should end with -epo.fif, -epo.fif.gz, _epo.fif or _epo.fif.gz\n",
      "  epochs = mne.read_epochs(file_path, preload=True)\n"
     ]
    },
    {
     "name": "stdout",
     "output_type": "stream",
     "text": [
      "Reading c:\\Users\\yaoyu\\Documents\\EE675\\preprocessed_epochs\\sub-44_ses-1_retained-epochs.fif ...\n",
      "    Found the data of interest:\n",
      "        t =       0.00 ...    3998.00 ms\n",
      "        0 CTF compensation matrices available\n",
      "Not setting metadata\n",
      "65 matching events found\n",
      "No baseline correction applied\n",
      "0 projection items activated\n"
     ]
    },
    {
     "name": "stderr",
     "output_type": "stream",
     "text": [
      "C:\\Users\\yaoyu\\AppData\\Local\\Temp\\ipykernel_3372\\1934459742.py:13: RuntimeWarning: This filename (preprocessed_epochs\\sub-44_ses-1_retained-epochs.fif) does not conform to MNE naming conventions. All epochs files should end with -epo.fif, -epo.fif.gz, _epo.fif or _epo.fif.gz\n",
      "  epochs = mne.read_epochs(file_path, preload=True)\n"
     ]
    },
    {
     "name": "stdout",
     "output_type": "stream",
     "text": [
      "Reading c:\\Users\\yaoyu\\Documents\\EE675\\preprocessed_epochs\\sub-45_ses-1_retained-epochs.fif ...\n",
      "    Found the data of interest:\n",
      "        t =       0.00 ...    3998.00 ms\n",
      "        0 CTF compensation matrices available\n",
      "Not setting metadata\n",
      "70 matching events found\n",
      "No baseline correction applied\n",
      "0 projection items activated\n"
     ]
    },
    {
     "name": "stderr",
     "output_type": "stream",
     "text": [
      "C:\\Users\\yaoyu\\AppData\\Local\\Temp\\ipykernel_3372\\1934459742.py:13: RuntimeWarning: This filename (preprocessed_epochs\\sub-45_ses-1_retained-epochs.fif) does not conform to MNE naming conventions. All epochs files should end with -epo.fif, -epo.fif.gz, _epo.fif or _epo.fif.gz\n",
      "  epochs = mne.read_epochs(file_path, preload=True)\n"
     ]
    },
    {
     "name": "stdout",
     "output_type": "stream",
     "text": [
      "Reading c:\\Users\\yaoyu\\Documents\\EE675\\preprocessed_epochs\\sub-45_ses-2_retained-epochs.fif ...\n",
      "    Found the data of interest:\n",
      "        t =       0.00 ...    3998.00 ms\n",
      "        0 CTF compensation matrices available\n",
      "Not setting metadata\n",
      "28 matching events found\n",
      "No baseline correction applied\n",
      "0 projection items activated\n",
      "Reading c:\\Users\\yaoyu\\Documents\\EE675\\preprocessed_epochs\\sub-46_ses-1_retained-epochs.fif ...\n",
      "    Found the data of interest:\n",
      "        t =       0.00 ...    3998.00 ms\n",
      "        0 CTF compensation matrices available\n"
     ]
    },
    {
     "name": "stderr",
     "output_type": "stream",
     "text": [
      "C:\\Users\\yaoyu\\AppData\\Local\\Temp\\ipykernel_3372\\1934459742.py:13: RuntimeWarning: This filename (preprocessed_epochs\\sub-45_ses-2_retained-epochs.fif) does not conform to MNE naming conventions. All epochs files should end with -epo.fif, -epo.fif.gz, _epo.fif or _epo.fif.gz\n",
      "  epochs = mne.read_epochs(file_path, preload=True)\n",
      "C:\\Users\\yaoyu\\AppData\\Local\\Temp\\ipykernel_3372\\1934459742.py:13: RuntimeWarning: This filename (preprocessed_epochs\\sub-46_ses-1_retained-epochs.fif) does not conform to MNE naming conventions. All epochs files should end with -epo.fif, -epo.fif.gz, _epo.fif or _epo.fif.gz\n",
      "  epochs = mne.read_epochs(file_path, preload=True)\n"
     ]
    },
    {
     "name": "stdout",
     "output_type": "stream",
     "text": [
      "Not setting metadata\n",
      "66 matching events found\n",
      "No baseline correction applied\n",
      "0 projection items activated\n",
      "Reading c:\\Users\\yaoyu\\Documents\\EE675\\preprocessed_epochs\\sub-46_ses-2_retained-epochs.fif ...\n",
      "    Found the data of interest:\n",
      "        t =       0.00 ...    3998.00 ms\n",
      "        0 CTF compensation matrices available\n",
      "Not setting metadata\n",
      "59 matching events found\n",
      "No baseline correction applied\n",
      "0 projection items activated\n"
     ]
    },
    {
     "name": "stderr",
     "output_type": "stream",
     "text": [
      "C:\\Users\\yaoyu\\AppData\\Local\\Temp\\ipykernel_3372\\1934459742.py:13: RuntimeWarning: This filename (preprocessed_epochs\\sub-46_ses-2_retained-epochs.fif) does not conform to MNE naming conventions. All epochs files should end with -epo.fif, -epo.fif.gz, _epo.fif or _epo.fif.gz\n",
      "  epochs = mne.read_epochs(file_path, preload=True)\n"
     ]
    },
    {
     "name": "stdout",
     "output_type": "stream",
     "text": [
      "Reading c:\\Users\\yaoyu\\Documents\\EE675\\preprocessed_epochs\\sub-47_ses-2_retained-epochs.fif ...\n",
      "    Found the data of interest:\n",
      "        t =       0.00 ...    3998.00 ms\n",
      "        0 CTF compensation matrices available\n",
      "Not setting metadata\n",
      "52 matching events found\n",
      "No baseline correction applied\n",
      "0 projection items activated\n"
     ]
    },
    {
     "name": "stderr",
     "output_type": "stream",
     "text": [
      "C:\\Users\\yaoyu\\AppData\\Local\\Temp\\ipykernel_3372\\1934459742.py:13: RuntimeWarning: This filename (preprocessed_epochs\\sub-47_ses-2_retained-epochs.fif) does not conform to MNE naming conventions. All epochs files should end with -epo.fif, -epo.fif.gz, _epo.fif or _epo.fif.gz\n",
      "  epochs = mne.read_epochs(file_path, preload=True)\n"
     ]
    },
    {
     "name": "stdout",
     "output_type": "stream",
     "text": [
      "Reading c:\\Users\\yaoyu\\Documents\\EE675\\preprocessed_epochs\\sub-48_ses-1_retained-epochs.fif ...\n",
      "    Found the data of interest:\n",
      "        t =       0.00 ...    3998.00 ms\n",
      "        0 CTF compensation matrices available\n",
      "Not setting metadata\n",
      "40 matching events found\n",
      "No baseline correction applied\n",
      "0 projection items activated\n"
     ]
    },
    {
     "name": "stderr",
     "output_type": "stream",
     "text": [
      "C:\\Users\\yaoyu\\AppData\\Local\\Temp\\ipykernel_3372\\1934459742.py:13: RuntimeWarning: This filename (preprocessed_epochs\\sub-48_ses-1_retained-epochs.fif) does not conform to MNE naming conventions. All epochs files should end with -epo.fif, -epo.fif.gz, _epo.fif or _epo.fif.gz\n",
      "  epochs = mne.read_epochs(file_path, preload=True)\n"
     ]
    },
    {
     "name": "stdout",
     "output_type": "stream",
     "text": [
      "Reading c:\\Users\\yaoyu\\Documents\\EE675\\preprocessed_epochs\\sub-48_ses-2_retained-epochs.fif ...\n",
      "    Found the data of interest:\n",
      "        t =       0.00 ...    3998.00 ms\n",
      "        0 CTF compensation matrices available\n",
      "Not setting metadata\n",
      "36 matching events found\n",
      "No baseline correction applied\n",
      "0 projection items activated\n"
     ]
    },
    {
     "name": "stderr",
     "output_type": "stream",
     "text": [
      "C:\\Users\\yaoyu\\AppData\\Local\\Temp\\ipykernel_3372\\1934459742.py:13: RuntimeWarning: This filename (preprocessed_epochs\\sub-48_ses-2_retained-epochs.fif) does not conform to MNE naming conventions. All epochs files should end with -epo.fif, -epo.fif.gz, _epo.fif or _epo.fif.gz\n",
      "  epochs = mne.read_epochs(file_path, preload=True)\n"
     ]
    },
    {
     "name": "stdout",
     "output_type": "stream",
     "text": [
      "Reading c:\\Users\\yaoyu\\Documents\\EE675\\preprocessed_epochs\\sub-49_ses-1_retained-epochs.fif ...\n",
      "    Found the data of interest:\n",
      "        t =       0.00 ...    3998.00 ms\n",
      "        0 CTF compensation matrices available\n",
      "Not setting metadata\n",
      "73 matching events found\n",
      "No baseline correction applied\n",
      "0 projection items activated\n"
     ]
    },
    {
     "name": "stderr",
     "output_type": "stream",
     "text": [
      "C:\\Users\\yaoyu\\AppData\\Local\\Temp\\ipykernel_3372\\1934459742.py:13: RuntimeWarning: This filename (preprocessed_epochs\\sub-49_ses-1_retained-epochs.fif) does not conform to MNE naming conventions. All epochs files should end with -epo.fif, -epo.fif.gz, _epo.fif or _epo.fif.gz\n",
      "  epochs = mne.read_epochs(file_path, preload=True)\n"
     ]
    },
    {
     "name": "stdout",
     "output_type": "stream",
     "text": [
      "Reading c:\\Users\\yaoyu\\Documents\\EE675\\preprocessed_epochs\\sub-49_ses-2_retained-epochs.fif ...\n",
      "    Found the data of interest:\n",
      "        t =       0.00 ...    3998.00 ms\n",
      "        0 CTF compensation matrices available\n",
      "Not setting metadata\n",
      "72 matching events found\n",
      "No baseline correction applied\n",
      "0 projection items activated\n"
     ]
    },
    {
     "name": "stderr",
     "output_type": "stream",
     "text": [
      "C:\\Users\\yaoyu\\AppData\\Local\\Temp\\ipykernel_3372\\1934459742.py:13: RuntimeWarning: This filename (preprocessed_epochs\\sub-49_ses-2_retained-epochs.fif) does not conform to MNE naming conventions. All epochs files should end with -epo.fif, -epo.fif.gz, _epo.fif or _epo.fif.gz\n",
      "  epochs = mne.read_epochs(file_path, preload=True)\n"
     ]
    },
    {
     "name": "stdout",
     "output_type": "stream",
     "text": [
      "Reading c:\\Users\\yaoyu\\Documents\\EE675\\preprocessed_epochs\\sub-50_ses-1_retained-epochs.fif ...\n",
      "    Found the data of interest:\n",
      "        t =       0.00 ...    3998.00 ms\n",
      "        0 CTF compensation matrices available\n",
      "Not setting metadata\n",
      "61 matching events found\n",
      "No baseline correction applied\n",
      "0 projection items activated\n"
     ]
    },
    {
     "name": "stderr",
     "output_type": "stream",
     "text": [
      "C:\\Users\\yaoyu\\AppData\\Local\\Temp\\ipykernel_3372\\1934459742.py:13: RuntimeWarning: This filename (preprocessed_epochs\\sub-50_ses-1_retained-epochs.fif) does not conform to MNE naming conventions. All epochs files should end with -epo.fif, -epo.fif.gz, _epo.fif or _epo.fif.gz\n",
      "  epochs = mne.read_epochs(file_path, preload=True)\n"
     ]
    },
    {
     "name": "stdout",
     "output_type": "stream",
     "text": [
      "Reading c:\\Users\\yaoyu\\Documents\\EE675\\preprocessed_epochs\\sub-50_ses-2_retained-epochs.fif ...\n",
      "    Found the data of interest:\n",
      "        t =       0.00 ...    3998.00 ms\n",
      "        0 CTF compensation matrices available\n",
      "Not setting metadata\n",
      "74 matching events found\n",
      "No baseline correction applied\n",
      "0 projection items activated\n"
     ]
    },
    {
     "name": "stderr",
     "output_type": "stream",
     "text": [
      "C:\\Users\\yaoyu\\AppData\\Local\\Temp\\ipykernel_3372\\1934459742.py:13: RuntimeWarning: This filename (preprocessed_epochs\\sub-50_ses-2_retained-epochs.fif) does not conform to MNE naming conventions. All epochs files should end with -epo.fif, -epo.fif.gz, _epo.fif or _epo.fif.gz\n",
      "  epochs = mne.read_epochs(file_path, preload=True)\n"
     ]
    },
    {
     "name": "stdout",
     "output_type": "stream",
     "text": [
      "Reading c:\\Users\\yaoyu\\Documents\\EE675\\preprocessed_epochs\\sub-51_ses-1_retained-epochs.fif ...\n",
      "    Found the data of interest:\n",
      "        t =       0.00 ...    3998.00 ms\n",
      "        0 CTF compensation matrices available\n",
      "Not setting metadata\n",
      "72 matching events found\n",
      "No baseline correction applied\n",
      "0 projection items activated\n"
     ]
    },
    {
     "name": "stderr",
     "output_type": "stream",
     "text": [
      "C:\\Users\\yaoyu\\AppData\\Local\\Temp\\ipykernel_3372\\1934459742.py:13: RuntimeWarning: This filename (preprocessed_epochs\\sub-51_ses-1_retained-epochs.fif) does not conform to MNE naming conventions. All epochs files should end with -epo.fif, -epo.fif.gz, _epo.fif or _epo.fif.gz\n",
      "  epochs = mne.read_epochs(file_path, preload=True)\n"
     ]
    },
    {
     "name": "stdout",
     "output_type": "stream",
     "text": [
      "Reading c:\\Users\\yaoyu\\Documents\\EE675\\preprocessed_epochs\\sub-51_ses-2_retained-epochs.fif ...\n",
      "    Found the data of interest:\n",
      "        t =       0.00 ...    3998.00 ms\n",
      "        0 CTF compensation matrices available\n",
      "Not setting metadata\n",
      "65 matching events found\n",
      "No baseline correction applied\n",
      "0 projection items activated\n"
     ]
    },
    {
     "name": "stderr",
     "output_type": "stream",
     "text": [
      "C:\\Users\\yaoyu\\AppData\\Local\\Temp\\ipykernel_3372\\1934459742.py:13: RuntimeWarning: This filename (preprocessed_epochs\\sub-51_ses-2_retained-epochs.fif) does not conform to MNE naming conventions. All epochs files should end with -epo.fif, -epo.fif.gz, _epo.fif or _epo.fif.gz\n",
      "  epochs = mne.read_epochs(file_path, preload=True)\n"
     ]
    },
    {
     "name": "stdout",
     "output_type": "stream",
     "text": [
      "Reading c:\\Users\\yaoyu\\Documents\\EE675\\preprocessed_epochs\\sub-52_ses-1_retained-epochs.fif ...\n",
      "    Found the data of interest:\n",
      "        t =       0.00 ...    3998.00 ms\n",
      "        0 CTF compensation matrices available\n",
      "Not setting metadata\n",
      "72 matching events found\n",
      "No baseline correction applied\n",
      "0 projection items activated\n"
     ]
    },
    {
     "name": "stderr",
     "output_type": "stream",
     "text": [
      "C:\\Users\\yaoyu\\AppData\\Local\\Temp\\ipykernel_3372\\1934459742.py:13: RuntimeWarning: This filename (preprocessed_epochs\\sub-52_ses-1_retained-epochs.fif) does not conform to MNE naming conventions. All epochs files should end with -epo.fif, -epo.fif.gz, _epo.fif or _epo.fif.gz\n",
      "  epochs = mne.read_epochs(file_path, preload=True)\n"
     ]
    },
    {
     "name": "stdout",
     "output_type": "stream",
     "text": [
      "Reading c:\\Users\\yaoyu\\Documents\\EE675\\preprocessed_epochs\\sub-52_ses-2_retained-epochs.fif ...\n",
      "    Found the data of interest:\n",
      "        t =       0.00 ...    3998.00 ms\n",
      "        0 CTF compensation matrices available\n",
      "Not setting metadata\n",
      "83 matching events found\n",
      "No baseline correction applied\n",
      "0 projection items activated\n"
     ]
    },
    {
     "name": "stderr",
     "output_type": "stream",
     "text": [
      "C:\\Users\\yaoyu\\AppData\\Local\\Temp\\ipykernel_3372\\1934459742.py:13: RuntimeWarning: This filename (preprocessed_epochs\\sub-52_ses-2_retained-epochs.fif) does not conform to MNE naming conventions. All epochs files should end with -epo.fif, -epo.fif.gz, _epo.fif or _epo.fif.gz\n",
      "  epochs = mne.read_epochs(file_path, preload=True)\n"
     ]
    },
    {
     "name": "stdout",
     "output_type": "stream",
     "text": [
      "Reading c:\\Users\\yaoyu\\Documents\\EE675\\preprocessed_epochs\\sub-53_ses-1_retained-epochs.fif ...\n",
      "    Found the data of interest:\n",
      "        t =       0.00 ...    3998.00 ms\n",
      "        0 CTF compensation matrices available\n",
      "Not setting metadata\n",
      "71 matching events found\n",
      "No baseline correction applied\n",
      "0 projection items activated\n"
     ]
    },
    {
     "name": "stderr",
     "output_type": "stream",
     "text": [
      "C:\\Users\\yaoyu\\AppData\\Local\\Temp\\ipykernel_3372\\1934459742.py:13: RuntimeWarning: This filename (preprocessed_epochs\\sub-53_ses-1_retained-epochs.fif) does not conform to MNE naming conventions. All epochs files should end with -epo.fif, -epo.fif.gz, _epo.fif or _epo.fif.gz\n",
      "  epochs = mne.read_epochs(file_path, preload=True)\n"
     ]
    },
    {
     "name": "stdout",
     "output_type": "stream",
     "text": [
      "Reading c:\\Users\\yaoyu\\Documents\\EE675\\preprocessed_epochs\\sub-53_ses-2_retained-epochs.fif ...\n",
      "    Found the data of interest:\n",
      "        t =       0.00 ...    3998.00 ms\n",
      "        0 CTF compensation matrices available\n"
     ]
    },
    {
     "name": "stderr",
     "output_type": "stream",
     "text": [
      "C:\\Users\\yaoyu\\AppData\\Local\\Temp\\ipykernel_3372\\1934459742.py:13: RuntimeWarning: This filename (preprocessed_epochs\\sub-53_ses-2_retained-epochs.fif) does not conform to MNE naming conventions. All epochs files should end with -epo.fif, -epo.fif.gz, _epo.fif or _epo.fif.gz\n",
      "  epochs = mne.read_epochs(file_path, preload=True)\n"
     ]
    },
    {
     "name": "stdout",
     "output_type": "stream",
     "text": [
      "Not setting metadata\n",
      "70 matching events found\n",
      "No baseline correction applied\n",
      "0 projection items activated\n",
      "Reading c:\\Users\\yaoyu\\Documents\\EE675\\preprocessed_epochs\\sub-54_ses-1_retained-epochs.fif ...\n",
      "    Found the data of interest:\n",
      "        t =       0.00 ...    3998.00 ms\n",
      "        0 CTF compensation matrices available\n",
      "Not setting metadata\n",
      "47 matching events found\n",
      "No baseline correction applied\n",
      "0 projection items activated\n"
     ]
    },
    {
     "name": "stderr",
     "output_type": "stream",
     "text": [
      "C:\\Users\\yaoyu\\AppData\\Local\\Temp\\ipykernel_3372\\1934459742.py:13: RuntimeWarning: This filename (preprocessed_epochs\\sub-54_ses-1_retained-epochs.fif) does not conform to MNE naming conventions. All epochs files should end with -epo.fif, -epo.fif.gz, _epo.fif or _epo.fif.gz\n",
      "  epochs = mne.read_epochs(file_path, preload=True)\n"
     ]
    },
    {
     "name": "stdout",
     "output_type": "stream",
     "text": [
      "Reading c:\\Users\\yaoyu\\Documents\\EE675\\preprocessed_epochs\\sub-54_ses-2_retained-epochs.fif ...\n",
      "    Found the data of interest:\n",
      "        t =       0.00 ...    3998.00 ms\n",
      "        0 CTF compensation matrices available\n",
      "Not setting metadata\n",
      "7 matching events found\n",
      "No baseline correction applied\n",
      "0 projection items activated\n",
      "Skipping patient sub-54_ses-2_retained-epochs.fif: less than 10 epochs.\n",
      "Reading c:\\Users\\yaoyu\\Documents\\EE675\\preprocessed_epochs\\sub-55_ses-1_retained-epochs.fif ...\n",
      "    Found the data of interest:\n",
      "        t =       0.00 ...    3998.00 ms\n",
      "        0 CTF compensation matrices available\n",
      "Not setting metadata\n",
      "75 matching events found\n"
     ]
    },
    {
     "name": "stderr",
     "output_type": "stream",
     "text": [
      "C:\\Users\\yaoyu\\AppData\\Local\\Temp\\ipykernel_3372\\1934459742.py:13: RuntimeWarning: This filename (preprocessed_epochs\\sub-54_ses-2_retained-epochs.fif) does not conform to MNE naming conventions. All epochs files should end with -epo.fif, -epo.fif.gz, _epo.fif or _epo.fif.gz\n",
      "  epochs = mne.read_epochs(file_path, preload=True)\n",
      "C:\\Users\\yaoyu\\AppData\\Local\\Temp\\ipykernel_3372\\1934459742.py:13: RuntimeWarning: This filename (preprocessed_epochs\\sub-55_ses-1_retained-epochs.fif) does not conform to MNE naming conventions. All epochs files should end with -epo.fif, -epo.fif.gz, _epo.fif or _epo.fif.gz\n",
      "  epochs = mne.read_epochs(file_path, preload=True)\n"
     ]
    },
    {
     "name": "stdout",
     "output_type": "stream",
     "text": [
      "No baseline correction applied\n",
      "0 projection items activated\n",
      "Reading c:\\Users\\yaoyu\\Documents\\EE675\\preprocessed_epochs\\sub-55_ses-2_retained-epochs.fif ...\n",
      "    Found the data of interest:\n",
      "        t =       0.00 ...    3998.00 ms\n",
      "        0 CTF compensation matrices available\n",
      "Not setting metadata\n",
      "74 matching events found\n",
      "No baseline correction applied\n",
      "0 projection items activated\n"
     ]
    },
    {
     "name": "stderr",
     "output_type": "stream",
     "text": [
      "C:\\Users\\yaoyu\\AppData\\Local\\Temp\\ipykernel_3372\\1934459742.py:13: RuntimeWarning: This filename (preprocessed_epochs\\sub-55_ses-2_retained-epochs.fif) does not conform to MNE naming conventions. All epochs files should end with -epo.fif, -epo.fif.gz, _epo.fif or _epo.fif.gz\n",
      "  epochs = mne.read_epochs(file_path, preload=True)\n"
     ]
    },
    {
     "name": "stdout",
     "output_type": "stream",
     "text": [
      "Reading c:\\Users\\yaoyu\\Documents\\EE675\\preprocessed_epochs\\sub-56_ses-1_retained-epochs.fif ...\n",
      "    Found the data of interest:\n",
      "        t =       0.00 ...    3998.00 ms\n",
      "        0 CTF compensation matrices available\n",
      "Not setting metadata\n",
      "68 matching events found\n",
      "No baseline correction applied\n",
      "0 projection items activated\n"
     ]
    },
    {
     "name": "stderr",
     "output_type": "stream",
     "text": [
      "C:\\Users\\yaoyu\\AppData\\Local\\Temp\\ipykernel_3372\\1934459742.py:13: RuntimeWarning: This filename (preprocessed_epochs\\sub-56_ses-1_retained-epochs.fif) does not conform to MNE naming conventions. All epochs files should end with -epo.fif, -epo.fif.gz, _epo.fif or _epo.fif.gz\n",
      "  epochs = mne.read_epochs(file_path, preload=True)\n"
     ]
    },
    {
     "name": "stdout",
     "output_type": "stream",
     "text": [
      "Reading c:\\Users\\yaoyu\\Documents\\EE675\\preprocessed_epochs\\sub-56_ses-2_retained-epochs.fif ...\n",
      "    Found the data of interest:\n",
      "        t =       0.00 ...    3998.00 ms\n",
      "        0 CTF compensation matrices available\n",
      "Not setting metadata\n",
      "56 matching events found\n",
      "No baseline correction applied\n",
      "0 projection items activated\n"
     ]
    },
    {
     "name": "stderr",
     "output_type": "stream",
     "text": [
      "C:\\Users\\yaoyu\\AppData\\Local\\Temp\\ipykernel_3372\\1934459742.py:13: RuntimeWarning: This filename (preprocessed_epochs\\sub-56_ses-2_retained-epochs.fif) does not conform to MNE naming conventions. All epochs files should end with -epo.fif, -epo.fif.gz, _epo.fif or _epo.fif.gz\n",
      "  epochs = mne.read_epochs(file_path, preload=True)\n"
     ]
    },
    {
     "name": "stdout",
     "output_type": "stream",
     "text": [
      "Reading c:\\Users\\yaoyu\\Documents\\EE675\\preprocessed_epochs\\sub-57_ses-1_retained-epochs.fif ...\n",
      "    Found the data of interest:\n",
      "        t =       0.00 ...    3998.00 ms\n",
      "        0 CTF compensation matrices available\n",
      "Not setting metadata\n",
      "72 matching events found\n",
      "No baseline correction applied\n",
      "0 projection items activated\n"
     ]
    },
    {
     "name": "stderr",
     "output_type": "stream",
     "text": [
      "C:\\Users\\yaoyu\\AppData\\Local\\Temp\\ipykernel_3372\\1934459742.py:13: RuntimeWarning: This filename (preprocessed_epochs\\sub-57_ses-1_retained-epochs.fif) does not conform to MNE naming conventions. All epochs files should end with -epo.fif, -epo.fif.gz, _epo.fif or _epo.fif.gz\n",
      "  epochs = mne.read_epochs(file_path, preload=True)\n"
     ]
    },
    {
     "name": "stdout",
     "output_type": "stream",
     "text": [
      "Reading c:\\Users\\yaoyu\\Documents\\EE675\\preprocessed_epochs\\sub-57_ses-2_retained-epochs.fif ...\n",
      "    Found the data of interest:\n",
      "        t =       0.00 ...    3998.00 ms\n",
      "        0 CTF compensation matrices available\n",
      "Not setting metadata\n",
      "46 matching events found\n",
      "No baseline correction applied\n",
      "0 projection items activated\n"
     ]
    },
    {
     "name": "stderr",
     "output_type": "stream",
     "text": [
      "C:\\Users\\yaoyu\\AppData\\Local\\Temp\\ipykernel_3372\\1934459742.py:13: RuntimeWarning: This filename (preprocessed_epochs\\sub-57_ses-2_retained-epochs.fif) does not conform to MNE naming conventions. All epochs files should end with -epo.fif, -epo.fif.gz, _epo.fif or _epo.fif.gz\n",
      "  epochs = mne.read_epochs(file_path, preload=True)\n"
     ]
    },
    {
     "name": "stdout",
     "output_type": "stream",
     "text": [
      "Reading c:\\Users\\yaoyu\\Documents\\EE675\\preprocessed_epochs\\sub-58_ses-1_retained-epochs.fif ...\n",
      "    Found the data of interest:\n",
      "        t =       0.00 ...    3998.00 ms\n",
      "        0 CTF compensation matrices available\n",
      "Not setting metadata\n",
      "7 matching events found\n",
      "No baseline correction applied\n",
      "0 projection items activated\n",
      "Skipping patient sub-58_ses-1_retained-epochs.fif: less than 10 epochs.\n",
      "Reading c:\\Users\\yaoyu\\Documents\\EE675\\preprocessed_epochs\\sub-58_ses-2_retained-epochs.fif ...\n",
      "    Found the data of interest:\n",
      "        t =       0.00 ...    3998.00 ms\n",
      "        0 CTF compensation matrices available\n"
     ]
    },
    {
     "name": "stderr",
     "output_type": "stream",
     "text": [
      "C:\\Users\\yaoyu\\AppData\\Local\\Temp\\ipykernel_3372\\1934459742.py:13: RuntimeWarning: This filename (preprocessed_epochs\\sub-58_ses-1_retained-epochs.fif) does not conform to MNE naming conventions. All epochs files should end with -epo.fif, -epo.fif.gz, _epo.fif or _epo.fif.gz\n",
      "  epochs = mne.read_epochs(file_path, preload=True)\n",
      "C:\\Users\\yaoyu\\AppData\\Local\\Temp\\ipykernel_3372\\1934459742.py:13: RuntimeWarning: This filename (preprocessed_epochs\\sub-58_ses-2_retained-epochs.fif) does not conform to MNE naming conventions. All epochs files should end with -epo.fif, -epo.fif.gz, _epo.fif or _epo.fif.gz\n",
      "  epochs = mne.read_epochs(file_path, preload=True)\n"
     ]
    },
    {
     "name": "stdout",
     "output_type": "stream",
     "text": [
      "Not setting metadata\n",
      "39 matching events found\n",
      "No baseline correction applied\n",
      "0 projection items activated\n",
      "Reading c:\\Users\\yaoyu\\Documents\\EE675\\preprocessed_epochs\\sub-59_ses-1_retained-epochs.fif ...\n",
      "    Found the data of interest:\n",
      "        t =       0.00 ...    3998.00 ms\n",
      "        0 CTF compensation matrices available\n",
      "Not setting metadata\n",
      "72 matching events found\n",
      "No baseline correction applied\n",
      "0 projection items activated\n"
     ]
    },
    {
     "name": "stderr",
     "output_type": "stream",
     "text": [
      "C:\\Users\\yaoyu\\AppData\\Local\\Temp\\ipykernel_3372\\1934459742.py:13: RuntimeWarning: This filename (preprocessed_epochs\\sub-59_ses-1_retained-epochs.fif) does not conform to MNE naming conventions. All epochs files should end with -epo.fif, -epo.fif.gz, _epo.fif or _epo.fif.gz\n",
      "  epochs = mne.read_epochs(file_path, preload=True)\n"
     ]
    },
    {
     "name": "stdout",
     "output_type": "stream",
     "text": [
      "Reading c:\\Users\\yaoyu\\Documents\\EE675\\preprocessed_epochs\\sub-59_ses-2_retained-epochs.fif ...\n",
      "    Found the data of interest:\n",
      "        t =       0.00 ...    3998.00 ms\n",
      "        0 CTF compensation matrices available\n",
      "Not setting metadata\n",
      "57 matching events found\n",
      "No baseline correction applied\n",
      "0 projection items activated\n"
     ]
    },
    {
     "name": "stderr",
     "output_type": "stream",
     "text": [
      "C:\\Users\\yaoyu\\AppData\\Local\\Temp\\ipykernel_3372\\1934459742.py:13: RuntimeWarning: This filename (preprocessed_epochs\\sub-59_ses-2_retained-epochs.fif) does not conform to MNE naming conventions. All epochs files should end with -epo.fif, -epo.fif.gz, _epo.fif or _epo.fif.gz\n",
      "  epochs = mne.read_epochs(file_path, preload=True)\n"
     ]
    },
    {
     "name": "stdout",
     "output_type": "stream",
     "text": [
      "Reading c:\\Users\\yaoyu\\Documents\\EE675\\preprocessed_epochs\\sub-60_ses-1_retained-epochs.fif ...\n",
      "    Found the data of interest:\n",
      "        t =       0.00 ...    3998.00 ms\n",
      "        0 CTF compensation matrices available\n",
      "Not setting metadata\n",
      "19 matching events found\n",
      "No baseline correction applied\n",
      "0 projection items activated\n"
     ]
    },
    {
     "name": "stderr",
     "output_type": "stream",
     "text": [
      "C:\\Users\\yaoyu\\AppData\\Local\\Temp\\ipykernel_3372\\1934459742.py:13: RuntimeWarning: This filename (preprocessed_epochs\\sub-60_ses-1_retained-epochs.fif) does not conform to MNE naming conventions. All epochs files should end with -epo.fif, -epo.fif.gz, _epo.fif or _epo.fif.gz\n",
      "  epochs = mne.read_epochs(file_path, preload=True)\n"
     ]
    },
    {
     "name": "stdout",
     "output_type": "stream",
     "text": [
      "Reading c:\\Users\\yaoyu\\Documents\\EE675\\preprocessed_epochs\\sub-60_ses-2_retained-epochs.fif ...\n",
      "    Found the data of interest:\n",
      "        t =       0.00 ...    3998.00 ms\n",
      "        0 CTF compensation matrices available\n",
      "Not setting metadata\n",
      "28 matching events found\n",
      "No baseline correction applied\n",
      "0 projection items activated\n"
     ]
    },
    {
     "name": "stderr",
     "output_type": "stream",
     "text": [
      "C:\\Users\\yaoyu\\AppData\\Local\\Temp\\ipykernel_3372\\1934459742.py:13: RuntimeWarning: This filename (preprocessed_epochs\\sub-60_ses-2_retained-epochs.fif) does not conform to MNE naming conventions. All epochs files should end with -epo.fif, -epo.fif.gz, _epo.fif or _epo.fif.gz\n",
      "  epochs = mne.read_epochs(file_path, preload=True)\n"
     ]
    },
    {
     "name": "stdout",
     "output_type": "stream",
     "text": [
      "Reading c:\\Users\\yaoyu\\Documents\\EE675\\preprocessed_epochs\\sub-61_ses-1_retained-epochs.fif ...\n",
      "    Found the data of interest:\n",
      "        t =       0.00 ...    3998.00 ms\n",
      "        0 CTF compensation matrices available\n",
      "Not setting metadata\n",
      "71 matching events found\n",
      "No baseline correction applied\n",
      "0 projection items activated\n"
     ]
    },
    {
     "name": "stderr",
     "output_type": "stream",
     "text": [
      "C:\\Users\\yaoyu\\AppData\\Local\\Temp\\ipykernel_3372\\1934459742.py:13: RuntimeWarning: This filename (preprocessed_epochs\\sub-61_ses-1_retained-epochs.fif) does not conform to MNE naming conventions. All epochs files should end with -epo.fif, -epo.fif.gz, _epo.fif or _epo.fif.gz\n",
      "  epochs = mne.read_epochs(file_path, preload=True)\n"
     ]
    },
    {
     "name": "stdout",
     "output_type": "stream",
     "text": [
      "Reading c:\\Users\\yaoyu\\Documents\\EE675\\preprocessed_epochs\\sub-61_ses-2_retained-epochs.fif ...\n",
      "    Found the data of interest:\n",
      "        t =       0.00 ...    3998.00 ms\n",
      "        0 CTF compensation matrices available\n",
      "Not setting metadata\n",
      "74 matching events found\n",
      "No baseline correction applied\n",
      "0 projection items activated\n"
     ]
    },
    {
     "name": "stderr",
     "output_type": "stream",
     "text": [
      "C:\\Users\\yaoyu\\AppData\\Local\\Temp\\ipykernel_3372\\1934459742.py:13: RuntimeWarning: This filename (preprocessed_epochs\\sub-61_ses-2_retained-epochs.fif) does not conform to MNE naming conventions. All epochs files should end with -epo.fif, -epo.fif.gz, _epo.fif or _epo.fif.gz\n",
      "  epochs = mne.read_epochs(file_path, preload=True)\n"
     ]
    },
    {
     "name": "stdout",
     "output_type": "stream",
     "text": [
      "Reading c:\\Users\\yaoyu\\Documents\\EE675\\preprocessed_epochs\\sub-62_ses-1_retained-epochs.fif ...\n",
      "    Found the data of interest:\n",
      "        t =       0.00 ...    3998.00 ms\n",
      "        0 CTF compensation matrices available\n",
      "Not setting metadata\n",
      "52 matching events found\n",
      "No baseline correction applied\n",
      "0 projection items activated\n"
     ]
    },
    {
     "name": "stderr",
     "output_type": "stream",
     "text": [
      "C:\\Users\\yaoyu\\AppData\\Local\\Temp\\ipykernel_3372\\1934459742.py:13: RuntimeWarning: This filename (preprocessed_epochs\\sub-62_ses-1_retained-epochs.fif) does not conform to MNE naming conventions. All epochs files should end with -epo.fif, -epo.fif.gz, _epo.fif or _epo.fif.gz\n",
      "  epochs = mne.read_epochs(file_path, preload=True)\n"
     ]
    },
    {
     "name": "stdout",
     "output_type": "stream",
     "text": [
      "Reading c:\\Users\\yaoyu\\Documents\\EE675\\preprocessed_epochs\\sub-62_ses-2_retained-epochs.fif ...\n",
      "    Found the data of interest:\n",
      "        t =       0.00 ...    3998.00 ms\n",
      "        0 CTF compensation matrices available\n",
      "Not setting metadata\n",
      "23 matching events found\n",
      "No baseline correction applied\n",
      "0 projection items activated\n"
     ]
    },
    {
     "name": "stderr",
     "output_type": "stream",
     "text": [
      "C:\\Users\\yaoyu\\AppData\\Local\\Temp\\ipykernel_3372\\1934459742.py:13: RuntimeWarning: This filename (preprocessed_epochs\\sub-62_ses-2_retained-epochs.fif) does not conform to MNE naming conventions. All epochs files should end with -epo.fif, -epo.fif.gz, _epo.fif or _epo.fif.gz\n",
      "  epochs = mne.read_epochs(file_path, preload=True)\n"
     ]
    },
    {
     "name": "stdout",
     "output_type": "stream",
     "text": [
      "Reading c:\\Users\\yaoyu\\Documents\\EE675\\preprocessed_epochs\\sub-63_ses-1_retained-epochs.fif ...\n",
      "    Found the data of interest:\n",
      "        t =       0.00 ...    3998.00 ms\n",
      "        0 CTF compensation matrices available\n",
      "Not setting metadata\n",
      "63 matching events found\n",
      "No baseline correction applied\n",
      "0 projection items activated\n"
     ]
    },
    {
     "name": "stderr",
     "output_type": "stream",
     "text": [
      "C:\\Users\\yaoyu\\AppData\\Local\\Temp\\ipykernel_3372\\1934459742.py:13: RuntimeWarning: This filename (preprocessed_epochs\\sub-63_ses-1_retained-epochs.fif) does not conform to MNE naming conventions. All epochs files should end with -epo.fif, -epo.fif.gz, _epo.fif or _epo.fif.gz\n",
      "  epochs = mne.read_epochs(file_path, preload=True)\n"
     ]
    },
    {
     "name": "stdout",
     "output_type": "stream",
     "text": [
      "Reading c:\\Users\\yaoyu\\Documents\\EE675\\preprocessed_epochs\\sub-63_ses-2_retained-epochs.fif ...\n",
      "    Found the data of interest:\n",
      "        t =       0.00 ...    3998.00 ms\n",
      "        0 CTF compensation matrices available\n",
      "Not setting metadata\n",
      "72 matching events found\n",
      "No baseline correction applied\n",
      "0 projection items activated\n"
     ]
    },
    {
     "name": "stderr",
     "output_type": "stream",
     "text": [
      "C:\\Users\\yaoyu\\AppData\\Local\\Temp\\ipykernel_3372\\1934459742.py:13: RuntimeWarning: This filename (preprocessed_epochs\\sub-63_ses-2_retained-epochs.fif) does not conform to MNE naming conventions. All epochs files should end with -epo.fif, -epo.fif.gz, _epo.fif or _epo.fif.gz\n",
      "  epochs = mne.read_epochs(file_path, preload=True)\n"
     ]
    },
    {
     "name": "stdout",
     "output_type": "stream",
     "text": [
      "Reading c:\\Users\\yaoyu\\Documents\\EE675\\preprocessed_epochs\\sub-64_ses-1_retained-epochs.fif ...\n",
      "    Found the data of interest:\n",
      "        t =       0.00 ...    3998.00 ms\n",
      "        0 CTF compensation matrices available\n",
      "Not setting metadata\n",
      "67 matching events found\n",
      "No baseline correction applied\n",
      "0 projection items activated\n"
     ]
    },
    {
     "name": "stderr",
     "output_type": "stream",
     "text": [
      "C:\\Users\\yaoyu\\AppData\\Local\\Temp\\ipykernel_3372\\1934459742.py:13: RuntimeWarning: This filename (preprocessed_epochs\\sub-64_ses-1_retained-epochs.fif) does not conform to MNE naming conventions. All epochs files should end with -epo.fif, -epo.fif.gz, _epo.fif or _epo.fif.gz\n",
      "  epochs = mne.read_epochs(file_path, preload=True)\n"
     ]
    },
    {
     "name": "stdout",
     "output_type": "stream",
     "text": [
      "Reading c:\\Users\\yaoyu\\Documents\\EE675\\preprocessed_epochs\\sub-64_ses-2_retained-epochs.fif ...\n",
      "    Found the data of interest:\n",
      "        t =       0.00 ...    3998.00 ms\n",
      "        0 CTF compensation matrices available\n",
      "Not setting metadata\n",
      "60 matching events found\n",
      "No baseline correction applied\n",
      "0 projection items activated\n"
     ]
    },
    {
     "name": "stderr",
     "output_type": "stream",
     "text": [
      "C:\\Users\\yaoyu\\AppData\\Local\\Temp\\ipykernel_3372\\1934459742.py:13: RuntimeWarning: This filename (preprocessed_epochs\\sub-64_ses-2_retained-epochs.fif) does not conform to MNE naming conventions. All epochs files should end with -epo.fif, -epo.fif.gz, _epo.fif or _epo.fif.gz\n",
      "  epochs = mne.read_epochs(file_path, preload=True)\n"
     ]
    },
    {
     "name": "stdout",
     "output_type": "stream",
     "text": [
      "Reading c:\\Users\\yaoyu\\Documents\\EE675\\preprocessed_epochs\\sub-65_ses-1_retained-epochs.fif ...\n",
      "    Found the data of interest:\n",
      "        t =       0.00 ...    3998.00 ms\n",
      "        0 CTF compensation matrices available\n",
      "Not setting metadata\n",
      "75 matching events found\n",
      "No baseline correction applied\n",
      "0 projection items activated\n"
     ]
    },
    {
     "name": "stderr",
     "output_type": "stream",
     "text": [
      "C:\\Users\\yaoyu\\AppData\\Local\\Temp\\ipykernel_3372\\1934459742.py:13: RuntimeWarning: This filename (preprocessed_epochs\\sub-65_ses-1_retained-epochs.fif) does not conform to MNE naming conventions. All epochs files should end with -epo.fif, -epo.fif.gz, _epo.fif or _epo.fif.gz\n",
      "  epochs = mne.read_epochs(file_path, preload=True)\n"
     ]
    },
    {
     "name": "stdout",
     "output_type": "stream",
     "text": [
      "Reading c:\\Users\\yaoyu\\Documents\\EE675\\preprocessed_epochs\\sub-65_ses-2_retained-epochs.fif ...\n",
      "    Found the data of interest:\n",
      "        t =       0.00 ...    3998.00 ms\n",
      "        0 CTF compensation matrices available\n",
      "Not setting metadata\n",
      "59 matching events found\n",
      "No baseline correction applied\n",
      "0 projection items activated\n"
     ]
    },
    {
     "name": "stderr",
     "output_type": "stream",
     "text": [
      "C:\\Users\\yaoyu\\AppData\\Local\\Temp\\ipykernel_3372\\1934459742.py:13: RuntimeWarning: This filename (preprocessed_epochs\\sub-65_ses-2_retained-epochs.fif) does not conform to MNE naming conventions. All epochs files should end with -epo.fif, -epo.fif.gz, _epo.fif or _epo.fif.gz\n",
      "  epochs = mne.read_epochs(file_path, preload=True)\n"
     ]
    },
    {
     "name": "stdout",
     "output_type": "stream",
     "text": [
      "Reading c:\\Users\\yaoyu\\Documents\\EE675\\preprocessed_epochs\\sub-66_ses-1_retained-epochs.fif ...\n",
      "    Found the data of interest:\n",
      "        t =       0.00 ...    3998.00 ms\n",
      "        0 CTF compensation matrices available\n",
      "Not setting metadata\n",
      "66 matching events found\n",
      "No baseline correction applied\n",
      "0 projection items activated\n"
     ]
    },
    {
     "name": "stderr",
     "output_type": "stream",
     "text": [
      "C:\\Users\\yaoyu\\AppData\\Local\\Temp\\ipykernel_3372\\1934459742.py:13: RuntimeWarning: This filename (preprocessed_epochs\\sub-66_ses-1_retained-epochs.fif) does not conform to MNE naming conventions. All epochs files should end with -epo.fif, -epo.fif.gz, _epo.fif or _epo.fif.gz\n",
      "  epochs = mne.read_epochs(file_path, preload=True)\n"
     ]
    },
    {
     "name": "stdout",
     "output_type": "stream",
     "text": [
      "Reading c:\\Users\\yaoyu\\Documents\\EE675\\preprocessed_epochs\\sub-66_ses-2_retained-epochs.fif ...\n",
      "    Found the data of interest:\n",
      "        t =       0.00 ...    3998.00 ms\n",
      "        0 CTF compensation matrices available\n",
      "Not setting metadata\n",
      "69 matching events found\n",
      "No baseline correction applied\n",
      "0 projection items activated\n"
     ]
    },
    {
     "name": "stderr",
     "output_type": "stream",
     "text": [
      "C:\\Users\\yaoyu\\AppData\\Local\\Temp\\ipykernel_3372\\1934459742.py:13: RuntimeWarning: This filename (preprocessed_epochs\\sub-66_ses-2_retained-epochs.fif) does not conform to MNE naming conventions. All epochs files should end with -epo.fif, -epo.fif.gz, _epo.fif or _epo.fif.gz\n",
      "  epochs = mne.read_epochs(file_path, preload=True)\n"
     ]
    },
    {
     "name": "stdout",
     "output_type": "stream",
     "text": [
      "Reading c:\\Users\\yaoyu\\Documents\\EE675\\preprocessed_epochs\\sub-67_ses-1_retained-epochs.fif ...\n",
      "    Found the data of interest:\n",
      "        t =       0.00 ...    3998.00 ms\n",
      "        0 CTF compensation matrices available\n",
      "Not setting metadata\n",
      "73 matching events found\n",
      "No baseline correction applied\n",
      "0 projection items activated\n"
     ]
    },
    {
     "name": "stderr",
     "output_type": "stream",
     "text": [
      "C:\\Users\\yaoyu\\AppData\\Local\\Temp\\ipykernel_3372\\1934459742.py:13: RuntimeWarning: This filename (preprocessed_epochs\\sub-67_ses-1_retained-epochs.fif) does not conform to MNE naming conventions. All epochs files should end with -epo.fif, -epo.fif.gz, _epo.fif or _epo.fif.gz\n",
      "  epochs = mne.read_epochs(file_path, preload=True)\n"
     ]
    },
    {
     "name": "stdout",
     "output_type": "stream",
     "text": [
      "Reading c:\\Users\\yaoyu\\Documents\\EE675\\preprocessed_epochs\\sub-67_ses-2_retained-epochs.fif ...\n",
      "    Found the data of interest:\n",
      "        t =       0.00 ...    3998.00 ms\n",
      "        0 CTF compensation matrices available\n",
      "Not setting metadata\n",
      "72 matching events found\n",
      "No baseline correction applied\n",
      "0 projection items activated\n"
     ]
    },
    {
     "name": "stderr",
     "output_type": "stream",
     "text": [
      "C:\\Users\\yaoyu\\AppData\\Local\\Temp\\ipykernel_3372\\1934459742.py:13: RuntimeWarning: This filename (preprocessed_epochs\\sub-67_ses-2_retained-epochs.fif) does not conform to MNE naming conventions. All epochs files should end with -epo.fif, -epo.fif.gz, _epo.fif or _epo.fif.gz\n",
      "  epochs = mne.read_epochs(file_path, preload=True)\n"
     ]
    },
    {
     "name": "stdout",
     "output_type": "stream",
     "text": [
      "Reading c:\\Users\\yaoyu\\Documents\\EE675\\preprocessed_epochs\\sub-68_ses-1_retained-epochs.fif ...\n",
      "    Found the data of interest:\n",
      "        t =       0.00 ...    3998.00 ms\n",
      "        0 CTF compensation matrices available\n",
      "Not setting metadata\n",
      "59 matching events found\n",
      "No baseline correction applied\n",
      "0 projection items activated\n"
     ]
    },
    {
     "name": "stderr",
     "output_type": "stream",
     "text": [
      "C:\\Users\\yaoyu\\AppData\\Local\\Temp\\ipykernel_3372\\1934459742.py:13: RuntimeWarning: This filename (preprocessed_epochs\\sub-68_ses-1_retained-epochs.fif) does not conform to MNE naming conventions. All epochs files should end with -epo.fif, -epo.fif.gz, _epo.fif or _epo.fif.gz\n",
      "  epochs = mne.read_epochs(file_path, preload=True)\n"
     ]
    },
    {
     "name": "stdout",
     "output_type": "stream",
     "text": [
      "Reading c:\\Users\\yaoyu\\Documents\\EE675\\preprocessed_epochs\\sub-68_ses-2_retained-epochs.fif ...\n",
      "    Found the data of interest:\n",
      "        t =       0.00 ...    3998.00 ms\n",
      "        0 CTF compensation matrices available\n",
      "Not setting metadata\n",
      "73 matching events found\n",
      "No baseline correction applied\n",
      "0 projection items activated\n"
     ]
    },
    {
     "name": "stderr",
     "output_type": "stream",
     "text": [
      "C:\\Users\\yaoyu\\AppData\\Local\\Temp\\ipykernel_3372\\1934459742.py:13: RuntimeWarning: This filename (preprocessed_epochs\\sub-68_ses-2_retained-epochs.fif) does not conform to MNE naming conventions. All epochs files should end with -epo.fif, -epo.fif.gz, _epo.fif or _epo.fif.gz\n",
      "  epochs = mne.read_epochs(file_path, preload=True)\n"
     ]
    },
    {
     "name": "stdout",
     "output_type": "stream",
     "text": [
      "Reading c:\\Users\\yaoyu\\Documents\\EE675\\preprocessed_epochs\\sub-69_ses-1_retained-epochs.fif ...\n",
      "    Found the data of interest:\n",
      "        t =       0.00 ...    3998.00 ms\n",
      "        0 CTF compensation matrices available\n",
      "Not setting metadata\n",
      "74 matching events found\n",
      "No baseline correction applied\n",
      "0 projection items activated\n"
     ]
    },
    {
     "name": "stderr",
     "output_type": "stream",
     "text": [
      "C:\\Users\\yaoyu\\AppData\\Local\\Temp\\ipykernel_3372\\1934459742.py:13: RuntimeWarning: This filename (preprocessed_epochs\\sub-69_ses-1_retained-epochs.fif) does not conform to MNE naming conventions. All epochs files should end with -epo.fif, -epo.fif.gz, _epo.fif or _epo.fif.gz\n",
      "  epochs = mne.read_epochs(file_path, preload=True)\n"
     ]
    },
    {
     "name": "stdout",
     "output_type": "stream",
     "text": [
      "Reading c:\\Users\\yaoyu\\Documents\\EE675\\preprocessed_epochs\\sub-69_ses-2_retained-epochs.fif ...\n",
      "    Found the data of interest:\n",
      "        t =       0.00 ...    3998.00 ms\n",
      "        0 CTF compensation matrices available\n",
      "Not setting metadata\n",
      "53 matching events found\n",
      "No baseline correction applied\n",
      "0 projection items activated\n"
     ]
    },
    {
     "name": "stderr",
     "output_type": "stream",
     "text": [
      "C:\\Users\\yaoyu\\AppData\\Local\\Temp\\ipykernel_3372\\1934459742.py:13: RuntimeWarning: This filename (preprocessed_epochs\\sub-69_ses-2_retained-epochs.fif) does not conform to MNE naming conventions. All epochs files should end with -epo.fif, -epo.fif.gz, _epo.fif or _epo.fif.gz\n",
      "  epochs = mne.read_epochs(file_path, preload=True)\n"
     ]
    },
    {
     "name": "stdout",
     "output_type": "stream",
     "text": [
      "Reading c:\\Users\\yaoyu\\Documents\\EE675\\preprocessed_epochs\\sub-70_ses-1_retained-epochs.fif ...\n",
      "    Found the data of interest:\n",
      "        t =       0.00 ...    3998.00 ms\n",
      "        0 CTF compensation matrices available\n",
      "Not setting metadata\n",
      "3 matching events found\n",
      "No baseline correction applied\n",
      "0 projection items activated\n",
      "Skipping patient sub-70_ses-1_retained-epochs.fif: less than 10 epochs.\n",
      "Reading c:\\Users\\yaoyu\\Documents\\EE675\\preprocessed_epochs\\sub-70_ses-2_retained-epochs.fif ...\n",
      "    Found the data of interest:\n",
      "        t =       0.00 ...    3998.00 ms\n",
      "        0 CTF compensation matrices available\n",
      "Not setting metadata\n",
      "58 matching events found\n",
      "No baseline correction applied\n",
      "0 projection items activated\n"
     ]
    },
    {
     "name": "stderr",
     "output_type": "stream",
     "text": [
      "C:\\Users\\yaoyu\\AppData\\Local\\Temp\\ipykernel_3372\\1934459742.py:13: RuntimeWarning: This filename (preprocessed_epochs\\sub-70_ses-1_retained-epochs.fif) does not conform to MNE naming conventions. All epochs files should end with -epo.fif, -epo.fif.gz, _epo.fif or _epo.fif.gz\n",
      "  epochs = mne.read_epochs(file_path, preload=True)\n",
      "C:\\Users\\yaoyu\\AppData\\Local\\Temp\\ipykernel_3372\\1934459742.py:13: RuntimeWarning: This filename (preprocessed_epochs\\sub-70_ses-2_retained-epochs.fif) does not conform to MNE naming conventions. All epochs files should end with -epo.fif, -epo.fif.gz, _epo.fif or _epo.fif.gz\n",
      "  epochs = mne.read_epochs(file_path, preload=True)\n"
     ]
    },
    {
     "name": "stdout",
     "output_type": "stream",
     "text": [
      "Reading c:\\Users\\yaoyu\\Documents\\EE675\\preprocessed_epochs\\sub-71_ses-1_retained-epochs.fif ...\n",
      "    Found the data of interest:\n",
      "        t =       0.00 ...    3998.00 ms\n",
      "        0 CTF compensation matrices available\n",
      "Not setting metadata\n",
      "65 matching events found\n",
      "No baseline correction applied\n",
      "0 projection items activated\n"
     ]
    },
    {
     "name": "stderr",
     "output_type": "stream",
     "text": [
      "C:\\Users\\yaoyu\\AppData\\Local\\Temp\\ipykernel_3372\\1934459742.py:13: RuntimeWarning: This filename (preprocessed_epochs\\sub-71_ses-1_retained-epochs.fif) does not conform to MNE naming conventions. All epochs files should end with -epo.fif, -epo.fif.gz, _epo.fif or _epo.fif.gz\n",
      "  epochs = mne.read_epochs(file_path, preload=True)\n"
     ]
    },
    {
     "name": "stdout",
     "output_type": "stream",
     "text": [
      "Reading c:\\Users\\yaoyu\\Documents\\EE675\\preprocessed_epochs\\sub-71_ses-2_retained-epochs.fif ...\n",
      "    Found the data of interest:\n",
      "        t =       0.00 ...    3998.00 ms\n",
      "        0 CTF compensation matrices available\n",
      "Not setting metadata\n",
      "30 matching events found\n",
      "No baseline correction applied\n",
      "0 projection items activated\n"
     ]
    },
    {
     "name": "stderr",
     "output_type": "stream",
     "text": [
      "C:\\Users\\yaoyu\\AppData\\Local\\Temp\\ipykernel_3372\\1934459742.py:13: RuntimeWarning: This filename (preprocessed_epochs\\sub-71_ses-2_retained-epochs.fif) does not conform to MNE naming conventions. All epochs files should end with -epo.fif, -epo.fif.gz, _epo.fif or _epo.fif.gz\n",
      "  epochs = mne.read_epochs(file_path, preload=True)\n"
     ]
    }
   ],
   "source": [
    "X_data = [] \n",
    "y_data = [] \n",
    "max_epochs = 75  \n",
    "\n",
    "for file_name in os.listdir(data_dir):\n",
    "    if not file_name.endswith(\".fif\"):\n",
    "        continue  \n",
    "\n",
    "    file_path = os.path.join(data_dir, file_name)\n",
    "    epochs = mne.read_epochs(file_path, preload=True)\n",
    "\n",
    "    if len(epochs) < 10:\n",
    "        print(f\"Skipping patient {file_name}: less than 10 epochs.\")\n",
    "        continue\n",
    "\n",
    "    patient_data = epochs.get_data()\n",
    "\n",
    "    scaler = StandardScaler()\n",
    "    n_epochs, n_channels, n_times = patient_data.shape\n",
    "\n",
    "    patient_data = patient_data.reshape(n_epochs, -1) \n",
    "    normalized_data = scaler.fit_transform(patient_data) \n",
    "    normalized_data = normalized_data.reshape(n_epochs, n_channels, n_times)  \n",
    "\n",
    "    X_data.append(normalized_data)\n",
    "    y_data.append(1 if \"ses-2\" in file_name else 0)  \n",
    "\n",
    "# Padding\n",
    "X_padded = []\n",
    "for patient_data in X_data:\n",
    "    num_epochs = len(patient_data)\n",
    "    if num_epochs > max_epochs:\n",
    "        # Truncate\n",
    "        padded_data = patient_data[:max_epochs]\n",
    "    else:\n",
    "        padded_data = np.pad(\n",
    "            patient_data,\n",
    "            ((0, max_epochs - num_epochs), (0, 0), (0, 0)),  \n",
    "            mode=\"constant\",\n",
    "            constant_values=0\n",
    "        )\n",
    "    X_padded.append(padded_data)\n",
    "\n",
    "X_padded = np.array(X_padded) \n",
    "y_data = np.array(y_data)  \n",
    "save_path = \"RNN_padded_data\"\n",
    "with open(save_path, \"wb\") as file:\n",
    "    pickle.dump((X_padded, y_data), file)\n"
   ]
  },
  {
   "cell_type": "code",
   "execution_count": null,
   "metadata": {},
   "outputs": [
    {
     "name": "stderr",
     "output_type": "stream",
     "text": [
      "[I 2024-12-12 21:57:25,655] A new study created in memory with name: no-name-b75772c1-e45f-4ac2-b7dc-3842dfd49656\n"
     ]
    },
    {
     "name": "stdout",
     "output_type": "stream",
     "text": [
      "X_train shape: (224000, 1, 61), y_train shape: (224000,)\n",
      "X_val shape: (32000, 1, 61), y_val shape: (32000,)\n",
      "X_test shape: (20000, 1, 61), y_test shape: (20000,)\n"
     ]
    },
    {
     "name": "stderr",
     "output_type": "stream",
     "text": [
      "c:\\Users\\yaoyu\\miniconda3\\Lib\\site-packages\\keras\\src\\layers\\core\\masking.py:47: UserWarning: Do not pass an `input_shape`/`input_dim` argument to a layer. When using Sequential models, prefer using an `Input(shape)` object as the first layer in the model instead.\n",
      "  super().__init__(**kwargs)\n",
      "[I 2024-12-12 22:02:39,959] Trial 0 finished with value: 0.5067812204360962 and parameters: {'gru_units': 256, 'learning_rate': 3.5346019217597406e-05, 'dropouts': 0.3053772481372733, 'batch_size': 16}. Best is trial 0 with value: 0.5067812204360962.\n",
      "[W 2024-12-12 22:03:27,835] Trial 1 failed with parameters: {'gru_units': 448, 'learning_rate': 0.00037830856814932283, 'dropouts': 0.3845555740495865, 'batch_size': 64} because of the following error: KeyboardInterrupt().\n",
      "Traceback (most recent call last):\n",
      "  File \"c:\\Users\\yaoyu\\miniconda3\\Lib\\site-packages\\optuna\\study\\_optimize.py\", line 197, in _run_trial\n",
      "    value_or_values = func(trial)\n",
      "                      ^^^^^^^^^^^\n",
      "  File \"C:\\Users\\yaoyu\\AppData\\Local\\Temp\\ipykernel_3372\\4064892467.py\", line 127, in objective\n",
      "    model.fit(\n",
      "  File \"c:\\Users\\yaoyu\\miniconda3\\Lib\\site-packages\\keras\\src\\utils\\traceback_utils.py\", line 117, in error_handler\n",
      "    return fn(*args, **kwargs)\n",
      "           ^^^^^^^^^^^^^^^^^^^\n",
      "  File \"c:\\Users\\yaoyu\\miniconda3\\Lib\\site-packages\\keras\\src\\backend\\tensorflow\\trainer.py\", line 368, in fit\n",
      "    logs = self.train_function(iterator)\n",
      "           ^^^^^^^^^^^^^^^^^^^^^^^^^^^^^\n",
      "  File \"c:\\Users\\yaoyu\\miniconda3\\Lib\\site-packages\\keras\\src\\backend\\tensorflow\\trainer.py\", line 216, in function\n",
      "    opt_outputs = multi_step_on_iterator(iterator)\n",
      "                  ^^^^^^^^^^^^^^^^^^^^^^^^^^^^^^^^\n",
      "  File \"c:\\Users\\yaoyu\\miniconda3\\Lib\\site-packages\\tensorflow\\python\\util\\traceback_utils.py\", line 150, in error_handler\n",
      "    return fn(*args, **kwargs)\n",
      "           ^^^^^^^^^^^^^^^^^^^\n",
      "  File \"c:\\Users\\yaoyu\\miniconda3\\Lib\\site-packages\\tensorflow\\python\\eager\\polymorphic_function\\polymorphic_function.py\", line 833, in __call__\n",
      "    result = self._call(*args, **kwds)\n",
      "             ^^^^^^^^^^^^^^^^^^^^^^^^^\n",
      "  File \"c:\\Users\\yaoyu\\miniconda3\\Lib\\site-packages\\tensorflow\\python\\eager\\polymorphic_function\\polymorphic_function.py\", line 878, in _call\n",
      "    results = tracing_compilation.call_function(\n",
      "              ^^^^^^^^^^^^^^^^^^^^^^^^^^^^^^^^^^\n",
      "  File \"c:\\Users\\yaoyu\\miniconda3\\Lib\\site-packages\\tensorflow\\python\\eager\\polymorphic_function\\tracing_compilation.py\", line 139, in call_function\n",
      "    return function._call_flat(  # pylint: disable=protected-access\n",
      "           ^^^^^^^^^^^^^^^^^^^^^^^^^^^^^^^^^^^^^^^^^^^^^^^^^^^^^^^^\n",
      "  File \"c:\\Users\\yaoyu\\miniconda3\\Lib\\site-packages\\tensorflow\\python\\eager\\polymorphic_function\\concrete_function.py\", line 1322, in _call_flat\n",
      "    return self._inference_function.call_preflattened(args)\n",
      "           ^^^^^^^^^^^^^^^^^^^^^^^^^^^^^^^^^^^^^^^^^^^^^^^^\n",
      "  File \"c:\\Users\\yaoyu\\miniconda3\\Lib\\site-packages\\tensorflow\\python\\eager\\polymorphic_function\\atomic_function.py\", line 216, in call_preflattened\n",
      "    flat_outputs = self.call_flat(*args)\n",
      "                   ^^^^^^^^^^^^^^^^^^^^^\n",
      "  File \"c:\\Users\\yaoyu\\miniconda3\\Lib\\site-packages\\tensorflow\\python\\eager\\polymorphic_function\\atomic_function.py\", line 251, in call_flat\n",
      "    outputs = self._bound_context.call_function(\n",
      "              ^^^^^^^^^^^^^^^^^^^^^^^^^^^^^^^^^^\n",
      "  File \"c:\\Users\\yaoyu\\miniconda3\\Lib\\site-packages\\tensorflow\\python\\eager\\context.py\", line 1683, in call_function\n",
      "    outputs = execute.execute(\n",
      "              ^^^^^^^^^^^^^^^^\n",
      "  File \"c:\\Users\\yaoyu\\miniconda3\\Lib\\site-packages\\tensorflow\\python\\eager\\execute.py\", line 53, in quick_execute\n",
      "    tensors = pywrap_tfe.TFE_Py_Execute(ctx._handle, device_name, op_name,\n",
      "              ^^^^^^^^^^^^^^^^^^^^^^^^^^^^^^^^^^^^^^^^^^^^^^^^^^^^^^^^^^^^\n",
      "KeyboardInterrupt\n",
      "[W 2024-12-12 22:03:27,859] Trial 1 failed with value None.\n"
     ]
    },
    {
     "ename": "KeyboardInterrupt",
     "evalue": "",
     "output_type": "error",
     "traceback": [
      "\u001b[1;31m---------------------------------------------------------------------------\u001b[0m",
      "\u001b[1;31mKeyboardInterrupt\u001b[0m                         Traceback (most recent call last)",
      "Cell \u001b[1;32mIn[17], line 143\u001b[0m\n\u001b[0;32m    141\u001b[0m \u001b[38;5;66;03m# Run Bayesian Optimization\u001b[39;00m\n\u001b[0;32m    142\u001b[0m study \u001b[38;5;241m=\u001b[39m optuna\u001b[38;5;241m.\u001b[39mcreate_study(direction\u001b[38;5;241m=\u001b[39m\u001b[38;5;124m'\u001b[39m\u001b[38;5;124mmaximize\u001b[39m\u001b[38;5;124m'\u001b[39m)\n\u001b[1;32m--> 143\u001b[0m \u001b[43mstudy\u001b[49m\u001b[38;5;241;43m.\u001b[39;49m\u001b[43moptimize\u001b[49m\u001b[43m(\u001b[49m\u001b[43mobjective\u001b[49m\u001b[43m,\u001b[49m\u001b[43m \u001b[49m\u001b[43mn_trials\u001b[49m\u001b[38;5;241;43m=\u001b[39;49m\u001b[38;5;241;43m20\u001b[39;49m\u001b[43m)\u001b[49m  \u001b[38;5;66;03m# Run for 20 trials\u001b[39;00m\n\u001b[0;32m    144\u001b[0m study\u001b[38;5;241m.\u001b[39mtrials_dataframe()\u001b[38;5;241m.\u001b[39mto_csv(\u001b[38;5;124m\"\u001b[39m\u001b[38;5;124moptuna_study_results.csv\u001b[39m\u001b[38;5;124m\"\u001b[39m)\n\u001b[0;32m    145\u001b[0m \u001b[38;5;66;03m# Print the best hyperparameters\u001b[39;00m\n",
      "File \u001b[1;32mc:\\Users\\yaoyu\\miniconda3\\Lib\\site-packages\\optuna\\study\\study.py:475\u001b[0m, in \u001b[0;36mStudy.optimize\u001b[1;34m(self, func, n_trials, timeout, n_jobs, catch, callbacks, gc_after_trial, show_progress_bar)\u001b[0m\n\u001b[0;32m    373\u001b[0m \u001b[38;5;28;01mdef\u001b[39;00m \u001b[38;5;21moptimize\u001b[39m(\n\u001b[0;32m    374\u001b[0m     \u001b[38;5;28mself\u001b[39m,\n\u001b[0;32m    375\u001b[0m     func: ObjectiveFuncType,\n\u001b[1;32m   (...)\u001b[0m\n\u001b[0;32m    382\u001b[0m     show_progress_bar: \u001b[38;5;28mbool\u001b[39m \u001b[38;5;241m=\u001b[39m \u001b[38;5;28;01mFalse\u001b[39;00m,\n\u001b[0;32m    383\u001b[0m ) \u001b[38;5;241m-\u001b[39m\u001b[38;5;241m>\u001b[39m \u001b[38;5;28;01mNone\u001b[39;00m:\n\u001b[0;32m    384\u001b[0m \u001b[38;5;250m    \u001b[39m\u001b[38;5;124;03m\"\"\"Optimize an objective function.\u001b[39;00m\n\u001b[0;32m    385\u001b[0m \n\u001b[0;32m    386\u001b[0m \u001b[38;5;124;03m    Optimization is done by choosing a suitable set of hyperparameter values from a given\u001b[39;00m\n\u001b[1;32m   (...)\u001b[0m\n\u001b[0;32m    473\u001b[0m \u001b[38;5;124;03m            If nested invocation of this method occurs.\u001b[39;00m\n\u001b[0;32m    474\u001b[0m \u001b[38;5;124;03m    \"\"\"\u001b[39;00m\n\u001b[1;32m--> 475\u001b[0m     \u001b[43m_optimize\u001b[49m\u001b[43m(\u001b[49m\n\u001b[0;32m    476\u001b[0m \u001b[43m        \u001b[49m\u001b[43mstudy\u001b[49m\u001b[38;5;241;43m=\u001b[39;49m\u001b[38;5;28;43mself\u001b[39;49m\u001b[43m,\u001b[49m\n\u001b[0;32m    477\u001b[0m \u001b[43m        \u001b[49m\u001b[43mfunc\u001b[49m\u001b[38;5;241;43m=\u001b[39;49m\u001b[43mfunc\u001b[49m\u001b[43m,\u001b[49m\n\u001b[0;32m    478\u001b[0m \u001b[43m        \u001b[49m\u001b[43mn_trials\u001b[49m\u001b[38;5;241;43m=\u001b[39;49m\u001b[43mn_trials\u001b[49m\u001b[43m,\u001b[49m\n\u001b[0;32m    479\u001b[0m \u001b[43m        \u001b[49m\u001b[43mtimeout\u001b[49m\u001b[38;5;241;43m=\u001b[39;49m\u001b[43mtimeout\u001b[49m\u001b[43m,\u001b[49m\n\u001b[0;32m    480\u001b[0m \u001b[43m        \u001b[49m\u001b[43mn_jobs\u001b[49m\u001b[38;5;241;43m=\u001b[39;49m\u001b[43mn_jobs\u001b[49m\u001b[43m,\u001b[49m\n\u001b[0;32m    481\u001b[0m \u001b[43m        \u001b[49m\u001b[43mcatch\u001b[49m\u001b[38;5;241;43m=\u001b[39;49m\u001b[38;5;28;43mtuple\u001b[39;49m\u001b[43m(\u001b[49m\u001b[43mcatch\u001b[49m\u001b[43m)\u001b[49m\u001b[43m \u001b[49m\u001b[38;5;28;43;01mif\u001b[39;49;00m\u001b[43m \u001b[49m\u001b[38;5;28;43misinstance\u001b[39;49m\u001b[43m(\u001b[49m\u001b[43mcatch\u001b[49m\u001b[43m,\u001b[49m\u001b[43m \u001b[49m\u001b[43mIterable\u001b[49m\u001b[43m)\u001b[49m\u001b[43m \u001b[49m\u001b[38;5;28;43;01melse\u001b[39;49;00m\u001b[43m \u001b[49m\u001b[43m(\u001b[49m\u001b[43mcatch\u001b[49m\u001b[43m,\u001b[49m\u001b[43m)\u001b[49m\u001b[43m,\u001b[49m\n\u001b[0;32m    482\u001b[0m \u001b[43m        \u001b[49m\u001b[43mcallbacks\u001b[49m\u001b[38;5;241;43m=\u001b[39;49m\u001b[43mcallbacks\u001b[49m\u001b[43m,\u001b[49m\n\u001b[0;32m    483\u001b[0m \u001b[43m        \u001b[49m\u001b[43mgc_after_trial\u001b[49m\u001b[38;5;241;43m=\u001b[39;49m\u001b[43mgc_after_trial\u001b[49m\u001b[43m,\u001b[49m\n\u001b[0;32m    484\u001b[0m \u001b[43m        \u001b[49m\u001b[43mshow_progress_bar\u001b[49m\u001b[38;5;241;43m=\u001b[39;49m\u001b[43mshow_progress_bar\u001b[49m\u001b[43m,\u001b[49m\n\u001b[0;32m    485\u001b[0m \u001b[43m    \u001b[49m\u001b[43m)\u001b[49m\n",
      "File \u001b[1;32mc:\\Users\\yaoyu\\miniconda3\\Lib\\site-packages\\optuna\\study\\_optimize.py:63\u001b[0m, in \u001b[0;36m_optimize\u001b[1;34m(study, func, n_trials, timeout, n_jobs, catch, callbacks, gc_after_trial, show_progress_bar)\u001b[0m\n\u001b[0;32m     61\u001b[0m \u001b[38;5;28;01mtry\u001b[39;00m:\n\u001b[0;32m     62\u001b[0m     \u001b[38;5;28;01mif\u001b[39;00m n_jobs \u001b[38;5;241m==\u001b[39m \u001b[38;5;241m1\u001b[39m:\n\u001b[1;32m---> 63\u001b[0m         \u001b[43m_optimize_sequential\u001b[49m\u001b[43m(\u001b[49m\n\u001b[0;32m     64\u001b[0m \u001b[43m            \u001b[49m\u001b[43mstudy\u001b[49m\u001b[43m,\u001b[49m\n\u001b[0;32m     65\u001b[0m \u001b[43m            \u001b[49m\u001b[43mfunc\u001b[49m\u001b[43m,\u001b[49m\n\u001b[0;32m     66\u001b[0m \u001b[43m            \u001b[49m\u001b[43mn_trials\u001b[49m\u001b[43m,\u001b[49m\n\u001b[0;32m     67\u001b[0m \u001b[43m            \u001b[49m\u001b[43mtimeout\u001b[49m\u001b[43m,\u001b[49m\n\u001b[0;32m     68\u001b[0m \u001b[43m            \u001b[49m\u001b[43mcatch\u001b[49m\u001b[43m,\u001b[49m\n\u001b[0;32m     69\u001b[0m \u001b[43m            \u001b[49m\u001b[43mcallbacks\u001b[49m\u001b[43m,\u001b[49m\n\u001b[0;32m     70\u001b[0m \u001b[43m            \u001b[49m\u001b[43mgc_after_trial\u001b[49m\u001b[43m,\u001b[49m\n\u001b[0;32m     71\u001b[0m \u001b[43m            \u001b[49m\u001b[43mreseed_sampler_rng\u001b[49m\u001b[38;5;241;43m=\u001b[39;49m\u001b[38;5;28;43;01mFalse\u001b[39;49;00m\u001b[43m,\u001b[49m\n\u001b[0;32m     72\u001b[0m \u001b[43m            \u001b[49m\u001b[43mtime_start\u001b[49m\u001b[38;5;241;43m=\u001b[39;49m\u001b[38;5;28;43;01mNone\u001b[39;49;00m\u001b[43m,\u001b[49m\n\u001b[0;32m     73\u001b[0m \u001b[43m            \u001b[49m\u001b[43mprogress_bar\u001b[49m\u001b[38;5;241;43m=\u001b[39;49m\u001b[43mprogress_bar\u001b[49m\u001b[43m,\u001b[49m\n\u001b[0;32m     74\u001b[0m \u001b[43m        \u001b[49m\u001b[43m)\u001b[49m\n\u001b[0;32m     75\u001b[0m     \u001b[38;5;28;01melse\u001b[39;00m:\n\u001b[0;32m     76\u001b[0m         \u001b[38;5;28;01mif\u001b[39;00m n_jobs \u001b[38;5;241m==\u001b[39m \u001b[38;5;241m-\u001b[39m\u001b[38;5;241m1\u001b[39m:\n",
      "File \u001b[1;32mc:\\Users\\yaoyu\\miniconda3\\Lib\\site-packages\\optuna\\study\\_optimize.py:160\u001b[0m, in \u001b[0;36m_optimize_sequential\u001b[1;34m(study, func, n_trials, timeout, catch, callbacks, gc_after_trial, reseed_sampler_rng, time_start, progress_bar)\u001b[0m\n\u001b[0;32m    157\u001b[0m         \u001b[38;5;28;01mbreak\u001b[39;00m\n\u001b[0;32m    159\u001b[0m \u001b[38;5;28;01mtry\u001b[39;00m:\n\u001b[1;32m--> 160\u001b[0m     frozen_trial \u001b[38;5;241m=\u001b[39m \u001b[43m_run_trial\u001b[49m\u001b[43m(\u001b[49m\u001b[43mstudy\u001b[49m\u001b[43m,\u001b[49m\u001b[43m \u001b[49m\u001b[43mfunc\u001b[49m\u001b[43m,\u001b[49m\u001b[43m \u001b[49m\u001b[43mcatch\u001b[49m\u001b[43m)\u001b[49m\n\u001b[0;32m    161\u001b[0m \u001b[38;5;28;01mfinally\u001b[39;00m:\n\u001b[0;32m    162\u001b[0m     \u001b[38;5;66;03m# The following line mitigates memory problems that can be occurred in some\u001b[39;00m\n\u001b[0;32m    163\u001b[0m     \u001b[38;5;66;03m# environments (e.g., services that use computing containers such as GitHub Actions).\u001b[39;00m\n\u001b[0;32m    164\u001b[0m     \u001b[38;5;66;03m# Please refer to the following PR for further details:\u001b[39;00m\n\u001b[0;32m    165\u001b[0m     \u001b[38;5;66;03m# https://github.com/optuna/optuna/pull/325.\u001b[39;00m\n\u001b[0;32m    166\u001b[0m     \u001b[38;5;28;01mif\u001b[39;00m gc_after_trial:\n",
      "File \u001b[1;32mc:\\Users\\yaoyu\\miniconda3\\Lib\\site-packages\\optuna\\study\\_optimize.py:248\u001b[0m, in \u001b[0;36m_run_trial\u001b[1;34m(study, func, catch)\u001b[0m\n\u001b[0;32m    241\u001b[0m         \u001b[38;5;28;01massert\u001b[39;00m \u001b[38;5;28;01mFalse\u001b[39;00m, \u001b[38;5;124m\"\u001b[39m\u001b[38;5;124mShould not reach.\u001b[39m\u001b[38;5;124m\"\u001b[39m\n\u001b[0;32m    243\u001b[0m \u001b[38;5;28;01mif\u001b[39;00m (\n\u001b[0;32m    244\u001b[0m     frozen_trial\u001b[38;5;241m.\u001b[39mstate \u001b[38;5;241m==\u001b[39m TrialState\u001b[38;5;241m.\u001b[39mFAIL\n\u001b[0;32m    245\u001b[0m     \u001b[38;5;129;01mand\u001b[39;00m func_err \u001b[38;5;129;01mis\u001b[39;00m \u001b[38;5;129;01mnot\u001b[39;00m \u001b[38;5;28;01mNone\u001b[39;00m\n\u001b[0;32m    246\u001b[0m     \u001b[38;5;129;01mand\u001b[39;00m \u001b[38;5;129;01mnot\u001b[39;00m \u001b[38;5;28misinstance\u001b[39m(func_err, catch)\n\u001b[0;32m    247\u001b[0m ):\n\u001b[1;32m--> 248\u001b[0m     \u001b[38;5;28;01mraise\u001b[39;00m func_err\n\u001b[0;32m    249\u001b[0m \u001b[38;5;28;01mreturn\u001b[39;00m frozen_trial\n",
      "File \u001b[1;32mc:\\Users\\yaoyu\\miniconda3\\Lib\\site-packages\\optuna\\study\\_optimize.py:197\u001b[0m, in \u001b[0;36m_run_trial\u001b[1;34m(study, func, catch)\u001b[0m\n\u001b[0;32m    195\u001b[0m \u001b[38;5;28;01mwith\u001b[39;00m get_heartbeat_thread(trial\u001b[38;5;241m.\u001b[39m_trial_id, study\u001b[38;5;241m.\u001b[39m_storage):\n\u001b[0;32m    196\u001b[0m     \u001b[38;5;28;01mtry\u001b[39;00m:\n\u001b[1;32m--> 197\u001b[0m         value_or_values \u001b[38;5;241m=\u001b[39m \u001b[43mfunc\u001b[49m\u001b[43m(\u001b[49m\u001b[43mtrial\u001b[49m\u001b[43m)\u001b[49m\n\u001b[0;32m    198\u001b[0m     \u001b[38;5;28;01mexcept\u001b[39;00m exceptions\u001b[38;5;241m.\u001b[39mTrialPruned \u001b[38;5;28;01mas\u001b[39;00m e:\n\u001b[0;32m    199\u001b[0m         \u001b[38;5;66;03m# TODO(mamu): Handle multi-objective cases.\u001b[39;00m\n\u001b[0;32m    200\u001b[0m         state \u001b[38;5;241m=\u001b[39m TrialState\u001b[38;5;241m.\u001b[39mPRUNED\n",
      "Cell \u001b[1;32mIn[17], line 127\u001b[0m, in \u001b[0;36mobjective\u001b[1;34m(trial)\u001b[0m\n\u001b[0;32m    120\u001b[0m model \u001b[38;5;241m=\u001b[39m build_gru_model(input_shape, gru_units, dropouts)\n\u001b[0;32m    121\u001b[0m model\u001b[38;5;241m.\u001b[39mcompile(\n\u001b[0;32m    122\u001b[0m     optimizer\u001b[38;5;241m=\u001b[39mAdam(learning_rate\u001b[38;5;241m=\u001b[39mlearning_rate),\n\u001b[0;32m    123\u001b[0m     loss\u001b[38;5;241m=\u001b[39m\u001b[38;5;124m'\u001b[39m\u001b[38;5;124mbinary_crossentropy\u001b[39m\u001b[38;5;124m'\u001b[39m,\n\u001b[0;32m    124\u001b[0m     metrics\u001b[38;5;241m=\u001b[39m[\u001b[38;5;124m'\u001b[39m\u001b[38;5;124maccuracy\u001b[39m\u001b[38;5;124m'\u001b[39m]\n\u001b[0;32m    125\u001b[0m )\n\u001b[1;32m--> 127\u001b[0m \u001b[43mmodel\u001b[49m\u001b[38;5;241;43m.\u001b[39;49m\u001b[43mfit\u001b[49m\u001b[43m(\u001b[49m\n\u001b[0;32m    128\u001b[0m \u001b[43m    \u001b[49m\u001b[43mX_train\u001b[49m\u001b[43m,\u001b[49m\u001b[43m \u001b[49m\u001b[43my_train\u001b[49m\u001b[43m,\u001b[49m\n\u001b[0;32m    129\u001b[0m \u001b[43m    \u001b[49m\u001b[43mvalidation_data\u001b[49m\u001b[38;5;241;43m=\u001b[39;49m\u001b[43m(\u001b[49m\u001b[43mX_val\u001b[49m\u001b[43m,\u001b[49m\u001b[43m \u001b[49m\u001b[43my_val\u001b[49m\u001b[43m)\u001b[49m\u001b[43m,\u001b[49m\n\u001b[0;32m    130\u001b[0m \u001b[43m    \u001b[49m\u001b[43mepochs\u001b[49m\u001b[38;5;241;43m=\u001b[39;49m\u001b[38;5;241;43m40\u001b[39;49m\u001b[43m,\u001b[49m\n\u001b[0;32m    131\u001b[0m \u001b[43m    \u001b[49m\u001b[43mbatch_size\u001b[49m\u001b[38;5;241;43m=\u001b[39;49m\u001b[43mbatch_size\u001b[49m\u001b[43m,\u001b[49m\n\u001b[0;32m    132\u001b[0m \u001b[43m    \u001b[49m\u001b[43mclass_weight\u001b[49m\u001b[38;5;241;43m=\u001b[39;49m\u001b[43mclass_weight_dict\u001b[49m\u001b[43m,\u001b[49m\n\u001b[0;32m    133\u001b[0m \u001b[43m    \u001b[49m\u001b[43mcallbacks\u001b[49m\u001b[38;5;241;43m=\u001b[39;49m\u001b[43m[\u001b[49m\u001b[43mearly_stopping\u001b[49m\u001b[43m,\u001b[49m\u001b[43m \u001b[49m\u001b[43mlr_scheduler\u001b[49m\u001b[43m]\u001b[49m\u001b[43m,\u001b[49m\n\u001b[0;32m    134\u001b[0m \u001b[43m    \u001b[49m\u001b[43mverbose\u001b[49m\u001b[38;5;241;43m=\u001b[39;49m\u001b[38;5;241;43m0\u001b[39;49m\n\u001b[0;32m    135\u001b[0m \u001b[43m\u001b[49m\u001b[43m)\u001b[49m\n\u001b[0;32m    137\u001b[0m \u001b[38;5;66;03m# Evaluate on the validation set\u001b[39;00m\n\u001b[0;32m    138\u001b[0m val_loss, val_accuracy \u001b[38;5;241m=\u001b[39m model\u001b[38;5;241m.\u001b[39mevaluate(X_val, y_val, verbose\u001b[38;5;241m=\u001b[39m\u001b[38;5;241m0\u001b[39m)\n",
      "File \u001b[1;32mc:\\Users\\yaoyu\\miniconda3\\Lib\\site-packages\\keras\\src\\utils\\traceback_utils.py:117\u001b[0m, in \u001b[0;36mfilter_traceback.<locals>.error_handler\u001b[1;34m(*args, **kwargs)\u001b[0m\n\u001b[0;32m    115\u001b[0m filtered_tb \u001b[38;5;241m=\u001b[39m \u001b[38;5;28;01mNone\u001b[39;00m\n\u001b[0;32m    116\u001b[0m \u001b[38;5;28;01mtry\u001b[39;00m:\n\u001b[1;32m--> 117\u001b[0m     \u001b[38;5;28;01mreturn\u001b[39;00m \u001b[43mfn\u001b[49m\u001b[43m(\u001b[49m\u001b[38;5;241;43m*\u001b[39;49m\u001b[43margs\u001b[49m\u001b[43m,\u001b[49m\u001b[43m \u001b[49m\u001b[38;5;241;43m*\u001b[39;49m\u001b[38;5;241;43m*\u001b[39;49m\u001b[43mkwargs\u001b[49m\u001b[43m)\u001b[49m\n\u001b[0;32m    118\u001b[0m \u001b[38;5;28;01mexcept\u001b[39;00m \u001b[38;5;167;01mException\u001b[39;00m \u001b[38;5;28;01mas\u001b[39;00m e:\n\u001b[0;32m    119\u001b[0m     filtered_tb \u001b[38;5;241m=\u001b[39m _process_traceback_frames(e\u001b[38;5;241m.\u001b[39m__traceback__)\n",
      "File \u001b[1;32mc:\\Users\\yaoyu\\miniconda3\\Lib\\site-packages\\keras\\src\\backend\\tensorflow\\trainer.py:368\u001b[0m, in \u001b[0;36mTensorFlowTrainer.fit\u001b[1;34m(self, x, y, batch_size, epochs, verbose, callbacks, validation_split, validation_data, shuffle, class_weight, sample_weight, initial_epoch, steps_per_epoch, validation_steps, validation_batch_size, validation_freq)\u001b[0m\n\u001b[0;32m    366\u001b[0m \u001b[38;5;28;01mfor\u001b[39;00m step, iterator \u001b[38;5;129;01min\u001b[39;00m epoch_iterator:\n\u001b[0;32m    367\u001b[0m     callbacks\u001b[38;5;241m.\u001b[39mon_train_batch_begin(step)\n\u001b[1;32m--> 368\u001b[0m     logs \u001b[38;5;241m=\u001b[39m \u001b[38;5;28;43mself\u001b[39;49m\u001b[38;5;241;43m.\u001b[39;49m\u001b[43mtrain_function\u001b[49m\u001b[43m(\u001b[49m\u001b[43miterator\u001b[49m\u001b[43m)\u001b[49m\n\u001b[0;32m    369\u001b[0m     callbacks\u001b[38;5;241m.\u001b[39mon_train_batch_end(step, logs)\n\u001b[0;32m    370\u001b[0m     \u001b[38;5;28;01mif\u001b[39;00m \u001b[38;5;28mself\u001b[39m\u001b[38;5;241m.\u001b[39mstop_training:\n",
      "File \u001b[1;32mc:\\Users\\yaoyu\\miniconda3\\Lib\\site-packages\\keras\\src\\backend\\tensorflow\\trainer.py:216\u001b[0m, in \u001b[0;36mTensorFlowTrainer._make_function.<locals>.function\u001b[1;34m(iterator)\u001b[0m\n\u001b[0;32m    212\u001b[0m \u001b[38;5;28;01mdef\u001b[39;00m \u001b[38;5;21mfunction\u001b[39m(iterator):\n\u001b[0;32m    213\u001b[0m     \u001b[38;5;28;01mif\u001b[39;00m \u001b[38;5;28misinstance\u001b[39m(\n\u001b[0;32m    214\u001b[0m         iterator, (tf\u001b[38;5;241m.\u001b[39mdata\u001b[38;5;241m.\u001b[39mIterator, tf\u001b[38;5;241m.\u001b[39mdistribute\u001b[38;5;241m.\u001b[39mDistributedIterator)\n\u001b[0;32m    215\u001b[0m     ):\n\u001b[1;32m--> 216\u001b[0m         opt_outputs \u001b[38;5;241m=\u001b[39m \u001b[43mmulti_step_on_iterator\u001b[49m\u001b[43m(\u001b[49m\u001b[43miterator\u001b[49m\u001b[43m)\u001b[49m\n\u001b[0;32m    217\u001b[0m         \u001b[38;5;28;01mif\u001b[39;00m \u001b[38;5;129;01mnot\u001b[39;00m opt_outputs\u001b[38;5;241m.\u001b[39mhas_value():\n\u001b[0;32m    218\u001b[0m             \u001b[38;5;28;01mraise\u001b[39;00m \u001b[38;5;167;01mStopIteration\u001b[39;00m\n",
      "File \u001b[1;32mc:\\Users\\yaoyu\\miniconda3\\Lib\\site-packages\\tensorflow\\python\\util\\traceback_utils.py:150\u001b[0m, in \u001b[0;36mfilter_traceback.<locals>.error_handler\u001b[1;34m(*args, **kwargs)\u001b[0m\n\u001b[0;32m    148\u001b[0m filtered_tb \u001b[38;5;241m=\u001b[39m \u001b[38;5;28;01mNone\u001b[39;00m\n\u001b[0;32m    149\u001b[0m \u001b[38;5;28;01mtry\u001b[39;00m:\n\u001b[1;32m--> 150\u001b[0m   \u001b[38;5;28;01mreturn\u001b[39;00m \u001b[43mfn\u001b[49m\u001b[43m(\u001b[49m\u001b[38;5;241;43m*\u001b[39;49m\u001b[43margs\u001b[49m\u001b[43m,\u001b[49m\u001b[43m \u001b[49m\u001b[38;5;241;43m*\u001b[39;49m\u001b[38;5;241;43m*\u001b[39;49m\u001b[43mkwargs\u001b[49m\u001b[43m)\u001b[49m\n\u001b[0;32m    151\u001b[0m \u001b[38;5;28;01mexcept\u001b[39;00m \u001b[38;5;167;01mException\u001b[39;00m \u001b[38;5;28;01mas\u001b[39;00m e:\n\u001b[0;32m    152\u001b[0m   filtered_tb \u001b[38;5;241m=\u001b[39m _process_traceback_frames(e\u001b[38;5;241m.\u001b[39m__traceback__)\n",
      "File \u001b[1;32mc:\\Users\\yaoyu\\miniconda3\\Lib\\site-packages\\tensorflow\\python\\eager\\polymorphic_function\\polymorphic_function.py:833\u001b[0m, in \u001b[0;36mFunction.__call__\u001b[1;34m(self, *args, **kwds)\u001b[0m\n\u001b[0;32m    830\u001b[0m compiler \u001b[38;5;241m=\u001b[39m \u001b[38;5;124m\"\u001b[39m\u001b[38;5;124mxla\u001b[39m\u001b[38;5;124m\"\u001b[39m \u001b[38;5;28;01mif\u001b[39;00m \u001b[38;5;28mself\u001b[39m\u001b[38;5;241m.\u001b[39m_jit_compile \u001b[38;5;28;01melse\u001b[39;00m \u001b[38;5;124m\"\u001b[39m\u001b[38;5;124mnonXla\u001b[39m\u001b[38;5;124m\"\u001b[39m\n\u001b[0;32m    832\u001b[0m \u001b[38;5;28;01mwith\u001b[39;00m OptionalXlaContext(\u001b[38;5;28mself\u001b[39m\u001b[38;5;241m.\u001b[39m_jit_compile):\n\u001b[1;32m--> 833\u001b[0m   result \u001b[38;5;241m=\u001b[39m \u001b[38;5;28;43mself\u001b[39;49m\u001b[38;5;241;43m.\u001b[39;49m\u001b[43m_call\u001b[49m\u001b[43m(\u001b[49m\u001b[38;5;241;43m*\u001b[39;49m\u001b[43margs\u001b[49m\u001b[43m,\u001b[49m\u001b[43m \u001b[49m\u001b[38;5;241;43m*\u001b[39;49m\u001b[38;5;241;43m*\u001b[39;49m\u001b[43mkwds\u001b[49m\u001b[43m)\u001b[49m\n\u001b[0;32m    835\u001b[0m new_tracing_count \u001b[38;5;241m=\u001b[39m \u001b[38;5;28mself\u001b[39m\u001b[38;5;241m.\u001b[39mexperimental_get_tracing_count()\n\u001b[0;32m    836\u001b[0m without_tracing \u001b[38;5;241m=\u001b[39m (tracing_count \u001b[38;5;241m==\u001b[39m new_tracing_count)\n",
      "File \u001b[1;32mc:\\Users\\yaoyu\\miniconda3\\Lib\\site-packages\\tensorflow\\python\\eager\\polymorphic_function\\polymorphic_function.py:878\u001b[0m, in \u001b[0;36mFunction._call\u001b[1;34m(self, *args, **kwds)\u001b[0m\n\u001b[0;32m    875\u001b[0m \u001b[38;5;28mself\u001b[39m\u001b[38;5;241m.\u001b[39m_lock\u001b[38;5;241m.\u001b[39mrelease()\n\u001b[0;32m    876\u001b[0m \u001b[38;5;66;03m# In this case we have not created variables on the first call. So we can\u001b[39;00m\n\u001b[0;32m    877\u001b[0m \u001b[38;5;66;03m# run the first trace but we should fail if variables are created.\u001b[39;00m\n\u001b[1;32m--> 878\u001b[0m results \u001b[38;5;241m=\u001b[39m \u001b[43mtracing_compilation\u001b[49m\u001b[38;5;241;43m.\u001b[39;49m\u001b[43mcall_function\u001b[49m\u001b[43m(\u001b[49m\n\u001b[0;32m    879\u001b[0m \u001b[43m    \u001b[49m\u001b[43margs\u001b[49m\u001b[43m,\u001b[49m\u001b[43m \u001b[49m\u001b[43mkwds\u001b[49m\u001b[43m,\u001b[49m\u001b[43m \u001b[49m\u001b[38;5;28;43mself\u001b[39;49m\u001b[38;5;241;43m.\u001b[39;49m\u001b[43m_variable_creation_config\u001b[49m\n\u001b[0;32m    880\u001b[0m \u001b[43m\u001b[49m\u001b[43m)\u001b[49m\n\u001b[0;32m    881\u001b[0m \u001b[38;5;28;01mif\u001b[39;00m \u001b[38;5;28mself\u001b[39m\u001b[38;5;241m.\u001b[39m_created_variables:\n\u001b[0;32m    882\u001b[0m   \u001b[38;5;28;01mraise\u001b[39;00m \u001b[38;5;167;01mValueError\u001b[39;00m(\u001b[38;5;124m\"\u001b[39m\u001b[38;5;124mCreating variables on a non-first call to a function\u001b[39m\u001b[38;5;124m\"\u001b[39m\n\u001b[0;32m    883\u001b[0m                    \u001b[38;5;124m\"\u001b[39m\u001b[38;5;124m decorated with tf.function.\u001b[39m\u001b[38;5;124m\"\u001b[39m)\n",
      "File \u001b[1;32mc:\\Users\\yaoyu\\miniconda3\\Lib\\site-packages\\tensorflow\\python\\eager\\polymorphic_function\\tracing_compilation.py:139\u001b[0m, in \u001b[0;36mcall_function\u001b[1;34m(args, kwargs, tracing_options)\u001b[0m\n\u001b[0;32m    137\u001b[0m bound_args \u001b[38;5;241m=\u001b[39m function\u001b[38;5;241m.\u001b[39mfunction_type\u001b[38;5;241m.\u001b[39mbind(\u001b[38;5;241m*\u001b[39margs, \u001b[38;5;241m*\u001b[39m\u001b[38;5;241m*\u001b[39mkwargs)\n\u001b[0;32m    138\u001b[0m flat_inputs \u001b[38;5;241m=\u001b[39m function\u001b[38;5;241m.\u001b[39mfunction_type\u001b[38;5;241m.\u001b[39munpack_inputs(bound_args)\n\u001b[1;32m--> 139\u001b[0m \u001b[38;5;28;01mreturn\u001b[39;00m \u001b[43mfunction\u001b[49m\u001b[38;5;241;43m.\u001b[39;49m\u001b[43m_call_flat\u001b[49m\u001b[43m(\u001b[49m\u001b[43m  \u001b[49m\u001b[38;5;66;43;03m# pylint: disable=protected-access\u001b[39;49;00m\n\u001b[0;32m    140\u001b[0m \u001b[43m    \u001b[49m\u001b[43mflat_inputs\u001b[49m\u001b[43m,\u001b[49m\u001b[43m \u001b[49m\u001b[43mcaptured_inputs\u001b[49m\u001b[38;5;241;43m=\u001b[39;49m\u001b[43mfunction\u001b[49m\u001b[38;5;241;43m.\u001b[39;49m\u001b[43mcaptured_inputs\u001b[49m\n\u001b[0;32m    141\u001b[0m \u001b[43m\u001b[49m\u001b[43m)\u001b[49m\n",
      "File \u001b[1;32mc:\\Users\\yaoyu\\miniconda3\\Lib\\site-packages\\tensorflow\\python\\eager\\polymorphic_function\\concrete_function.py:1322\u001b[0m, in \u001b[0;36mConcreteFunction._call_flat\u001b[1;34m(self, tensor_inputs, captured_inputs)\u001b[0m\n\u001b[0;32m   1318\u001b[0m possible_gradient_type \u001b[38;5;241m=\u001b[39m gradients_util\u001b[38;5;241m.\u001b[39mPossibleTapeGradientTypes(args)\n\u001b[0;32m   1319\u001b[0m \u001b[38;5;28;01mif\u001b[39;00m (possible_gradient_type \u001b[38;5;241m==\u001b[39m gradients_util\u001b[38;5;241m.\u001b[39mPOSSIBLE_GRADIENT_TYPES_NONE\n\u001b[0;32m   1320\u001b[0m     \u001b[38;5;129;01mand\u001b[39;00m executing_eagerly):\n\u001b[0;32m   1321\u001b[0m   \u001b[38;5;66;03m# No tape is watching; skip to running the function.\u001b[39;00m\n\u001b[1;32m-> 1322\u001b[0m   \u001b[38;5;28;01mreturn\u001b[39;00m \u001b[38;5;28;43mself\u001b[39;49m\u001b[38;5;241;43m.\u001b[39;49m\u001b[43m_inference_function\u001b[49m\u001b[38;5;241;43m.\u001b[39;49m\u001b[43mcall_preflattened\u001b[49m\u001b[43m(\u001b[49m\u001b[43margs\u001b[49m\u001b[43m)\u001b[49m\n\u001b[0;32m   1323\u001b[0m forward_backward \u001b[38;5;241m=\u001b[39m \u001b[38;5;28mself\u001b[39m\u001b[38;5;241m.\u001b[39m_select_forward_and_backward_functions(\n\u001b[0;32m   1324\u001b[0m     args,\n\u001b[0;32m   1325\u001b[0m     possible_gradient_type,\n\u001b[0;32m   1326\u001b[0m     executing_eagerly)\n\u001b[0;32m   1327\u001b[0m forward_function, args_with_tangents \u001b[38;5;241m=\u001b[39m forward_backward\u001b[38;5;241m.\u001b[39mforward()\n",
      "File \u001b[1;32mc:\\Users\\yaoyu\\miniconda3\\Lib\\site-packages\\tensorflow\\python\\eager\\polymorphic_function\\atomic_function.py:216\u001b[0m, in \u001b[0;36mAtomicFunction.call_preflattened\u001b[1;34m(self, args)\u001b[0m\n\u001b[0;32m    214\u001b[0m \u001b[38;5;28;01mdef\u001b[39;00m \u001b[38;5;21mcall_preflattened\u001b[39m(\u001b[38;5;28mself\u001b[39m, args: Sequence[core\u001b[38;5;241m.\u001b[39mTensor]) \u001b[38;5;241m-\u001b[39m\u001b[38;5;241m>\u001b[39m Any:\n\u001b[0;32m    215\u001b[0m \u001b[38;5;250m  \u001b[39m\u001b[38;5;124;03m\"\"\"Calls with flattened tensor inputs and returns the structured output.\"\"\"\u001b[39;00m\n\u001b[1;32m--> 216\u001b[0m   flat_outputs \u001b[38;5;241m=\u001b[39m \u001b[38;5;28;43mself\u001b[39;49m\u001b[38;5;241;43m.\u001b[39;49m\u001b[43mcall_flat\u001b[49m\u001b[43m(\u001b[49m\u001b[38;5;241;43m*\u001b[39;49m\u001b[43margs\u001b[49m\u001b[43m)\u001b[49m\n\u001b[0;32m    217\u001b[0m   \u001b[38;5;28;01mreturn\u001b[39;00m \u001b[38;5;28mself\u001b[39m\u001b[38;5;241m.\u001b[39mfunction_type\u001b[38;5;241m.\u001b[39mpack_output(flat_outputs)\n",
      "File \u001b[1;32mc:\\Users\\yaoyu\\miniconda3\\Lib\\site-packages\\tensorflow\\python\\eager\\polymorphic_function\\atomic_function.py:251\u001b[0m, in \u001b[0;36mAtomicFunction.call_flat\u001b[1;34m(self, *args)\u001b[0m\n\u001b[0;32m    249\u001b[0m \u001b[38;5;28;01mwith\u001b[39;00m record\u001b[38;5;241m.\u001b[39mstop_recording():\n\u001b[0;32m    250\u001b[0m   \u001b[38;5;28;01mif\u001b[39;00m \u001b[38;5;28mself\u001b[39m\u001b[38;5;241m.\u001b[39m_bound_context\u001b[38;5;241m.\u001b[39mexecuting_eagerly():\n\u001b[1;32m--> 251\u001b[0m     outputs \u001b[38;5;241m=\u001b[39m \u001b[38;5;28;43mself\u001b[39;49m\u001b[38;5;241;43m.\u001b[39;49m\u001b[43m_bound_context\u001b[49m\u001b[38;5;241;43m.\u001b[39;49m\u001b[43mcall_function\u001b[49m\u001b[43m(\u001b[49m\n\u001b[0;32m    252\u001b[0m \u001b[43m        \u001b[49m\u001b[38;5;28;43mself\u001b[39;49m\u001b[38;5;241;43m.\u001b[39;49m\u001b[43mname\u001b[49m\u001b[43m,\u001b[49m\n\u001b[0;32m    253\u001b[0m \u001b[43m        \u001b[49m\u001b[38;5;28;43mlist\u001b[39;49m\u001b[43m(\u001b[49m\u001b[43margs\u001b[49m\u001b[43m)\u001b[49m\u001b[43m,\u001b[49m\n\u001b[0;32m    254\u001b[0m \u001b[43m        \u001b[49m\u001b[38;5;28;43mlen\u001b[39;49m\u001b[43m(\u001b[49m\u001b[38;5;28;43mself\u001b[39;49m\u001b[38;5;241;43m.\u001b[39;49m\u001b[43mfunction_type\u001b[49m\u001b[38;5;241;43m.\u001b[39;49m\u001b[43mflat_outputs\u001b[49m\u001b[43m)\u001b[49m\u001b[43m,\u001b[49m\n\u001b[0;32m    255\u001b[0m \u001b[43m    \u001b[49m\u001b[43m)\u001b[49m\n\u001b[0;32m    256\u001b[0m   \u001b[38;5;28;01melse\u001b[39;00m:\n\u001b[0;32m    257\u001b[0m     outputs \u001b[38;5;241m=\u001b[39m make_call_op_in_graph(\n\u001b[0;32m    258\u001b[0m         \u001b[38;5;28mself\u001b[39m,\n\u001b[0;32m    259\u001b[0m         \u001b[38;5;28mlist\u001b[39m(args),\n\u001b[0;32m    260\u001b[0m         \u001b[38;5;28mself\u001b[39m\u001b[38;5;241m.\u001b[39m_bound_context\u001b[38;5;241m.\u001b[39mfunction_call_options\u001b[38;5;241m.\u001b[39mas_attrs(),\n\u001b[0;32m    261\u001b[0m     )\n",
      "File \u001b[1;32mc:\\Users\\yaoyu\\miniconda3\\Lib\\site-packages\\tensorflow\\python\\eager\\context.py:1683\u001b[0m, in \u001b[0;36mContext.call_function\u001b[1;34m(self, name, tensor_inputs, num_outputs)\u001b[0m\n\u001b[0;32m   1681\u001b[0m cancellation_context \u001b[38;5;241m=\u001b[39m cancellation\u001b[38;5;241m.\u001b[39mcontext()\n\u001b[0;32m   1682\u001b[0m \u001b[38;5;28;01mif\u001b[39;00m cancellation_context \u001b[38;5;129;01mis\u001b[39;00m \u001b[38;5;28;01mNone\u001b[39;00m:\n\u001b[1;32m-> 1683\u001b[0m   outputs \u001b[38;5;241m=\u001b[39m \u001b[43mexecute\u001b[49m\u001b[38;5;241;43m.\u001b[39;49m\u001b[43mexecute\u001b[49m\u001b[43m(\u001b[49m\n\u001b[0;32m   1684\u001b[0m \u001b[43m      \u001b[49m\u001b[43mname\u001b[49m\u001b[38;5;241;43m.\u001b[39;49m\u001b[43mdecode\u001b[49m\u001b[43m(\u001b[49m\u001b[38;5;124;43m\"\u001b[39;49m\u001b[38;5;124;43mutf-8\u001b[39;49m\u001b[38;5;124;43m\"\u001b[39;49m\u001b[43m)\u001b[49m\u001b[43m,\u001b[49m\n\u001b[0;32m   1685\u001b[0m \u001b[43m      \u001b[49m\u001b[43mnum_outputs\u001b[49m\u001b[38;5;241;43m=\u001b[39;49m\u001b[43mnum_outputs\u001b[49m\u001b[43m,\u001b[49m\n\u001b[0;32m   1686\u001b[0m \u001b[43m      \u001b[49m\u001b[43minputs\u001b[49m\u001b[38;5;241;43m=\u001b[39;49m\u001b[43mtensor_inputs\u001b[49m\u001b[43m,\u001b[49m\n\u001b[0;32m   1687\u001b[0m \u001b[43m      \u001b[49m\u001b[43mattrs\u001b[49m\u001b[38;5;241;43m=\u001b[39;49m\u001b[43mattrs\u001b[49m\u001b[43m,\u001b[49m\n\u001b[0;32m   1688\u001b[0m \u001b[43m      \u001b[49m\u001b[43mctx\u001b[49m\u001b[38;5;241;43m=\u001b[39;49m\u001b[38;5;28;43mself\u001b[39;49m\u001b[43m,\u001b[49m\n\u001b[0;32m   1689\u001b[0m \u001b[43m  \u001b[49m\u001b[43m)\u001b[49m\n\u001b[0;32m   1690\u001b[0m \u001b[38;5;28;01melse\u001b[39;00m:\n\u001b[0;32m   1691\u001b[0m   outputs \u001b[38;5;241m=\u001b[39m execute\u001b[38;5;241m.\u001b[39mexecute_with_cancellation(\n\u001b[0;32m   1692\u001b[0m       name\u001b[38;5;241m.\u001b[39mdecode(\u001b[38;5;124m\"\u001b[39m\u001b[38;5;124mutf-8\u001b[39m\u001b[38;5;124m\"\u001b[39m),\n\u001b[0;32m   1693\u001b[0m       num_outputs\u001b[38;5;241m=\u001b[39mnum_outputs,\n\u001b[1;32m   (...)\u001b[0m\n\u001b[0;32m   1697\u001b[0m       cancellation_manager\u001b[38;5;241m=\u001b[39mcancellation_context,\n\u001b[0;32m   1698\u001b[0m   )\n",
      "File \u001b[1;32mc:\\Users\\yaoyu\\miniconda3\\Lib\\site-packages\\tensorflow\\python\\eager\\execute.py:53\u001b[0m, in \u001b[0;36mquick_execute\u001b[1;34m(op_name, num_outputs, inputs, attrs, ctx, name)\u001b[0m\n\u001b[0;32m     51\u001b[0m \u001b[38;5;28;01mtry\u001b[39;00m:\n\u001b[0;32m     52\u001b[0m   ctx\u001b[38;5;241m.\u001b[39mensure_initialized()\n\u001b[1;32m---> 53\u001b[0m   tensors \u001b[38;5;241m=\u001b[39m \u001b[43mpywrap_tfe\u001b[49m\u001b[38;5;241;43m.\u001b[39;49m\u001b[43mTFE_Py_Execute\u001b[49m\u001b[43m(\u001b[49m\u001b[43mctx\u001b[49m\u001b[38;5;241;43m.\u001b[39;49m\u001b[43m_handle\u001b[49m\u001b[43m,\u001b[49m\u001b[43m \u001b[49m\u001b[43mdevice_name\u001b[49m\u001b[43m,\u001b[49m\u001b[43m \u001b[49m\u001b[43mop_name\u001b[49m\u001b[43m,\u001b[49m\n\u001b[0;32m     54\u001b[0m \u001b[43m                                      \u001b[49m\u001b[43minputs\u001b[49m\u001b[43m,\u001b[49m\u001b[43m \u001b[49m\u001b[43mattrs\u001b[49m\u001b[43m,\u001b[49m\u001b[43m \u001b[49m\u001b[43mnum_outputs\u001b[49m\u001b[43m)\u001b[49m\n\u001b[0;32m     55\u001b[0m \u001b[38;5;28;01mexcept\u001b[39;00m core\u001b[38;5;241m.\u001b[39m_NotOkStatusException \u001b[38;5;28;01mas\u001b[39;00m e:\n\u001b[0;32m     56\u001b[0m   \u001b[38;5;28;01mif\u001b[39;00m name \u001b[38;5;129;01mis\u001b[39;00m \u001b[38;5;129;01mnot\u001b[39;00m \u001b[38;5;28;01mNone\u001b[39;00m:\n",
      "\u001b[1;31mKeyboardInterrupt\u001b[0m: "
     ]
    }
   ],
   "source": [
    "save_path = 'RNN_padded_data'\n",
    "with open(save_path, \"rb\") as file:\n",
    "    X_padded, y_data = pickle.load(file)\n",
    "\n",
    "test_patients_sd = [\"52\", \"18\", \"29\", \"17\", \"34\"]\n",
    "test_patients_ns = [\"01\", \"19\", \"30\", \"65\", \"10\"]\n",
    "validate_patients_sd = [\"55\", \"10\", \"22\", \"68\", \"19\", \"42\", \"63\", \"14\"]\n",
    "validate_patients_ns = [\"13\", \"25\", \"69\", \"24\", \"33\", \"38\", \"67\", \"34\"]\n",
    "\n",
    "test_sessions = [(patient, \"2\") for patient in test_patients_sd] + [(patient, \"1\") for patient in test_patients_ns]\n",
    "validate_sessions = [(patient, \"2\") for patient in validate_patients_sd] + [(patient, \"1\") for patient in validate_patients_ns]\n",
    "\n",
    "X_train, y_train = [], []\n",
    "X_val, y_val = [], []\n",
    "X_test, y_test = [], []\n",
    "\n",
    "\n",
    "X_padded_reshaped = X_padded.reshape(-1, X_padded.shape[3], X_padded.shape[2])  \n",
    "y_data_repeated = np.repeat(y_data, X_padded.shape[1])  \n",
    "\n",
    "\n",
    "all_file_names = [\n",
    "    file_name for file_name in os.listdir(data_dir) if file_name.endswith(\".fif\")\n",
    "]\n",
    "\n",
    "X_padded_reshaped = X_padded.reshape(-1, X_padded.shape[3], X_padded.shape[2])  \n",
    "y_data_repeated = np.repeat(y_data, X_padded.shape[1])  \n",
    "\n",
    "test_patient_data = []\n",
    "validate_patient_data = []\n",
    "train_patient_data = []\n",
    "\n",
    "for file_name, (epoch_data, label) in zip(all_file_names, zip(X_padded_reshaped, y_data_repeated)):\n",
    "    patient_id, session_info = file_name.split(\"_\")[0].split(\"-\")[1], file_name.split(\"_\")[1].split(\"-\")[1]\n",
    "\n",
    "    if (patient_id, session_info) in test_sessions:\n",
    "        X_test.extend(epoch_data) \n",
    "        y_test.extend([1 if session_info == '2' else 0] * len(epoch_data)) \n",
    "        test_patient_data.append({\n",
    "            \"features\": epoch_data,  \n",
    "            \"label\": 1 if session_info == '2' else 0  \n",
    "        })\n",
    "    elif (patient_id, session_info) in validate_sessions:\n",
    "        X_val.extend(epoch_data)  \n",
    "        y_val.extend([1 if session_info == '2' else 0] * len(epoch_data))  \n",
    "        validate_patient_data.append({\n",
    "            \"features\": epoch_data,  \n",
    "            \"label\": 1 if session_info == '2' else 0  \n",
    "        })\n",
    "    else:\n",
    "        X_train.extend(epoch_data)  \n",
    "        y_train.extend([1 if session_info == '2' else 0] * len(epoch_data))\n",
    "        train_patient_data.append({\n",
    "            \"features\": epoch_data,  \n",
    "            \"label\": 1 if session_info == '2' else 0  \n",
    "        })\n",
    "\n",
    "X_train, y_train = np.array(X_train), np.array(y_train)\n",
    "X_val, y_val = np.array(X_val), np.array(y_val)\n",
    "X_test, y_test = np.array(X_test), np.array(y_test)\n",
    "\n",
    "X_train = X_train.reshape((X_train.shape[0], 1, X_train.shape[1]))\n",
    "X_val = X_val.reshape((X_val.shape[0], 1, X_val.shape[1]))\n",
    "X_test = X_test.reshape((X_test.shape[0], 1, X_test.shape[1]))\n",
    "\n",
    "print(f\"X_train shape: {X_train.shape}, y_train shape: {y_train.shape}\")\n",
    "print(f\"X_val shape: {X_val.shape}, y_val shape: {y_val.shape}\")\n",
    "print(f\"X_test shape: {X_test.shape}, y_test shape: {y_test.shape}\")\n",
    "\n",
    "class_weights = compute_class_weight('balanced', classes=np.unique(y_train), y=y_train)\n",
    "class_weight_dict = dict(enumerate(class_weights))\n",
    "\n",
    "epochs = 40  \n",
    "input_shape = (X_train.shape[1], X_train.shape[2]) \n",
    "\n",
    "early_stopping = EarlyStopping(monitor='val_loss', patience=5, restore_best_weights=True)\n",
    "\n",
    "lr_scheduler = ReduceLROnPlateau(\n",
    "    monitor='val_loss',\n",
    "    factor=0.5,\n",
    "    patience=3,\n",
    "    verbose=0,\n",
    "    min_lr=1e-6\n",
    ")\n",
    "def build_gru_model(input_shape, gru_units, dropouts):\n",
    "    model = Sequential([\n",
    "        Masking(mask_value=0.0, input_shape=input_shape),\n",
    "        GRU(units=gru_units, return_sequences=True, dropout=dropouts, use_cudnn=False),\n",
    "        GRU(units=gru_units // 2, return_sequences=True, dropout=dropouts, use_cudnn=False),\n",
    "        GRU(units=gru_units // 4, return_sequences=False, dropout=dropouts, use_cudnn=False),\n",
    "        Dense(units=128, activation='relu'),\n",
    "        Dropout(0.2),\n",
    "        Dense(units=64, activation='relu'),\n",
    "        Dropout(0.2),\n",
    "        Dense(units=32, activation='relu'),\n",
    "        Dropout(0.2),\n",
    "        Dense(units=1, activation='sigmoid'),\n",
    "    ])\n",
    "    return model\n",
    "\n",
    "def objective(trial):\n",
    "    gru_units = trial.suggest_int('gru_units', 64, 512, step=64)\n",
    "    learning_rate = trial.suggest_float('learning_rate', 1e-5, 1e-3, log=True)\n",
    "    dropouts = trial.suggest_float('dropouts', 0.1, 0.5)\n",
    "    batch_size = trial.suggest_categorical('batch_size', [16, 32, 64])\n",
    "\n",
    "    model = build_gru_model(input_shape, gru_units, dropouts)\n",
    "    model.compile(\n",
    "        optimizer=Adam(learning_rate=learning_rate),\n",
    "        loss='binary_crossentropy',\n",
    "        metrics=['accuracy']\n",
    "    )\n",
    "\n",
    "    model.fit(\n",
    "        X_train, y_train,\n",
    "        validation_data=(X_val, y_val),\n",
    "        epochs=40,\n",
    "        batch_size=batch_size,\n",
    "        class_weight=class_weight_dict,\n",
    "        callbacks=[early_stopping, lr_scheduler],\n",
    "        verbose=0\n",
    "    )\n",
    "\n",
    "    val_loss, val_accuracy = model.evaluate(X_val, y_val, verbose=0)\n",
    "    return val_accuracy  \n",
    "\n",
    "study = optuna.create_study(direction='maximize')\n",
    "study.optimize(objective, n_trials=20)  \n",
    "study.trials_dataframe().to_csv(\"optuna_study_results.csv\")\n",
    "print(\"Best Hyperparameters:\")\n",
    "print(study.best_params)\n",
    "\n",
    "best_params = study.best_params\n",
    "gru_units = best_params['gru_units']\n",
    "learning_rate = best_params['learning_rate']\n",
    "dropouts = best_params['dropouts']\n",
    "batch_size = best_params['batch_size']\n",
    "\n",
    "model = build_gru_model(input_shape, gru_units, dropouts)\n",
    "model.compile(\n",
    "    optimizer=Adam(learning_rate=learning_rate),\n",
    "    loss='binary_crossentropy',\n",
    "    metrics=['accuracy']\n",
    ")\n",
    "\n",
    "history = model.fit(\n",
    "    X_train, y_train,\n",
    "    validation_data=(X_val, y_val),\n",
    "    epochs=30,\n",
    "    batch_size=batch_size,\n",
    "    class_weight=class_weight_dict,\n",
    "    callbacks=[early_stopping, lr_scheduler],\n",
    "    verbose=1\n",
    ")\n",
    "\n",
    "test_loss, test_accuracy = model.evaluate(X_test, y_test, verbose=0)\n",
    "print(f\"Test Loss: {test_loss:.4f}\")\n",
    "print(f\"Test Accuracy: {test_accuracy:.4f}\")\n",
    "\n"
   ]
  },
  {
   "cell_type": "code",
   "execution_count": null,
   "metadata": {},
   "outputs": [],
   "source": [
    "loss, accuracy = model.evaluate(X_val, y_val, verbose=0)\n",
    "print(f\"Validation Loss: {loss:.4f}\")\n",
    "print(f\"Validation Accuracy: {accuracy:.4f}\")\n",
    "\n",
    "plt.figure(figsize=(12, 4))\n",
    "plt.subplot(1, 2, 1)\n",
    "plt.plot(history.history['loss'], label='Train Loss')\n",
    "plt.plot(history.history['val_loss'], label='Validation Loss')\n",
    "plt.legend()\n",
    "plt.xlabel('Epochs')\n",
    "plt.ylabel('Loss')\n",
    "plt.title('Loss Over Epochs')\n",
    "\n",
    "plt.subplot(1, 2, 2)\n",
    "plt.plot(history.history['accuracy'], label='Train Accuracy')\n",
    "plt.plot(history.history['val_accuracy'], label='Validation Accuracy')\n",
    "plt.legend()\n",
    "plt.xlabel('Epochs')\n",
    "plt.ylabel('Accuracy')\n",
    "plt.title('Accuracy Over Epochs')\n",
    "\n",
    "plt.show()"
   ]
  },
  {
   "cell_type": "code",
   "execution_count": 9,
   "metadata": {},
   "outputs": [
    {
     "name": "stdout",
     "output_type": "stream",
     "text": [
      "Data shape after normalization and padding (X_padded): (133, 75, 61, 2000)\n",
      "Labels shape (y_data): (133,)\n"
     ]
    }
   ],
   "source": [
    "test_loss, test_accuracy = model.evaluate(X_test, y_test, verbose=0)\n",
    "print(f\"Test Loss: {test_loss:.4f}\")\n",
    "print(f\"Test Accuracy (Epoch-Level): {test_accuracy:.4f}\")\n",
    "\n",
    "y_test_pred = model.predict(X_test)\n",
    "y_test_pred_binary = (y_test_pred > 0.5).astype(int).flatten()\n",
    "\n",
    "print(\"\\nEpoch-Level Classification Report:\")\n",
    "print(classification_report(y_test, y_test_pred_binary, target_names=[\"Normal Sleep\", \"Sleep Deprivation\"]))\n",
    "\n",
    "conf_matrix_epoch = confusion_matrix(y_test, y_test_pred_binary)\n",
    "print(\"\\nEpoch-Level Confusion Matrix:\")\n",
    "print(conf_matrix_epoch)\n",
    "\n",
    "plt.figure(figsize=(6, 5))\n",
    "sns.heatmap(conf_matrix_epoch, annot=True, fmt=\"d\", cmap=\"Blues\",\n",
    "            xticklabels=[\"Normal Sleep\", \"Sleep Deprivation\"],\n",
    "            yticklabels=[\"Normal Sleep\", \"Sleep Deprivation\"])\n",
    "plt.xlabel(\"Predicted\")\n",
    "plt.ylabel(\"True\")\n",
    "plt.title(\"Epoch-Level Confusion Matrix\")\n",
    "plt.show()\n",
    "\n",
    "session_predictions = []\n",
    "session_labels = []\n",
    "start_idx = 0\n",
    "\n",
    "for data in test_patient_data:\n",
    "    num_epochs = data[\"features\"].shape[0]\n",
    "    session_pred = y_test_pred_binary[start_idx:start_idx + num_epochs]  \n",
    "    session_label = data[\"label\"]\n",
    "    \n",
    "    majority_label = Counter(session_pred).most_common(1)[0][0]\n",
    "    session_predictions.append(majority_label)\n",
    "    session_labels.append(session_label)\n",
    "    \n",
    "    start_idx += num_epochs\n",
    "\n",
    "session_accuracy = accuracy_score(session_labels, session_predictions)\n",
    "print(f\"\\nSession-Level Accuracy: {session_accuracy:.4f}\")\n",
    "\n",
    "print(\"\\nSession-Level Classification Report:\")\n",
    "print(classification_report(session_labels, session_predictions, target_names=[\"Normal Sleep\", \"Sleep Deprivation\"]))\n",
    "\n",
    "conf_matrix_session = confusion_matrix(session_labels, session_predictions)\n",
    "print(\"\\nSession-Level Confusion Matrix:\")\n",
    "print(conf_matrix_session)\n",
    "\n",
    "plt.figure(figsize=(6, 5))\n",
    "sns.heatmap(conf_matrix_session, annot=True, fmt=\"d\", cmap=\"Blues\",\n",
    "            xticklabels=[\"Normal Sleep\", \"Sleep Deprivation\"],\n",
    "            yticklabels=[\"Normal Sleep\", \"Sleep Deprivation\"])\n",
    "plt.xlabel(\"Predicted\")\n",
    "plt.ylabel(\"True\")\n",
    "plt.title(\"Session-Level Confusion Matrix\")\n",
    "plt.show()\n"
   ]
  },
  {
   "cell_type": "code",
   "execution_count": 25,
   "metadata": {},
   "outputs": [
    {
     "name": "stdout",
     "output_type": "stream",
     "text": [
      "(133, 75, 488)\n"
     ]
    }
   ],
   "source": [
    "print(X_padded.shape)"
   ]
  }
 ],
 "metadata": {
  "kernelspec": {
   "display_name": "base",
   "language": "python",
   "name": "python3"
  },
  "language_info": {
   "codemirror_mode": {
    "name": "ipython",
    "version": 3
   },
   "file_extension": ".py",
   "mimetype": "text/x-python",
   "name": "python",
   "nbconvert_exporter": "python",
   "pygments_lexer": "ipython3",
   "version": "3.12.3"
  }
 },
 "nbformat": 4,
 "nbformat_minor": 2
}
