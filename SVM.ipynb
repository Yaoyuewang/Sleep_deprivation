{
 "cells": [
  {
   "cell_type": "code",
   "execution_count": 1,
   "metadata": {},
   "outputs": [],
   "source": [
    "#SVM \n",
    "import os\n",
    "import numpy as np\n",
    "import mne\n",
    "import pickle \n",
    "from sklearn.svm import SVC\n",
    "from sklearn.decomposition import PCA\n",
    "from sklearn.preprocessing import StandardScaler\n",
    "from sklearn.metrics import accuracy_score, classification_report, confusion_matrix\n",
    "\n",
    "# test patients with most epochs left after processing \n",
    "data_dir = \"preprocessed_epochs\"\n",
    "test_patients_sd = [\"52\", \"18\", \"29\", \"17\", \"34\", \"55\",\"10\", \"22\", \"68\", \"19\", \"42\", \"63\"]\n",
    "test_patients_ns = [\"01\", \"19\", \"30\", \"65\", \"10\", \"13\", \"25\", \"69\", \"24\", \"33\", \"38\", \"67\"]\n",
    "\n",
    "frequency_bands = {\n",
    "    \"theta\": (4, 8),\n",
    "    \"alpha\": (8, 13),\n",
    "    \"beta\": (13, 30),\n",
    "}\n",
    "\n",
    "region_channels = {\n",
    "    \"frontal\": [\"Fp1\", \"Fp2\", \"Fz\", \"F3\", \"F4\"],\n",
    "    \"central\": [\"Cz\", \"C3\", \"C4\"],\n",
    "    \"parietal\": [\"Pz\", \"P3\", \"P4\"],\n",
    "    \"occipital\": [\"O1\", \"O2\"],\n",
    "}\n",
    "test_sessions = []\n",
    "\n",
    "for patient in test_patients_ns: \n",
    "    test_sessions.append((patient, \"1\"))\n",
    "for patient in test_patients_sd: \n",
    "    test_sessions.append((patient, \"2\"))"
   ]
  },
  {
   "cell_type": "code",
   "execution_count": 2,
   "metadata": {},
   "outputs": [
    {
     "name": "stdout",
     "output_type": "stream",
     "text": [
      "Reading c:\\Users\\yaoyu\\Documents\\EE675\\preprocessed_epochs\\sub-01_ses-1_retained-epochs.fif ...\n",
      "    Found the data of interest:\n",
      "        t =       0.00 ...    3998.00 ms\n",
      "        0 CTF compensation matrices available\n",
      "Not setting metadata\n",
      "75 matching events found\n",
      "No baseline correction applied\n",
      "0 projection items activated\n"
     ]
    },
    {
     "name": "stderr",
     "output_type": "stream",
     "text": [
      "C:\\Users\\yaoyu\\AppData\\Local\\Temp\\ipykernel_15608\\2588799638.py:12: RuntimeWarning: This filename (preprocessed_epochs\\sub-01_ses-1_retained-epochs.fif) does not conform to MNE naming conventions. All epochs files should end with -epo.fif, -epo.fif.gz, _epo.fif or _epo.fif.gz\n",
      "  epochs = mne.read_epochs(file_path, preload=True)\n"
     ]
    },
    {
     "name": "stdout",
     "output_type": "stream",
     "text": [
      "Effective window size : 1.024 (s)\n",
      "Effective window size : 1.024 (s)\n",
      "Effective window size : 1.024 (s)\n",
      "(75, 24)\n",
      "Reading c:\\Users\\yaoyu\\Documents\\EE675\\preprocessed_epochs\\sub-01_ses-2_retained-epochs.fif ...\n",
      "    Found the data of interest:\n",
      "        t =       0.00 ...    3998.00 ms\n",
      "        0 CTF compensation matrices available\n",
      "Not setting metadata\n",
      "56 matching events found\n",
      "No baseline correction applied\n",
      "0 projection items activated\n",
      "Effective window size : 1.024 (s)\n"
     ]
    },
    {
     "name": "stderr",
     "output_type": "stream",
     "text": [
      "C:\\Users\\yaoyu\\AppData\\Local\\Temp\\ipykernel_15608\\2588799638.py:12: RuntimeWarning: This filename (preprocessed_epochs\\sub-01_ses-2_retained-epochs.fif) does not conform to MNE naming conventions. All epochs files should end with -epo.fif, -epo.fif.gz, _epo.fif or _epo.fif.gz\n",
      "  epochs = mne.read_epochs(file_path, preload=True)\n"
     ]
    },
    {
     "name": "stdout",
     "output_type": "stream",
     "text": [
      "Effective window size : 1.024 (s)\n",
      "Effective window size : 1.024 (s)\n",
      "(56, 24)\n",
      "Reading c:\\Users\\yaoyu\\Documents\\EE675\\preprocessed_epochs\\sub-02_ses-1_retained-epochs.fif ...\n",
      "    Found the data of interest:\n",
      "        t =       0.00 ...    3998.00 ms\n",
      "        0 CTF compensation matrices available\n",
      "Not setting metadata\n",
      "69 matching events found\n",
      "No baseline correction applied\n",
      "0 projection items activated\n",
      "Effective window size : 1.024 (s)\n"
     ]
    },
    {
     "name": "stderr",
     "output_type": "stream",
     "text": [
      "C:\\Users\\yaoyu\\AppData\\Local\\Temp\\ipykernel_15608\\2588799638.py:12: RuntimeWarning: This filename (preprocessed_epochs\\sub-02_ses-1_retained-epochs.fif) does not conform to MNE naming conventions. All epochs files should end with -epo.fif, -epo.fif.gz, _epo.fif or _epo.fif.gz\n",
      "  epochs = mne.read_epochs(file_path, preload=True)\n"
     ]
    },
    {
     "name": "stdout",
     "output_type": "stream",
     "text": [
      "Effective window size : 1.024 (s)\n",
      "Effective window size : 1.024 (s)\n",
      "(69, 24)\n",
      "Reading c:\\Users\\yaoyu\\Documents\\EE675\\preprocessed_epochs\\sub-02_ses-2_retained-epochs.fif ...\n",
      "    Found the data of interest:\n",
      "        t =       0.00 ...    3998.00 ms\n",
      "        0 CTF compensation matrices available\n",
      "Not setting metadata\n",
      "67 matching events found\n",
      "No baseline correction applied\n",
      "0 projection items activated\n",
      "Effective window size : 1.024 (s)\n"
     ]
    },
    {
     "name": "stderr",
     "output_type": "stream",
     "text": [
      "C:\\Users\\yaoyu\\AppData\\Local\\Temp\\ipykernel_15608\\2588799638.py:12: RuntimeWarning: This filename (preprocessed_epochs\\sub-02_ses-2_retained-epochs.fif) does not conform to MNE naming conventions. All epochs files should end with -epo.fif, -epo.fif.gz, _epo.fif or _epo.fif.gz\n",
      "  epochs = mne.read_epochs(file_path, preload=True)\n"
     ]
    },
    {
     "name": "stdout",
     "output_type": "stream",
     "text": [
      "Effective window size : 1.024 (s)\n",
      "Effective window size : 1.024 (s)\n",
      "(67, 24)\n",
      "Reading c:\\Users\\yaoyu\\Documents\\EE675\\preprocessed_epochs\\sub-03_ses-1_retained-epochs.fif ...\n",
      "    Found the data of interest:\n",
      "        t =       0.00 ...    3998.00 ms\n",
      "        0 CTF compensation matrices available\n",
      "Not setting metadata\n",
      "70 matching events found\n",
      "No baseline correction applied\n",
      "0 projection items activated\n"
     ]
    },
    {
     "name": "stderr",
     "output_type": "stream",
     "text": [
      "C:\\Users\\yaoyu\\AppData\\Local\\Temp\\ipykernel_15608\\2588799638.py:12: RuntimeWarning: This filename (preprocessed_epochs\\sub-03_ses-1_retained-epochs.fif) does not conform to MNE naming conventions. All epochs files should end with -epo.fif, -epo.fif.gz, _epo.fif or _epo.fif.gz\n",
      "  epochs = mne.read_epochs(file_path, preload=True)\n"
     ]
    },
    {
     "name": "stdout",
     "output_type": "stream",
     "text": [
      "Effective window size : 1.024 (s)\n",
      "Effective window size : 1.024 (s)\n",
      "Effective window size : 1.024 (s)\n",
      "(70, 24)\n",
      "Reading c:\\Users\\yaoyu\\Documents\\EE675\\preprocessed_epochs\\sub-03_ses-2_retained-epochs.fif ...\n",
      "    Found the data of interest:\n",
      "        t =       0.00 ...    3998.00 ms\n",
      "        0 CTF compensation matrices available\n",
      "Not setting metadata\n",
      "72 matching events found\n",
      "No baseline correction applied\n",
      "0 projection items activated\n"
     ]
    },
    {
     "name": "stderr",
     "output_type": "stream",
     "text": [
      "C:\\Users\\yaoyu\\AppData\\Local\\Temp\\ipykernel_15608\\2588799638.py:12: RuntimeWarning: This filename (preprocessed_epochs\\sub-03_ses-2_retained-epochs.fif) does not conform to MNE naming conventions. All epochs files should end with -epo.fif, -epo.fif.gz, _epo.fif or _epo.fif.gz\n",
      "  epochs = mne.read_epochs(file_path, preload=True)\n"
     ]
    },
    {
     "name": "stdout",
     "output_type": "stream",
     "text": [
      "Effective window size : 1.024 (s)\n",
      "Effective window size : 1.024 (s)\n",
      "Effective window size : 1.024 (s)\n",
      "(72, 24)\n",
      "Reading c:\\Users\\yaoyu\\Documents\\EE675\\preprocessed_epochs\\sub-04_ses-2_retained-epochs.fif ...\n",
      "    Found the data of interest:\n",
      "        t =       0.00 ...    3998.00 ms\n",
      "        0 CTF compensation matrices available\n",
      "Not setting metadata\n",
      "48 matching events found\n",
      "No baseline correction applied\n",
      "0 projection items activated\n",
      "Effective window size : 1.024 (s)\n"
     ]
    },
    {
     "name": "stderr",
     "output_type": "stream",
     "text": [
      "C:\\Users\\yaoyu\\AppData\\Local\\Temp\\ipykernel_15608\\2588799638.py:12: RuntimeWarning: This filename (preprocessed_epochs\\sub-04_ses-2_retained-epochs.fif) does not conform to MNE naming conventions. All epochs files should end with -epo.fif, -epo.fif.gz, _epo.fif or _epo.fif.gz\n",
      "  epochs = mne.read_epochs(file_path, preload=True)\n"
     ]
    },
    {
     "name": "stdout",
     "output_type": "stream",
     "text": [
      "Effective window size : 1.024 (s)\n",
      "Effective window size : 1.024 (s)\n",
      "(48, 24)\n",
      "Reading c:\\Users\\yaoyu\\Documents\\EE675\\preprocessed_epochs\\sub-05_ses-1_retained-epochs.fif ...\n",
      "    Found the data of interest:\n",
      "        t =       0.00 ...    3998.00 ms\n",
      "        0 CTF compensation matrices available\n",
      "Not setting metadata\n",
      "75 matching events found\n",
      "No baseline correction applied\n",
      "0 projection items activated\n"
     ]
    },
    {
     "name": "stderr",
     "output_type": "stream",
     "text": [
      "C:\\Users\\yaoyu\\AppData\\Local\\Temp\\ipykernel_15608\\2588799638.py:12: RuntimeWarning: This filename (preprocessed_epochs\\sub-05_ses-1_retained-epochs.fif) does not conform to MNE naming conventions. All epochs files should end with -epo.fif, -epo.fif.gz, _epo.fif or _epo.fif.gz\n",
      "  epochs = mne.read_epochs(file_path, preload=True)\n"
     ]
    },
    {
     "name": "stdout",
     "output_type": "stream",
     "text": [
      "Effective window size : 1.024 (s)\n",
      "Effective window size : 1.024 (s)\n",
      "Effective window size : 1.024 (s)\n",
      "(75, 24)\n",
      "Reading c:\\Users\\yaoyu\\Documents\\EE675\\preprocessed_epochs\\sub-05_ses-2_retained-epochs.fif ...\n",
      "    Found the data of interest:\n",
      "        t =       0.00 ...    3998.00 ms\n",
      "        0 CTF compensation matrices available\n",
      "Not setting metadata\n",
      "75 matching events found\n",
      "No baseline correction applied\n",
      "0 projection items activated\n"
     ]
    },
    {
     "name": "stderr",
     "output_type": "stream",
     "text": [
      "C:\\Users\\yaoyu\\AppData\\Local\\Temp\\ipykernel_15608\\2588799638.py:12: RuntimeWarning: This filename (preprocessed_epochs\\sub-05_ses-2_retained-epochs.fif) does not conform to MNE naming conventions. All epochs files should end with -epo.fif, -epo.fif.gz, _epo.fif or _epo.fif.gz\n",
      "  epochs = mne.read_epochs(file_path, preload=True)\n"
     ]
    },
    {
     "name": "stdout",
     "output_type": "stream",
     "text": [
      "Effective window size : 1.024 (s)\n",
      "Effective window size : 1.024 (s)\n",
      "Effective window size : 1.024 (s)\n",
      "(75, 24)\n",
      "Reading c:\\Users\\yaoyu\\Documents\\EE675\\preprocessed_epochs\\sub-06_ses-1_retained-epochs.fif ...\n",
      "    Found the data of interest:\n",
      "        t =       0.00 ...    3998.00 ms\n",
      "        0 CTF compensation matrices available\n",
      "Not setting metadata\n",
      "74 matching events found\n",
      "No baseline correction applied\n",
      "0 projection items activated\n"
     ]
    },
    {
     "name": "stderr",
     "output_type": "stream",
     "text": [
      "C:\\Users\\yaoyu\\AppData\\Local\\Temp\\ipykernel_15608\\2588799638.py:12: RuntimeWarning: This filename (preprocessed_epochs\\sub-06_ses-1_retained-epochs.fif) does not conform to MNE naming conventions. All epochs files should end with -epo.fif, -epo.fif.gz, _epo.fif or _epo.fif.gz\n",
      "  epochs = mne.read_epochs(file_path, preload=True)\n"
     ]
    },
    {
     "name": "stdout",
     "output_type": "stream",
     "text": [
      "Effective window size : 1.024 (s)\n",
      "Effective window size : 1.024 (s)\n",
      "Effective window size : 1.024 (s)\n",
      "(74, 24)\n",
      "Reading c:\\Users\\yaoyu\\Documents\\EE675\\preprocessed_epochs\\sub-06_ses-2_retained-epochs.fif ...\n",
      "    Found the data of interest:\n",
      "        t =       0.00 ...    3998.00 ms\n",
      "        0 CTF compensation matrices available\n",
      "Not setting metadata\n",
      "66 matching events found\n",
      "No baseline correction applied\n",
      "0 projection items activated\n",
      "Effective window size : 1.024 (s)\n"
     ]
    },
    {
     "name": "stderr",
     "output_type": "stream",
     "text": [
      "C:\\Users\\yaoyu\\AppData\\Local\\Temp\\ipykernel_15608\\2588799638.py:12: RuntimeWarning: This filename (preprocessed_epochs\\sub-06_ses-2_retained-epochs.fif) does not conform to MNE naming conventions. All epochs files should end with -epo.fif, -epo.fif.gz, _epo.fif or _epo.fif.gz\n",
      "  epochs = mne.read_epochs(file_path, preload=True)\n"
     ]
    },
    {
     "name": "stdout",
     "output_type": "stream",
     "text": [
      "Effective window size : 1.024 (s)\n",
      "Effective window size : 1.024 (s)\n",
      "(66, 24)\n",
      "Reading c:\\Users\\yaoyu\\Documents\\EE675\\preprocessed_epochs\\sub-07_ses-1_retained-epochs.fif ...\n",
      "    Found the data of interest:\n",
      "        t =       0.00 ...    3998.00 ms\n",
      "        0 CTF compensation matrices available\n",
      "Not setting metadata\n",
      "71 matching events found\n",
      "No baseline correction applied\n",
      "0 projection items activated\n"
     ]
    },
    {
     "name": "stderr",
     "output_type": "stream",
     "text": [
      "C:\\Users\\yaoyu\\AppData\\Local\\Temp\\ipykernel_15608\\2588799638.py:12: RuntimeWarning: This filename (preprocessed_epochs\\sub-07_ses-1_retained-epochs.fif) does not conform to MNE naming conventions. All epochs files should end with -epo.fif, -epo.fif.gz, _epo.fif or _epo.fif.gz\n",
      "  epochs = mne.read_epochs(file_path, preload=True)\n"
     ]
    },
    {
     "name": "stdout",
     "output_type": "stream",
     "text": [
      "Effective window size : 1.024 (s)\n",
      "Effective window size : 1.024 (s)\n",
      "Effective window size : 1.024 (s)\n",
      "(71, 24)\n",
      "Reading c:\\Users\\yaoyu\\Documents\\EE675\\preprocessed_epochs\\sub-07_ses-2_retained-epochs.fif ...\n",
      "    Found the data of interest:\n",
      "        t =       0.00 ...    3998.00 ms\n",
      "        0 CTF compensation matrices available\n",
      "Not setting metadata\n",
      "39 matching events found\n",
      "No baseline correction applied\n",
      "0 projection items activated\n",
      "Effective window size : 1.024 (s)\n"
     ]
    },
    {
     "name": "stderr",
     "output_type": "stream",
     "text": [
      "C:\\Users\\yaoyu\\AppData\\Local\\Temp\\ipykernel_15608\\2588799638.py:12: RuntimeWarning: This filename (preprocessed_epochs\\sub-07_ses-2_retained-epochs.fif) does not conform to MNE naming conventions. All epochs files should end with -epo.fif, -epo.fif.gz, _epo.fif or _epo.fif.gz\n",
      "  epochs = mne.read_epochs(file_path, preload=True)\n"
     ]
    },
    {
     "name": "stdout",
     "output_type": "stream",
     "text": [
      "Effective window size : 1.024 (s)\n",
      "Effective window size : 1.024 (s)\n",
      "(39, 24)\n",
      "Reading c:\\Users\\yaoyu\\Documents\\EE675\\preprocessed_epochs\\sub-08_ses-1_retained-epochs.fif ...\n",
      "    Found the data of interest:\n",
      "        t =       0.00 ...    3998.00 ms\n",
      "        0 CTF compensation matrices available\n",
      "Not setting metadata\n",
      "38 matching events found\n",
      "No baseline correction applied\n",
      "0 projection items activated\n",
      "Effective window size : 1.024 (s)\n"
     ]
    },
    {
     "name": "stderr",
     "output_type": "stream",
     "text": [
      "C:\\Users\\yaoyu\\AppData\\Local\\Temp\\ipykernel_15608\\2588799638.py:12: RuntimeWarning: This filename (preprocessed_epochs\\sub-08_ses-1_retained-epochs.fif) does not conform to MNE naming conventions. All epochs files should end with -epo.fif, -epo.fif.gz, _epo.fif or _epo.fif.gz\n",
      "  epochs = mne.read_epochs(file_path, preload=True)\n"
     ]
    },
    {
     "name": "stdout",
     "output_type": "stream",
     "text": [
      "Effective window size : 1.024 (s)\n",
      "Effective window size : 1.024 (s)\n",
      "(38, 24)\n",
      "Reading c:\\Users\\yaoyu\\Documents\\EE675\\preprocessed_epochs\\sub-08_ses-2_retained-epochs.fif ...\n",
      "    Found the data of interest:\n",
      "        t =       0.00 ...    3998.00 ms\n",
      "        0 CTF compensation matrices available\n",
      "Not setting metadata\n",
      "58 matching events found\n",
      "No baseline correction applied\n",
      "0 projection items activated\n",
      "Effective window size : 1.024 (s)\n"
     ]
    },
    {
     "name": "stderr",
     "output_type": "stream",
     "text": [
      "C:\\Users\\yaoyu\\AppData\\Local\\Temp\\ipykernel_15608\\2588799638.py:12: RuntimeWarning: This filename (preprocessed_epochs\\sub-08_ses-2_retained-epochs.fif) does not conform to MNE naming conventions. All epochs files should end with -epo.fif, -epo.fif.gz, _epo.fif or _epo.fif.gz\n",
      "  epochs = mne.read_epochs(file_path, preload=True)\n"
     ]
    },
    {
     "name": "stdout",
     "output_type": "stream",
     "text": [
      "Effective window size : 1.024 (s)\n",
      "Effective window size : 1.024 (s)\n",
      "(58, 24)\n",
      "Reading c:\\Users\\yaoyu\\Documents\\EE675\\preprocessed_epochs\\sub-09_ses-1_retained-epochs.fif ...\n",
      "    Found the data of interest:\n",
      "        t =       0.00 ...    3998.00 ms\n",
      "        0 CTF compensation matrices available\n",
      "Not setting metadata\n",
      "33 matching events found\n",
      "No baseline correction applied\n",
      "0 projection items activated\n",
      "Effective window size : 1.024 (s)\n"
     ]
    },
    {
     "name": "stderr",
     "output_type": "stream",
     "text": [
      "C:\\Users\\yaoyu\\AppData\\Local\\Temp\\ipykernel_15608\\2588799638.py:12: RuntimeWarning: This filename (preprocessed_epochs\\sub-09_ses-1_retained-epochs.fif) does not conform to MNE naming conventions. All epochs files should end with -epo.fif, -epo.fif.gz, _epo.fif or _epo.fif.gz\n",
      "  epochs = mne.read_epochs(file_path, preload=True)\n"
     ]
    },
    {
     "name": "stdout",
     "output_type": "stream",
     "text": [
      "Effective window size : 1.024 (s)\n",
      "Effective window size : 1.024 (s)\n",
      "(33, 24)\n",
      "Reading c:\\Users\\yaoyu\\Documents\\EE675\\preprocessed_epochs\\sub-09_ses-2_retained-epochs.fif ...\n",
      "    Found the data of interest:\n",
      "        t =       0.00 ...    3998.00 ms\n",
      "        0 CTF compensation matrices available\n",
      "Not setting metadata\n",
      "41 matching events found\n",
      "No baseline correction applied\n",
      "0 projection items activated\n",
      "Effective window size : 1.024 (s)\n"
     ]
    },
    {
     "name": "stderr",
     "output_type": "stream",
     "text": [
      "C:\\Users\\yaoyu\\AppData\\Local\\Temp\\ipykernel_15608\\2588799638.py:12: RuntimeWarning: This filename (preprocessed_epochs\\sub-09_ses-2_retained-epochs.fif) does not conform to MNE naming conventions. All epochs files should end with -epo.fif, -epo.fif.gz, _epo.fif or _epo.fif.gz\n",
      "  epochs = mne.read_epochs(file_path, preload=True)\n"
     ]
    },
    {
     "name": "stdout",
     "output_type": "stream",
     "text": [
      "Effective window size : 1.024 (s)\n",
      "Effective window size : 1.024 (s)\n",
      "(41, 24)\n",
      "Reading c:\\Users\\yaoyu\\Documents\\EE675\\preprocessed_epochs\\sub-10_ses-1_retained-epochs.fif ...\n",
      "    Found the data of interest:\n",
      "        t =       0.00 ...    3998.00 ms\n",
      "        0 CTF compensation matrices available\n",
      "Not setting metadata\n",
      "74 matching events found\n",
      "No baseline correction applied\n",
      "0 projection items activated\n"
     ]
    },
    {
     "name": "stderr",
     "output_type": "stream",
     "text": [
      "C:\\Users\\yaoyu\\AppData\\Local\\Temp\\ipykernel_15608\\2588799638.py:12: RuntimeWarning: This filename (preprocessed_epochs\\sub-10_ses-1_retained-epochs.fif) does not conform to MNE naming conventions. All epochs files should end with -epo.fif, -epo.fif.gz, _epo.fif or _epo.fif.gz\n",
      "  epochs = mne.read_epochs(file_path, preload=True)\n"
     ]
    },
    {
     "name": "stdout",
     "output_type": "stream",
     "text": [
      "Effective window size : 1.024 (s)\n",
      "Effective window size : 1.024 (s)\n",
      "Effective window size : 1.024 (s)\n",
      "(74, 24)\n",
      "Reading c:\\Users\\yaoyu\\Documents\\EE675\\preprocessed_epochs\\sub-10_ses-2_retained-epochs.fif ...\n",
      "    Found the data of interest:\n",
      "        t =       0.00 ...    3998.00 ms\n",
      "        0 CTF compensation matrices available\n",
      "Not setting metadata\n",
      "73 matching events found\n",
      "No baseline correction applied\n",
      "0 projection items activated\n"
     ]
    },
    {
     "name": "stderr",
     "output_type": "stream",
     "text": [
      "C:\\Users\\yaoyu\\AppData\\Local\\Temp\\ipykernel_15608\\2588799638.py:12: RuntimeWarning: This filename (preprocessed_epochs\\sub-10_ses-2_retained-epochs.fif) does not conform to MNE naming conventions. All epochs files should end with -epo.fif, -epo.fif.gz, _epo.fif or _epo.fif.gz\n",
      "  epochs = mne.read_epochs(file_path, preload=True)\n"
     ]
    },
    {
     "name": "stdout",
     "output_type": "stream",
     "text": [
      "Effective window size : 1.024 (s)\n",
      "Effective window size : 1.024 (s)\n",
      "Effective window size : 1.024 (s)\n",
      "(73, 24)\n",
      "Reading c:\\Users\\yaoyu\\Documents\\EE675\\preprocessed_epochs\\sub-11_ses-1_retained-epochs.fif ...\n",
      "    Found the data of interest:\n",
      "        t =       0.00 ...    3998.00 ms\n",
      "        0 CTF compensation matrices available\n",
      "Not setting metadata\n",
      "48 matching events found\n",
      "No baseline correction applied\n",
      "0 projection items activated\n",
      "Effective window size : 1.024 (s)\n"
     ]
    },
    {
     "name": "stderr",
     "output_type": "stream",
     "text": [
      "C:\\Users\\yaoyu\\AppData\\Local\\Temp\\ipykernel_15608\\2588799638.py:12: RuntimeWarning: This filename (preprocessed_epochs\\sub-11_ses-1_retained-epochs.fif) does not conform to MNE naming conventions. All epochs files should end with -epo.fif, -epo.fif.gz, _epo.fif or _epo.fif.gz\n",
      "  epochs = mne.read_epochs(file_path, preload=True)\n"
     ]
    },
    {
     "name": "stdout",
     "output_type": "stream",
     "text": [
      "Effective window size : 1.024 (s)\n",
      "Effective window size : 1.024 (s)\n",
      "(48, 24)\n",
      "Reading c:\\Users\\yaoyu\\Documents\\EE675\\preprocessed_epochs\\sub-11_ses-2_retained-epochs.fif ...\n",
      "    Found the data of interest:\n",
      "        t =       0.00 ...    3998.00 ms\n",
      "        0 CTF compensation matrices available\n",
      "Not setting metadata\n",
      "66 matching events found\n",
      "No baseline correction applied\n",
      "0 projection items activated\n",
      "Effective window size : 1.024 (s)\n"
     ]
    },
    {
     "name": "stderr",
     "output_type": "stream",
     "text": [
      "C:\\Users\\yaoyu\\AppData\\Local\\Temp\\ipykernel_15608\\2588799638.py:12: RuntimeWarning: This filename (preprocessed_epochs\\sub-11_ses-2_retained-epochs.fif) does not conform to MNE naming conventions. All epochs files should end with -epo.fif, -epo.fif.gz, _epo.fif or _epo.fif.gz\n",
      "  epochs = mne.read_epochs(file_path, preload=True)\n"
     ]
    },
    {
     "name": "stdout",
     "output_type": "stream",
     "text": [
      "Effective window size : 1.024 (s)\n",
      "Effective window size : 1.024 (s)\n",
      "(66, 24)\n",
      "Reading c:\\Users\\yaoyu\\Documents\\EE675\\preprocessed_epochs\\sub-12_ses-1_retained-epochs.fif ...\n",
      "    Found the data of interest:\n",
      "        t =       0.00 ...    3998.00 ms\n",
      "        0 CTF compensation matrices available\n",
      "Not setting metadata\n",
      "74 matching events found\n",
      "No baseline correction applied\n",
      "0 projection items activated\n"
     ]
    },
    {
     "name": "stderr",
     "output_type": "stream",
     "text": [
      "C:\\Users\\yaoyu\\AppData\\Local\\Temp\\ipykernel_15608\\2588799638.py:12: RuntimeWarning: This filename (preprocessed_epochs\\sub-12_ses-1_retained-epochs.fif) does not conform to MNE naming conventions. All epochs files should end with -epo.fif, -epo.fif.gz, _epo.fif or _epo.fif.gz\n",
      "  epochs = mne.read_epochs(file_path, preload=True)\n"
     ]
    },
    {
     "name": "stdout",
     "output_type": "stream",
     "text": [
      "Effective window size : 1.024 (s)\n",
      "Effective window size : 1.024 (s)\n",
      "Effective window size : 1.024 (s)\n",
      "(74, 24)\n",
      "Reading c:\\Users\\yaoyu\\Documents\\EE675\\preprocessed_epochs\\sub-12_ses-2_retained-epochs.fif ...\n",
      "    Found the data of interest:\n",
      "        t =       0.00 ...    3998.00 ms\n",
      "        0 CTF compensation matrices available\n",
      "Not setting metadata\n",
      "68 matching events found\n",
      "No baseline correction applied\n",
      "0 projection items activated\n"
     ]
    },
    {
     "name": "stderr",
     "output_type": "stream",
     "text": [
      "C:\\Users\\yaoyu\\AppData\\Local\\Temp\\ipykernel_15608\\2588799638.py:12: RuntimeWarning: This filename (preprocessed_epochs\\sub-12_ses-2_retained-epochs.fif) does not conform to MNE naming conventions. All epochs files should end with -epo.fif, -epo.fif.gz, _epo.fif or _epo.fif.gz\n",
      "  epochs = mne.read_epochs(file_path, preload=True)\n"
     ]
    },
    {
     "name": "stdout",
     "output_type": "stream",
     "text": [
      "Effective window size : 1.024 (s)\n",
      "Effective window size : 1.024 (s)\n",
      "Effective window size : 1.024 (s)\n",
      "(68, 24)\n",
      "Reading c:\\Users\\yaoyu\\Documents\\EE675\\preprocessed_epochs\\sub-13_ses-1_retained-epochs.fif ...\n",
      "    Found the data of interest:\n",
      "        t =       0.00 ...    3998.00 ms\n",
      "        0 CTF compensation matrices available\n",
      "Not setting metadata\n",
      "74 matching events found\n",
      "No baseline correction applied\n",
      "0 projection items activated\n"
     ]
    },
    {
     "name": "stderr",
     "output_type": "stream",
     "text": [
      "C:\\Users\\yaoyu\\AppData\\Local\\Temp\\ipykernel_15608\\2588799638.py:12: RuntimeWarning: This filename (preprocessed_epochs\\sub-13_ses-1_retained-epochs.fif) does not conform to MNE naming conventions. All epochs files should end with -epo.fif, -epo.fif.gz, _epo.fif or _epo.fif.gz\n",
      "  epochs = mne.read_epochs(file_path, preload=True)\n"
     ]
    },
    {
     "name": "stdout",
     "output_type": "stream",
     "text": [
      "Effective window size : 1.024 (s)\n",
      "Effective window size : 1.024 (s)\n",
      "Effective window size : 1.024 (s)\n",
      "(74, 24)\n",
      "Reading c:\\Users\\yaoyu\\Documents\\EE675\\preprocessed_epochs\\sub-13_ses-2_retained-epochs.fif ...\n",
      "    Found the data of interest:\n",
      "        t =       0.00 ...    3998.00 ms\n",
      "        0 CTF compensation matrices available\n",
      "Not setting metadata\n",
      "1 matching events found\n",
      "No baseline correction applied\n",
      "0 projection items activated\n",
      "Reading c:\\Users\\yaoyu\\Documents\\EE675\\preprocessed_epochs\\sub-14_ses-1_retained-epochs.fif ...\n",
      "    Found the data of interest:\n",
      "        t =       0.00 ...    3998.00 ms\n",
      "        0 CTF compensation matrices available\n",
      "Not setting metadata\n",
      "67 matching events found\n",
      "No baseline correction applied\n",
      "0 projection items activated\n"
     ]
    },
    {
     "name": "stderr",
     "output_type": "stream",
     "text": [
      "C:\\Users\\yaoyu\\AppData\\Local\\Temp\\ipykernel_15608\\2588799638.py:12: RuntimeWarning: This filename (preprocessed_epochs\\sub-13_ses-2_retained-epochs.fif) does not conform to MNE naming conventions. All epochs files should end with -epo.fif, -epo.fif.gz, _epo.fif or _epo.fif.gz\n",
      "  epochs = mne.read_epochs(file_path, preload=True)\n",
      "C:\\Users\\yaoyu\\AppData\\Local\\Temp\\ipykernel_15608\\2588799638.py:12: RuntimeWarning: This filename (preprocessed_epochs\\sub-14_ses-1_retained-epochs.fif) does not conform to MNE naming conventions. All epochs files should end with -epo.fif, -epo.fif.gz, _epo.fif or _epo.fif.gz\n",
      "  epochs = mne.read_epochs(file_path, preload=True)\n"
     ]
    },
    {
     "name": "stdout",
     "output_type": "stream",
     "text": [
      "Effective window size : 1.024 (s)\n",
      "Effective window size : 1.024 (s)\n",
      "Effective window size : 1.024 (s)\n",
      "(67, 24)\n",
      "Reading c:\\Users\\yaoyu\\Documents\\EE675\\preprocessed_epochs\\sub-14_ses-2_retained-epochs.fif ...\n",
      "    Found the data of interest:\n",
      "        t =       0.00 ...    3998.00 ms\n",
      "        0 CTF compensation matrices available\n",
      "Not setting metadata\n",
      "70 matching events found\n",
      "No baseline correction applied\n",
      "0 projection items activated\n"
     ]
    },
    {
     "name": "stderr",
     "output_type": "stream",
     "text": [
      "C:\\Users\\yaoyu\\AppData\\Local\\Temp\\ipykernel_15608\\2588799638.py:12: RuntimeWarning: This filename (preprocessed_epochs\\sub-14_ses-2_retained-epochs.fif) does not conform to MNE naming conventions. All epochs files should end with -epo.fif, -epo.fif.gz, _epo.fif or _epo.fif.gz\n",
      "  epochs = mne.read_epochs(file_path, preload=True)\n"
     ]
    },
    {
     "name": "stdout",
     "output_type": "stream",
     "text": [
      "Effective window size : 1.024 (s)\n",
      "Effective window size : 1.024 (s)\n",
      "Effective window size : 1.024 (s)\n",
      "(70, 24)\n",
      "Reading c:\\Users\\yaoyu\\Documents\\EE675\\preprocessed_epochs\\sub-15_ses-1_retained-epochs.fif ...\n",
      "    Found the data of interest:\n",
      "        t =       0.00 ...    3998.00 ms\n",
      "        0 CTF compensation matrices available\n",
      "Not setting metadata\n",
      "65 matching events found\n",
      "No baseline correction applied\n",
      "0 projection items activated\n"
     ]
    },
    {
     "name": "stderr",
     "output_type": "stream",
     "text": [
      "C:\\Users\\yaoyu\\AppData\\Local\\Temp\\ipykernel_15608\\2588799638.py:12: RuntimeWarning: This filename (preprocessed_epochs\\sub-15_ses-1_retained-epochs.fif) does not conform to MNE naming conventions. All epochs files should end with -epo.fif, -epo.fif.gz, _epo.fif or _epo.fif.gz\n",
      "  epochs = mne.read_epochs(file_path, preload=True)\n"
     ]
    },
    {
     "name": "stdout",
     "output_type": "stream",
     "text": [
      "Effective window size : 1.024 (s)\n",
      "Effective window size : 1.024 (s)\n",
      "Effective window size : 1.024 (s)\n",
      "(65, 24)\n",
      "Reading c:\\Users\\yaoyu\\Documents\\EE675\\preprocessed_epochs\\sub-15_ses-2_retained-epochs.fif ...\n",
      "    Found the data of interest:\n",
      "        t =       0.00 ...    3998.00 ms\n",
      "        0 CTF compensation matrices available\n",
      "Not setting metadata\n",
      "73 matching events found\n",
      "No baseline correction applied\n",
      "0 projection items activated\n"
     ]
    },
    {
     "name": "stderr",
     "output_type": "stream",
     "text": [
      "C:\\Users\\yaoyu\\AppData\\Local\\Temp\\ipykernel_15608\\2588799638.py:12: RuntimeWarning: This filename (preprocessed_epochs\\sub-15_ses-2_retained-epochs.fif) does not conform to MNE naming conventions. All epochs files should end with -epo.fif, -epo.fif.gz, _epo.fif or _epo.fif.gz\n",
      "  epochs = mne.read_epochs(file_path, preload=True)\n"
     ]
    },
    {
     "name": "stdout",
     "output_type": "stream",
     "text": [
      "Effective window size : 1.024 (s)\n",
      "Effective window size : 1.024 (s)\n",
      "Effective window size : 1.024 (s)\n",
      "(73, 24)\n",
      "Reading c:\\Users\\yaoyu\\Documents\\EE675\\preprocessed_epochs\\sub-16_ses-1_retained-epochs.fif ...\n",
      "    Found the data of interest:\n",
      "        t =       0.00 ...    3998.00 ms\n",
      "        0 CTF compensation matrices available\n",
      "Not setting metadata\n",
      "71 matching events found\n",
      "No baseline correction applied\n",
      "0 projection items activated\n"
     ]
    },
    {
     "name": "stderr",
     "output_type": "stream",
     "text": [
      "C:\\Users\\yaoyu\\AppData\\Local\\Temp\\ipykernel_15608\\2588799638.py:12: RuntimeWarning: This filename (preprocessed_epochs\\sub-16_ses-1_retained-epochs.fif) does not conform to MNE naming conventions. All epochs files should end with -epo.fif, -epo.fif.gz, _epo.fif or _epo.fif.gz\n",
      "  epochs = mne.read_epochs(file_path, preload=True)\n"
     ]
    },
    {
     "name": "stdout",
     "output_type": "stream",
     "text": [
      "Effective window size : 1.024 (s)\n",
      "Effective window size : 1.024 (s)\n",
      "Effective window size : 1.024 (s)\n",
      "(71, 24)\n",
      "Reading c:\\Users\\yaoyu\\Documents\\EE675\\preprocessed_epochs\\sub-16_ses-2_retained-epochs.fif ...\n",
      "    Found the data of interest:\n",
      "        t =       0.00 ...    3998.00 ms\n",
      "        0 CTF compensation matrices available\n",
      "Not setting metadata\n",
      "68 matching events found\n",
      "No baseline correction applied\n",
      "0 projection items activated\n"
     ]
    },
    {
     "name": "stderr",
     "output_type": "stream",
     "text": [
      "C:\\Users\\yaoyu\\AppData\\Local\\Temp\\ipykernel_15608\\2588799638.py:12: RuntimeWarning: This filename (preprocessed_epochs\\sub-16_ses-2_retained-epochs.fif) does not conform to MNE naming conventions. All epochs files should end with -epo.fif, -epo.fif.gz, _epo.fif or _epo.fif.gz\n",
      "  epochs = mne.read_epochs(file_path, preload=True)\n"
     ]
    },
    {
     "name": "stdout",
     "output_type": "stream",
     "text": [
      "Effective window size : 1.024 (s)\n",
      "Effective window size : 1.024 (s)\n",
      "Effective window size : 1.024 (s)\n",
      "(68, 24)\n",
      "Reading c:\\Users\\yaoyu\\Documents\\EE675\\preprocessed_epochs\\sub-17_ses-1_retained-epochs.fif ...\n",
      "    Found the data of interest:\n",
      "        t =       0.00 ...    3998.00 ms\n",
      "        0 CTF compensation matrices available\n",
      "Not setting metadata\n",
      "68 matching events found\n",
      "No baseline correction applied\n",
      "0 projection items activated\n",
      "Effective window size : 1.024 (s)\n"
     ]
    },
    {
     "name": "stderr",
     "output_type": "stream",
     "text": [
      "C:\\Users\\yaoyu\\AppData\\Local\\Temp\\ipykernel_15608\\2588799638.py:12: RuntimeWarning: This filename (preprocessed_epochs\\sub-17_ses-1_retained-epochs.fif) does not conform to MNE naming conventions. All epochs files should end with -epo.fif, -epo.fif.gz, _epo.fif or _epo.fif.gz\n",
      "  epochs = mne.read_epochs(file_path, preload=True)\n"
     ]
    },
    {
     "name": "stdout",
     "output_type": "stream",
     "text": [
      "Effective window size : 1.024 (s)\n",
      "Effective window size : 1.024 (s)\n",
      "(68, 24)\n",
      "Reading c:\\Users\\yaoyu\\Documents\\EE675\\preprocessed_epochs\\sub-17_ses-2_retained-epochs.fif ...\n",
      "    Found the data of interest:\n",
      "        t =       0.00 ...    3998.00 ms\n",
      "        0 CTF compensation matrices available\n",
      "Not setting metadata\n",
      "74 matching events found\n",
      "No baseline correction applied\n",
      "0 projection items activated\n"
     ]
    },
    {
     "name": "stderr",
     "output_type": "stream",
     "text": [
      "C:\\Users\\yaoyu\\AppData\\Local\\Temp\\ipykernel_15608\\2588799638.py:12: RuntimeWarning: This filename (preprocessed_epochs\\sub-17_ses-2_retained-epochs.fif) does not conform to MNE naming conventions. All epochs files should end with -epo.fif, -epo.fif.gz, _epo.fif or _epo.fif.gz\n",
      "  epochs = mne.read_epochs(file_path, preload=True)\n"
     ]
    },
    {
     "name": "stdout",
     "output_type": "stream",
     "text": [
      "Effective window size : 1.024 (s)\n",
      "Effective window size : 1.024 (s)\n",
      "Effective window size : 1.024 (s)\n",
      "(74, 24)\n",
      "Reading c:\\Users\\yaoyu\\Documents\\EE675\\preprocessed_epochs\\sub-18_ses-1_retained-epochs.fif ...\n",
      "    Found the data of interest:\n",
      "        t =       0.00 ...    3998.00 ms\n",
      "        0 CTF compensation matrices available\n",
      "Not setting metadata\n",
      "73 matching events found\n",
      "No baseline correction applied\n",
      "0 projection items activated\n"
     ]
    },
    {
     "name": "stderr",
     "output_type": "stream",
     "text": [
      "C:\\Users\\yaoyu\\AppData\\Local\\Temp\\ipykernel_15608\\2588799638.py:12: RuntimeWarning: This filename (preprocessed_epochs\\sub-18_ses-1_retained-epochs.fif) does not conform to MNE naming conventions. All epochs files should end with -epo.fif, -epo.fif.gz, _epo.fif or _epo.fif.gz\n",
      "  epochs = mne.read_epochs(file_path, preload=True)\n"
     ]
    },
    {
     "name": "stdout",
     "output_type": "stream",
     "text": [
      "Effective window size : 1.024 (s)\n",
      "Effective window size : 1.024 (s)\n",
      "Effective window size : 1.024 (s)\n",
      "(73, 24)\n",
      "Reading c:\\Users\\yaoyu\\Documents\\EE675\\preprocessed_epochs\\sub-18_ses-2_retained-epochs.fif ...\n",
      "    Found the data of interest:\n",
      "        t =       0.00 ...    3998.00 ms\n",
      "        0 CTF compensation matrices available\n",
      "Not setting metadata\n",
      "75 matching events found\n",
      "No baseline correction applied\n",
      "0 projection items activated\n",
      "Effective window size : 1.024 (s)\n"
     ]
    },
    {
     "name": "stderr",
     "output_type": "stream",
     "text": [
      "C:\\Users\\yaoyu\\AppData\\Local\\Temp\\ipykernel_15608\\2588799638.py:12: RuntimeWarning: This filename (preprocessed_epochs\\sub-18_ses-2_retained-epochs.fif) does not conform to MNE naming conventions. All epochs files should end with -epo.fif, -epo.fif.gz, _epo.fif or _epo.fif.gz\n",
      "  epochs = mne.read_epochs(file_path, preload=True)\n"
     ]
    },
    {
     "name": "stdout",
     "output_type": "stream",
     "text": [
      "Effective window size : 1.024 (s)\n",
      "Effective window size : 1.024 (s)\n",
      "(75, 24)\n",
      "Reading c:\\Users\\yaoyu\\Documents\\EE675\\preprocessed_epochs\\sub-19_ses-1_retained-epochs.fif ...\n",
      "    Found the data of interest:\n",
      "        t =       0.00 ...    3998.00 ms\n",
      "        0 CTF compensation matrices available\n",
      "Not setting metadata\n",
      "75 matching events found\n",
      "No baseline correction applied\n",
      "0 projection items activated\n"
     ]
    },
    {
     "name": "stderr",
     "output_type": "stream",
     "text": [
      "C:\\Users\\yaoyu\\AppData\\Local\\Temp\\ipykernel_15608\\2588799638.py:12: RuntimeWarning: This filename (preprocessed_epochs\\sub-19_ses-1_retained-epochs.fif) does not conform to MNE naming conventions. All epochs files should end with -epo.fif, -epo.fif.gz, _epo.fif or _epo.fif.gz\n",
      "  epochs = mne.read_epochs(file_path, preload=True)\n"
     ]
    },
    {
     "name": "stdout",
     "output_type": "stream",
     "text": [
      "Effective window size : 1.024 (s)\n",
      "Effective window size : 1.024 (s)\n",
      "Effective window size : 1.024 (s)\n",
      "(75, 24)\n",
      "Reading c:\\Users\\yaoyu\\Documents\\EE675\\preprocessed_epochs\\sub-19_ses-2_retained-epochs.fif ...\n",
      "    Found the data of interest:\n",
      "        t =       0.00 ...    3998.00 ms\n",
      "        0 CTF compensation matrices available\n",
      "Not setting metadata\n",
      "72 matching events found\n",
      "No baseline correction applied\n",
      "0 projection items activated\n"
     ]
    },
    {
     "name": "stderr",
     "output_type": "stream",
     "text": [
      "C:\\Users\\yaoyu\\AppData\\Local\\Temp\\ipykernel_15608\\2588799638.py:12: RuntimeWarning: This filename (preprocessed_epochs\\sub-19_ses-2_retained-epochs.fif) does not conform to MNE naming conventions. All epochs files should end with -epo.fif, -epo.fif.gz, _epo.fif or _epo.fif.gz\n",
      "  epochs = mne.read_epochs(file_path, preload=True)\n"
     ]
    },
    {
     "name": "stdout",
     "output_type": "stream",
     "text": [
      "Effective window size : 1.024 (s)\n",
      "Effective window size : 1.024 (s)\n",
      "Effective window size : 1.024 (s)\n",
      "(72, 24)\n",
      "Reading c:\\Users\\yaoyu\\Documents\\EE675\\preprocessed_epochs\\sub-20_ses-1_retained-epochs.fif ...\n",
      "    Found the data of interest:\n",
      "        t =       0.00 ...    3998.00 ms\n",
      "        0 CTF compensation matrices available\n",
      "Not setting metadata\n",
      "74 matching events found\n",
      "No baseline correction applied\n",
      "0 projection items activated\n"
     ]
    },
    {
     "name": "stderr",
     "output_type": "stream",
     "text": [
      "C:\\Users\\yaoyu\\AppData\\Local\\Temp\\ipykernel_15608\\2588799638.py:12: RuntimeWarning: This filename (preprocessed_epochs\\sub-20_ses-1_retained-epochs.fif) does not conform to MNE naming conventions. All epochs files should end with -epo.fif, -epo.fif.gz, _epo.fif or _epo.fif.gz\n",
      "  epochs = mne.read_epochs(file_path, preload=True)\n"
     ]
    },
    {
     "name": "stdout",
     "output_type": "stream",
     "text": [
      "Effective window size : 1.024 (s)\n",
      "Effective window size : 1.024 (s)\n",
      "Effective window size : 1.024 (s)\n",
      "(74, 24)\n",
      "Reading c:\\Users\\yaoyu\\Documents\\EE675\\preprocessed_epochs\\sub-20_ses-2_retained-epochs.fif ...\n",
      "    Found the data of interest:\n",
      "        t =       0.00 ...    3998.00 ms\n",
      "        0 CTF compensation matrices available\n",
      "Not setting metadata\n",
      "58 matching events found\n",
      "No baseline correction applied\n",
      "0 projection items activated\n",
      "Effective window size : 1.024 (s)\n"
     ]
    },
    {
     "name": "stderr",
     "output_type": "stream",
     "text": [
      "C:\\Users\\yaoyu\\AppData\\Local\\Temp\\ipykernel_15608\\2588799638.py:12: RuntimeWarning: This filename (preprocessed_epochs\\sub-20_ses-2_retained-epochs.fif) does not conform to MNE naming conventions. All epochs files should end with -epo.fif, -epo.fif.gz, _epo.fif or _epo.fif.gz\n",
      "  epochs = mne.read_epochs(file_path, preload=True)\n"
     ]
    },
    {
     "name": "stdout",
     "output_type": "stream",
     "text": [
      "Effective window size : 1.024 (s)\n",
      "Effective window size : 1.024 (s)\n",
      "(58, 24)\n",
      "Reading c:\\Users\\yaoyu\\Documents\\EE675\\preprocessed_epochs\\sub-21_ses-1_retained-epochs.fif ...\n",
      "    Found the data of interest:\n",
      "        t =       0.00 ...    3998.00 ms\n",
      "        0 CTF compensation matrices available\n",
      "Not setting metadata\n",
      "45 matching events found\n",
      "No baseline correction applied\n",
      "0 projection items activated\n",
      "Effective window size : 1.024 (s)\n"
     ]
    },
    {
     "name": "stderr",
     "output_type": "stream",
     "text": [
      "C:\\Users\\yaoyu\\AppData\\Local\\Temp\\ipykernel_15608\\2588799638.py:12: RuntimeWarning: This filename (preprocessed_epochs\\sub-21_ses-1_retained-epochs.fif) does not conform to MNE naming conventions. All epochs files should end with -epo.fif, -epo.fif.gz, _epo.fif or _epo.fif.gz\n",
      "  epochs = mne.read_epochs(file_path, preload=True)\n"
     ]
    },
    {
     "name": "stdout",
     "output_type": "stream",
     "text": [
      "Effective window size : 1.024 (s)\n",
      "Effective window size : 1.024 (s)\n",
      "(45, 24)\n",
      "Reading c:\\Users\\yaoyu\\Documents\\EE675\\preprocessed_epochs\\sub-21_ses-2_retained-epochs.fif ...\n",
      "    Found the data of interest:\n",
      "        t =       0.00 ...    3998.00 ms\n",
      "        0 CTF compensation matrices available\n",
      "Not setting metadata\n",
      "49 matching events found\n",
      "No baseline correction applied\n",
      "0 projection items activated\n",
      "Effective window size : 1.024 (s)\n"
     ]
    },
    {
     "name": "stderr",
     "output_type": "stream",
     "text": [
      "C:\\Users\\yaoyu\\AppData\\Local\\Temp\\ipykernel_15608\\2588799638.py:12: RuntimeWarning: This filename (preprocessed_epochs\\sub-21_ses-2_retained-epochs.fif) does not conform to MNE naming conventions. All epochs files should end with -epo.fif, -epo.fif.gz, _epo.fif or _epo.fif.gz\n",
      "  epochs = mne.read_epochs(file_path, preload=True)\n"
     ]
    },
    {
     "name": "stdout",
     "output_type": "stream",
     "text": [
      "Effective window size : 1.024 (s)\n",
      "Effective window size : 1.024 (s)\n",
      "(49, 24)\n",
      "Reading c:\\Users\\yaoyu\\Documents\\EE675\\preprocessed_epochs\\sub-22_ses-1_retained-epochs.fif ...\n",
      "    Found the data of interest:\n",
      "        t =       0.00 ...    3998.00 ms\n",
      "        0 CTF compensation matrices available\n",
      "Not setting metadata\n",
      "72 matching events found\n",
      "No baseline correction applied\n",
      "0 projection items activated\n"
     ]
    },
    {
     "name": "stderr",
     "output_type": "stream",
     "text": [
      "C:\\Users\\yaoyu\\AppData\\Local\\Temp\\ipykernel_15608\\2588799638.py:12: RuntimeWarning: This filename (preprocessed_epochs\\sub-22_ses-1_retained-epochs.fif) does not conform to MNE naming conventions. All epochs files should end with -epo.fif, -epo.fif.gz, _epo.fif or _epo.fif.gz\n",
      "  epochs = mne.read_epochs(file_path, preload=True)\n"
     ]
    },
    {
     "name": "stdout",
     "output_type": "stream",
     "text": [
      "Effective window size : 1.024 (s)\n",
      "Effective window size : 1.024 (s)\n",
      "Effective window size : 1.024 (s)\n",
      "(72, 24)\n",
      "Reading c:\\Users\\yaoyu\\Documents\\EE675\\preprocessed_epochs\\sub-22_ses-2_retained-epochs.fif ...\n",
      "    Found the data of interest:\n",
      "        t =       0.00 ...    3998.00 ms\n",
      "        0 CTF compensation matrices available\n",
      "Not setting metadata\n",
      "73 matching events found\n",
      "No baseline correction applied\n",
      "0 projection items activated\n"
     ]
    },
    {
     "name": "stderr",
     "output_type": "stream",
     "text": [
      "C:\\Users\\yaoyu\\AppData\\Local\\Temp\\ipykernel_15608\\2588799638.py:12: RuntimeWarning: This filename (preprocessed_epochs\\sub-22_ses-2_retained-epochs.fif) does not conform to MNE naming conventions. All epochs files should end with -epo.fif, -epo.fif.gz, _epo.fif or _epo.fif.gz\n",
      "  epochs = mne.read_epochs(file_path, preload=True)\n"
     ]
    },
    {
     "name": "stdout",
     "output_type": "stream",
     "text": [
      "Effective window size : 1.024 (s)\n",
      "Effective window size : 1.024 (s)\n",
      "Effective window size : 1.024 (s)\n",
      "(73, 24)\n",
      "Reading c:\\Users\\yaoyu\\Documents\\EE675\\preprocessed_epochs\\sub-23_ses-1_retained-epochs.fif ...\n",
      "    Found the data of interest:\n",
      "        t =       0.00 ...    3998.00 ms\n",
      "        0 CTF compensation matrices available\n",
      "Not setting metadata\n",
      "70 matching events found\n",
      "No baseline correction applied\n",
      "0 projection items activated\n"
     ]
    },
    {
     "name": "stderr",
     "output_type": "stream",
     "text": [
      "C:\\Users\\yaoyu\\AppData\\Local\\Temp\\ipykernel_15608\\2588799638.py:12: RuntimeWarning: This filename (preprocessed_epochs\\sub-23_ses-1_retained-epochs.fif) does not conform to MNE naming conventions. All epochs files should end with -epo.fif, -epo.fif.gz, _epo.fif or _epo.fif.gz\n",
      "  epochs = mne.read_epochs(file_path, preload=True)\n"
     ]
    },
    {
     "name": "stdout",
     "output_type": "stream",
     "text": [
      "Effective window size : 1.024 (s)\n",
      "Effective window size : 1.024 (s)\n",
      "Effective window size : 1.024 (s)\n",
      "(70, 24)\n",
      "Reading c:\\Users\\yaoyu\\Documents\\EE675\\preprocessed_epochs\\sub-23_ses-2_retained-epochs.fif ...\n",
      "    Found the data of interest:\n",
      "        t =       0.00 ...    3998.00 ms\n",
      "        0 CTF compensation matrices available\n",
      "Not setting metadata\n",
      "74 matching events found\n",
      "No baseline correction applied\n",
      "0 projection items activated\n",
      "Effective window size : 1.024 (s)\n"
     ]
    },
    {
     "name": "stderr",
     "output_type": "stream",
     "text": [
      "C:\\Users\\yaoyu\\AppData\\Local\\Temp\\ipykernel_15608\\2588799638.py:12: RuntimeWarning: This filename (preprocessed_epochs\\sub-23_ses-2_retained-epochs.fif) does not conform to MNE naming conventions. All epochs files should end with -epo.fif, -epo.fif.gz, _epo.fif or _epo.fif.gz\n",
      "  epochs = mne.read_epochs(file_path, preload=True)\n"
     ]
    },
    {
     "name": "stdout",
     "output_type": "stream",
     "text": [
      "Effective window size : 1.024 (s)\n",
      "Effective window size : 1.024 (s)\n",
      "(74, 24)\n",
      "Reading c:\\Users\\yaoyu\\Documents\\EE675\\preprocessed_epochs\\sub-24_ses-1_retained-epochs.fif ...\n",
      "    Found the data of interest:\n",
      "        t =       0.00 ...    3998.00 ms\n",
      "        0 CTF compensation matrices available\n",
      "Not setting metadata\n",
      "73 matching events found\n",
      "No baseline correction applied\n",
      "0 projection items activated\n"
     ]
    },
    {
     "name": "stderr",
     "output_type": "stream",
     "text": [
      "C:\\Users\\yaoyu\\AppData\\Local\\Temp\\ipykernel_15608\\2588799638.py:12: RuntimeWarning: This filename (preprocessed_epochs\\sub-24_ses-1_retained-epochs.fif) does not conform to MNE naming conventions. All epochs files should end with -epo.fif, -epo.fif.gz, _epo.fif or _epo.fif.gz\n",
      "  epochs = mne.read_epochs(file_path, preload=True)\n"
     ]
    },
    {
     "name": "stdout",
     "output_type": "stream",
     "text": [
      "Effective window size : 1.024 (s)\n",
      "Effective window size : 1.024 (s)\n",
      "Effective window size : 1.024 (s)\n",
      "(73, 24)\n",
      "Reading c:\\Users\\yaoyu\\Documents\\EE675\\preprocessed_epochs\\sub-24_ses-2_retained-epochs.fif ...\n",
      "    Found the data of interest:\n",
      "        t =       0.00 ...    3998.00 ms\n",
      "        0 CTF compensation matrices available\n",
      "Not setting metadata\n",
      "50 matching events found\n",
      "No baseline correction applied\n",
      "0 projection items activated\n",
      "Effective window size : 1.024 (s)\n"
     ]
    },
    {
     "name": "stderr",
     "output_type": "stream",
     "text": [
      "C:\\Users\\yaoyu\\AppData\\Local\\Temp\\ipykernel_15608\\2588799638.py:12: RuntimeWarning: This filename (preprocessed_epochs\\sub-24_ses-2_retained-epochs.fif) does not conform to MNE naming conventions. All epochs files should end with -epo.fif, -epo.fif.gz, _epo.fif or _epo.fif.gz\n",
      "  epochs = mne.read_epochs(file_path, preload=True)\n"
     ]
    },
    {
     "name": "stdout",
     "output_type": "stream",
     "text": [
      "Effective window size : 1.024 (s)\n",
      "Effective window size : 1.024 (s)\n",
      "(50, 24)\n",
      "Reading c:\\Users\\yaoyu\\Documents\\EE675\\preprocessed_epochs\\sub-25_ses-1_retained-epochs.fif ...\n",
      "    Found the data of interest:\n",
      "        t =       0.00 ...    3998.00 ms\n",
      "        0 CTF compensation matrices available\n",
      "Not setting metadata\n",
      "74 matching events found\n",
      "No baseline correction applied\n",
      "0 projection items activated\n"
     ]
    },
    {
     "name": "stderr",
     "output_type": "stream",
     "text": [
      "C:\\Users\\yaoyu\\AppData\\Local\\Temp\\ipykernel_15608\\2588799638.py:12: RuntimeWarning: This filename (preprocessed_epochs\\sub-25_ses-1_retained-epochs.fif) does not conform to MNE naming conventions. All epochs files should end with -epo.fif, -epo.fif.gz, _epo.fif or _epo.fif.gz\n",
      "  epochs = mne.read_epochs(file_path, preload=True)\n"
     ]
    },
    {
     "name": "stdout",
     "output_type": "stream",
     "text": [
      "Effective window size : 1.024 (s)\n",
      "Effective window size : 1.024 (s)\n",
      "Effective window size : 1.024 (s)\n",
      "(74, 24)\n",
      "Reading c:\\Users\\yaoyu\\Documents\\EE675\\preprocessed_epochs\\sub-25_ses-2_retained-epochs.fif ...\n",
      "    Found the data of interest:\n",
      "        t =       0.00 ...    3998.00 ms\n",
      "        0 CTF compensation matrices available\n",
      "Not setting metadata\n",
      "69 matching events found\n",
      "No baseline correction applied\n",
      "0 projection items activated\n",
      "Effective window size : 1.024 (s)\n"
     ]
    },
    {
     "name": "stderr",
     "output_type": "stream",
     "text": [
      "C:\\Users\\yaoyu\\AppData\\Local\\Temp\\ipykernel_15608\\2588799638.py:12: RuntimeWarning: This filename (preprocessed_epochs\\sub-25_ses-2_retained-epochs.fif) does not conform to MNE naming conventions. All epochs files should end with -epo.fif, -epo.fif.gz, _epo.fif or _epo.fif.gz\n",
      "  epochs = mne.read_epochs(file_path, preload=True)\n"
     ]
    },
    {
     "name": "stdout",
     "output_type": "stream",
     "text": [
      "Effective window size : 1.024 (s)\n",
      "Effective window size : 1.024 (s)\n",
      "(69, 24)\n",
      "Reading c:\\Users\\yaoyu\\Documents\\EE675\\preprocessed_epochs\\sub-26_ses-1_retained-epochs.fif ...\n",
      "    Found the data of interest:\n",
      "        t =       0.00 ...    3998.00 ms\n",
      "        0 CTF compensation matrices available\n",
      "Not setting metadata\n",
      "75 matching events found\n",
      "No baseline correction applied\n",
      "0 projection items activated\n",
      "Effective window size : 1.024 (s)\n"
     ]
    },
    {
     "name": "stderr",
     "output_type": "stream",
     "text": [
      "C:\\Users\\yaoyu\\AppData\\Local\\Temp\\ipykernel_15608\\2588799638.py:12: RuntimeWarning: This filename (preprocessed_epochs\\sub-26_ses-1_retained-epochs.fif) does not conform to MNE naming conventions. All epochs files should end with -epo.fif, -epo.fif.gz, _epo.fif or _epo.fif.gz\n",
      "  epochs = mne.read_epochs(file_path, preload=True)\n"
     ]
    },
    {
     "name": "stdout",
     "output_type": "stream",
     "text": [
      "Effective window size : 1.024 (s)\n",
      "Effective window size : 1.024 (s)\n",
      "(75, 24)\n",
      "Reading c:\\Users\\yaoyu\\Documents\\EE675\\preprocessed_epochs\\sub-26_ses-2_retained-epochs.fif ...\n",
      "    Found the data of interest:\n",
      "        t =       0.00 ...    3998.00 ms\n",
      "        0 CTF compensation matrices available\n",
      "Not setting metadata\n",
      "75 matching events found\n",
      "No baseline correction applied\n",
      "0 projection items activated\n"
     ]
    },
    {
     "name": "stderr",
     "output_type": "stream",
     "text": [
      "C:\\Users\\yaoyu\\AppData\\Local\\Temp\\ipykernel_15608\\2588799638.py:12: RuntimeWarning: This filename (preprocessed_epochs\\sub-26_ses-2_retained-epochs.fif) does not conform to MNE naming conventions. All epochs files should end with -epo.fif, -epo.fif.gz, _epo.fif or _epo.fif.gz\n",
      "  epochs = mne.read_epochs(file_path, preload=True)\n"
     ]
    },
    {
     "name": "stdout",
     "output_type": "stream",
     "text": [
      "Effective window size : 1.024 (s)\n",
      "Effective window size : 1.024 (s)\n",
      "Effective window size : 1.024 (s)\n",
      "(75, 24)\n",
      "Reading c:\\Users\\yaoyu\\Documents\\EE675\\preprocessed_epochs\\sub-27_ses-1_retained-epochs.fif ...\n",
      "    Found the data of interest:\n",
      "        t =       0.00 ...    3998.00 ms\n",
      "        0 CTF compensation matrices available\n",
      "Not setting metadata\n",
      "73 matching events found\n",
      "No baseline correction applied\n",
      "0 projection items activated\n"
     ]
    },
    {
     "name": "stderr",
     "output_type": "stream",
     "text": [
      "C:\\Users\\yaoyu\\AppData\\Local\\Temp\\ipykernel_15608\\2588799638.py:12: RuntimeWarning: This filename (preprocessed_epochs\\sub-27_ses-1_retained-epochs.fif) does not conform to MNE naming conventions. All epochs files should end with -epo.fif, -epo.fif.gz, _epo.fif or _epo.fif.gz\n",
      "  epochs = mne.read_epochs(file_path, preload=True)\n"
     ]
    },
    {
     "name": "stdout",
     "output_type": "stream",
     "text": [
      "Effective window size : 1.024 (s)\n",
      "Effective window size : 1.024 (s)\n",
      "Effective window size : 1.024 (s)\n",
      "(73, 24)\n",
      "Reading c:\\Users\\yaoyu\\Documents\\EE675\\preprocessed_epochs\\sub-27_ses-2_retained-epochs.fif ...\n",
      "    Found the data of interest:\n",
      "        t =       0.00 ...    3998.00 ms\n",
      "        0 CTF compensation matrices available\n",
      "Not setting metadata\n",
      "73 matching events found\n",
      "No baseline correction applied\n",
      "0 projection items activated\n"
     ]
    },
    {
     "name": "stderr",
     "output_type": "stream",
     "text": [
      "C:\\Users\\yaoyu\\AppData\\Local\\Temp\\ipykernel_15608\\2588799638.py:12: RuntimeWarning: This filename (preprocessed_epochs\\sub-27_ses-2_retained-epochs.fif) does not conform to MNE naming conventions. All epochs files should end with -epo.fif, -epo.fif.gz, _epo.fif or _epo.fif.gz\n",
      "  epochs = mne.read_epochs(file_path, preload=True)\n"
     ]
    },
    {
     "name": "stdout",
     "output_type": "stream",
     "text": [
      "Effective window size : 1.024 (s)\n",
      "Effective window size : 1.024 (s)\n",
      "Effective window size : 1.024 (s)\n",
      "(73, 24)\n",
      "Reading c:\\Users\\yaoyu\\Documents\\EE675\\preprocessed_epochs\\sub-28_ses-1_retained-epochs.fif ...\n",
      "    Found the data of interest:\n",
      "        t =       0.00 ...    3998.00 ms\n",
      "        0 CTF compensation matrices available\n",
      "Not setting metadata\n",
      "54 matching events found\n",
      "No baseline correction applied\n",
      "0 projection items activated\n",
      "Effective window size : 1.024 (s)\n"
     ]
    },
    {
     "name": "stderr",
     "output_type": "stream",
     "text": [
      "C:\\Users\\yaoyu\\AppData\\Local\\Temp\\ipykernel_15608\\2588799638.py:12: RuntimeWarning: This filename (preprocessed_epochs\\sub-28_ses-1_retained-epochs.fif) does not conform to MNE naming conventions. All epochs files should end with -epo.fif, -epo.fif.gz, _epo.fif or _epo.fif.gz\n",
      "  epochs = mne.read_epochs(file_path, preload=True)\n"
     ]
    },
    {
     "name": "stdout",
     "output_type": "stream",
     "text": [
      "Effective window size : 1.024 (s)\n",
      "Effective window size : 1.024 (s)\n",
      "(54, 24)\n",
      "Reading c:\\Users\\yaoyu\\Documents\\EE675\\preprocessed_epochs\\sub-28_ses-2_retained-epochs.fif ...\n",
      "    Found the data of interest:\n",
      "        t =       0.00 ...    3998.00 ms\n",
      "        0 CTF compensation matrices available\n",
      "Not setting metadata\n",
      "8 matching events found\n",
      "No baseline correction applied\n",
      "0 projection items activated\n",
      "Reading c:\\Users\\yaoyu\\Documents\\EE675\\preprocessed_epochs\\sub-29_ses-1_retained-epochs.fif ...\n",
      "    Found the data of interest:\n",
      "        t =       0.00 ...    3998.00 ms\n",
      "        0 CTF compensation matrices available\n",
      "Not setting metadata\n",
      "31 matching events found\n",
      "No baseline correction applied\n",
      "0 projection items activated\n",
      "Effective window size : 1.024 (s)\n"
     ]
    },
    {
     "name": "stderr",
     "output_type": "stream",
     "text": [
      "C:\\Users\\yaoyu\\AppData\\Local\\Temp\\ipykernel_15608\\2588799638.py:12: RuntimeWarning: This filename (preprocessed_epochs\\sub-28_ses-2_retained-epochs.fif) does not conform to MNE naming conventions. All epochs files should end with -epo.fif, -epo.fif.gz, _epo.fif or _epo.fif.gz\n",
      "  epochs = mne.read_epochs(file_path, preload=True)\n",
      "C:\\Users\\yaoyu\\AppData\\Local\\Temp\\ipykernel_15608\\2588799638.py:12: RuntimeWarning: This filename (preprocessed_epochs\\sub-29_ses-1_retained-epochs.fif) does not conform to MNE naming conventions. All epochs files should end with -epo.fif, -epo.fif.gz, _epo.fif or _epo.fif.gz\n",
      "  epochs = mne.read_epochs(file_path, preload=True)\n"
     ]
    },
    {
     "name": "stdout",
     "output_type": "stream",
     "text": [
      "Effective window size : 1.024 (s)\n",
      "Effective window size : 1.024 (s)\n",
      "(31, 24)\n",
      "Reading c:\\Users\\yaoyu\\Documents\\EE675\\preprocessed_epochs\\sub-29_ses-2_retained-epochs.fif ...\n",
      "    Found the data of interest:\n",
      "        t =       0.00 ...    3998.00 ms\n",
      "        0 CTF compensation matrices available\n",
      "Not setting metadata\n",
      "75 matching events found\n",
      "No baseline correction applied\n",
      "0 projection items activated\n"
     ]
    },
    {
     "name": "stderr",
     "output_type": "stream",
     "text": [
      "C:\\Users\\yaoyu\\AppData\\Local\\Temp\\ipykernel_15608\\2588799638.py:12: RuntimeWarning: This filename (preprocessed_epochs\\sub-29_ses-2_retained-epochs.fif) does not conform to MNE naming conventions. All epochs files should end with -epo.fif, -epo.fif.gz, _epo.fif or _epo.fif.gz\n",
      "  epochs = mne.read_epochs(file_path, preload=True)\n"
     ]
    },
    {
     "name": "stdout",
     "output_type": "stream",
     "text": [
      "Effective window size : 1.024 (s)\n",
      "Effective window size : 1.024 (s)\n",
      "Effective window size : 1.024 (s)\n",
      "(75, 24)\n",
      "Reading c:\\Users\\yaoyu\\Documents\\EE675\\preprocessed_epochs\\sub-30_ses-1_retained-epochs.fif ...\n",
      "    Found the data of interest:\n",
      "        t =       0.00 ...    3998.00 ms\n",
      "        0 CTF compensation matrices available\n",
      "Not setting metadata\n",
      "75 matching events found\n",
      "No baseline correction applied\n",
      "0 projection items activated\n"
     ]
    },
    {
     "name": "stderr",
     "output_type": "stream",
     "text": [
      "C:\\Users\\yaoyu\\AppData\\Local\\Temp\\ipykernel_15608\\2588799638.py:12: RuntimeWarning: This filename (preprocessed_epochs\\sub-30_ses-1_retained-epochs.fif) does not conform to MNE naming conventions. All epochs files should end with -epo.fif, -epo.fif.gz, _epo.fif or _epo.fif.gz\n",
      "  epochs = mne.read_epochs(file_path, preload=True)\n"
     ]
    },
    {
     "name": "stdout",
     "output_type": "stream",
     "text": [
      "Effective window size : 1.024 (s)\n",
      "Effective window size : 1.024 (s)\n",
      "Effective window size : 1.024 (s)\n",
      "(75, 24)\n",
      "Reading c:\\Users\\yaoyu\\Documents\\EE675\\preprocessed_epochs\\sub-30_ses-2_retained-epochs.fif ...\n",
      "    Found the data of interest:\n",
      "        t =       0.00 ...    3998.00 ms\n",
      "        0 CTF compensation matrices available\n",
      "Not setting metadata\n",
      "42 matching events found\n",
      "No baseline correction applied\n",
      "0 projection items activated\n",
      "Effective window size : 1.024 (s)\n"
     ]
    },
    {
     "name": "stderr",
     "output_type": "stream",
     "text": [
      "C:\\Users\\yaoyu\\AppData\\Local\\Temp\\ipykernel_15608\\2588799638.py:12: RuntimeWarning: This filename (preprocessed_epochs\\sub-30_ses-2_retained-epochs.fif) does not conform to MNE naming conventions. All epochs files should end with -epo.fif, -epo.fif.gz, _epo.fif or _epo.fif.gz\n",
      "  epochs = mne.read_epochs(file_path, preload=True)\n"
     ]
    },
    {
     "name": "stdout",
     "output_type": "stream",
     "text": [
      "Effective window size : 1.024 (s)\n",
      "Effective window size : 1.024 (s)\n",
      "(42, 24)\n",
      "Reading c:\\Users\\yaoyu\\Documents\\EE675\\preprocessed_epochs\\sub-31_ses-1_retained-epochs.fif ...\n",
      "    Found the data of interest:\n",
      "        t =       0.00 ...    3998.00 ms\n",
      "        0 CTF compensation matrices available\n",
      "Not setting metadata\n",
      "74 matching events found\n",
      "No baseline correction applied\n",
      "0 projection items activated\n"
     ]
    },
    {
     "name": "stderr",
     "output_type": "stream",
     "text": [
      "C:\\Users\\yaoyu\\AppData\\Local\\Temp\\ipykernel_15608\\2588799638.py:12: RuntimeWarning: This filename (preprocessed_epochs\\sub-31_ses-1_retained-epochs.fif) does not conform to MNE naming conventions. All epochs files should end with -epo.fif, -epo.fif.gz, _epo.fif or _epo.fif.gz\n",
      "  epochs = mne.read_epochs(file_path, preload=True)\n"
     ]
    },
    {
     "name": "stdout",
     "output_type": "stream",
     "text": [
      "Effective window size : 1.024 (s)\n",
      "Effective window size : 1.024 (s)\n",
      "Effective window size : 1.024 (s)\n",
      "(74, 24)\n",
      "Reading c:\\Users\\yaoyu\\Documents\\EE675\\preprocessed_epochs\\sub-31_ses-2_retained-epochs.fif ...\n",
      "    Found the data of interest:\n",
      "        t =       0.00 ...    3998.00 ms\n",
      "        0 CTF compensation matrices available\n",
      "Not setting metadata\n",
      "68 matching events found\n",
      "No baseline correction applied\n",
      "0 projection items activated\n",
      "Effective window size : 1.024 (s)\n"
     ]
    },
    {
     "name": "stderr",
     "output_type": "stream",
     "text": [
      "C:\\Users\\yaoyu\\AppData\\Local\\Temp\\ipykernel_15608\\2588799638.py:12: RuntimeWarning: This filename (preprocessed_epochs\\sub-31_ses-2_retained-epochs.fif) does not conform to MNE naming conventions. All epochs files should end with -epo.fif, -epo.fif.gz, _epo.fif or _epo.fif.gz\n",
      "  epochs = mne.read_epochs(file_path, preload=True)\n"
     ]
    },
    {
     "name": "stdout",
     "output_type": "stream",
     "text": [
      "Effective window size : 1.024 (s)\n",
      "Effective window size : 1.024 (s)\n",
      "(68, 24)\n",
      "Reading c:\\Users\\yaoyu\\Documents\\EE675\\preprocessed_epochs\\sub-32_ses-1_retained-epochs.fif ...\n",
      "    Found the data of interest:\n",
      "        t =       0.00 ...    3998.00 ms\n",
      "        0 CTF compensation matrices available\n",
      "Not setting metadata\n",
      "62 matching events found\n",
      "No baseline correction applied\n",
      "0 projection items activated\n",
      "Effective window size : 1.024 (s)\n"
     ]
    },
    {
     "name": "stderr",
     "output_type": "stream",
     "text": [
      "C:\\Users\\yaoyu\\AppData\\Local\\Temp\\ipykernel_15608\\2588799638.py:12: RuntimeWarning: This filename (preprocessed_epochs\\sub-32_ses-1_retained-epochs.fif) does not conform to MNE naming conventions. All epochs files should end with -epo.fif, -epo.fif.gz, _epo.fif or _epo.fif.gz\n",
      "  epochs = mne.read_epochs(file_path, preload=True)\n"
     ]
    },
    {
     "name": "stdout",
     "output_type": "stream",
     "text": [
      "Effective window size : 1.024 (s)\n",
      "Effective window size : 1.024 (s)\n",
      "(62, 24)\n",
      "Reading c:\\Users\\yaoyu\\Documents\\EE675\\preprocessed_epochs\\sub-32_ses-2_retained-epochs.fif ...\n",
      "    Found the data of interest:\n",
      "        t =       0.00 ...    3998.00 ms\n",
      "        0 CTF compensation matrices available\n",
      "Not setting metadata\n",
      "17 matching events found\n",
      "No baseline correction applied\n",
      "0 projection items activated\n",
      "Effective window size : 1.024 (s)\n"
     ]
    },
    {
     "name": "stderr",
     "output_type": "stream",
     "text": [
      "C:\\Users\\yaoyu\\AppData\\Local\\Temp\\ipykernel_15608\\2588799638.py:12: RuntimeWarning: This filename (preprocessed_epochs\\sub-32_ses-2_retained-epochs.fif) does not conform to MNE naming conventions. All epochs files should end with -epo.fif, -epo.fif.gz, _epo.fif or _epo.fif.gz\n",
      "  epochs = mne.read_epochs(file_path, preload=True)\n"
     ]
    },
    {
     "name": "stdout",
     "output_type": "stream",
     "text": [
      "Effective window size : 1.024 (s)\n",
      "Effective window size : 1.024 (s)\n",
      "(17, 24)\n",
      "Reading c:\\Users\\yaoyu\\Documents\\EE675\\preprocessed_epochs\\sub-33_ses-1_retained-epochs.fif ...\n",
      "    Found the data of interest:\n",
      "        t =       0.00 ...    3998.00 ms\n",
      "        0 CTF compensation matrices available\n",
      "Not setting metadata\n",
      "73 matching events found\n",
      "No baseline correction applied\n",
      "0 projection items activated\n",
      "Effective window size : 1.024 (s)\n"
     ]
    },
    {
     "name": "stderr",
     "output_type": "stream",
     "text": [
      "C:\\Users\\yaoyu\\AppData\\Local\\Temp\\ipykernel_15608\\2588799638.py:12: RuntimeWarning: This filename (preprocessed_epochs\\sub-33_ses-1_retained-epochs.fif) does not conform to MNE naming conventions. All epochs files should end with -epo.fif, -epo.fif.gz, _epo.fif or _epo.fif.gz\n",
      "  epochs = mne.read_epochs(file_path, preload=True)\n"
     ]
    },
    {
     "name": "stdout",
     "output_type": "stream",
     "text": [
      "Effective window size : 1.024 (s)\n",
      "Effective window size : 1.024 (s)\n",
      "(73, 24)\n",
      "Reading c:\\Users\\yaoyu\\Documents\\EE675\\preprocessed_epochs\\sub-33_ses-2_retained-epochs.fif ...\n",
      "    Found the data of interest:\n",
      "        t =       0.00 ...    3998.00 ms\n",
      "        0 CTF compensation matrices available\n",
      "Not setting metadata\n",
      "72 matching events found\n",
      "No baseline correction applied\n",
      "0 projection items activated\n"
     ]
    },
    {
     "name": "stderr",
     "output_type": "stream",
     "text": [
      "C:\\Users\\yaoyu\\AppData\\Local\\Temp\\ipykernel_15608\\2588799638.py:12: RuntimeWarning: This filename (preprocessed_epochs\\sub-33_ses-2_retained-epochs.fif) does not conform to MNE naming conventions. All epochs files should end with -epo.fif, -epo.fif.gz, _epo.fif or _epo.fif.gz\n",
      "  epochs = mne.read_epochs(file_path, preload=True)\n"
     ]
    },
    {
     "name": "stdout",
     "output_type": "stream",
     "text": [
      "Effective window size : 1.024 (s)\n",
      "Effective window size : 1.024 (s)\n",
      "Effective window size : 1.024 (s)\n",
      "(72, 24)\n",
      "Reading c:\\Users\\yaoyu\\Documents\\EE675\\preprocessed_epochs\\sub-34_ses-1_retained-epochs.fif ...\n",
      "    Found the data of interest:\n",
      "        t =       0.00 ...    3998.00 ms\n",
      "        0 CTF compensation matrices available\n",
      "Not setting metadata\n",
      "72 matching events found\n",
      "No baseline correction applied\n",
      "0 projection items activated\n"
     ]
    },
    {
     "name": "stderr",
     "output_type": "stream",
     "text": [
      "C:\\Users\\yaoyu\\AppData\\Local\\Temp\\ipykernel_15608\\2588799638.py:12: RuntimeWarning: This filename (preprocessed_epochs\\sub-34_ses-1_retained-epochs.fif) does not conform to MNE naming conventions. All epochs files should end with -epo.fif, -epo.fif.gz, _epo.fif or _epo.fif.gz\n",
      "  epochs = mne.read_epochs(file_path, preload=True)\n"
     ]
    },
    {
     "name": "stdout",
     "output_type": "stream",
     "text": [
      "Effective window size : 1.024 (s)\n",
      "Effective window size : 1.024 (s)\n",
      "Effective window size : 1.024 (s)\n",
      "(72, 24)\n",
      "Reading c:\\Users\\yaoyu\\Documents\\EE675\\preprocessed_epochs\\sub-34_ses-2_retained-epochs.fif ...\n",
      "    Found the data of interest:\n",
      "        t =       0.00 ...    3998.00 ms\n",
      "        0 CTF compensation matrices available\n",
      "Not setting metadata\n",
      "74 matching events found\n",
      "No baseline correction applied\n",
      "0 projection items activated\n"
     ]
    },
    {
     "name": "stderr",
     "output_type": "stream",
     "text": [
      "C:\\Users\\yaoyu\\AppData\\Local\\Temp\\ipykernel_15608\\2588799638.py:12: RuntimeWarning: This filename (preprocessed_epochs\\sub-34_ses-2_retained-epochs.fif) does not conform to MNE naming conventions. All epochs files should end with -epo.fif, -epo.fif.gz, _epo.fif or _epo.fif.gz\n",
      "  epochs = mne.read_epochs(file_path, preload=True)\n"
     ]
    },
    {
     "name": "stdout",
     "output_type": "stream",
     "text": [
      "Effective window size : 1.024 (s)\n",
      "Effective window size : 1.024 (s)\n",
      "Effective window size : 1.024 (s)\n",
      "(74, 24)\n",
      "Reading c:\\Users\\yaoyu\\Documents\\EE675\\preprocessed_epochs\\sub-35_ses-1_retained-epochs.fif ...\n",
      "    Found the data of interest:\n",
      "        t =       0.00 ...    3998.00 ms\n",
      "        0 CTF compensation matrices available\n",
      "Not setting metadata\n",
      "43 matching events found\n",
      "No baseline correction applied\n",
      "0 projection items activated\n",
      "Effective window size : 1.024 (s)\n"
     ]
    },
    {
     "name": "stderr",
     "output_type": "stream",
     "text": [
      "C:\\Users\\yaoyu\\AppData\\Local\\Temp\\ipykernel_15608\\2588799638.py:12: RuntimeWarning: This filename (preprocessed_epochs\\sub-35_ses-1_retained-epochs.fif) does not conform to MNE naming conventions. All epochs files should end with -epo.fif, -epo.fif.gz, _epo.fif or _epo.fif.gz\n",
      "  epochs = mne.read_epochs(file_path, preload=True)\n"
     ]
    },
    {
     "name": "stdout",
     "output_type": "stream",
     "text": [
      "Effective window size : 1.024 (s)\n",
      "Effective window size : 1.024 (s)\n",
      "(43, 24)\n",
      "Reading c:\\Users\\yaoyu\\Documents\\EE675\\preprocessed_epochs\\sub-35_ses-2_retained-epochs.fif ...\n",
      "    Found the data of interest:\n",
      "        t =       0.00 ...    3998.00 ms\n",
      "        0 CTF compensation matrices available\n",
      "Not setting metadata\n",
      "69 matching events found\n",
      "No baseline correction applied\n",
      "0 projection items activated\n",
      "Effective window size : 1.024 (s)\n"
     ]
    },
    {
     "name": "stderr",
     "output_type": "stream",
     "text": [
      "C:\\Users\\yaoyu\\AppData\\Local\\Temp\\ipykernel_15608\\2588799638.py:12: RuntimeWarning: This filename (preprocessed_epochs\\sub-35_ses-2_retained-epochs.fif) does not conform to MNE naming conventions. All epochs files should end with -epo.fif, -epo.fif.gz, _epo.fif or _epo.fif.gz\n",
      "  epochs = mne.read_epochs(file_path, preload=True)\n"
     ]
    },
    {
     "name": "stdout",
     "output_type": "stream",
     "text": [
      "Effective window size : 1.024 (s)\n",
      "Effective window size : 1.024 (s)\n",
      "(69, 24)\n",
      "Reading c:\\Users\\yaoyu\\Documents\\EE675\\preprocessed_epochs\\sub-36_ses-1_retained-epochs.fif ...\n",
      "    Found the data of interest:\n",
      "        t =       0.00 ...    3998.00 ms\n",
      "        0 CTF compensation matrices available\n",
      "Not setting metadata\n",
      "49 matching events found\n",
      "No baseline correction applied\n",
      "0 projection items activated\n",
      "Effective window size : 1.024 (s)\n"
     ]
    },
    {
     "name": "stderr",
     "output_type": "stream",
     "text": [
      "C:\\Users\\yaoyu\\AppData\\Local\\Temp\\ipykernel_15608\\2588799638.py:12: RuntimeWarning: This filename (preprocessed_epochs\\sub-36_ses-1_retained-epochs.fif) does not conform to MNE naming conventions. All epochs files should end with -epo.fif, -epo.fif.gz, _epo.fif or _epo.fif.gz\n",
      "  epochs = mne.read_epochs(file_path, preload=True)\n"
     ]
    },
    {
     "name": "stdout",
     "output_type": "stream",
     "text": [
      "Effective window size : 1.024 (s)\n",
      "Effective window size : 1.024 (s)\n",
      "(49, 24)\n",
      "Reading c:\\Users\\yaoyu\\Documents\\EE675\\preprocessed_epochs\\sub-36_ses-2_retained-epochs.fif ...\n",
      "    Found the data of interest:\n",
      "        t =       0.00 ...    3998.00 ms\n",
      "        0 CTF compensation matrices available\n",
      "Not setting metadata\n",
      "75 matching events found\n",
      "No baseline correction applied\n",
      "0 projection items activated\n",
      "Effective window size : 1.024 (s)\n"
     ]
    },
    {
     "name": "stderr",
     "output_type": "stream",
     "text": [
      "C:\\Users\\yaoyu\\AppData\\Local\\Temp\\ipykernel_15608\\2588799638.py:12: RuntimeWarning: This filename (preprocessed_epochs\\sub-36_ses-2_retained-epochs.fif) does not conform to MNE naming conventions. All epochs files should end with -epo.fif, -epo.fif.gz, _epo.fif or _epo.fif.gz\n",
      "  epochs = mne.read_epochs(file_path, preload=True)\n"
     ]
    },
    {
     "name": "stdout",
     "output_type": "stream",
     "text": [
      "Effective window size : 1.024 (s)\n",
      "Effective window size : 1.024 (s)\n",
      "(75, 24)\n",
      "Reading c:\\Users\\yaoyu\\Documents\\EE675\\preprocessed_epochs\\sub-37_ses-1_retained-epochs.fif ...\n",
      "    Found the data of interest:\n",
      "        t =       0.00 ...    3998.00 ms\n",
      "        0 CTF compensation matrices available\n",
      "Not setting metadata\n",
      "73 matching events found\n",
      "No baseline correction applied\n",
      "0 projection items activated\n"
     ]
    },
    {
     "name": "stderr",
     "output_type": "stream",
     "text": [
      "C:\\Users\\yaoyu\\AppData\\Local\\Temp\\ipykernel_15608\\2588799638.py:12: RuntimeWarning: This filename (preprocessed_epochs\\sub-37_ses-1_retained-epochs.fif) does not conform to MNE naming conventions. All epochs files should end with -epo.fif, -epo.fif.gz, _epo.fif or _epo.fif.gz\n",
      "  epochs = mne.read_epochs(file_path, preload=True)\n"
     ]
    },
    {
     "name": "stdout",
     "output_type": "stream",
     "text": [
      "Effective window size : 1.024 (s)\n",
      "Effective window size : 1.024 (s)\n",
      "Effective window size : 1.024 (s)\n",
      "(73, 24)\n",
      "Reading c:\\Users\\yaoyu\\Documents\\EE675\\preprocessed_epochs\\sub-37_ses-2_retained-epochs.fif ...\n",
      "    Found the data of interest:\n",
      "        t =       0.00 ...    3998.00 ms\n",
      "        0 CTF compensation matrices available\n",
      "Not setting metadata\n",
      "41 matching events found\n",
      "No baseline correction applied\n",
      "0 projection items activated\n",
      "Effective window size : 1.024 (s)\n"
     ]
    },
    {
     "name": "stderr",
     "output_type": "stream",
     "text": [
      "C:\\Users\\yaoyu\\AppData\\Local\\Temp\\ipykernel_15608\\2588799638.py:12: RuntimeWarning: This filename (preprocessed_epochs\\sub-37_ses-2_retained-epochs.fif) does not conform to MNE naming conventions. All epochs files should end with -epo.fif, -epo.fif.gz, _epo.fif or _epo.fif.gz\n",
      "  epochs = mne.read_epochs(file_path, preload=True)\n"
     ]
    },
    {
     "name": "stdout",
     "output_type": "stream",
     "text": [
      "Effective window size : 1.024 (s)\n",
      "Effective window size : 1.024 (s)\n",
      "(41, 24)\n",
      "Reading c:\\Users\\yaoyu\\Documents\\EE675\\preprocessed_epochs\\sub-38_ses-1_retained-epochs.fif ...\n",
      "    Found the data of interest:\n",
      "        t =       0.00 ...    3998.00 ms\n",
      "        0 CTF compensation matrices available\n",
      "Not setting metadata\n",
      "73 matching events found\n",
      "No baseline correction applied\n",
      "0 projection items activated\n"
     ]
    },
    {
     "name": "stderr",
     "output_type": "stream",
     "text": [
      "C:\\Users\\yaoyu\\AppData\\Local\\Temp\\ipykernel_15608\\2588799638.py:12: RuntimeWarning: This filename (preprocessed_epochs\\sub-38_ses-1_retained-epochs.fif) does not conform to MNE naming conventions. All epochs files should end with -epo.fif, -epo.fif.gz, _epo.fif or _epo.fif.gz\n",
      "  epochs = mne.read_epochs(file_path, preload=True)\n"
     ]
    },
    {
     "name": "stdout",
     "output_type": "stream",
     "text": [
      "Effective window size : 1.024 (s)\n",
      "Effective window size : 1.024 (s)\n",
      "Effective window size : 1.024 (s)\n",
      "(73, 24)\n",
      "Reading c:\\Users\\yaoyu\\Documents\\EE675\\preprocessed_epochs\\sub-39_ses-1_retained-epochs.fif ...\n",
      "    Found the data of interest:\n",
      "        t =       0.00 ...    3998.00 ms\n",
      "        0 CTF compensation matrices available\n",
      "Not setting metadata\n",
      "17 matching events found\n",
      "No baseline correction applied\n",
      "0 projection items activated\n",
      "Effective window size : 1.024 (s)\n"
     ]
    },
    {
     "name": "stderr",
     "output_type": "stream",
     "text": [
      "C:\\Users\\yaoyu\\AppData\\Local\\Temp\\ipykernel_15608\\2588799638.py:12: RuntimeWarning: This filename (preprocessed_epochs\\sub-39_ses-1_retained-epochs.fif) does not conform to MNE naming conventions. All epochs files should end with -epo.fif, -epo.fif.gz, _epo.fif or _epo.fif.gz\n",
      "  epochs = mne.read_epochs(file_path, preload=True)\n"
     ]
    },
    {
     "name": "stdout",
     "output_type": "stream",
     "text": [
      "Effective window size : 1.024 (s)\n",
      "Effective window size : 1.024 (s)\n",
      "(17, 24)\n",
      "Reading c:\\Users\\yaoyu\\Documents\\EE675\\preprocessed_epochs\\sub-39_ses-2_retained-epochs.fif ...\n",
      "    Found the data of interest:\n",
      "        t =       0.00 ...    3998.00 ms\n",
      "        0 CTF compensation matrices available\n",
      "Not setting metadata\n",
      "56 matching events found\n",
      "No baseline correction applied\n",
      "0 projection items activated\n"
     ]
    },
    {
     "name": "stderr",
     "output_type": "stream",
     "text": [
      "C:\\Users\\yaoyu\\AppData\\Local\\Temp\\ipykernel_15608\\2588799638.py:12: RuntimeWarning: This filename (preprocessed_epochs\\sub-39_ses-2_retained-epochs.fif) does not conform to MNE naming conventions. All epochs files should end with -epo.fif, -epo.fif.gz, _epo.fif or _epo.fif.gz\n",
      "  epochs = mne.read_epochs(file_path, preload=True)\n"
     ]
    },
    {
     "name": "stdout",
     "output_type": "stream",
     "text": [
      "Effective window size : 1.024 (s)\n",
      "Effective window size : 1.024 (s)\n",
      "Effective window size : 1.024 (s)\n",
      "(56, 24)\n",
      "Reading c:\\Users\\yaoyu\\Documents\\EE675\\preprocessed_epochs\\sub-40_ses-1_retained-epochs.fif ...\n",
      "    Found the data of interest:\n",
      "        t =       0.00 ...    3998.00 ms\n",
      "        0 CTF compensation matrices available\n",
      "Not setting metadata\n",
      "67 matching events found\n",
      "No baseline correction applied\n",
      "0 projection items activated\n",
      "Effective window size : 1.024 (s)\n"
     ]
    },
    {
     "name": "stderr",
     "output_type": "stream",
     "text": [
      "C:\\Users\\yaoyu\\AppData\\Local\\Temp\\ipykernel_15608\\2588799638.py:12: RuntimeWarning: This filename (preprocessed_epochs\\sub-40_ses-1_retained-epochs.fif) does not conform to MNE naming conventions. All epochs files should end with -epo.fif, -epo.fif.gz, _epo.fif or _epo.fif.gz\n",
      "  epochs = mne.read_epochs(file_path, preload=True)\n"
     ]
    },
    {
     "name": "stdout",
     "output_type": "stream",
     "text": [
      "Effective window size : 1.024 (s)\n",
      "Effective window size : 1.024 (s)\n",
      "(67, 24)\n",
      "Reading c:\\Users\\yaoyu\\Documents\\EE675\\preprocessed_epochs\\sub-40_ses-2_retained-epochs.fif ...\n",
      "    Found the data of interest:\n",
      "        t =       0.00 ...    3998.00 ms\n",
      "        0 CTF compensation matrices available\n",
      "Not setting metadata\n",
      "49 matching events found\n",
      "No baseline correction applied\n",
      "0 projection items activated\n",
      "Effective window size : 1.024 (s)\n"
     ]
    },
    {
     "name": "stderr",
     "output_type": "stream",
     "text": [
      "C:\\Users\\yaoyu\\AppData\\Local\\Temp\\ipykernel_15608\\2588799638.py:12: RuntimeWarning: This filename (preprocessed_epochs\\sub-40_ses-2_retained-epochs.fif) does not conform to MNE naming conventions. All epochs files should end with -epo.fif, -epo.fif.gz, _epo.fif or _epo.fif.gz\n",
      "  epochs = mne.read_epochs(file_path, preload=True)\n"
     ]
    },
    {
     "name": "stdout",
     "output_type": "stream",
     "text": [
      "Effective window size : 1.024 (s)\n",
      "Effective window size : 1.024 (s)\n",
      "(49, 24)\n",
      "Reading c:\\Users\\yaoyu\\Documents\\EE675\\preprocessed_epochs\\sub-41_ses-1_retained-epochs.fif ...\n",
      "    Found the data of interest:\n",
      "        t =       0.00 ...    3998.00 ms\n",
      "        0 CTF compensation matrices available\n",
      "Not setting metadata\n",
      "53 matching events found\n",
      "No baseline correction applied\n",
      "0 projection items activated\n",
      "Effective window size : 1.024 (s)\n"
     ]
    },
    {
     "name": "stderr",
     "output_type": "stream",
     "text": [
      "C:\\Users\\yaoyu\\AppData\\Local\\Temp\\ipykernel_15608\\2588799638.py:12: RuntimeWarning: This filename (preprocessed_epochs\\sub-41_ses-1_retained-epochs.fif) does not conform to MNE naming conventions. All epochs files should end with -epo.fif, -epo.fif.gz, _epo.fif or _epo.fif.gz\n",
      "  epochs = mne.read_epochs(file_path, preload=True)\n"
     ]
    },
    {
     "name": "stdout",
     "output_type": "stream",
     "text": [
      "Effective window size : 1.024 (s)\n",
      "Effective window size : 1.024 (s)\n",
      "(53, 24)\n",
      "Reading c:\\Users\\yaoyu\\Documents\\EE675\\preprocessed_epochs\\sub-41_ses-2_retained-epochs.fif ...\n",
      "    Found the data of interest:\n",
      "        t =       0.00 ...    3998.00 ms\n",
      "        0 CTF compensation matrices available\n",
      "Not setting metadata\n",
      "62 matching events found\n",
      "No baseline correction applied\n",
      "0 projection items activated\n",
      "Effective window size : 1.024 (s)\n"
     ]
    },
    {
     "name": "stderr",
     "output_type": "stream",
     "text": [
      "C:\\Users\\yaoyu\\AppData\\Local\\Temp\\ipykernel_15608\\2588799638.py:12: RuntimeWarning: This filename (preprocessed_epochs\\sub-41_ses-2_retained-epochs.fif) does not conform to MNE naming conventions. All epochs files should end with -epo.fif, -epo.fif.gz, _epo.fif or _epo.fif.gz\n",
      "  epochs = mne.read_epochs(file_path, preload=True)\n"
     ]
    },
    {
     "name": "stdout",
     "output_type": "stream",
     "text": [
      "Effective window size : 1.024 (s)\n",
      "Effective window size : 1.024 (s)\n",
      "(62, 24)\n",
      "Reading c:\\Users\\yaoyu\\Documents\\EE675\\preprocessed_epochs\\sub-42_ses-1_retained-epochs.fif ...\n",
      "    Found the data of interest:\n",
      "        t =       0.00 ...    3998.00 ms\n",
      "        0 CTF compensation matrices available\n",
      "Not setting metadata\n",
      "71 matching events found\n",
      "No baseline correction applied\n",
      "0 projection items activated\n"
     ]
    },
    {
     "name": "stderr",
     "output_type": "stream",
     "text": [
      "C:\\Users\\yaoyu\\AppData\\Local\\Temp\\ipykernel_15608\\2588799638.py:12: RuntimeWarning: This filename (preprocessed_epochs\\sub-42_ses-1_retained-epochs.fif) does not conform to MNE naming conventions. All epochs files should end with -epo.fif, -epo.fif.gz, _epo.fif or _epo.fif.gz\n",
      "  epochs = mne.read_epochs(file_path, preload=True)\n"
     ]
    },
    {
     "name": "stdout",
     "output_type": "stream",
     "text": [
      "Effective window size : 1.024 (s)\n",
      "Effective window size : 1.024 (s)\n",
      "Effective window size : 1.024 (s)\n",
      "(71, 24)\n",
      "Reading c:\\Users\\yaoyu\\Documents\\EE675\\preprocessed_epochs\\sub-42_ses-2_retained-epochs.fif ...\n",
      "    Found the data of interest:\n",
      "        t =       0.00 ...    3998.00 ms\n",
      "        0 CTF compensation matrices available\n",
      "Not setting metadata\n",
      "72 matching events found\n",
      "No baseline correction applied\n",
      "0 projection items activated\n",
      "Effective window size : 1.024 (s)\n"
     ]
    },
    {
     "name": "stderr",
     "output_type": "stream",
     "text": [
      "C:\\Users\\yaoyu\\AppData\\Local\\Temp\\ipykernel_15608\\2588799638.py:12: RuntimeWarning: This filename (preprocessed_epochs\\sub-42_ses-2_retained-epochs.fif) does not conform to MNE naming conventions. All epochs files should end with -epo.fif, -epo.fif.gz, _epo.fif or _epo.fif.gz\n",
      "  epochs = mne.read_epochs(file_path, preload=True)\n"
     ]
    },
    {
     "name": "stdout",
     "output_type": "stream",
     "text": [
      "Effective window size : 1.024 (s)\n",
      "Effective window size : 1.024 (s)\n",
      "(72, 24)\n",
      "Reading c:\\Users\\yaoyu\\Documents\\EE675\\preprocessed_epochs\\sub-43_ses-1_retained-epochs.fif ...\n",
      "    Found the data of interest:\n",
      "        t =       0.00 ...    3998.00 ms\n",
      "        0 CTF compensation matrices available\n",
      "Not setting metadata\n",
      "65 matching events found\n",
      "No baseline correction applied\n",
      "0 projection items activated\n",
      "Effective window size : 1.024 (s)\n"
     ]
    },
    {
     "name": "stderr",
     "output_type": "stream",
     "text": [
      "C:\\Users\\yaoyu\\AppData\\Local\\Temp\\ipykernel_15608\\2588799638.py:12: RuntimeWarning: This filename (preprocessed_epochs\\sub-43_ses-1_retained-epochs.fif) does not conform to MNE naming conventions. All epochs files should end with -epo.fif, -epo.fif.gz, _epo.fif or _epo.fif.gz\n",
      "  epochs = mne.read_epochs(file_path, preload=True)\n"
     ]
    },
    {
     "name": "stdout",
     "output_type": "stream",
     "text": [
      "Effective window size : 1.024 (s)\n",
      "Effective window size : 1.024 (s)\n",
      "(65, 24)\n",
      "Reading c:\\Users\\yaoyu\\Documents\\EE675\\preprocessed_epochs\\sub-43_ses-2_retained-epochs.fif ...\n",
      "    Found the data of interest:\n",
      "        t =       0.00 ...    3998.00 ms\n",
      "        0 CTF compensation matrices available\n",
      "Not setting metadata\n",
      "49 matching events found\n",
      "No baseline correction applied\n",
      "0 projection items activated\n",
      "Effective window size : 1.024 (s)\n"
     ]
    },
    {
     "name": "stderr",
     "output_type": "stream",
     "text": [
      "C:\\Users\\yaoyu\\AppData\\Local\\Temp\\ipykernel_15608\\2588799638.py:12: RuntimeWarning: This filename (preprocessed_epochs\\sub-43_ses-2_retained-epochs.fif) does not conform to MNE naming conventions. All epochs files should end with -epo.fif, -epo.fif.gz, _epo.fif or _epo.fif.gz\n",
      "  epochs = mne.read_epochs(file_path, preload=True)\n"
     ]
    },
    {
     "name": "stdout",
     "output_type": "stream",
     "text": [
      "Effective window size : 1.024 (s)\n",
      "Effective window size : 1.024 (s)\n",
      "(49, 24)\n",
      "Reading c:\\Users\\yaoyu\\Documents\\EE675\\preprocessed_epochs\\sub-44_ses-1_retained-epochs.fif ...\n",
      "    Found the data of interest:\n",
      "        t =       0.00 ...    3998.00 ms\n",
      "        0 CTF compensation matrices available\n",
      "Not setting metadata\n",
      "65 matching events found\n",
      "No baseline correction applied\n",
      "0 projection items activated\n"
     ]
    },
    {
     "name": "stderr",
     "output_type": "stream",
     "text": [
      "C:\\Users\\yaoyu\\AppData\\Local\\Temp\\ipykernel_15608\\2588799638.py:12: RuntimeWarning: This filename (preprocessed_epochs\\sub-44_ses-1_retained-epochs.fif) does not conform to MNE naming conventions. All epochs files should end with -epo.fif, -epo.fif.gz, _epo.fif or _epo.fif.gz\n",
      "  epochs = mne.read_epochs(file_path, preload=True)\n"
     ]
    },
    {
     "name": "stdout",
     "output_type": "stream",
     "text": [
      "Effective window size : 1.024 (s)\n",
      "Effective window size : 1.024 (s)\n",
      "Effective window size : 1.024 (s)\n",
      "(65, 24)\n",
      "Reading c:\\Users\\yaoyu\\Documents\\EE675\\preprocessed_epochs\\sub-45_ses-1_retained-epochs.fif ...\n",
      "    Found the data of interest:\n",
      "        t =       0.00 ...    3998.00 ms\n",
      "        0 CTF compensation matrices available\n",
      "Not setting metadata\n",
      "70 matching events found\n",
      "No baseline correction applied\n",
      "0 projection items activated\n"
     ]
    },
    {
     "name": "stderr",
     "output_type": "stream",
     "text": [
      "C:\\Users\\yaoyu\\AppData\\Local\\Temp\\ipykernel_15608\\2588799638.py:12: RuntimeWarning: This filename (preprocessed_epochs\\sub-45_ses-1_retained-epochs.fif) does not conform to MNE naming conventions. All epochs files should end with -epo.fif, -epo.fif.gz, _epo.fif or _epo.fif.gz\n",
      "  epochs = mne.read_epochs(file_path, preload=True)\n"
     ]
    },
    {
     "name": "stdout",
     "output_type": "stream",
     "text": [
      "Effective window size : 1.024 (s)\n",
      "Effective window size : 1.024 (s)\n",
      "Effective window size : 1.024 (s)\n",
      "(70, 24)\n",
      "Reading c:\\Users\\yaoyu\\Documents\\EE675\\preprocessed_epochs\\sub-45_ses-2_retained-epochs.fif ...\n",
      "    Found the data of interest:\n",
      "        t =       0.00 ...    3998.00 ms\n",
      "        0 CTF compensation matrices available\n",
      "Not setting metadata\n",
      "28 matching events found\n",
      "No baseline correction applied\n",
      "0 projection items activated\n",
      "Effective window size : 1.024 (s)\n"
     ]
    },
    {
     "name": "stderr",
     "output_type": "stream",
     "text": [
      "C:\\Users\\yaoyu\\AppData\\Local\\Temp\\ipykernel_15608\\2588799638.py:12: RuntimeWarning: This filename (preprocessed_epochs\\sub-45_ses-2_retained-epochs.fif) does not conform to MNE naming conventions. All epochs files should end with -epo.fif, -epo.fif.gz, _epo.fif or _epo.fif.gz\n",
      "  epochs = mne.read_epochs(file_path, preload=True)\n"
     ]
    },
    {
     "name": "stdout",
     "output_type": "stream",
     "text": [
      "Effective window size : 1.024 (s)\n",
      "Effective window size : 1.024 (s)\n",
      "(28, 24)\n",
      "Reading c:\\Users\\yaoyu\\Documents\\EE675\\preprocessed_epochs\\sub-46_ses-1_retained-epochs.fif ...\n",
      "    Found the data of interest:\n",
      "        t =       0.00 ...    3998.00 ms\n",
      "        0 CTF compensation matrices available\n",
      "Not setting metadata\n",
      "66 matching events found\n",
      "No baseline correction applied\n",
      "0 projection items activated\n"
     ]
    },
    {
     "name": "stderr",
     "output_type": "stream",
     "text": [
      "C:\\Users\\yaoyu\\AppData\\Local\\Temp\\ipykernel_15608\\2588799638.py:12: RuntimeWarning: This filename (preprocessed_epochs\\sub-46_ses-1_retained-epochs.fif) does not conform to MNE naming conventions. All epochs files should end with -epo.fif, -epo.fif.gz, _epo.fif or _epo.fif.gz\n",
      "  epochs = mne.read_epochs(file_path, preload=True)\n"
     ]
    },
    {
     "name": "stdout",
     "output_type": "stream",
     "text": [
      "Effective window size : 1.024 (s)\n",
      "Effective window size : 1.024 (s)\n",
      "Effective window size : 1.024 (s)\n",
      "(66, 24)\n",
      "Reading c:\\Users\\yaoyu\\Documents\\EE675\\preprocessed_epochs\\sub-46_ses-2_retained-epochs.fif ...\n",
      "    Found the data of interest:\n",
      "        t =       0.00 ...    3998.00 ms\n",
      "        0 CTF compensation matrices available\n",
      "Not setting metadata\n",
      "59 matching events found\n",
      "No baseline correction applied\n",
      "0 projection items activated\n",
      "Effective window size : 1.024 (s)\n"
     ]
    },
    {
     "name": "stderr",
     "output_type": "stream",
     "text": [
      "C:\\Users\\yaoyu\\AppData\\Local\\Temp\\ipykernel_15608\\2588799638.py:12: RuntimeWarning: This filename (preprocessed_epochs\\sub-46_ses-2_retained-epochs.fif) does not conform to MNE naming conventions. All epochs files should end with -epo.fif, -epo.fif.gz, _epo.fif or _epo.fif.gz\n",
      "  epochs = mne.read_epochs(file_path, preload=True)\n"
     ]
    },
    {
     "name": "stdout",
     "output_type": "stream",
     "text": [
      "Effective window size : 1.024 (s)\n",
      "Effective window size : 1.024 (s)\n",
      "(59, 24)\n",
      "Reading c:\\Users\\yaoyu\\Documents\\EE675\\preprocessed_epochs\\sub-47_ses-2_retained-epochs.fif ...\n",
      "    Found the data of interest:\n",
      "        t =       0.00 ...    3998.00 ms\n",
      "        0 CTF compensation matrices available\n",
      "Not setting metadata\n",
      "52 matching events found\n",
      "No baseline correction applied\n",
      "0 projection items activated\n",
      "Effective window size : 1.024 (s)\n"
     ]
    },
    {
     "name": "stderr",
     "output_type": "stream",
     "text": [
      "C:\\Users\\yaoyu\\AppData\\Local\\Temp\\ipykernel_15608\\2588799638.py:12: RuntimeWarning: This filename (preprocessed_epochs\\sub-47_ses-2_retained-epochs.fif) does not conform to MNE naming conventions. All epochs files should end with -epo.fif, -epo.fif.gz, _epo.fif or _epo.fif.gz\n",
      "  epochs = mne.read_epochs(file_path, preload=True)\n"
     ]
    },
    {
     "name": "stdout",
     "output_type": "stream",
     "text": [
      "Effective window size : 1.024 (s)\n",
      "Effective window size : 1.024 (s)\n",
      "(52, 24)\n",
      "Reading c:\\Users\\yaoyu\\Documents\\EE675\\preprocessed_epochs\\sub-48_ses-1_retained-epochs.fif ...\n",
      "    Found the data of interest:\n",
      "        t =       0.00 ...    3998.00 ms\n",
      "        0 CTF compensation matrices available\n",
      "Not setting metadata\n",
      "40 matching events found\n",
      "No baseline correction applied\n",
      "0 projection items activated\n",
      "Effective window size : 1.024 (s)\n"
     ]
    },
    {
     "name": "stderr",
     "output_type": "stream",
     "text": [
      "C:\\Users\\yaoyu\\AppData\\Local\\Temp\\ipykernel_15608\\2588799638.py:12: RuntimeWarning: This filename (preprocessed_epochs\\sub-48_ses-1_retained-epochs.fif) does not conform to MNE naming conventions. All epochs files should end with -epo.fif, -epo.fif.gz, _epo.fif or _epo.fif.gz\n",
      "  epochs = mne.read_epochs(file_path, preload=True)\n"
     ]
    },
    {
     "name": "stdout",
     "output_type": "stream",
     "text": [
      "Effective window size : 1.024 (s)\n",
      "Effective window size : 1.024 (s)\n",
      "(40, 24)\n",
      "Reading c:\\Users\\yaoyu\\Documents\\EE675\\preprocessed_epochs\\sub-48_ses-2_retained-epochs.fif ...\n",
      "    Found the data of interest:\n",
      "        t =       0.00 ...    3998.00 ms\n",
      "        0 CTF compensation matrices available\n",
      "Not setting metadata\n",
      "36 matching events found\n",
      "No baseline correction applied\n",
      "0 projection items activated\n",
      "Effective window size : 1.024 (s)\n"
     ]
    },
    {
     "name": "stderr",
     "output_type": "stream",
     "text": [
      "C:\\Users\\yaoyu\\AppData\\Local\\Temp\\ipykernel_15608\\2588799638.py:12: RuntimeWarning: This filename (preprocessed_epochs\\sub-48_ses-2_retained-epochs.fif) does not conform to MNE naming conventions. All epochs files should end with -epo.fif, -epo.fif.gz, _epo.fif or _epo.fif.gz\n",
      "  epochs = mne.read_epochs(file_path, preload=True)\n"
     ]
    },
    {
     "name": "stdout",
     "output_type": "stream",
     "text": [
      "Effective window size : 1.024 (s)\n",
      "Effective window size : 1.024 (s)\n",
      "(36, 24)\n",
      "Reading c:\\Users\\yaoyu\\Documents\\EE675\\preprocessed_epochs\\sub-49_ses-1_retained-epochs.fif ...\n",
      "    Found the data of interest:\n",
      "        t =       0.00 ...    3998.00 ms\n",
      "        0 CTF compensation matrices available\n",
      "Not setting metadata\n",
      "73 matching events found\n",
      "No baseline correction applied\n",
      "0 projection items activated\n"
     ]
    },
    {
     "name": "stderr",
     "output_type": "stream",
     "text": [
      "C:\\Users\\yaoyu\\AppData\\Local\\Temp\\ipykernel_15608\\2588799638.py:12: RuntimeWarning: This filename (preprocessed_epochs\\sub-49_ses-1_retained-epochs.fif) does not conform to MNE naming conventions. All epochs files should end with -epo.fif, -epo.fif.gz, _epo.fif or _epo.fif.gz\n",
      "  epochs = mne.read_epochs(file_path, preload=True)\n"
     ]
    },
    {
     "name": "stdout",
     "output_type": "stream",
     "text": [
      "Effective window size : 1.024 (s)\n",
      "Effective window size : 1.024 (s)\n",
      "Effective window size : 1.024 (s)\n",
      "(73, 24)\n",
      "Reading c:\\Users\\yaoyu\\Documents\\EE675\\preprocessed_epochs\\sub-49_ses-2_retained-epochs.fif ...\n",
      "    Found the data of interest:\n",
      "        t =       0.00 ...    3998.00 ms\n",
      "        0 CTF compensation matrices available\n",
      "Not setting metadata\n",
      "72 matching events found\n",
      "No baseline correction applied\n",
      "0 projection items activated\n"
     ]
    },
    {
     "name": "stderr",
     "output_type": "stream",
     "text": [
      "C:\\Users\\yaoyu\\AppData\\Local\\Temp\\ipykernel_15608\\2588799638.py:12: RuntimeWarning: This filename (preprocessed_epochs\\sub-49_ses-2_retained-epochs.fif) does not conform to MNE naming conventions. All epochs files should end with -epo.fif, -epo.fif.gz, _epo.fif or _epo.fif.gz\n",
      "  epochs = mne.read_epochs(file_path, preload=True)\n"
     ]
    },
    {
     "name": "stdout",
     "output_type": "stream",
     "text": [
      "Effective window size : 1.024 (s)\n",
      "Effective window size : 1.024 (s)\n",
      "Effective window size : 1.024 (s)\n",
      "(72, 24)\n",
      "Reading c:\\Users\\yaoyu\\Documents\\EE675\\preprocessed_epochs\\sub-50_ses-1_retained-epochs.fif ...\n",
      "    Found the data of interest:\n",
      "        t =       0.00 ...    3998.00 ms\n",
      "        0 CTF compensation matrices available\n",
      "Not setting metadata\n",
      "61 matching events found\n",
      "No baseline correction applied\n",
      "0 projection items activated\n"
     ]
    },
    {
     "name": "stderr",
     "output_type": "stream",
     "text": [
      "C:\\Users\\yaoyu\\AppData\\Local\\Temp\\ipykernel_15608\\2588799638.py:12: RuntimeWarning: This filename (preprocessed_epochs\\sub-50_ses-1_retained-epochs.fif) does not conform to MNE naming conventions. All epochs files should end with -epo.fif, -epo.fif.gz, _epo.fif or _epo.fif.gz\n",
      "  epochs = mne.read_epochs(file_path, preload=True)\n"
     ]
    },
    {
     "name": "stdout",
     "output_type": "stream",
     "text": [
      "Effective window size : 1.024 (s)\n",
      "Effective window size : 1.024 (s)\n",
      "Effective window size : 1.024 (s)\n",
      "(61, 24)\n",
      "Reading c:\\Users\\yaoyu\\Documents\\EE675\\preprocessed_epochs\\sub-50_ses-2_retained-epochs.fif ...\n",
      "    Found the data of interest:\n",
      "        t =       0.00 ...    3998.00 ms\n",
      "        0 CTF compensation matrices available\n",
      "Not setting metadata\n",
      "74 matching events found\n",
      "No baseline correction applied\n",
      "0 projection items activated\n"
     ]
    },
    {
     "name": "stderr",
     "output_type": "stream",
     "text": [
      "C:\\Users\\yaoyu\\AppData\\Local\\Temp\\ipykernel_15608\\2588799638.py:12: RuntimeWarning: This filename (preprocessed_epochs\\sub-50_ses-2_retained-epochs.fif) does not conform to MNE naming conventions. All epochs files should end with -epo.fif, -epo.fif.gz, _epo.fif or _epo.fif.gz\n",
      "  epochs = mne.read_epochs(file_path, preload=True)\n"
     ]
    },
    {
     "name": "stdout",
     "output_type": "stream",
     "text": [
      "Effective window size : 1.024 (s)\n",
      "Effective window size : 1.024 (s)\n",
      "Effective window size : 1.024 (s)\n",
      "(74, 24)\n",
      "Reading c:\\Users\\yaoyu\\Documents\\EE675\\preprocessed_epochs\\sub-51_ses-1_retained-epochs.fif ...\n",
      "    Found the data of interest:\n",
      "        t =       0.00 ...    3998.00 ms\n",
      "        0 CTF compensation matrices available\n",
      "Not setting metadata\n",
      "72 matching events found\n",
      "No baseline correction applied\n",
      "0 projection items activated\n"
     ]
    },
    {
     "name": "stderr",
     "output_type": "stream",
     "text": [
      "C:\\Users\\yaoyu\\AppData\\Local\\Temp\\ipykernel_15608\\2588799638.py:12: RuntimeWarning: This filename (preprocessed_epochs\\sub-51_ses-1_retained-epochs.fif) does not conform to MNE naming conventions. All epochs files should end with -epo.fif, -epo.fif.gz, _epo.fif or _epo.fif.gz\n",
      "  epochs = mne.read_epochs(file_path, preload=True)\n"
     ]
    },
    {
     "name": "stdout",
     "output_type": "stream",
     "text": [
      "Effective window size : 1.024 (s)\n",
      "Effective window size : 1.024 (s)\n",
      "Effective window size : 1.024 (s)\n",
      "(72, 24)\n",
      "Reading c:\\Users\\yaoyu\\Documents\\EE675\\preprocessed_epochs\\sub-51_ses-2_retained-epochs.fif ...\n",
      "    Found the data of interest:\n",
      "        t =       0.00 ...    3998.00 ms\n",
      "        0 CTF compensation matrices available\n",
      "Not setting metadata\n",
      "65 matching events found\n",
      "No baseline correction applied\n",
      "0 projection items activated\n"
     ]
    },
    {
     "name": "stderr",
     "output_type": "stream",
     "text": [
      "C:\\Users\\yaoyu\\AppData\\Local\\Temp\\ipykernel_15608\\2588799638.py:12: RuntimeWarning: This filename (preprocessed_epochs\\sub-51_ses-2_retained-epochs.fif) does not conform to MNE naming conventions. All epochs files should end with -epo.fif, -epo.fif.gz, _epo.fif or _epo.fif.gz\n",
      "  epochs = mne.read_epochs(file_path, preload=True)\n"
     ]
    },
    {
     "name": "stdout",
     "output_type": "stream",
     "text": [
      "Effective window size : 1.024 (s)\n",
      "Effective window size : 1.024 (s)\n",
      "Effective window size : 1.024 (s)\n",
      "(65, 24)\n",
      "Reading c:\\Users\\yaoyu\\Documents\\EE675\\preprocessed_epochs\\sub-52_ses-1_retained-epochs.fif ...\n",
      "    Found the data of interest:\n",
      "        t =       0.00 ...    3998.00 ms\n",
      "        0 CTF compensation matrices available\n",
      "Not setting metadata\n",
      "72 matching events found\n",
      "No baseline correction applied\n",
      "0 projection items activated\n"
     ]
    },
    {
     "name": "stderr",
     "output_type": "stream",
     "text": [
      "C:\\Users\\yaoyu\\AppData\\Local\\Temp\\ipykernel_15608\\2588799638.py:12: RuntimeWarning: This filename (preprocessed_epochs\\sub-52_ses-1_retained-epochs.fif) does not conform to MNE naming conventions. All epochs files should end with -epo.fif, -epo.fif.gz, _epo.fif or _epo.fif.gz\n",
      "  epochs = mne.read_epochs(file_path, preload=True)\n"
     ]
    },
    {
     "name": "stdout",
     "output_type": "stream",
     "text": [
      "Effective window size : 1.024 (s)\n",
      "Effective window size : 1.024 (s)\n",
      "Effective window size : 1.024 (s)\n",
      "(72, 24)\n",
      "Reading c:\\Users\\yaoyu\\Documents\\EE675\\preprocessed_epochs\\sub-52_ses-2_retained-epochs.fif ...\n",
      "    Found the data of interest:\n",
      "        t =       0.00 ...    3998.00 ms\n",
      "        0 CTF compensation matrices available\n",
      "Not setting metadata\n",
      "83 matching events found\n",
      "No baseline correction applied\n",
      "0 projection items activated\n"
     ]
    },
    {
     "name": "stderr",
     "output_type": "stream",
     "text": [
      "C:\\Users\\yaoyu\\AppData\\Local\\Temp\\ipykernel_15608\\2588799638.py:12: RuntimeWarning: This filename (preprocessed_epochs\\sub-52_ses-2_retained-epochs.fif) does not conform to MNE naming conventions. All epochs files should end with -epo.fif, -epo.fif.gz, _epo.fif or _epo.fif.gz\n",
      "  epochs = mne.read_epochs(file_path, preload=True)\n"
     ]
    },
    {
     "name": "stdout",
     "output_type": "stream",
     "text": [
      "Effective window size : 1.024 (s)\n",
      "Effective window size : 1.024 (s)\n",
      "Effective window size : 1.024 (s)\n",
      "(83, 24)\n",
      "Reading c:\\Users\\yaoyu\\Documents\\EE675\\preprocessed_epochs\\sub-53_ses-1_retained-epochs.fif ...\n",
      "    Found the data of interest:\n",
      "        t =       0.00 ...    3998.00 ms\n",
      "        0 CTF compensation matrices available\n",
      "Not setting metadata\n",
      "71 matching events found\n",
      "No baseline correction applied\n",
      "0 projection items activated\n"
     ]
    },
    {
     "name": "stderr",
     "output_type": "stream",
     "text": [
      "C:\\Users\\yaoyu\\AppData\\Local\\Temp\\ipykernel_15608\\2588799638.py:12: RuntimeWarning: This filename (preprocessed_epochs\\sub-53_ses-1_retained-epochs.fif) does not conform to MNE naming conventions. All epochs files should end with -epo.fif, -epo.fif.gz, _epo.fif or _epo.fif.gz\n",
      "  epochs = mne.read_epochs(file_path, preload=True)\n"
     ]
    },
    {
     "name": "stdout",
     "output_type": "stream",
     "text": [
      "Effective window size : 1.024 (s)\n",
      "Effective window size : 1.024 (s)\n",
      "Effective window size : 1.024 (s)\n",
      "(71, 24)\n",
      "Reading c:\\Users\\yaoyu\\Documents\\EE675\\preprocessed_epochs\\sub-53_ses-2_retained-epochs.fif ...\n",
      "    Found the data of interest:\n",
      "        t =       0.00 ...    3998.00 ms\n",
      "        0 CTF compensation matrices available\n",
      "Not setting metadata\n",
      "70 matching events found\n",
      "No baseline correction applied\n",
      "0 projection items activated\n"
     ]
    },
    {
     "name": "stderr",
     "output_type": "stream",
     "text": [
      "C:\\Users\\yaoyu\\AppData\\Local\\Temp\\ipykernel_15608\\2588799638.py:12: RuntimeWarning: This filename (preprocessed_epochs\\sub-53_ses-2_retained-epochs.fif) does not conform to MNE naming conventions. All epochs files should end with -epo.fif, -epo.fif.gz, _epo.fif or _epo.fif.gz\n",
      "  epochs = mne.read_epochs(file_path, preload=True)\n"
     ]
    },
    {
     "name": "stdout",
     "output_type": "stream",
     "text": [
      "Effective window size : 1.024 (s)\n",
      "Effective window size : 1.024 (s)\n",
      "Effective window size : 1.024 (s)\n",
      "(70, 24)\n",
      "Reading c:\\Users\\yaoyu\\Documents\\EE675\\preprocessed_epochs\\sub-54_ses-1_retained-epochs.fif ...\n",
      "    Found the data of interest:\n",
      "        t =       0.00 ...    3998.00 ms\n",
      "        0 CTF compensation matrices available\n",
      "Not setting metadata\n",
      "47 matching events found\n",
      "No baseline correction applied\n",
      "0 projection items activated\n",
      "Effective window size : 1.024 (s)\n"
     ]
    },
    {
     "name": "stderr",
     "output_type": "stream",
     "text": [
      "C:\\Users\\yaoyu\\AppData\\Local\\Temp\\ipykernel_15608\\2588799638.py:12: RuntimeWarning: This filename (preprocessed_epochs\\sub-54_ses-1_retained-epochs.fif) does not conform to MNE naming conventions. All epochs files should end with -epo.fif, -epo.fif.gz, _epo.fif or _epo.fif.gz\n",
      "  epochs = mne.read_epochs(file_path, preload=True)\n"
     ]
    },
    {
     "name": "stdout",
     "output_type": "stream",
     "text": [
      "Effective window size : 1.024 (s)\n",
      "Effective window size : 1.024 (s)\n",
      "(47, 24)\n",
      "Reading c:\\Users\\yaoyu\\Documents\\EE675\\preprocessed_epochs\\sub-54_ses-2_retained-epochs.fif ...\n",
      "    Found the data of interest:\n",
      "        t =       0.00 ...    3998.00 ms\n",
      "        0 CTF compensation matrices available\n",
      "Not setting metadata\n",
      "7 matching events found\n",
      "No baseline correction applied\n",
      "0 projection items activated\n",
      "Reading c:\\Users\\yaoyu\\Documents\\EE675\\preprocessed_epochs\\sub-55_ses-1_retained-epochs.fif ...\n",
      "    Found the data of interest:\n",
      "        t =       0.00 ...    3998.00 ms\n",
      "        0 CTF compensation matrices available\n",
      "Not setting metadata\n",
      "75 matching events found\n",
      "No baseline correction applied\n",
      "0 projection items activated\n"
     ]
    },
    {
     "name": "stderr",
     "output_type": "stream",
     "text": [
      "C:\\Users\\yaoyu\\AppData\\Local\\Temp\\ipykernel_15608\\2588799638.py:12: RuntimeWarning: This filename (preprocessed_epochs\\sub-54_ses-2_retained-epochs.fif) does not conform to MNE naming conventions. All epochs files should end with -epo.fif, -epo.fif.gz, _epo.fif or _epo.fif.gz\n",
      "  epochs = mne.read_epochs(file_path, preload=True)\n",
      "C:\\Users\\yaoyu\\AppData\\Local\\Temp\\ipykernel_15608\\2588799638.py:12: RuntimeWarning: This filename (preprocessed_epochs\\sub-55_ses-1_retained-epochs.fif) does not conform to MNE naming conventions. All epochs files should end with -epo.fif, -epo.fif.gz, _epo.fif or _epo.fif.gz\n",
      "  epochs = mne.read_epochs(file_path, preload=True)\n"
     ]
    },
    {
     "name": "stdout",
     "output_type": "stream",
     "text": [
      "Effective window size : 1.024 (s)\n",
      "Effective window size : 1.024 (s)\n",
      "Effective window size : 1.024 (s)\n",
      "(75, 24)\n",
      "Reading c:\\Users\\yaoyu\\Documents\\EE675\\preprocessed_epochs\\sub-55_ses-2_retained-epochs.fif ...\n",
      "    Found the data of interest:\n",
      "        t =       0.00 ...    3998.00 ms\n",
      "        0 CTF compensation matrices available\n",
      "Not setting metadata\n",
      "74 matching events found\n",
      "No baseline correction applied\n",
      "0 projection items activated\n"
     ]
    },
    {
     "name": "stderr",
     "output_type": "stream",
     "text": [
      "C:\\Users\\yaoyu\\AppData\\Local\\Temp\\ipykernel_15608\\2588799638.py:12: RuntimeWarning: This filename (preprocessed_epochs\\sub-55_ses-2_retained-epochs.fif) does not conform to MNE naming conventions. All epochs files should end with -epo.fif, -epo.fif.gz, _epo.fif or _epo.fif.gz\n",
      "  epochs = mne.read_epochs(file_path, preload=True)\n"
     ]
    },
    {
     "name": "stdout",
     "output_type": "stream",
     "text": [
      "Effective window size : 1.024 (s)\n",
      "Effective window size : 1.024 (s)\n",
      "Effective window size : 1.024 (s)\n",
      "(74, 24)\n",
      "Reading c:\\Users\\yaoyu\\Documents\\EE675\\preprocessed_epochs\\sub-56_ses-1_retained-epochs.fif ...\n",
      "    Found the data of interest:\n",
      "        t =       0.00 ...    3998.00 ms\n",
      "        0 CTF compensation matrices available\n",
      "Not setting metadata\n",
      "68 matching events found\n",
      "No baseline correction applied\n",
      "0 projection items activated\n"
     ]
    },
    {
     "name": "stderr",
     "output_type": "stream",
     "text": [
      "C:\\Users\\yaoyu\\AppData\\Local\\Temp\\ipykernel_15608\\2588799638.py:12: RuntimeWarning: This filename (preprocessed_epochs\\sub-56_ses-1_retained-epochs.fif) does not conform to MNE naming conventions. All epochs files should end with -epo.fif, -epo.fif.gz, _epo.fif or _epo.fif.gz\n",
      "  epochs = mne.read_epochs(file_path, preload=True)\n"
     ]
    },
    {
     "name": "stdout",
     "output_type": "stream",
     "text": [
      "Effective window size : 1.024 (s)\n",
      "Effective window size : 1.024 (s)\n",
      "Effective window size : 1.024 (s)\n",
      "(68, 24)\n",
      "Reading c:\\Users\\yaoyu\\Documents\\EE675\\preprocessed_epochs\\sub-56_ses-2_retained-epochs.fif ...\n",
      "    Found the data of interest:\n",
      "        t =       0.00 ...    3998.00 ms\n",
      "        0 CTF compensation matrices available\n",
      "Not setting metadata\n",
      "56 matching events found\n",
      "No baseline correction applied\n",
      "0 projection items activated\n",
      "Effective window size : 1.024 (s)\n"
     ]
    },
    {
     "name": "stderr",
     "output_type": "stream",
     "text": [
      "C:\\Users\\yaoyu\\AppData\\Local\\Temp\\ipykernel_15608\\2588799638.py:12: RuntimeWarning: This filename (preprocessed_epochs\\sub-56_ses-2_retained-epochs.fif) does not conform to MNE naming conventions. All epochs files should end with -epo.fif, -epo.fif.gz, _epo.fif or _epo.fif.gz\n",
      "  epochs = mne.read_epochs(file_path, preload=True)\n"
     ]
    },
    {
     "name": "stdout",
     "output_type": "stream",
     "text": [
      "Effective window size : 1.024 (s)\n",
      "Effective window size : 1.024 (s)\n",
      "(56, 24)\n",
      "Reading c:\\Users\\yaoyu\\Documents\\EE675\\preprocessed_epochs\\sub-57_ses-1_retained-epochs.fif ...\n",
      "    Found the data of interest:\n",
      "        t =       0.00 ...    3998.00 ms\n",
      "        0 CTF compensation matrices available\n",
      "Not setting metadata\n",
      "72 matching events found\n",
      "No baseline correction applied\n",
      "0 projection items activated\n"
     ]
    },
    {
     "name": "stderr",
     "output_type": "stream",
     "text": [
      "C:\\Users\\yaoyu\\AppData\\Local\\Temp\\ipykernel_15608\\2588799638.py:12: RuntimeWarning: This filename (preprocessed_epochs\\sub-57_ses-1_retained-epochs.fif) does not conform to MNE naming conventions. All epochs files should end with -epo.fif, -epo.fif.gz, _epo.fif or _epo.fif.gz\n",
      "  epochs = mne.read_epochs(file_path, preload=True)\n"
     ]
    },
    {
     "name": "stdout",
     "output_type": "stream",
     "text": [
      "Effective window size : 1.024 (s)\n",
      "Effective window size : 1.024 (s)\n",
      "Effective window size : 1.024 (s)\n",
      "(72, 24)\n",
      "Reading c:\\Users\\yaoyu\\Documents\\EE675\\preprocessed_epochs\\sub-57_ses-2_retained-epochs.fif ...\n",
      "    Found the data of interest:\n",
      "        t =       0.00 ...    3998.00 ms\n",
      "        0 CTF compensation matrices available\n",
      "Not setting metadata\n",
      "46 matching events found\n",
      "No baseline correction applied\n",
      "0 projection items activated\n",
      "Effective window size : 1.024 (s)\n"
     ]
    },
    {
     "name": "stderr",
     "output_type": "stream",
     "text": [
      "C:\\Users\\yaoyu\\AppData\\Local\\Temp\\ipykernel_15608\\2588799638.py:12: RuntimeWarning: This filename (preprocessed_epochs\\sub-57_ses-2_retained-epochs.fif) does not conform to MNE naming conventions. All epochs files should end with -epo.fif, -epo.fif.gz, _epo.fif or _epo.fif.gz\n",
      "  epochs = mne.read_epochs(file_path, preload=True)\n"
     ]
    },
    {
     "name": "stdout",
     "output_type": "stream",
     "text": [
      "Effective window size : 1.024 (s)\n",
      "Effective window size : 1.024 (s)\n",
      "(46, 24)\n",
      "Reading c:\\Users\\yaoyu\\Documents\\EE675\\preprocessed_epochs\\sub-58_ses-1_retained-epochs.fif ...\n",
      "    Found the data of interest:\n",
      "        t =       0.00 ...    3998.00 ms\n",
      "        0 CTF compensation matrices available\n",
      "Not setting metadata\n",
      "7 matching events found\n",
      "No baseline correction applied\n",
      "0 projection items activated\n",
      "Reading c:\\Users\\yaoyu\\Documents\\EE675\\preprocessed_epochs\\sub-58_ses-2_retained-epochs.fif ...\n",
      "    Found the data of interest:\n",
      "        t =       0.00 ...    3998.00 ms\n",
      "        0 CTF compensation matrices available\n",
      "Not setting metadata\n",
      "39 matching events found\n",
      "No baseline correction applied\n",
      "0 projection items activated\n",
      "Effective window size : 1.024 (s)\n"
     ]
    },
    {
     "name": "stderr",
     "output_type": "stream",
     "text": [
      "C:\\Users\\yaoyu\\AppData\\Local\\Temp\\ipykernel_15608\\2588799638.py:12: RuntimeWarning: This filename (preprocessed_epochs\\sub-58_ses-1_retained-epochs.fif) does not conform to MNE naming conventions. All epochs files should end with -epo.fif, -epo.fif.gz, _epo.fif or _epo.fif.gz\n",
      "  epochs = mne.read_epochs(file_path, preload=True)\n",
      "C:\\Users\\yaoyu\\AppData\\Local\\Temp\\ipykernel_15608\\2588799638.py:12: RuntimeWarning: This filename (preprocessed_epochs\\sub-58_ses-2_retained-epochs.fif) does not conform to MNE naming conventions. All epochs files should end with -epo.fif, -epo.fif.gz, _epo.fif or _epo.fif.gz\n",
      "  epochs = mne.read_epochs(file_path, preload=True)\n"
     ]
    },
    {
     "name": "stdout",
     "output_type": "stream",
     "text": [
      "Effective window size : 1.024 (s)\n",
      "Effective window size : 1.024 (s)\n",
      "(39, 24)\n",
      "Reading c:\\Users\\yaoyu\\Documents\\EE675\\preprocessed_epochs\\sub-59_ses-1_retained-epochs.fif ...\n",
      "    Found the data of interest:\n",
      "        t =       0.00 ...    3998.00 ms\n",
      "        0 CTF compensation matrices available\n",
      "Not setting metadata\n",
      "72 matching events found\n",
      "No baseline correction applied\n",
      "0 projection items activated\n"
     ]
    },
    {
     "name": "stderr",
     "output_type": "stream",
     "text": [
      "C:\\Users\\yaoyu\\AppData\\Local\\Temp\\ipykernel_15608\\2588799638.py:12: RuntimeWarning: This filename (preprocessed_epochs\\sub-59_ses-1_retained-epochs.fif) does not conform to MNE naming conventions. All epochs files should end with -epo.fif, -epo.fif.gz, _epo.fif or _epo.fif.gz\n",
      "  epochs = mne.read_epochs(file_path, preload=True)\n"
     ]
    },
    {
     "name": "stdout",
     "output_type": "stream",
     "text": [
      "Effective window size : 1.024 (s)\n",
      "Effective window size : 1.024 (s)\n",
      "Effective window size : 1.024 (s)\n",
      "(72, 24)\n",
      "Reading c:\\Users\\yaoyu\\Documents\\EE675\\preprocessed_epochs\\sub-59_ses-2_retained-epochs.fif ...\n",
      "    Found the data of interest:\n",
      "        t =       0.00 ...    3998.00 ms\n",
      "        0 CTF compensation matrices available\n",
      "Not setting metadata\n",
      "57 matching events found\n",
      "No baseline correction applied\n",
      "0 projection items activated\n",
      "Effective window size : 1.024 (s)\n"
     ]
    },
    {
     "name": "stderr",
     "output_type": "stream",
     "text": [
      "C:\\Users\\yaoyu\\AppData\\Local\\Temp\\ipykernel_15608\\2588799638.py:12: RuntimeWarning: This filename (preprocessed_epochs\\sub-59_ses-2_retained-epochs.fif) does not conform to MNE naming conventions. All epochs files should end with -epo.fif, -epo.fif.gz, _epo.fif or _epo.fif.gz\n",
      "  epochs = mne.read_epochs(file_path, preload=True)\n"
     ]
    },
    {
     "name": "stdout",
     "output_type": "stream",
     "text": [
      "Effective window size : 1.024 (s)\n",
      "Effective window size : 1.024 (s)\n",
      "(57, 24)\n",
      "Reading c:\\Users\\yaoyu\\Documents\\EE675\\preprocessed_epochs\\sub-60_ses-1_retained-epochs.fif ...\n",
      "    Found the data of interest:\n",
      "        t =       0.00 ...    3998.00 ms\n",
      "        0 CTF compensation matrices available\n",
      "Not setting metadata\n",
      "19 matching events found\n",
      "No baseline correction applied\n",
      "0 projection items activated\n",
      "Effective window size : 1.024 (s)\n"
     ]
    },
    {
     "name": "stderr",
     "output_type": "stream",
     "text": [
      "C:\\Users\\yaoyu\\AppData\\Local\\Temp\\ipykernel_15608\\2588799638.py:12: RuntimeWarning: This filename (preprocessed_epochs\\sub-60_ses-1_retained-epochs.fif) does not conform to MNE naming conventions. All epochs files should end with -epo.fif, -epo.fif.gz, _epo.fif or _epo.fif.gz\n",
      "  epochs = mne.read_epochs(file_path, preload=True)\n"
     ]
    },
    {
     "name": "stdout",
     "output_type": "stream",
     "text": [
      "Effective window size : 1.024 (s)\n",
      "Effective window size : 1.024 (s)\n",
      "(19, 24)\n",
      "Reading c:\\Users\\yaoyu\\Documents\\EE675\\preprocessed_epochs\\sub-60_ses-2_retained-epochs.fif ...\n",
      "    Found the data of interest:\n",
      "        t =       0.00 ...    3998.00 ms\n",
      "        0 CTF compensation matrices available\n",
      "Not setting metadata\n",
      "28 matching events found\n",
      "No baseline correction applied\n",
      "0 projection items activated\n",
      "Effective window size : 1.024 (s)\n"
     ]
    },
    {
     "name": "stderr",
     "output_type": "stream",
     "text": [
      "C:\\Users\\yaoyu\\AppData\\Local\\Temp\\ipykernel_15608\\2588799638.py:12: RuntimeWarning: This filename (preprocessed_epochs\\sub-60_ses-2_retained-epochs.fif) does not conform to MNE naming conventions. All epochs files should end with -epo.fif, -epo.fif.gz, _epo.fif or _epo.fif.gz\n",
      "  epochs = mne.read_epochs(file_path, preload=True)\n"
     ]
    },
    {
     "name": "stdout",
     "output_type": "stream",
     "text": [
      "Effective window size : 1.024 (s)\n",
      "Effective window size : 1.024 (s)\n",
      "(28, 24)\n",
      "Reading c:\\Users\\yaoyu\\Documents\\EE675\\preprocessed_epochs\\sub-61_ses-1_retained-epochs.fif ...\n",
      "    Found the data of interest:\n",
      "        t =       0.00 ...    3998.00 ms\n",
      "        0 CTF compensation matrices available\n",
      "Not setting metadata\n",
      "71 matching events found\n",
      "No baseline correction applied\n",
      "0 projection items activated\n"
     ]
    },
    {
     "name": "stderr",
     "output_type": "stream",
     "text": [
      "C:\\Users\\yaoyu\\AppData\\Local\\Temp\\ipykernel_15608\\2588799638.py:12: RuntimeWarning: This filename (preprocessed_epochs\\sub-61_ses-1_retained-epochs.fif) does not conform to MNE naming conventions. All epochs files should end with -epo.fif, -epo.fif.gz, _epo.fif or _epo.fif.gz\n",
      "  epochs = mne.read_epochs(file_path, preload=True)\n"
     ]
    },
    {
     "name": "stdout",
     "output_type": "stream",
     "text": [
      "Effective window size : 1.024 (s)\n",
      "Effective window size : 1.024 (s)\n",
      "Effective window size : 1.024 (s)\n",
      "(71, 24)\n",
      "Reading c:\\Users\\yaoyu\\Documents\\EE675\\preprocessed_epochs\\sub-61_ses-2_retained-epochs.fif ...\n",
      "    Found the data of interest:\n",
      "        t =       0.00 ...    3998.00 ms\n",
      "        0 CTF compensation matrices available\n",
      "Not setting metadata\n",
      "74 matching events found\n",
      "No baseline correction applied\n",
      "0 projection items activated\n",
      "Effective window size : 1.024 (s)\n"
     ]
    },
    {
     "name": "stderr",
     "output_type": "stream",
     "text": [
      "C:\\Users\\yaoyu\\AppData\\Local\\Temp\\ipykernel_15608\\2588799638.py:12: RuntimeWarning: This filename (preprocessed_epochs\\sub-61_ses-2_retained-epochs.fif) does not conform to MNE naming conventions. All epochs files should end with -epo.fif, -epo.fif.gz, _epo.fif or _epo.fif.gz\n",
      "  epochs = mne.read_epochs(file_path, preload=True)\n"
     ]
    },
    {
     "name": "stdout",
     "output_type": "stream",
     "text": [
      "Effective window size : 1.024 (s)\n",
      "Effective window size : 1.024 (s)\n",
      "(74, 24)\n",
      "Reading c:\\Users\\yaoyu\\Documents\\EE675\\preprocessed_epochs\\sub-62_ses-1_retained-epochs.fif ...\n",
      "    Found the data of interest:\n",
      "        t =       0.00 ...    3998.00 ms\n",
      "        0 CTF compensation matrices available\n",
      "Not setting metadata\n",
      "52 matching events found\n",
      "No baseline correction applied\n",
      "0 projection items activated\n",
      "Effective window size : 1.024 (s)\n"
     ]
    },
    {
     "name": "stderr",
     "output_type": "stream",
     "text": [
      "C:\\Users\\yaoyu\\AppData\\Local\\Temp\\ipykernel_15608\\2588799638.py:12: RuntimeWarning: This filename (preprocessed_epochs\\sub-62_ses-1_retained-epochs.fif) does not conform to MNE naming conventions. All epochs files should end with -epo.fif, -epo.fif.gz, _epo.fif or _epo.fif.gz\n",
      "  epochs = mne.read_epochs(file_path, preload=True)\n"
     ]
    },
    {
     "name": "stdout",
     "output_type": "stream",
     "text": [
      "Effective window size : 1.024 (s)\n",
      "Effective window size : 1.024 (s)\n",
      "(52, 24)\n",
      "Reading c:\\Users\\yaoyu\\Documents\\EE675\\preprocessed_epochs\\sub-62_ses-2_retained-epochs.fif ...\n",
      "    Found the data of interest:\n",
      "        t =       0.00 ...    3998.00 ms\n",
      "        0 CTF compensation matrices available\n",
      "Not setting metadata\n",
      "23 matching events found\n",
      "No baseline correction applied\n",
      "0 projection items activated\n",
      "Effective window size : 1.024 (s)\n"
     ]
    },
    {
     "name": "stderr",
     "output_type": "stream",
     "text": [
      "C:\\Users\\yaoyu\\AppData\\Local\\Temp\\ipykernel_15608\\2588799638.py:12: RuntimeWarning: This filename (preprocessed_epochs\\sub-62_ses-2_retained-epochs.fif) does not conform to MNE naming conventions. All epochs files should end with -epo.fif, -epo.fif.gz, _epo.fif or _epo.fif.gz\n",
      "  epochs = mne.read_epochs(file_path, preload=True)\n"
     ]
    },
    {
     "name": "stdout",
     "output_type": "stream",
     "text": [
      "Effective window size : 1.024 (s)\n",
      "Effective window size : 1.024 (s)\n",
      "(23, 24)\n",
      "Reading c:\\Users\\yaoyu\\Documents\\EE675\\preprocessed_epochs\\sub-63_ses-1_retained-epochs.fif ...\n",
      "    Found the data of interest:\n",
      "        t =       0.00 ...    3998.00 ms\n",
      "        0 CTF compensation matrices available\n",
      "Not setting metadata\n",
      "63 matching events found\n",
      "No baseline correction applied\n",
      "0 projection items activated\n",
      "Effective window size : 1.024 (s)\n"
     ]
    },
    {
     "name": "stderr",
     "output_type": "stream",
     "text": [
      "C:\\Users\\yaoyu\\AppData\\Local\\Temp\\ipykernel_15608\\2588799638.py:12: RuntimeWarning: This filename (preprocessed_epochs\\sub-63_ses-1_retained-epochs.fif) does not conform to MNE naming conventions. All epochs files should end with -epo.fif, -epo.fif.gz, _epo.fif or _epo.fif.gz\n",
      "  epochs = mne.read_epochs(file_path, preload=True)\n"
     ]
    },
    {
     "name": "stdout",
     "output_type": "stream",
     "text": [
      "Effective window size : 1.024 (s)\n",
      "Effective window size : 1.024 (s)\n",
      "(63, 24)\n",
      "Reading c:\\Users\\yaoyu\\Documents\\EE675\\preprocessed_epochs\\sub-63_ses-2_retained-epochs.fif ...\n",
      "    Found the data of interest:\n",
      "        t =       0.00 ...    3998.00 ms\n",
      "        0 CTF compensation matrices available\n",
      "Not setting metadata\n",
      "72 matching events found\n",
      "No baseline correction applied\n",
      "0 projection items activated\n"
     ]
    },
    {
     "name": "stderr",
     "output_type": "stream",
     "text": [
      "C:\\Users\\yaoyu\\AppData\\Local\\Temp\\ipykernel_15608\\2588799638.py:12: RuntimeWarning: This filename (preprocessed_epochs\\sub-63_ses-2_retained-epochs.fif) does not conform to MNE naming conventions. All epochs files should end with -epo.fif, -epo.fif.gz, _epo.fif or _epo.fif.gz\n",
      "  epochs = mne.read_epochs(file_path, preload=True)\n"
     ]
    },
    {
     "name": "stdout",
     "output_type": "stream",
     "text": [
      "Effective window size : 1.024 (s)\n",
      "Effective window size : 1.024 (s)\n",
      "Effective window size : 1.024 (s)\n",
      "(72, 24)\n",
      "Reading c:\\Users\\yaoyu\\Documents\\EE675\\preprocessed_epochs\\sub-64_ses-1_retained-epochs.fif ...\n",
      "    Found the data of interest:\n",
      "        t =       0.00 ...    3998.00 ms\n",
      "        0 CTF compensation matrices available\n",
      "Not setting metadata\n",
      "67 matching events found\n",
      "No baseline correction applied\n",
      "0 projection items activated\n"
     ]
    },
    {
     "name": "stderr",
     "output_type": "stream",
     "text": [
      "C:\\Users\\yaoyu\\AppData\\Local\\Temp\\ipykernel_15608\\2588799638.py:12: RuntimeWarning: This filename (preprocessed_epochs\\sub-64_ses-1_retained-epochs.fif) does not conform to MNE naming conventions. All epochs files should end with -epo.fif, -epo.fif.gz, _epo.fif or _epo.fif.gz\n",
      "  epochs = mne.read_epochs(file_path, preload=True)\n"
     ]
    },
    {
     "name": "stdout",
     "output_type": "stream",
     "text": [
      "Effective window size : 1.024 (s)\n",
      "Effective window size : 1.024 (s)\n",
      "Effective window size : 1.024 (s)\n",
      "(67, 24)\n",
      "Reading c:\\Users\\yaoyu\\Documents\\EE675\\preprocessed_epochs\\sub-64_ses-2_retained-epochs.fif ...\n",
      "    Found the data of interest:\n",
      "        t =       0.00 ...    3998.00 ms\n",
      "        0 CTF compensation matrices available\n",
      "Not setting metadata\n",
      "60 matching events found\n",
      "No baseline correction applied\n",
      "0 projection items activated\n",
      "Effective window size : 1.024 (s)\n"
     ]
    },
    {
     "name": "stderr",
     "output_type": "stream",
     "text": [
      "C:\\Users\\yaoyu\\AppData\\Local\\Temp\\ipykernel_15608\\2588799638.py:12: RuntimeWarning: This filename (preprocessed_epochs\\sub-64_ses-2_retained-epochs.fif) does not conform to MNE naming conventions. All epochs files should end with -epo.fif, -epo.fif.gz, _epo.fif or _epo.fif.gz\n",
      "  epochs = mne.read_epochs(file_path, preload=True)\n"
     ]
    },
    {
     "name": "stdout",
     "output_type": "stream",
     "text": [
      "Effective window size : 1.024 (s)\n",
      "Effective window size : 1.024 (s)\n",
      "(60, 24)\n",
      "Reading c:\\Users\\yaoyu\\Documents\\EE675\\preprocessed_epochs\\sub-65_ses-1_retained-epochs.fif ...\n",
      "    Found the data of interest:\n",
      "        t =       0.00 ...    3998.00 ms\n",
      "        0 CTF compensation matrices available\n",
      "Not setting metadata\n",
      "75 matching events found\n",
      "No baseline correction applied\n",
      "0 projection items activated\n"
     ]
    },
    {
     "name": "stderr",
     "output_type": "stream",
     "text": [
      "C:\\Users\\yaoyu\\AppData\\Local\\Temp\\ipykernel_15608\\2588799638.py:12: RuntimeWarning: This filename (preprocessed_epochs\\sub-65_ses-1_retained-epochs.fif) does not conform to MNE naming conventions. All epochs files should end with -epo.fif, -epo.fif.gz, _epo.fif or _epo.fif.gz\n",
      "  epochs = mne.read_epochs(file_path, preload=True)\n"
     ]
    },
    {
     "name": "stdout",
     "output_type": "stream",
     "text": [
      "Effective window size : 1.024 (s)\n",
      "Effective window size : 1.024 (s)\n",
      "Effective window size : 1.024 (s)\n",
      "(75, 24)\n",
      "Reading c:\\Users\\yaoyu\\Documents\\EE675\\preprocessed_epochs\\sub-65_ses-2_retained-epochs.fif ...\n",
      "    Found the data of interest:\n",
      "        t =       0.00 ...    3998.00 ms\n",
      "        0 CTF compensation matrices available\n",
      "Not setting metadata\n",
      "59 matching events found\n",
      "No baseline correction applied\n",
      "0 projection items activated\n",
      "Effective window size : 1.024 (s)\n"
     ]
    },
    {
     "name": "stderr",
     "output_type": "stream",
     "text": [
      "C:\\Users\\yaoyu\\AppData\\Local\\Temp\\ipykernel_15608\\2588799638.py:12: RuntimeWarning: This filename (preprocessed_epochs\\sub-65_ses-2_retained-epochs.fif) does not conform to MNE naming conventions. All epochs files should end with -epo.fif, -epo.fif.gz, _epo.fif or _epo.fif.gz\n",
      "  epochs = mne.read_epochs(file_path, preload=True)\n"
     ]
    },
    {
     "name": "stdout",
     "output_type": "stream",
     "text": [
      "Effective window size : 1.024 (s)\n",
      "Effective window size : 1.024 (s)\n",
      "(59, 24)\n",
      "Reading c:\\Users\\yaoyu\\Documents\\EE675\\preprocessed_epochs\\sub-66_ses-1_retained-epochs.fif ...\n",
      "    Found the data of interest:\n",
      "        t =       0.00 ...    3998.00 ms\n",
      "        0 CTF compensation matrices available\n",
      "Not setting metadata\n",
      "66 matching events found\n",
      "No baseline correction applied\n",
      "0 projection items activated\n",
      "Effective window size : 1.024 (s)\n"
     ]
    },
    {
     "name": "stderr",
     "output_type": "stream",
     "text": [
      "C:\\Users\\yaoyu\\AppData\\Local\\Temp\\ipykernel_15608\\2588799638.py:12: RuntimeWarning: This filename (preprocessed_epochs\\sub-66_ses-1_retained-epochs.fif) does not conform to MNE naming conventions. All epochs files should end with -epo.fif, -epo.fif.gz, _epo.fif or _epo.fif.gz\n",
      "  epochs = mne.read_epochs(file_path, preload=True)\n"
     ]
    },
    {
     "name": "stdout",
     "output_type": "stream",
     "text": [
      "Effective window size : 1.024 (s)\n",
      "Effective window size : 1.024 (s)\n",
      "(66, 24)\n",
      "Reading c:\\Users\\yaoyu\\Documents\\EE675\\preprocessed_epochs\\sub-66_ses-2_retained-epochs.fif ...\n",
      "    Found the data of interest:\n",
      "        t =       0.00 ...    3998.00 ms\n",
      "        0 CTF compensation matrices available\n",
      "Not setting metadata\n",
      "69 matching events found\n",
      "No baseline correction applied\n",
      "0 projection items activated\n",
      "Effective window size : 1.024 (s)\n"
     ]
    },
    {
     "name": "stderr",
     "output_type": "stream",
     "text": [
      "C:\\Users\\yaoyu\\AppData\\Local\\Temp\\ipykernel_15608\\2588799638.py:12: RuntimeWarning: This filename (preprocessed_epochs\\sub-66_ses-2_retained-epochs.fif) does not conform to MNE naming conventions. All epochs files should end with -epo.fif, -epo.fif.gz, _epo.fif or _epo.fif.gz\n",
      "  epochs = mne.read_epochs(file_path, preload=True)\n"
     ]
    },
    {
     "name": "stdout",
     "output_type": "stream",
     "text": [
      "Effective window size : 1.024 (s)\n",
      "Effective window size : 1.024 (s)\n",
      "(69, 24)\n",
      "Reading c:\\Users\\yaoyu\\Documents\\EE675\\preprocessed_epochs\\sub-67_ses-1_retained-epochs.fif ...\n",
      "    Found the data of interest:\n",
      "        t =       0.00 ...    3998.00 ms\n",
      "        0 CTF compensation matrices available\n",
      "Not setting metadata\n",
      "73 matching events found\n",
      "No baseline correction applied\n",
      "0 projection items activated\n"
     ]
    },
    {
     "name": "stderr",
     "output_type": "stream",
     "text": [
      "C:\\Users\\yaoyu\\AppData\\Local\\Temp\\ipykernel_15608\\2588799638.py:12: RuntimeWarning: This filename (preprocessed_epochs\\sub-67_ses-1_retained-epochs.fif) does not conform to MNE naming conventions. All epochs files should end with -epo.fif, -epo.fif.gz, _epo.fif or _epo.fif.gz\n",
      "  epochs = mne.read_epochs(file_path, preload=True)\n"
     ]
    },
    {
     "name": "stdout",
     "output_type": "stream",
     "text": [
      "Effective window size : 1.024 (s)\n",
      "Effective window size : 1.024 (s)\n",
      "Effective window size : 1.024 (s)\n",
      "(73, 24)\n",
      "Reading c:\\Users\\yaoyu\\Documents\\EE675\\preprocessed_epochs\\sub-67_ses-2_retained-epochs.fif ...\n",
      "    Found the data of interest:\n",
      "        t =       0.00 ...    3998.00 ms\n",
      "        0 CTF compensation matrices available\n",
      "Not setting metadata\n",
      "72 matching events found\n",
      "No baseline correction applied\n",
      "0 projection items activated\n"
     ]
    },
    {
     "name": "stderr",
     "output_type": "stream",
     "text": [
      "C:\\Users\\yaoyu\\AppData\\Local\\Temp\\ipykernel_15608\\2588799638.py:12: RuntimeWarning: This filename (preprocessed_epochs\\sub-67_ses-2_retained-epochs.fif) does not conform to MNE naming conventions. All epochs files should end with -epo.fif, -epo.fif.gz, _epo.fif or _epo.fif.gz\n",
      "  epochs = mne.read_epochs(file_path, preload=True)\n"
     ]
    },
    {
     "name": "stdout",
     "output_type": "stream",
     "text": [
      "Effective window size : 1.024 (s)\n",
      "Effective window size : 1.024 (s)\n",
      "Effective window size : 1.024 (s)\n",
      "(72, 24)\n",
      "Reading c:\\Users\\yaoyu\\Documents\\EE675\\preprocessed_epochs\\sub-68_ses-1_retained-epochs.fif ...\n",
      "    Found the data of interest:\n",
      "        t =       0.00 ...    3998.00 ms\n",
      "        0 CTF compensation matrices available\n",
      "Not setting metadata\n",
      "59 matching events found\n",
      "No baseline correction applied\n",
      "0 projection items activated\n",
      "Effective window size : 1.024 (s)\n"
     ]
    },
    {
     "name": "stderr",
     "output_type": "stream",
     "text": [
      "C:\\Users\\yaoyu\\AppData\\Local\\Temp\\ipykernel_15608\\2588799638.py:12: RuntimeWarning: This filename (preprocessed_epochs\\sub-68_ses-1_retained-epochs.fif) does not conform to MNE naming conventions. All epochs files should end with -epo.fif, -epo.fif.gz, _epo.fif or _epo.fif.gz\n",
      "  epochs = mne.read_epochs(file_path, preload=True)\n"
     ]
    },
    {
     "name": "stdout",
     "output_type": "stream",
     "text": [
      "Effective window size : 1.024 (s)\n",
      "Effective window size : 1.024 (s)\n",
      "(59, 24)\n",
      "Reading c:\\Users\\yaoyu\\Documents\\EE675\\preprocessed_epochs\\sub-68_ses-2_retained-epochs.fif ...\n",
      "    Found the data of interest:\n",
      "        t =       0.00 ...    3998.00 ms\n",
      "        0 CTF compensation matrices available\n",
      "Not setting metadata\n",
      "73 matching events found\n",
      "No baseline correction applied\n",
      "0 projection items activated\n"
     ]
    },
    {
     "name": "stderr",
     "output_type": "stream",
     "text": [
      "C:\\Users\\yaoyu\\AppData\\Local\\Temp\\ipykernel_15608\\2588799638.py:12: RuntimeWarning: This filename (preprocessed_epochs\\sub-68_ses-2_retained-epochs.fif) does not conform to MNE naming conventions. All epochs files should end with -epo.fif, -epo.fif.gz, _epo.fif or _epo.fif.gz\n",
      "  epochs = mne.read_epochs(file_path, preload=True)\n"
     ]
    },
    {
     "name": "stdout",
     "output_type": "stream",
     "text": [
      "Effective window size : 1.024 (s)\n",
      "Effective window size : 1.024 (s)\n",
      "Effective window size : 1.024 (s)\n",
      "(73, 24)\n",
      "Reading c:\\Users\\yaoyu\\Documents\\EE675\\preprocessed_epochs\\sub-69_ses-1_retained-epochs.fif ...\n",
      "    Found the data of interest:\n",
      "        t =       0.00 ...    3998.00 ms\n",
      "        0 CTF compensation matrices available\n",
      "Not setting metadata\n",
      "74 matching events found\n",
      "No baseline correction applied\n",
      "0 projection items activated\n"
     ]
    },
    {
     "name": "stderr",
     "output_type": "stream",
     "text": [
      "C:\\Users\\yaoyu\\AppData\\Local\\Temp\\ipykernel_15608\\2588799638.py:12: RuntimeWarning: This filename (preprocessed_epochs\\sub-69_ses-1_retained-epochs.fif) does not conform to MNE naming conventions. All epochs files should end with -epo.fif, -epo.fif.gz, _epo.fif or _epo.fif.gz\n",
      "  epochs = mne.read_epochs(file_path, preload=True)\n"
     ]
    },
    {
     "name": "stdout",
     "output_type": "stream",
     "text": [
      "Effective window size : 1.024 (s)\n",
      "Effective window size : 1.024 (s)\n",
      "Effective window size : 1.024 (s)\n",
      "(74, 24)\n",
      "Reading c:\\Users\\yaoyu\\Documents\\EE675\\preprocessed_epochs\\sub-69_ses-2_retained-epochs.fif ...\n",
      "    Found the data of interest:\n",
      "        t =       0.00 ...    3998.00 ms\n",
      "        0 CTF compensation matrices available\n",
      "Not setting metadata\n",
      "53 matching events found\n",
      "No baseline correction applied\n",
      "0 projection items activated\n",
      "Effective window size : 1.024 (s)\n"
     ]
    },
    {
     "name": "stderr",
     "output_type": "stream",
     "text": [
      "C:\\Users\\yaoyu\\AppData\\Local\\Temp\\ipykernel_15608\\2588799638.py:12: RuntimeWarning: This filename (preprocessed_epochs\\sub-69_ses-2_retained-epochs.fif) does not conform to MNE naming conventions. All epochs files should end with -epo.fif, -epo.fif.gz, _epo.fif or _epo.fif.gz\n",
      "  epochs = mne.read_epochs(file_path, preload=True)\n"
     ]
    },
    {
     "name": "stdout",
     "output_type": "stream",
     "text": [
      "Effective window size : 1.024 (s)\n",
      "Effective window size : 1.024 (s)\n",
      "(53, 24)\n",
      "Reading c:\\Users\\yaoyu\\Documents\\EE675\\preprocessed_epochs\\sub-70_ses-1_retained-epochs.fif ...\n",
      "    Found the data of interest:\n",
      "        t =       0.00 ...    3998.00 ms\n",
      "        0 CTF compensation matrices available\n",
      "Not setting metadata\n",
      "3 matching events found\n",
      "No baseline correction applied\n",
      "0 projection items activated\n",
      "Reading c:\\Users\\yaoyu\\Documents\\EE675\\preprocessed_epochs\\sub-70_ses-2_retained-epochs.fif ...\n",
      "    Found the data of interest:\n",
      "        t =       0.00 ...    3998.00 ms\n",
      "        0 CTF compensation matrices available\n",
      "Not setting metadata\n",
      "58 matching events found\n",
      "No baseline correction applied\n",
      "0 projection items activated\n",
      "Effective window size : 1.024 (s)\n"
     ]
    },
    {
     "name": "stderr",
     "output_type": "stream",
     "text": [
      "C:\\Users\\yaoyu\\AppData\\Local\\Temp\\ipykernel_15608\\2588799638.py:12: RuntimeWarning: This filename (preprocessed_epochs\\sub-70_ses-1_retained-epochs.fif) does not conform to MNE naming conventions. All epochs files should end with -epo.fif, -epo.fif.gz, _epo.fif or _epo.fif.gz\n",
      "  epochs = mne.read_epochs(file_path, preload=True)\n",
      "C:\\Users\\yaoyu\\AppData\\Local\\Temp\\ipykernel_15608\\2588799638.py:12: RuntimeWarning: This filename (preprocessed_epochs\\sub-70_ses-2_retained-epochs.fif) does not conform to MNE naming conventions. All epochs files should end with -epo.fif, -epo.fif.gz, _epo.fif or _epo.fif.gz\n",
      "  epochs = mne.read_epochs(file_path, preload=True)\n"
     ]
    },
    {
     "name": "stdout",
     "output_type": "stream",
     "text": [
      "Effective window size : 1.024 (s)\n",
      "Effective window size : 1.024 (s)\n",
      "(58, 24)\n",
      "Reading c:\\Users\\yaoyu\\Documents\\EE675\\preprocessed_epochs\\sub-71_ses-1_retained-epochs.fif ...\n",
      "    Found the data of interest:\n",
      "        t =       0.00 ...    3998.00 ms\n",
      "        0 CTF compensation matrices available\n",
      "Not setting metadata\n",
      "65 matching events found\n",
      "No baseline correction applied\n",
      "0 projection items activated\n"
     ]
    },
    {
     "name": "stderr",
     "output_type": "stream",
     "text": [
      "C:\\Users\\yaoyu\\AppData\\Local\\Temp\\ipykernel_15608\\2588799638.py:12: RuntimeWarning: This filename (preprocessed_epochs\\sub-71_ses-1_retained-epochs.fif) does not conform to MNE naming conventions. All epochs files should end with -epo.fif, -epo.fif.gz, _epo.fif or _epo.fif.gz\n",
      "  epochs = mne.read_epochs(file_path, preload=True)\n"
     ]
    },
    {
     "name": "stdout",
     "output_type": "stream",
     "text": [
      "Effective window size : 1.024 (s)\n",
      "Effective window size : 1.024 (s)\n",
      "Effective window size : 1.024 (s)\n",
      "(65, 24)\n",
      "Reading c:\\Users\\yaoyu\\Documents\\EE675\\preprocessed_epochs\\sub-71_ses-2_retained-epochs.fif ...\n",
      "    Found the data of interest:\n",
      "        t =       0.00 ...    3998.00 ms\n",
      "        0 CTF compensation matrices available\n",
      "Not setting metadata\n",
      "30 matching events found\n",
      "No baseline correction applied\n",
      "0 projection items activated\n",
      "Effective window size : 1.024 (s)\n"
     ]
    },
    {
     "name": "stderr",
     "output_type": "stream",
     "text": [
      "C:\\Users\\yaoyu\\AppData\\Local\\Temp\\ipykernel_15608\\2588799638.py:12: RuntimeWarning: This filename (preprocessed_epochs\\sub-71_ses-2_retained-epochs.fif) does not conform to MNE naming conventions. All epochs files should end with -epo.fif, -epo.fif.gz, _epo.fif or _epo.fif.gz\n",
      "  epochs = mne.read_epochs(file_path, preload=True)\n"
     ]
    },
    {
     "name": "stdout",
     "output_type": "stream",
     "text": [
      "Effective window size : 1.024 (s)\n",
      "Effective window size : 1.024 (s)\n",
      "(30, 24)\n"
     ]
    }
   ],
   "source": [
    "#FEATURE EXTRACTION\n",
    "patient_features_dict = {}\n",
    "features_file = \"patient_features_dict.pkl\"\n",
    "\n",
    "for file_name in os.listdir(data_dir):\n",
    "    if not file_name.endswith(\".fif\"):\n",
    "        continue\n",
    "    patient_id = file_name.split(\"_\")[0].split(\"-\")[1]  \n",
    "    session = file_name.split(\"_\")[1].split(\"-\")[1]  \n",
    "    file_name = f\"sub-{patient_id}_ses-{session}_retained-epochs.fif\"\n",
    "    file_path = os.path.join(data_dir, file_name)\n",
    "    epochs = mne.read_epochs(file_path, preload=True)\n",
    "\n",
    "    if len(epochs) < 10:\n",
    "        continue\n",
    "\n",
    "    patient_epoch_features = []\n",
    "\n",
    "    for band_name, (fmin, fmax) in frequency_bands.items():\n",
    "        psd = epochs.compute_psd(method=\"welch\", fmin=fmin, fmax=fmax, n_fft=512)\n",
    "        psd_data = psd.get_data()  \n",
    "\n",
    "        region_features = []\n",
    "        for region, channels in region_channels.items():\n",
    "            region_indices = [epochs.info[\"ch_names\"].index(ch) for ch in channels if ch in epochs.info[\"ch_names\"]]\n",
    "            region_psd = psd_data[:, region_indices, :].mean(axis=1)  \n",
    "            region_psd_mean = region_psd.mean(axis=1)\n",
    "            region_features.append(region_psd_mean)\n",
    "\n",
    "        region_features = np.column_stack(region_features)  \n",
    "        \n",
    "        if band_name == \"theta\":\n",
    "            theta_power = region_features\n",
    "        elif band_name == \"alpha\":\n",
    "            alpha_power = region_features\n",
    "        elif band_name == \"beta\":\n",
    "            beta_power = region_features\n",
    "\n",
    "        patient_epoch_features.append(region_features)\n",
    "\n",
    "    if theta_power is not None and alpha_power is not None and beta_power is not None:\n",
    "        theta_alpha_ratio = theta_power / (alpha_power + 1e-10)\n",
    "        theta_beta_ratio = theta_power / (beta_power + 1e-10)\n",
    "        alpha_beta_ratio = alpha_power / (beta_power + 1e-10)\n",
    "\n",
    "        patient_epoch_features.append(theta_alpha_ratio)\n",
    "        patient_epoch_features.append(theta_beta_ratio)\n",
    "        patient_epoch_features.append(alpha_beta_ratio)\n",
    "\n",
    "    patient_epoch_features = np.hstack(patient_epoch_features)\n",
    "    print(patient_epoch_features.shape)\n",
    "\n",
    "    unique_patient_id = f\"{patient_id}_{session}\"\n",
    "    label = 0 if session == \"1\" else 1  # 0 for NS, 1 for SD\n",
    "    patient_features_dict[unique_patient_id] = {\"features\": patient_epoch_features, \"label\": label}\n",
    "\n",
    "with open(features_file, 'wb') as f:\n",
    "    pickle.dump(patient_features_dict, f)"
   ]
  },
  {
   "cell_type": "code",
   "execution_count": 3,
   "metadata": {},
   "outputs": [
    {
     "name": "stdout",
     "output_type": "stream",
     "text": [
      "\n",
      "Evaluating SVM with configuration: {'kernel': 'linear', 'C': 1.0, 'class_weight': 'balanced'}\n",
      "Fold 1 Epoch-Level Accuracy: 0.64\n",
      "Fold 1 Session-Level Accuracy: 0.50\n",
      "Session-Level Classification Report:\n",
      "              precision    recall  f1-score   support\n",
      "\n",
      "           0       0.50      1.00      0.67         1\n",
      "           1       0.00      0.00      0.00         1\n",
      "\n",
      "    accuracy                           0.50         2\n",
      "   macro avg       0.25      0.50      0.33         2\n",
      "weighted avg       0.25      0.50      0.33         2\n",
      "\n"
     ]
    },
    {
     "name": "stderr",
     "output_type": "stream",
     "text": [
      "c:\\Users\\yaoyu\\miniconda3\\Lib\\site-packages\\sklearn\\metrics\\_classification.py:1517: UndefinedMetricWarning: Precision is ill-defined and being set to 0.0 in labels with no predicted samples. Use `zero_division` parameter to control this behavior.\n",
      "  _warn_prf(average, modifier, f\"{metric.capitalize()} is\", len(result))\n",
      "c:\\Users\\yaoyu\\miniconda3\\Lib\\site-packages\\sklearn\\metrics\\_classification.py:1517: UndefinedMetricWarning: Precision is ill-defined and being set to 0.0 in labels with no predicted samples. Use `zero_division` parameter to control this behavior.\n",
      "  _warn_prf(average, modifier, f\"{metric.capitalize()} is\", len(result))\n",
      "c:\\Users\\yaoyu\\miniconda3\\Lib\\site-packages\\sklearn\\metrics\\_classification.py:1517: UndefinedMetricWarning: Precision is ill-defined and being set to 0.0 in labels with no predicted samples. Use `zero_division` parameter to control this behavior.\n",
      "  _warn_prf(average, modifier, f\"{metric.capitalize()} is\", len(result))\n"
     ]
    },
    {
     "name": "stdout",
     "output_type": "stream",
     "text": [
      "Fold 2 Epoch-Level Accuracy: 0.85\n",
      "Fold 2 Session-Level Accuracy: 1.00\n",
      "Session-Level Classification Report:\n",
      "              precision    recall  f1-score   support\n",
      "\n",
      "           0       1.00      1.00      1.00         1\n",
      "           1       1.00      1.00      1.00         1\n",
      "\n",
      "    accuracy                           1.00         2\n",
      "   macro avg       1.00      1.00      1.00         2\n",
      "weighted avg       1.00      1.00      1.00         2\n",
      "\n",
      "Fold 3 Epoch-Level Accuracy: 0.46\n",
      "Fold 3 Session-Level Accuracy: 0.50\n",
      "Session-Level Classification Report:\n",
      "              precision    recall  f1-score   support\n",
      "\n",
      "           0       0.50      1.00      0.67         1\n",
      "           1       0.00      0.00      0.00         1\n",
      "\n",
      "    accuracy                           0.50         2\n",
      "   macro avg       0.25      0.50      0.33         2\n",
      "weighted avg       0.25      0.50      0.33         2\n",
      "\n"
     ]
    },
    {
     "name": "stderr",
     "output_type": "stream",
     "text": [
      "c:\\Users\\yaoyu\\miniconda3\\Lib\\site-packages\\sklearn\\metrics\\_classification.py:1517: UndefinedMetricWarning: Precision is ill-defined and being set to 0.0 in labels with no predicted samples. Use `zero_division` parameter to control this behavior.\n",
      "  _warn_prf(average, modifier, f\"{metric.capitalize()} is\", len(result))\n",
      "c:\\Users\\yaoyu\\miniconda3\\Lib\\site-packages\\sklearn\\metrics\\_classification.py:1517: UndefinedMetricWarning: Precision is ill-defined and being set to 0.0 in labels with no predicted samples. Use `zero_division` parameter to control this behavior.\n",
      "  _warn_prf(average, modifier, f\"{metric.capitalize()} is\", len(result))\n",
      "c:\\Users\\yaoyu\\miniconda3\\Lib\\site-packages\\sklearn\\metrics\\_classification.py:1517: UndefinedMetricWarning: Precision is ill-defined and being set to 0.0 in labels with no predicted samples. Use `zero_division` parameter to control this behavior.\n",
      "  _warn_prf(average, modifier, f\"{metric.capitalize()} is\", len(result))\n"
     ]
    },
    {
     "name": "stdout",
     "output_type": "stream",
     "text": [
      "Fold 4 Epoch-Level Accuracy: 0.89\n",
      "Fold 4 Session-Level Accuracy: 1.00\n",
      "Session-Level Classification Report:\n",
      "              precision    recall  f1-score   support\n",
      "\n",
      "           0       1.00      1.00      1.00         1\n",
      "           1       1.00      1.00      1.00         1\n",
      "\n",
      "    accuracy                           1.00         2\n",
      "   macro avg       1.00      1.00      1.00         2\n",
      "weighted avg       1.00      1.00      1.00         2\n",
      "\n",
      "Fold 5 Epoch-Level Accuracy: 1.00\n",
      "Fold 5 Session-Level Accuracy: 1.00\n",
      "Session-Level Classification Report:\n",
      "              precision    recall  f1-score   support\n",
      "\n",
      "           0       1.00      1.00      1.00         1\n",
      "           1       1.00      1.00      1.00         1\n",
      "\n",
      "    accuracy                           1.00         2\n",
      "   macro avg       1.00      1.00      1.00         2\n",
      "weighted avg       1.00      1.00      1.00         2\n",
      "\n",
      "Fold 6 Epoch-Level Accuracy: 1.00\n",
      "Fold 6 Session-Level Accuracy: 1.00\n",
      "Session-Level Classification Report:\n",
      "              precision    recall  f1-score   support\n",
      "\n",
      "           0       1.00      1.00      1.00         1\n",
      "           1       1.00      1.00      1.00         1\n",
      "\n",
      "    accuracy                           1.00         2\n",
      "   macro avg       1.00      1.00      1.00         2\n",
      "weighted avg       1.00      1.00      1.00         2\n",
      "\n",
      "Fold 7 Epoch-Level Accuracy: 0.82\n",
      "Fold 7 Session-Level Accuracy: 1.00\n",
      "Session-Level Classification Report:\n",
      "              precision    recall  f1-score   support\n",
      "\n",
      "           0       1.00      1.00      1.00         1\n",
      "           1       1.00      1.00      1.00         1\n",
      "\n",
      "    accuracy                           1.00         2\n",
      "   macro avg       1.00      1.00      1.00         2\n",
      "weighted avg       1.00      1.00      1.00         2\n",
      "\n",
      "Fold 8 Epoch-Level Accuracy: 0.29\n",
      "Fold 8 Session-Level Accuracy: 0.50\n",
      "Session-Level Classification Report:\n",
      "              precision    recall  f1-score   support\n",
      "\n",
      "           0       0.50      1.00      0.67         1\n",
      "           1       0.00      0.00      0.00         1\n",
      "\n",
      "    accuracy                           0.50         2\n",
      "   macro avg       0.25      0.50      0.33         2\n",
      "weighted avg       0.25      0.50      0.33         2\n",
      "\n"
     ]
    },
    {
     "name": "stderr",
     "output_type": "stream",
     "text": [
      "c:\\Users\\yaoyu\\miniconda3\\Lib\\site-packages\\sklearn\\metrics\\_classification.py:1517: UndefinedMetricWarning: Precision is ill-defined and being set to 0.0 in labels with no predicted samples. Use `zero_division` parameter to control this behavior.\n",
      "  _warn_prf(average, modifier, f\"{metric.capitalize()} is\", len(result))\n",
      "c:\\Users\\yaoyu\\miniconda3\\Lib\\site-packages\\sklearn\\metrics\\_classification.py:1517: UndefinedMetricWarning: Precision is ill-defined and being set to 0.0 in labels with no predicted samples. Use `zero_division` parameter to control this behavior.\n",
      "  _warn_prf(average, modifier, f\"{metric.capitalize()} is\", len(result))\n",
      "c:\\Users\\yaoyu\\miniconda3\\Lib\\site-packages\\sklearn\\metrics\\_classification.py:1517: UndefinedMetricWarning: Precision is ill-defined and being set to 0.0 in labels with no predicted samples. Use `zero_division` parameter to control this behavior.\n",
      "  _warn_prf(average, modifier, f\"{metric.capitalize()} is\", len(result))\n"
     ]
    },
    {
     "name": "stdout",
     "output_type": "stream",
     "text": [
      "Fold 9 Epoch-Level Accuracy: 0.62\n",
      "Fold 9 Session-Level Accuracy: 0.50\n",
      "Session-Level Classification Report:\n",
      "              precision    recall  f1-score   support\n",
      "\n",
      "           0       0.50      1.00      0.67         1\n",
      "           1       0.00      0.00      0.00         1\n",
      "\n",
      "    accuracy                           0.50         2\n",
      "   macro avg       0.25      0.50      0.33         2\n",
      "weighted avg       0.25      0.50      0.33         2\n",
      "\n"
     ]
    },
    {
     "name": "stderr",
     "output_type": "stream",
     "text": [
      "c:\\Users\\yaoyu\\miniconda3\\Lib\\site-packages\\sklearn\\metrics\\_classification.py:1517: UndefinedMetricWarning: Precision is ill-defined and being set to 0.0 in labels with no predicted samples. Use `zero_division` parameter to control this behavior.\n",
      "  _warn_prf(average, modifier, f\"{metric.capitalize()} is\", len(result))\n",
      "c:\\Users\\yaoyu\\miniconda3\\Lib\\site-packages\\sklearn\\metrics\\_classification.py:1517: UndefinedMetricWarning: Precision is ill-defined and being set to 0.0 in labels with no predicted samples. Use `zero_division` parameter to control this behavior.\n",
      "  _warn_prf(average, modifier, f\"{metric.capitalize()} is\", len(result))\n",
      "c:\\Users\\yaoyu\\miniconda3\\Lib\\site-packages\\sklearn\\metrics\\_classification.py:1517: UndefinedMetricWarning: Precision is ill-defined and being set to 0.0 in labels with no predicted samples. Use `zero_division` parameter to control this behavior.\n",
      "  _warn_prf(average, modifier, f\"{metric.capitalize()} is\", len(result))\n"
     ]
    },
    {
     "name": "stdout",
     "output_type": "stream",
     "text": [
      "Fold 10 Epoch-Level Accuracy: 0.92\n",
      "Fold 10 Session-Level Accuracy: 1.00\n",
      "Session-Level Classification Report:\n",
      "              precision    recall  f1-score   support\n",
      "\n",
      "           0       1.00      1.00      1.00         1\n",
      "           1       1.00      1.00      1.00         1\n",
      "\n",
      "    accuracy                           1.00         2\n",
      "   macro avg       1.00      1.00      1.00         2\n",
      "weighted avg       1.00      1.00      1.00         2\n",
      "\n",
      "Fold 11 Epoch-Level Accuracy: 0.57\n",
      "Fold 11 Session-Level Accuracy: 0.50\n",
      "Session-Level Classification Report:\n",
      "              precision    recall  f1-score   support\n",
      "\n",
      "           0       0.50      1.00      0.67         1\n",
      "           1       0.00      0.00      0.00         1\n",
      "\n",
      "    accuracy                           0.50         2\n",
      "   macro avg       0.25      0.50      0.33         2\n",
      "weighted avg       0.25      0.50      0.33         2\n",
      "\n"
     ]
    },
    {
     "name": "stderr",
     "output_type": "stream",
     "text": [
      "c:\\Users\\yaoyu\\miniconda3\\Lib\\site-packages\\sklearn\\metrics\\_classification.py:1517: UndefinedMetricWarning: Precision is ill-defined and being set to 0.0 in labels with no predicted samples. Use `zero_division` parameter to control this behavior.\n",
      "  _warn_prf(average, modifier, f\"{metric.capitalize()} is\", len(result))\n",
      "c:\\Users\\yaoyu\\miniconda3\\Lib\\site-packages\\sklearn\\metrics\\_classification.py:1517: UndefinedMetricWarning: Precision is ill-defined and being set to 0.0 in labels with no predicted samples. Use `zero_division` parameter to control this behavior.\n",
      "  _warn_prf(average, modifier, f\"{metric.capitalize()} is\", len(result))\n",
      "c:\\Users\\yaoyu\\miniconda3\\Lib\\site-packages\\sklearn\\metrics\\_classification.py:1517: UndefinedMetricWarning: Precision is ill-defined and being set to 0.0 in labels with no predicted samples. Use `zero_division` parameter to control this behavior.\n",
      "  _warn_prf(average, modifier, f\"{metric.capitalize()} is\", len(result))\n"
     ]
    },
    {
     "name": "stdout",
     "output_type": "stream",
     "text": [
      "Fold 12 Epoch-Level Accuracy: 0.31\n",
      "Fold 12 Session-Level Accuracy: 0.50\n",
      "Session-Level Classification Report:\n",
      "              precision    recall  f1-score   support\n",
      "\n",
      "           0       0.50      1.00      0.67         1\n",
      "           1       0.00      0.00      0.00         1\n",
      "\n",
      "    accuracy                           0.50         2\n",
      "   macro avg       0.25      0.50      0.33         2\n",
      "weighted avg       0.25      0.50      0.33         2\n",
      "\n",
      "\n",
      "Overall Epoch-Level Accuracy: 0.70\n",
      "Total Correct Predictions (Epoch-Level): 1240/1778\n",
      "\n",
      "Overall Session-Level Accuracy: 0.75\n",
      "Total Correct Predictions (Session-Level): 18/24\n",
      "\n",
      "Evaluating SVM with configuration: {'kernel': 'rbf', 'C': 1.0, 'gamma': 'scale', 'class_weight': 'balanced'}\n"
     ]
    },
    {
     "name": "stderr",
     "output_type": "stream",
     "text": [
      "c:\\Users\\yaoyu\\miniconda3\\Lib\\site-packages\\sklearn\\metrics\\_classification.py:1517: UndefinedMetricWarning: Precision is ill-defined and being set to 0.0 in labels with no predicted samples. Use `zero_division` parameter to control this behavior.\n",
      "  _warn_prf(average, modifier, f\"{metric.capitalize()} is\", len(result))\n",
      "c:\\Users\\yaoyu\\miniconda3\\Lib\\site-packages\\sklearn\\metrics\\_classification.py:1517: UndefinedMetricWarning: Precision is ill-defined and being set to 0.0 in labels with no predicted samples. Use `zero_division` parameter to control this behavior.\n",
      "  _warn_prf(average, modifier, f\"{metric.capitalize()} is\", len(result))\n",
      "c:\\Users\\yaoyu\\miniconda3\\Lib\\site-packages\\sklearn\\metrics\\_classification.py:1517: UndefinedMetricWarning: Precision is ill-defined and being set to 0.0 in labels with no predicted samples. Use `zero_division` parameter to control this behavior.\n",
      "  _warn_prf(average, modifier, f\"{metric.capitalize()} is\", len(result))\n"
     ]
    },
    {
     "name": "stdout",
     "output_type": "stream",
     "text": [
      "Fold 1 Epoch-Level Accuracy: 0.65\n",
      "Fold 1 Session-Level Accuracy: 0.50\n",
      "Session-Level Classification Report:\n",
      "              precision    recall  f1-score   support\n",
      "\n",
      "           0       0.50      1.00      0.67         1\n",
      "           1       0.00      0.00      0.00         1\n",
      "\n",
      "    accuracy                           0.50         2\n",
      "   macro avg       0.25      0.50      0.33         2\n",
      "weighted avg       0.25      0.50      0.33         2\n",
      "\n"
     ]
    },
    {
     "name": "stderr",
     "output_type": "stream",
     "text": [
      "c:\\Users\\yaoyu\\miniconda3\\Lib\\site-packages\\sklearn\\metrics\\_classification.py:1517: UndefinedMetricWarning: Precision is ill-defined and being set to 0.0 in labels with no predicted samples. Use `zero_division` parameter to control this behavior.\n",
      "  _warn_prf(average, modifier, f\"{metric.capitalize()} is\", len(result))\n",
      "c:\\Users\\yaoyu\\miniconda3\\Lib\\site-packages\\sklearn\\metrics\\_classification.py:1517: UndefinedMetricWarning: Precision is ill-defined and being set to 0.0 in labels with no predicted samples. Use `zero_division` parameter to control this behavior.\n",
      "  _warn_prf(average, modifier, f\"{metric.capitalize()} is\", len(result))\n",
      "c:\\Users\\yaoyu\\miniconda3\\Lib\\site-packages\\sklearn\\metrics\\_classification.py:1517: UndefinedMetricWarning: Precision is ill-defined and being set to 0.0 in labels with no predicted samples. Use `zero_division` parameter to control this behavior.\n",
      "  _warn_prf(average, modifier, f\"{metric.capitalize()} is\", len(result))\n"
     ]
    },
    {
     "name": "stdout",
     "output_type": "stream",
     "text": [
      "Fold 2 Epoch-Level Accuracy: 0.88\n",
      "Fold 2 Session-Level Accuracy: 1.00\n",
      "Session-Level Classification Report:\n",
      "              precision    recall  f1-score   support\n",
      "\n",
      "           0       1.00      1.00      1.00         1\n",
      "           1       1.00      1.00      1.00         1\n",
      "\n",
      "    accuracy                           1.00         2\n",
      "   macro avg       1.00      1.00      1.00         2\n",
      "weighted avg       1.00      1.00      1.00         2\n",
      "\n",
      "Fold 3 Epoch-Level Accuracy: 0.38\n",
      "Fold 3 Session-Level Accuracy: 0.50\n",
      "Session-Level Classification Report:\n",
      "              precision    recall  f1-score   support\n",
      "\n",
      "           0       0.50      1.00      0.67         1\n",
      "           1       0.00      0.00      0.00         1\n",
      "\n",
      "    accuracy                           0.50         2\n",
      "   macro avg       0.25      0.50      0.33         2\n",
      "weighted avg       0.25      0.50      0.33         2\n",
      "\n"
     ]
    },
    {
     "name": "stderr",
     "output_type": "stream",
     "text": [
      "c:\\Users\\yaoyu\\miniconda3\\Lib\\site-packages\\sklearn\\metrics\\_classification.py:1517: UndefinedMetricWarning: Precision is ill-defined and being set to 0.0 in labels with no predicted samples. Use `zero_division` parameter to control this behavior.\n",
      "  _warn_prf(average, modifier, f\"{metric.capitalize()} is\", len(result))\n",
      "c:\\Users\\yaoyu\\miniconda3\\Lib\\site-packages\\sklearn\\metrics\\_classification.py:1517: UndefinedMetricWarning: Precision is ill-defined and being set to 0.0 in labels with no predicted samples. Use `zero_division` parameter to control this behavior.\n",
      "  _warn_prf(average, modifier, f\"{metric.capitalize()} is\", len(result))\n",
      "c:\\Users\\yaoyu\\miniconda3\\Lib\\site-packages\\sklearn\\metrics\\_classification.py:1517: UndefinedMetricWarning: Precision is ill-defined and being set to 0.0 in labels with no predicted samples. Use `zero_division` parameter to control this behavior.\n",
      "  _warn_prf(average, modifier, f\"{metric.capitalize()} is\", len(result))\n"
     ]
    },
    {
     "name": "stdout",
     "output_type": "stream",
     "text": [
      "Fold 4 Epoch-Level Accuracy: 0.81\n",
      "Fold 4 Session-Level Accuracy: 1.00\n",
      "Session-Level Classification Report:\n",
      "              precision    recall  f1-score   support\n",
      "\n",
      "           0       1.00      1.00      1.00         1\n",
      "           1       1.00      1.00      1.00         1\n",
      "\n",
      "    accuracy                           1.00         2\n",
      "   macro avg       1.00      1.00      1.00         2\n",
      "weighted avg       1.00      1.00      1.00         2\n",
      "\n",
      "Fold 5 Epoch-Level Accuracy: 0.98\n",
      "Fold 5 Session-Level Accuracy: 1.00\n",
      "Session-Level Classification Report:\n",
      "              precision    recall  f1-score   support\n",
      "\n",
      "           0       1.00      1.00      1.00         1\n",
      "           1       1.00      1.00      1.00         1\n",
      "\n",
      "    accuracy                           1.00         2\n",
      "   macro avg       1.00      1.00      1.00         2\n",
      "weighted avg       1.00      1.00      1.00         2\n",
      "\n",
      "Fold 6 Epoch-Level Accuracy: 0.99\n",
      "Fold 6 Session-Level Accuracy: 1.00\n",
      "Session-Level Classification Report:\n",
      "              precision    recall  f1-score   support\n",
      "\n",
      "           0       1.00      1.00      1.00         1\n",
      "           1       1.00      1.00      1.00         1\n",
      "\n",
      "    accuracy                           1.00         2\n",
      "   macro avg       1.00      1.00      1.00         2\n",
      "weighted avg       1.00      1.00      1.00         2\n",
      "\n",
      "Fold 7 Epoch-Level Accuracy: 0.78\n",
      "Fold 7 Session-Level Accuracy: 1.00\n",
      "Session-Level Classification Report:\n",
      "              precision    recall  f1-score   support\n",
      "\n",
      "           0       1.00      1.00      1.00         1\n",
      "           1       1.00      1.00      1.00         1\n",
      "\n",
      "    accuracy                           1.00         2\n",
      "   macro avg       1.00      1.00      1.00         2\n",
      "weighted avg       1.00      1.00      1.00         2\n",
      "\n",
      "Fold 8 Epoch-Level Accuracy: 0.39\n",
      "Fold 8 Session-Level Accuracy: 0.50\n",
      "Session-Level Classification Report:\n",
      "              precision    recall  f1-score   support\n",
      "\n",
      "           0       0.50      1.00      0.67         1\n",
      "           1       0.00      0.00      0.00         1\n",
      "\n",
      "    accuracy                           0.50         2\n",
      "   macro avg       0.25      0.50      0.33         2\n",
      "weighted avg       0.25      0.50      0.33         2\n",
      "\n"
     ]
    },
    {
     "name": "stderr",
     "output_type": "stream",
     "text": [
      "c:\\Users\\yaoyu\\miniconda3\\Lib\\site-packages\\sklearn\\metrics\\_classification.py:1517: UndefinedMetricWarning: Precision is ill-defined and being set to 0.0 in labels with no predicted samples. Use `zero_division` parameter to control this behavior.\n",
      "  _warn_prf(average, modifier, f\"{metric.capitalize()} is\", len(result))\n",
      "c:\\Users\\yaoyu\\miniconda3\\Lib\\site-packages\\sklearn\\metrics\\_classification.py:1517: UndefinedMetricWarning: Precision is ill-defined and being set to 0.0 in labels with no predicted samples. Use `zero_division` parameter to control this behavior.\n",
      "  _warn_prf(average, modifier, f\"{metric.capitalize()} is\", len(result))\n",
      "c:\\Users\\yaoyu\\miniconda3\\Lib\\site-packages\\sklearn\\metrics\\_classification.py:1517: UndefinedMetricWarning: Precision is ill-defined and being set to 0.0 in labels with no predicted samples. Use `zero_division` parameter to control this behavior.\n",
      "  _warn_prf(average, modifier, f\"{metric.capitalize()} is\", len(result))\n"
     ]
    },
    {
     "name": "stdout",
     "output_type": "stream",
     "text": [
      "Fold 9 Epoch-Level Accuracy: 0.60\n",
      "Fold 9 Session-Level Accuracy: 0.50\n",
      "Session-Level Classification Report:\n",
      "              precision    recall  f1-score   support\n",
      "\n",
      "           0       0.50      1.00      0.67         1\n",
      "           1       0.00      0.00      0.00         1\n",
      "\n",
      "    accuracy                           0.50         2\n",
      "   macro avg       0.25      0.50      0.33         2\n",
      "weighted avg       0.25      0.50      0.33         2\n",
      "\n"
     ]
    },
    {
     "name": "stderr",
     "output_type": "stream",
     "text": [
      "c:\\Users\\yaoyu\\miniconda3\\Lib\\site-packages\\sklearn\\metrics\\_classification.py:1517: UndefinedMetricWarning: Precision is ill-defined and being set to 0.0 in labels with no predicted samples. Use `zero_division` parameter to control this behavior.\n",
      "  _warn_prf(average, modifier, f\"{metric.capitalize()} is\", len(result))\n",
      "c:\\Users\\yaoyu\\miniconda3\\Lib\\site-packages\\sklearn\\metrics\\_classification.py:1517: UndefinedMetricWarning: Precision is ill-defined and being set to 0.0 in labels with no predicted samples. Use `zero_division` parameter to control this behavior.\n",
      "  _warn_prf(average, modifier, f\"{metric.capitalize()} is\", len(result))\n",
      "c:\\Users\\yaoyu\\miniconda3\\Lib\\site-packages\\sklearn\\metrics\\_classification.py:1517: UndefinedMetricWarning: Precision is ill-defined and being set to 0.0 in labels with no predicted samples. Use `zero_division` parameter to control this behavior.\n",
      "  _warn_prf(average, modifier, f\"{metric.capitalize()} is\", len(result))\n"
     ]
    },
    {
     "name": "stdout",
     "output_type": "stream",
     "text": [
      "Fold 10 Epoch-Level Accuracy: 0.84\n",
      "Fold 10 Session-Level Accuracy: 1.00\n",
      "Session-Level Classification Report:\n",
      "              precision    recall  f1-score   support\n",
      "\n",
      "           0       1.00      1.00      1.00         1\n",
      "           1       1.00      1.00      1.00         1\n",
      "\n",
      "    accuracy                           1.00         2\n",
      "   macro avg       1.00      1.00      1.00         2\n",
      "weighted avg       1.00      1.00      1.00         2\n",
      "\n",
      "Fold 11 Epoch-Level Accuracy: 0.56\n",
      "Fold 11 Session-Level Accuracy: 0.50\n",
      "Session-Level Classification Report:\n",
      "              precision    recall  f1-score   support\n",
      "\n",
      "           0       0.50      1.00      0.67         1\n",
      "           1       0.00      0.00      0.00         1\n",
      "\n",
      "    accuracy                           0.50         2\n",
      "   macro avg       0.25      0.50      0.33         2\n",
      "weighted avg       0.25      0.50      0.33         2\n",
      "\n"
     ]
    },
    {
     "name": "stderr",
     "output_type": "stream",
     "text": [
      "c:\\Users\\yaoyu\\miniconda3\\Lib\\site-packages\\sklearn\\metrics\\_classification.py:1517: UndefinedMetricWarning: Precision is ill-defined and being set to 0.0 in labels with no predicted samples. Use `zero_division` parameter to control this behavior.\n",
      "  _warn_prf(average, modifier, f\"{metric.capitalize()} is\", len(result))\n",
      "c:\\Users\\yaoyu\\miniconda3\\Lib\\site-packages\\sklearn\\metrics\\_classification.py:1517: UndefinedMetricWarning: Precision is ill-defined and being set to 0.0 in labels with no predicted samples. Use `zero_division` parameter to control this behavior.\n",
      "  _warn_prf(average, modifier, f\"{metric.capitalize()} is\", len(result))\n",
      "c:\\Users\\yaoyu\\miniconda3\\Lib\\site-packages\\sklearn\\metrics\\_classification.py:1517: UndefinedMetricWarning: Precision is ill-defined and being set to 0.0 in labels with no predicted samples. Use `zero_division` parameter to control this behavior.\n",
      "  _warn_prf(average, modifier, f\"{metric.capitalize()} is\", len(result))\n"
     ]
    },
    {
     "name": "stdout",
     "output_type": "stream",
     "text": [
      "Fold 12 Epoch-Level Accuracy: 0.29\n",
      "Fold 12 Session-Level Accuracy: 0.00\n",
      "Session-Level Classification Report:\n",
      "              precision    recall  f1-score   support\n",
      "\n",
      "           0       0.00      0.00      0.00       1.0\n",
      "           1       0.00      0.00      0.00       1.0\n",
      "\n",
      "    accuracy                           0.00       2.0\n",
      "   macro avg       0.00      0.00      0.00       2.0\n",
      "weighted avg       0.00      0.00      0.00       2.0\n",
      "\n",
      "\n",
      "Overall Epoch-Level Accuracy: 0.68\n",
      "Total Correct Predictions (Epoch-Level): 1209/1778\n",
      "\n",
      "Overall Session-Level Accuracy: 0.71\n",
      "Total Correct Predictions (Session-Level): 17/24\n",
      "\n",
      "Evaluating SVM with configuration: {'kernel': 'poly', 'C': 1.0, 'degree': 3, 'class_weight': 'balanced'}\n",
      "Fold 1 Epoch-Level Accuracy: 0.50\n",
      "Fold 1 Session-Level Accuracy: 0.50\n",
      "Session-Level Classification Report:\n",
      "              precision    recall  f1-score   support\n",
      "\n",
      "           0       0.50      1.00      0.67         1\n",
      "           1       0.00      0.00      0.00         1\n",
      "\n",
      "    accuracy                           0.50         2\n",
      "   macro avg       0.25      0.50      0.33         2\n",
      "weighted avg       0.25      0.50      0.33         2\n",
      "\n"
     ]
    },
    {
     "name": "stderr",
     "output_type": "stream",
     "text": [
      "c:\\Users\\yaoyu\\miniconda3\\Lib\\site-packages\\sklearn\\metrics\\_classification.py:1517: UndefinedMetricWarning: Precision is ill-defined and being set to 0.0 in labels with no predicted samples. Use `zero_division` parameter to control this behavior.\n",
      "  _warn_prf(average, modifier, f\"{metric.capitalize()} is\", len(result))\n",
      "c:\\Users\\yaoyu\\miniconda3\\Lib\\site-packages\\sklearn\\metrics\\_classification.py:1517: UndefinedMetricWarning: Precision is ill-defined and being set to 0.0 in labels with no predicted samples. Use `zero_division` parameter to control this behavior.\n",
      "  _warn_prf(average, modifier, f\"{metric.capitalize()} is\", len(result))\n",
      "c:\\Users\\yaoyu\\miniconda3\\Lib\\site-packages\\sklearn\\metrics\\_classification.py:1517: UndefinedMetricWarning: Precision is ill-defined and being set to 0.0 in labels with no predicted samples. Use `zero_division` parameter to control this behavior.\n",
      "  _warn_prf(average, modifier, f\"{metric.capitalize()} is\", len(result))\n"
     ]
    },
    {
     "name": "stdout",
     "output_type": "stream",
     "text": [
      "Fold 2 Epoch-Level Accuracy: 0.49\n",
      "Fold 2 Session-Level Accuracy: 0.50\n",
      "Session-Level Classification Report:\n",
      "              precision    recall  f1-score   support\n",
      "\n",
      "           0       0.50      1.00      0.67         1\n",
      "           1       0.00      0.00      0.00         1\n",
      "\n",
      "    accuracy                           0.50         2\n",
      "   macro avg       0.25      0.50      0.33         2\n",
      "weighted avg       0.25      0.50      0.33         2\n",
      "\n"
     ]
    },
    {
     "name": "stderr",
     "output_type": "stream",
     "text": [
      "c:\\Users\\yaoyu\\miniconda3\\Lib\\site-packages\\sklearn\\metrics\\_classification.py:1517: UndefinedMetricWarning: Precision is ill-defined and being set to 0.0 in labels with no predicted samples. Use `zero_division` parameter to control this behavior.\n",
      "  _warn_prf(average, modifier, f\"{metric.capitalize()} is\", len(result))\n",
      "c:\\Users\\yaoyu\\miniconda3\\Lib\\site-packages\\sklearn\\metrics\\_classification.py:1517: UndefinedMetricWarning: Precision is ill-defined and being set to 0.0 in labels with no predicted samples. Use `zero_division` parameter to control this behavior.\n",
      "  _warn_prf(average, modifier, f\"{metric.capitalize()} is\", len(result))\n",
      "c:\\Users\\yaoyu\\miniconda3\\Lib\\site-packages\\sklearn\\metrics\\_classification.py:1517: UndefinedMetricWarning: Precision is ill-defined and being set to 0.0 in labels with no predicted samples. Use `zero_division` parameter to control this behavior.\n",
      "  _warn_prf(average, modifier, f\"{metric.capitalize()} is\", len(result))\n"
     ]
    },
    {
     "name": "stdout",
     "output_type": "stream",
     "text": [
      "Fold 3 Epoch-Level Accuracy: 0.52\n",
      "Fold 3 Session-Level Accuracy: 0.50\n",
      "Session-Level Classification Report:\n",
      "              precision    recall  f1-score   support\n",
      "\n",
      "           0       0.50      1.00      0.67         1\n",
      "           1       0.00      0.00      0.00         1\n",
      "\n",
      "    accuracy                           0.50         2\n",
      "   macro avg       0.25      0.50      0.33         2\n",
      "weighted avg       0.25      0.50      0.33         2\n",
      "\n"
     ]
    },
    {
     "name": "stderr",
     "output_type": "stream",
     "text": [
      "c:\\Users\\yaoyu\\miniconda3\\Lib\\site-packages\\sklearn\\metrics\\_classification.py:1517: UndefinedMetricWarning: Precision is ill-defined and being set to 0.0 in labels with no predicted samples. Use `zero_division` parameter to control this behavior.\n",
      "  _warn_prf(average, modifier, f\"{metric.capitalize()} is\", len(result))\n",
      "c:\\Users\\yaoyu\\miniconda3\\Lib\\site-packages\\sklearn\\metrics\\_classification.py:1517: UndefinedMetricWarning: Precision is ill-defined and being set to 0.0 in labels with no predicted samples. Use `zero_division` parameter to control this behavior.\n",
      "  _warn_prf(average, modifier, f\"{metric.capitalize()} is\", len(result))\n",
      "c:\\Users\\yaoyu\\miniconda3\\Lib\\site-packages\\sklearn\\metrics\\_classification.py:1517: UndefinedMetricWarning: Precision is ill-defined and being set to 0.0 in labels with no predicted samples. Use `zero_division` parameter to control this behavior.\n",
      "  _warn_prf(average, modifier, f\"{metric.capitalize()} is\", len(result))\n"
     ]
    },
    {
     "name": "stdout",
     "output_type": "stream",
     "text": [
      "Fold 4 Epoch-Level Accuracy: 0.60\n",
      "Fold 4 Session-Level Accuracy: 0.50\n",
      "Session-Level Classification Report:\n",
      "              precision    recall  f1-score   support\n",
      "\n",
      "           0       0.50      1.00      0.67         1\n",
      "           1       0.00      0.00      0.00         1\n",
      "\n",
      "    accuracy                           0.50         2\n",
      "   macro avg       0.25      0.50      0.33         2\n",
      "weighted avg       0.25      0.50      0.33         2\n",
      "\n"
     ]
    },
    {
     "name": "stderr",
     "output_type": "stream",
     "text": [
      "c:\\Users\\yaoyu\\miniconda3\\Lib\\site-packages\\sklearn\\metrics\\_classification.py:1517: UndefinedMetricWarning: Precision is ill-defined and being set to 0.0 in labels with no predicted samples. Use `zero_division` parameter to control this behavior.\n",
      "  _warn_prf(average, modifier, f\"{metric.capitalize()} is\", len(result))\n",
      "c:\\Users\\yaoyu\\miniconda3\\Lib\\site-packages\\sklearn\\metrics\\_classification.py:1517: UndefinedMetricWarning: Precision is ill-defined and being set to 0.0 in labels with no predicted samples. Use `zero_division` parameter to control this behavior.\n",
      "  _warn_prf(average, modifier, f\"{metric.capitalize()} is\", len(result))\n",
      "c:\\Users\\yaoyu\\miniconda3\\Lib\\site-packages\\sklearn\\metrics\\_classification.py:1517: UndefinedMetricWarning: Precision is ill-defined and being set to 0.0 in labels with no predicted samples. Use `zero_division` parameter to control this behavior.\n",
      "  _warn_prf(average, modifier, f\"{metric.capitalize()} is\", len(result))\n"
     ]
    },
    {
     "name": "stdout",
     "output_type": "stream",
     "text": [
      "Fold 5 Epoch-Level Accuracy: 0.74\n",
      "Fold 5 Session-Level Accuracy: 0.50\n",
      "Session-Level Classification Report:\n",
      "              precision    recall  f1-score   support\n",
      "\n",
      "           0       0.50      1.00      0.67         1\n",
      "           1       0.00      0.00      0.00         1\n",
      "\n",
      "    accuracy                           0.50         2\n",
      "   macro avg       0.25      0.50      0.33         2\n",
      "weighted avg       0.25      0.50      0.33         2\n",
      "\n"
     ]
    },
    {
     "name": "stderr",
     "output_type": "stream",
     "text": [
      "c:\\Users\\yaoyu\\miniconda3\\Lib\\site-packages\\sklearn\\metrics\\_classification.py:1517: UndefinedMetricWarning: Precision is ill-defined and being set to 0.0 in labels with no predicted samples. Use `zero_division` parameter to control this behavior.\n",
      "  _warn_prf(average, modifier, f\"{metric.capitalize()} is\", len(result))\n",
      "c:\\Users\\yaoyu\\miniconda3\\Lib\\site-packages\\sklearn\\metrics\\_classification.py:1517: UndefinedMetricWarning: Precision is ill-defined and being set to 0.0 in labels with no predicted samples. Use `zero_division` parameter to control this behavior.\n",
      "  _warn_prf(average, modifier, f\"{metric.capitalize()} is\", len(result))\n",
      "c:\\Users\\yaoyu\\miniconda3\\Lib\\site-packages\\sklearn\\metrics\\_classification.py:1517: UndefinedMetricWarning: Precision is ill-defined and being set to 0.0 in labels with no predicted samples. Use `zero_division` parameter to control this behavior.\n",
      "  _warn_prf(average, modifier, f\"{metric.capitalize()} is\", len(result))\n"
     ]
    },
    {
     "name": "stdout",
     "output_type": "stream",
     "text": [
      "Fold 6 Epoch-Level Accuracy: 0.89\n",
      "Fold 6 Session-Level Accuracy: 1.00\n",
      "Session-Level Classification Report:\n",
      "              precision    recall  f1-score   support\n",
      "\n",
      "           0       1.00      1.00      1.00         1\n",
      "           1       1.00      1.00      1.00         1\n",
      "\n",
      "    accuracy                           1.00         2\n",
      "   macro avg       1.00      1.00      1.00         2\n",
      "weighted avg       1.00      1.00      1.00         2\n",
      "\n",
      "Fold 7 Epoch-Level Accuracy: 0.54\n",
      "Fold 7 Session-Level Accuracy: 0.50\n",
      "Session-Level Classification Report:\n",
      "              precision    recall  f1-score   support\n",
      "\n",
      "           0       0.50      1.00      0.67         1\n",
      "           1       0.00      0.00      0.00         1\n",
      "\n",
      "    accuracy                           0.50         2\n",
      "   macro avg       0.25      0.50      0.33         2\n",
      "weighted avg       0.25      0.50      0.33         2\n",
      "\n"
     ]
    },
    {
     "name": "stderr",
     "output_type": "stream",
     "text": [
      "c:\\Users\\yaoyu\\miniconda3\\Lib\\site-packages\\sklearn\\metrics\\_classification.py:1517: UndefinedMetricWarning: Precision is ill-defined and being set to 0.0 in labels with no predicted samples. Use `zero_division` parameter to control this behavior.\n",
      "  _warn_prf(average, modifier, f\"{metric.capitalize()} is\", len(result))\n",
      "c:\\Users\\yaoyu\\miniconda3\\Lib\\site-packages\\sklearn\\metrics\\_classification.py:1517: UndefinedMetricWarning: Precision is ill-defined and being set to 0.0 in labels with no predicted samples. Use `zero_division` parameter to control this behavior.\n",
      "  _warn_prf(average, modifier, f\"{metric.capitalize()} is\", len(result))\n",
      "c:\\Users\\yaoyu\\miniconda3\\Lib\\site-packages\\sklearn\\metrics\\_classification.py:1517: UndefinedMetricWarning: Precision is ill-defined and being set to 0.0 in labels with no predicted samples. Use `zero_division` parameter to control this behavior.\n",
      "  _warn_prf(average, modifier, f\"{metric.capitalize()} is\", len(result))\n"
     ]
    },
    {
     "name": "stdout",
     "output_type": "stream",
     "text": [
      "Fold 8 Epoch-Level Accuracy: 0.50\n",
      "Fold 8 Session-Level Accuracy: 0.50\n",
      "Session-Level Classification Report:\n",
      "              precision    recall  f1-score   support\n",
      "\n",
      "           0       0.50      1.00      0.67         1\n",
      "           1       0.00      0.00      0.00         1\n",
      "\n",
      "    accuracy                           0.50         2\n",
      "   macro avg       0.25      0.50      0.33         2\n",
      "weighted avg       0.25      0.50      0.33         2\n",
      "\n"
     ]
    },
    {
     "name": "stderr",
     "output_type": "stream",
     "text": [
      "c:\\Users\\yaoyu\\miniconda3\\Lib\\site-packages\\sklearn\\metrics\\_classification.py:1517: UndefinedMetricWarning: Precision is ill-defined and being set to 0.0 in labels with no predicted samples. Use `zero_division` parameter to control this behavior.\n",
      "  _warn_prf(average, modifier, f\"{metric.capitalize()} is\", len(result))\n",
      "c:\\Users\\yaoyu\\miniconda3\\Lib\\site-packages\\sklearn\\metrics\\_classification.py:1517: UndefinedMetricWarning: Precision is ill-defined and being set to 0.0 in labels with no predicted samples. Use `zero_division` parameter to control this behavior.\n",
      "  _warn_prf(average, modifier, f\"{metric.capitalize()} is\", len(result))\n",
      "c:\\Users\\yaoyu\\miniconda3\\Lib\\site-packages\\sklearn\\metrics\\_classification.py:1517: UndefinedMetricWarning: Precision is ill-defined and being set to 0.0 in labels with no predicted samples. Use `zero_division` parameter to control this behavior.\n",
      "  _warn_prf(average, modifier, f\"{metric.capitalize()} is\", len(result))\n"
     ]
    },
    {
     "name": "stdout",
     "output_type": "stream",
     "text": [
      "Fold 9 Epoch-Level Accuracy: 0.51\n",
      "Fold 9 Session-Level Accuracy: 0.50\n",
      "Session-Level Classification Report:\n",
      "              precision    recall  f1-score   support\n",
      "\n",
      "           0       0.50      1.00      0.67         1\n",
      "           1       0.00      0.00      0.00         1\n",
      "\n",
      "    accuracy                           0.50         2\n",
      "   macro avg       0.25      0.50      0.33         2\n",
      "weighted avg       0.25      0.50      0.33         2\n",
      "\n"
     ]
    },
    {
     "name": "stderr",
     "output_type": "stream",
     "text": [
      "c:\\Users\\yaoyu\\miniconda3\\Lib\\site-packages\\sklearn\\metrics\\_classification.py:1517: UndefinedMetricWarning: Precision is ill-defined and being set to 0.0 in labels with no predicted samples. Use `zero_division` parameter to control this behavior.\n",
      "  _warn_prf(average, modifier, f\"{metric.capitalize()} is\", len(result))\n",
      "c:\\Users\\yaoyu\\miniconda3\\Lib\\site-packages\\sklearn\\metrics\\_classification.py:1517: UndefinedMetricWarning: Precision is ill-defined and being set to 0.0 in labels with no predicted samples. Use `zero_division` parameter to control this behavior.\n",
      "  _warn_prf(average, modifier, f\"{metric.capitalize()} is\", len(result))\n",
      "c:\\Users\\yaoyu\\miniconda3\\Lib\\site-packages\\sklearn\\metrics\\_classification.py:1517: UndefinedMetricWarning: Precision is ill-defined and being set to 0.0 in labels with no predicted samples. Use `zero_division` parameter to control this behavior.\n",
      "  _warn_prf(average, modifier, f\"{metric.capitalize()} is\", len(result))\n"
     ]
    },
    {
     "name": "stdout",
     "output_type": "stream",
     "text": [
      "Fold 10 Epoch-Level Accuracy: 0.79\n",
      "Fold 10 Session-Level Accuracy: 1.00\n",
      "Session-Level Classification Report:\n",
      "              precision    recall  f1-score   support\n",
      "\n",
      "           0       1.00      1.00      1.00         1\n",
      "           1       1.00      1.00      1.00         1\n",
      "\n",
      "    accuracy                           1.00         2\n",
      "   macro avg       1.00      1.00      1.00         2\n",
      "weighted avg       1.00      1.00      1.00         2\n",
      "\n",
      "Fold 11 Epoch-Level Accuracy: 0.51\n",
      "Fold 11 Session-Level Accuracy: 0.50\n",
      "Session-Level Classification Report:\n",
      "              precision    recall  f1-score   support\n",
      "\n",
      "           0       0.50      1.00      0.67         1\n",
      "           1       0.00      0.00      0.00         1\n",
      "\n",
      "    accuracy                           0.50         2\n",
      "   macro avg       0.25      0.50      0.33         2\n",
      "weighted avg       0.25      0.50      0.33         2\n",
      "\n"
     ]
    },
    {
     "name": "stderr",
     "output_type": "stream",
     "text": [
      "c:\\Users\\yaoyu\\miniconda3\\Lib\\site-packages\\sklearn\\metrics\\_classification.py:1517: UndefinedMetricWarning: Precision is ill-defined and being set to 0.0 in labels with no predicted samples. Use `zero_division` parameter to control this behavior.\n",
      "  _warn_prf(average, modifier, f\"{metric.capitalize()} is\", len(result))\n",
      "c:\\Users\\yaoyu\\miniconda3\\Lib\\site-packages\\sklearn\\metrics\\_classification.py:1517: UndefinedMetricWarning: Precision is ill-defined and being set to 0.0 in labels with no predicted samples. Use `zero_division` parameter to control this behavior.\n",
      "  _warn_prf(average, modifier, f\"{metric.capitalize()} is\", len(result))\n",
      "c:\\Users\\yaoyu\\miniconda3\\Lib\\site-packages\\sklearn\\metrics\\_classification.py:1517: UndefinedMetricWarning: Precision is ill-defined and being set to 0.0 in labels with no predicted samples. Use `zero_division` parameter to control this behavior.\n",
      "  _warn_prf(average, modifier, f\"{metric.capitalize()} is\", len(result))\n"
     ]
    },
    {
     "name": "stdout",
     "output_type": "stream",
     "text": [
      "Fold 12 Epoch-Level Accuracy: 0.46\n",
      "Fold 12 Session-Level Accuracy: 0.50\n",
      "Session-Level Classification Report:\n",
      "              precision    recall  f1-score   support\n",
      "\n",
      "           0       0.50      1.00      0.67         1\n",
      "           1       0.00      0.00      0.00         1\n",
      "\n",
      "    accuracy                           0.50         2\n",
      "   macro avg       0.25      0.50      0.33         2\n",
      "weighted avg       0.25      0.50      0.33         2\n",
      "\n",
      "\n",
      "Overall Epoch-Level Accuracy: 0.59\n",
      "Total Correct Predictions (Epoch-Level): 1044/1778\n",
      "\n",
      "Overall Session-Level Accuracy: 0.58\n",
      "Total Correct Predictions (Session-Level): 14/24\n",
      "\n",
      "Evaluating SVM with configuration: {'kernel': 'sigmoid', 'C': 1.0, 'class_weight': 'balanced'}\n"
     ]
    },
    {
     "name": "stderr",
     "output_type": "stream",
     "text": [
      "c:\\Users\\yaoyu\\miniconda3\\Lib\\site-packages\\sklearn\\metrics\\_classification.py:1517: UndefinedMetricWarning: Precision is ill-defined and being set to 0.0 in labels with no predicted samples. Use `zero_division` parameter to control this behavior.\n",
      "  _warn_prf(average, modifier, f\"{metric.capitalize()} is\", len(result))\n",
      "c:\\Users\\yaoyu\\miniconda3\\Lib\\site-packages\\sklearn\\metrics\\_classification.py:1517: UndefinedMetricWarning: Precision is ill-defined and being set to 0.0 in labels with no predicted samples. Use `zero_division` parameter to control this behavior.\n",
      "  _warn_prf(average, modifier, f\"{metric.capitalize()} is\", len(result))\n",
      "c:\\Users\\yaoyu\\miniconda3\\Lib\\site-packages\\sklearn\\metrics\\_classification.py:1517: UndefinedMetricWarning: Precision is ill-defined and being set to 0.0 in labels with no predicted samples. Use `zero_division` parameter to control this behavior.\n",
      "  _warn_prf(average, modifier, f\"{metric.capitalize()} is\", len(result))\n"
     ]
    },
    {
     "name": "stdout",
     "output_type": "stream",
     "text": [
      "Fold 1 Epoch-Level Accuracy: 0.84\n",
      "Fold 1 Session-Level Accuracy: 1.00\n",
      "Session-Level Classification Report:\n",
      "              precision    recall  f1-score   support\n",
      "\n",
      "           0       1.00      1.00      1.00         1\n",
      "           1       1.00      1.00      1.00         1\n",
      "\n",
      "    accuracy                           1.00         2\n",
      "   macro avg       1.00      1.00      1.00         2\n",
      "weighted avg       1.00      1.00      1.00         2\n",
      "\n",
      "Fold 2 Epoch-Level Accuracy: 0.64\n",
      "Fold 2 Session-Level Accuracy: 1.00\n",
      "Session-Level Classification Report:\n",
      "              precision    recall  f1-score   support\n",
      "\n",
      "           0       1.00      1.00      1.00         1\n",
      "           1       1.00      1.00      1.00         1\n",
      "\n",
      "    accuracy                           1.00         2\n",
      "   macro avg       1.00      1.00      1.00         2\n",
      "weighted avg       1.00      1.00      1.00         2\n",
      "\n",
      "Fold 3 Epoch-Level Accuracy: 0.58\n",
      "Fold 3 Session-Level Accuracy: 0.50\n",
      "Session-Level Classification Report:\n",
      "              precision    recall  f1-score   support\n",
      "\n",
      "           0       0.00      0.00      0.00         1\n",
      "           1       0.50      1.00      0.67         1\n",
      "\n",
      "    accuracy                           0.50         2\n",
      "   macro avg       0.25      0.50      0.33         2\n",
      "weighted avg       0.25      0.50      0.33         2\n",
      "\n"
     ]
    },
    {
     "name": "stderr",
     "output_type": "stream",
     "text": [
      "c:\\Users\\yaoyu\\miniconda3\\Lib\\site-packages\\sklearn\\metrics\\_classification.py:1517: UndefinedMetricWarning: Precision is ill-defined and being set to 0.0 in labels with no predicted samples. Use `zero_division` parameter to control this behavior.\n",
      "  _warn_prf(average, modifier, f\"{metric.capitalize()} is\", len(result))\n",
      "c:\\Users\\yaoyu\\miniconda3\\Lib\\site-packages\\sklearn\\metrics\\_classification.py:1517: UndefinedMetricWarning: Precision is ill-defined and being set to 0.0 in labels with no predicted samples. Use `zero_division` parameter to control this behavior.\n",
      "  _warn_prf(average, modifier, f\"{metric.capitalize()} is\", len(result))\n",
      "c:\\Users\\yaoyu\\miniconda3\\Lib\\site-packages\\sklearn\\metrics\\_classification.py:1517: UndefinedMetricWarning: Precision is ill-defined and being set to 0.0 in labels with no predicted samples. Use `zero_division` parameter to control this behavior.\n",
      "  _warn_prf(average, modifier, f\"{metric.capitalize()} is\", len(result))\n"
     ]
    },
    {
     "name": "stdout",
     "output_type": "stream",
     "text": [
      "Fold 4 Epoch-Level Accuracy: 0.72\n",
      "Fold 4 Session-Level Accuracy: 1.00\n",
      "Session-Level Classification Report:\n",
      "              precision    recall  f1-score   support\n",
      "\n",
      "           0       1.00      1.00      1.00         1\n",
      "           1       1.00      1.00      1.00         1\n",
      "\n",
      "    accuracy                           1.00         2\n",
      "   macro avg       1.00      1.00      1.00         2\n",
      "weighted avg       1.00      1.00      1.00         2\n",
      "\n",
      "Fold 5 Epoch-Level Accuracy: 0.59\n",
      "Fold 5 Session-Level Accuracy: 0.50\n",
      "Session-Level Classification Report:\n",
      "              precision    recall  f1-score   support\n",
      "\n",
      "           0       0.50      1.00      0.67         1\n",
      "           1       0.00      0.00      0.00         1\n",
      "\n",
      "    accuracy                           0.50         2\n",
      "   macro avg       0.25      0.50      0.33         2\n",
      "weighted avg       0.25      0.50      0.33         2\n",
      "\n"
     ]
    },
    {
     "name": "stderr",
     "output_type": "stream",
     "text": [
      "c:\\Users\\yaoyu\\miniconda3\\Lib\\site-packages\\sklearn\\metrics\\_classification.py:1517: UndefinedMetricWarning: Precision is ill-defined and being set to 0.0 in labels with no predicted samples. Use `zero_division` parameter to control this behavior.\n",
      "  _warn_prf(average, modifier, f\"{metric.capitalize()} is\", len(result))\n",
      "c:\\Users\\yaoyu\\miniconda3\\Lib\\site-packages\\sklearn\\metrics\\_classification.py:1517: UndefinedMetricWarning: Precision is ill-defined and being set to 0.0 in labels with no predicted samples. Use `zero_division` parameter to control this behavior.\n",
      "  _warn_prf(average, modifier, f\"{metric.capitalize()} is\", len(result))\n",
      "c:\\Users\\yaoyu\\miniconda3\\Lib\\site-packages\\sklearn\\metrics\\_classification.py:1517: UndefinedMetricWarning: Precision is ill-defined and being set to 0.0 in labels with no predicted samples. Use `zero_division` parameter to control this behavior.\n",
      "  _warn_prf(average, modifier, f\"{metric.capitalize()} is\", len(result))\n"
     ]
    },
    {
     "name": "stdout",
     "output_type": "stream",
     "text": [
      "Fold 6 Epoch-Level Accuracy: 0.45\n",
      "Fold 6 Session-Level Accuracy: 0.50\n",
      "Session-Level Classification Report:\n",
      "              precision    recall  f1-score   support\n",
      "\n",
      "           0       0.50      1.00      0.67         1\n",
      "           1       0.00      0.00      0.00         1\n",
      "\n",
      "    accuracy                           0.50         2\n",
      "   macro avg       0.25      0.50      0.33         2\n",
      "weighted avg       0.25      0.50      0.33         2\n",
      "\n"
     ]
    },
    {
     "name": "stderr",
     "output_type": "stream",
     "text": [
      "c:\\Users\\yaoyu\\miniconda3\\Lib\\site-packages\\sklearn\\metrics\\_classification.py:1517: UndefinedMetricWarning: Precision is ill-defined and being set to 0.0 in labels with no predicted samples. Use `zero_division` parameter to control this behavior.\n",
      "  _warn_prf(average, modifier, f\"{metric.capitalize()} is\", len(result))\n",
      "c:\\Users\\yaoyu\\miniconda3\\Lib\\site-packages\\sklearn\\metrics\\_classification.py:1517: UndefinedMetricWarning: Precision is ill-defined and being set to 0.0 in labels with no predicted samples. Use `zero_division` parameter to control this behavior.\n",
      "  _warn_prf(average, modifier, f\"{metric.capitalize()} is\", len(result))\n",
      "c:\\Users\\yaoyu\\miniconda3\\Lib\\site-packages\\sklearn\\metrics\\_classification.py:1517: UndefinedMetricWarning: Precision is ill-defined and being set to 0.0 in labels with no predicted samples. Use `zero_division` parameter to control this behavior.\n",
      "  _warn_prf(average, modifier, f\"{metric.capitalize()} is\", len(result))\n"
     ]
    },
    {
     "name": "stdout",
     "output_type": "stream",
     "text": [
      "Fold 7 Epoch-Level Accuracy: 0.59\n",
      "Fold 7 Session-Level Accuracy: 0.50\n",
      "Session-Level Classification Report:\n",
      "              precision    recall  f1-score   support\n",
      "\n",
      "           0       0.50      1.00      0.67         1\n",
      "           1       0.00      0.00      0.00         1\n",
      "\n",
      "    accuracy                           0.50         2\n",
      "   macro avg       0.25      0.50      0.33         2\n",
      "weighted avg       0.25      0.50      0.33         2\n",
      "\n"
     ]
    },
    {
     "name": "stderr",
     "output_type": "stream",
     "text": [
      "c:\\Users\\yaoyu\\miniconda3\\Lib\\site-packages\\sklearn\\metrics\\_classification.py:1517: UndefinedMetricWarning: Precision is ill-defined and being set to 0.0 in labels with no predicted samples. Use `zero_division` parameter to control this behavior.\n",
      "  _warn_prf(average, modifier, f\"{metric.capitalize()} is\", len(result))\n",
      "c:\\Users\\yaoyu\\miniconda3\\Lib\\site-packages\\sklearn\\metrics\\_classification.py:1517: UndefinedMetricWarning: Precision is ill-defined and being set to 0.0 in labels with no predicted samples. Use `zero_division` parameter to control this behavior.\n",
      "  _warn_prf(average, modifier, f\"{metric.capitalize()} is\", len(result))\n",
      "c:\\Users\\yaoyu\\miniconda3\\Lib\\site-packages\\sklearn\\metrics\\_classification.py:1517: UndefinedMetricWarning: Precision is ill-defined and being set to 0.0 in labels with no predicted samples. Use `zero_division` parameter to control this behavior.\n",
      "  _warn_prf(average, modifier, f\"{metric.capitalize()} is\", len(result))\n"
     ]
    },
    {
     "name": "stdout",
     "output_type": "stream",
     "text": [
      "Fold 8 Epoch-Level Accuracy: 0.11\n",
      "Fold 8 Session-Level Accuracy: 0.00\n",
      "Session-Level Classification Report:\n",
      "              precision    recall  f1-score   support\n",
      "\n",
      "           0       0.00      0.00      0.00       1.0\n",
      "           1       0.00      0.00      0.00       1.0\n",
      "\n",
      "    accuracy                           0.00       2.0\n",
      "   macro avg       0.00      0.00      0.00       2.0\n",
      "weighted avg       0.00      0.00      0.00       2.0\n",
      "\n",
      "Fold 9 Epoch-Level Accuracy: 0.90\n",
      "Fold 9 Session-Level Accuracy: 1.00\n",
      "Session-Level Classification Report:\n",
      "              precision    recall  f1-score   support\n",
      "\n",
      "           0       1.00      1.00      1.00         1\n",
      "           1       1.00      1.00      1.00         1\n",
      "\n",
      "    accuracy                           1.00         2\n",
      "   macro avg       1.00      1.00      1.00         2\n",
      "weighted avg       1.00      1.00      1.00         2\n",
      "\n",
      "Fold 10 Epoch-Level Accuracy: 0.61\n",
      "Fold 10 Session-Level Accuracy: 1.00\n",
      "Session-Level Classification Report:\n",
      "              precision    recall  f1-score   support\n",
      "\n",
      "           0       1.00      1.00      1.00         1\n",
      "           1       1.00      1.00      1.00         1\n",
      "\n",
      "    accuracy                           1.00         2\n",
      "   macro avg       1.00      1.00      1.00         2\n",
      "weighted avg       1.00      1.00      1.00         2\n",
      "\n",
      "Fold 11 Epoch-Level Accuracy: 0.74\n",
      "Fold 11 Session-Level Accuracy: 1.00\n",
      "Session-Level Classification Report:\n",
      "              precision    recall  f1-score   support\n",
      "\n",
      "           0       1.00      1.00      1.00         1\n",
      "           1       1.00      1.00      1.00         1\n",
      "\n",
      "    accuracy                           1.00         2\n",
      "   macro avg       1.00      1.00      1.00         2\n",
      "weighted avg       1.00      1.00      1.00         2\n",
      "\n",
      "Fold 12 Epoch-Level Accuracy: 0.46\n",
      "Fold 12 Session-Level Accuracy: 0.50\n",
      "Session-Level Classification Report:\n",
      "              precision    recall  f1-score   support\n",
      "\n",
      "           0       0.50      1.00      0.67         1\n",
      "           1       0.00      0.00      0.00         1\n",
      "\n",
      "    accuracy                           0.50         2\n",
      "   macro avg       0.25      0.50      0.33         2\n",
      "weighted avg       0.25      0.50      0.33         2\n",
      "\n",
      "\n",
      "Overall Epoch-Level Accuracy: 0.60\n",
      "Total Correct Predictions (Epoch-Level): 1073/1778\n",
      "\n",
      "Overall Session-Level Accuracy: 0.71\n",
      "Total Correct Predictions (Session-Level): 17/24\n"
     ]
    },
    {
     "name": "stderr",
     "output_type": "stream",
     "text": [
      "c:\\Users\\yaoyu\\miniconda3\\Lib\\site-packages\\sklearn\\metrics\\_classification.py:1517: UndefinedMetricWarning: Precision is ill-defined and being set to 0.0 in labels with no predicted samples. Use `zero_division` parameter to control this behavior.\n",
      "  _warn_prf(average, modifier, f\"{metric.capitalize()} is\", len(result))\n",
      "c:\\Users\\yaoyu\\miniconda3\\Lib\\site-packages\\sklearn\\metrics\\_classification.py:1517: UndefinedMetricWarning: Precision is ill-defined and being set to 0.0 in labels with no predicted samples. Use `zero_division` parameter to control this behavior.\n",
      "  _warn_prf(average, modifier, f\"{metric.capitalize()} is\", len(result))\n",
      "c:\\Users\\yaoyu\\miniconda3\\Lib\\site-packages\\sklearn\\metrics\\_classification.py:1517: UndefinedMetricWarning: Precision is ill-defined and being set to 0.0 in labels with no predicted samples. Use `zero_division` parameter to control this behavior.\n",
      "  _warn_prf(average, modifier, f\"{metric.capitalize()} is\", len(result))\n"
     ]
    }
   ],
   "source": [
    "#TRAIN MODEL AND LEAVE 2 PATIENT OUT FOLD \n",
    "from collections import Counter\n",
    "features_file = \"patient_features_dict.pkl\"\n",
    "\n",
    "with open(features_file, 'rb') as f:\n",
    "    patient_features_dict = pickle.load(f)\n",
    "\n",
    "pairs = list(zip(test_patients_ns, test_patients_sd))\n",
    "\n",
    "svm_configs = [\n",
    "    {\"kernel\": \"linear\", \"C\": 1.0, \"class_weight\": \"balanced\"},\n",
    "    {\"kernel\": \"rbf\", \"C\": 1.0, \"gamma\": \"scale\", \"class_weight\": \"balanced\"},\n",
    "    {\"kernel\": \"poly\", \"C\": 1.0, \"degree\": 3, \"class_weight\": \"balanced\"},\n",
    "    {\"kernel\": \"sigmoid\", \"C\": 1.0, \"class_weight\": \"balanced\"}\n",
    "]\n",
    "\n",
    "results = {}\n",
    "\n",
    "for config in svm_configs:\n",
    "    print(f\"\\nEvaluating SVM with configuration: {config}\")\n",
    "    \n",
    "    total_correct_sessions = 0\n",
    "    total_correct_epochs = 0\n",
    "    total_sessions = len(test_patients_ns) + len(test_patients_sd)\n",
    "    total_epochs = 0\n",
    "    for fold, (ns_patient, sd_patient) in enumerate(pairs):\n",
    "        train_features = []\n",
    "        train_labels = []\n",
    "        test_features = []\n",
    "        test_labels = []\n",
    "        test_patient_data = []\n",
    "\n",
    "        for unique_patient_session, data in patient_features_dict.items():\n",
    "            patient_id, session = unique_patient_session.split(\"_\")\n",
    "\n",
    "            if (patient_id == ns_patient and session == \"1\") or (patient_id == sd_patient and session == \"2\"):\n",
    "                test_features.append(data[\"features\"])  \n",
    "                num_epochs = data[\"features\"].shape[0] \n",
    "                test_labels.extend([data[\"label\"]] * num_epochs) \n",
    "                test_patient_data.append(data)\n",
    "                continue\n",
    "\n",
    "            train_features.append(data[\"features\"])\n",
    "            num_epochs = data[\"features\"].shape[0]  \n",
    "            train_labels.extend([data[\"label\"]] * num_epochs)\n",
    "\n",
    "        X_train = np.vstack(train_features)\n",
    "        y_train = np.array(train_labels)\n",
    "\n",
    "        X_test = np.vstack(test_features)\n",
    "        y_test = np.array(test_labels)\n",
    "\n",
    "        scaler = StandardScaler()\n",
    "        X_train_scaled = scaler.fit_transform(X_train) \n",
    "        X_test_scaled = scaler.transform(X_test)  \n",
    "        pca = PCA(n_components=0.95)  # Retain 95% variance\n",
    "        X_train_reduced = pca.fit_transform(X_train_scaled)\n",
    "        X_test_reduced = pca.transform(X_test_scaled)\n",
    "        \n",
    "        svm = SVC(**config, random_state=42)\n",
    "        svm.fit(X_train_reduced, y_train)\n",
    "\n",
    "        y_pred = svm.predict(X_test_reduced)\n",
    "\n",
    "        epoch_accuracy = accuracy_score(y_test, y_pred)\n",
    "        print(f\"Fold {fold + 1} Epoch-Level Accuracy: {epoch_accuracy:.2f}\")\n",
    "\n",
    "        epoch_correct = sum(y_test == y_pred)  \n",
    "        fold_total_epochs = len(y_test)      \n",
    "        total_correct_epochs += epoch_correct\n",
    "        total_epochs += fold_total_epochs\n",
    "        session_predictions = []\n",
    "        session_labels = []\n",
    "        start_idx = 0\n",
    "        for data in test_patient_data:\n",
    "            num_epochs = data[\"features\"].shape[0]\n",
    "            session_pred = y_pred[start_idx:start_idx + num_epochs]\n",
    "            session_label = data[\"label\"]\n",
    "            majority_label = Counter(session_pred).most_common(1)[0][0]  \n",
    "            session_predictions.append(majority_label)\n",
    "            session_labels.append(session_label)\n",
    "            start_idx += num_epochs\n",
    "\n",
    "        session_accuracy = accuracy_score(session_labels, session_predictions)\n",
    "        correct_sessions = sum(np.array(session_labels) == np.array(session_predictions))\n",
    "        fold_total_sessions = len(session_labels)\n",
    "        print(f\"Fold {fold + 1} Session-Level Accuracy: {session_accuracy:.2f}\")\n",
    "        total_correct_sessions += correct_sessions\n",
    "\n",
    "\n",
    "        print(\"Session-Level Classification Report:\")\n",
    "        print(classification_report(session_labels, session_predictions))\n",
    "\n",
    "    overall_epoch_accuracy = total_correct_epochs / total_epochs\n",
    "    overall_session_accuracy = total_correct_sessions / total_sessions\n",
    "\n",
    "    print(f\"\\nOverall Epoch-Level Accuracy: {overall_epoch_accuracy:.2f}\")  \n",
    "    print(f\"Total Correct Predictions (Epoch-Level): {total_correct_epochs}/{total_epochs}\")\n",
    "    print(f\"\\nOverall Session-Level Accuracy: {overall_session_accuracy:.2f}\")\n",
    "    print(f\"Total Correct Predictions (Session-Level): {total_correct_sessions}/{total_sessions}\")"
   ]
  }
 ],
 "metadata": {
  "kernelspec": {
   "display_name": "base",
   "language": "python",
   "name": "python3"
  },
  "language_info": {
   "codemirror_mode": {
    "name": "ipython",
    "version": 3
   },
   "file_extension": ".py",
   "mimetype": "text/x-python",
   "name": "python",
   "nbconvert_exporter": "python",
   "pygments_lexer": "ipython3",
   "version": "3.12.3"
  }
 },
 "nbformat": 4,
 "nbformat_minor": 2
}
