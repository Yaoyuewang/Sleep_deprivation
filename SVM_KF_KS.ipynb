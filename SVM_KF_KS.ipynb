{
 "cells": [
  {
   "cell_type": "code",
   "execution_count": 1,
   "metadata": {},
   "outputs": [],
   "source": [
    "import os\n",
    "import numpy as np\n",
    "import mne\n",
    "import pickle\n",
    "from sklearn.decomposition import PCA\n",
    "from sklearn.svm import SVC\n",
    "from pykalman import KalmanFilter\n",
    "from joblib import Parallel, delayed\n",
    "from scipy.signal import welch\n",
    "from sklearn.preprocessing import StandardScaler\n",
    "from sklearn.metrics import accuracy_score, classification_report, confusion_matrix\n",
    "\n",
    "# test patients \n",
    "data_dir = \"preprocessed_epochs\"\n",
    "test_patients_sd = [\"52\", \"18\", \"29\", \"17\", \"34\", \"55\",\"10\", \"22\", \"68\", \"19\", \"42\", \"63\"]\n",
    "test_patients_ns = [\"01\", \"19\", \"30\", \"65\", \"10\", \"13\", \"25\", \"69\", \"24\", \"33\", \"38\", \"67\"]\n"
   ]
  },
  {
   "cell_type": "code",
   "execution_count": 16,
   "metadata": {},
   "outputs": [
    {
     "name": "stdout",
     "output_type": "stream",
     "text": [
      "Reading c:\\Users\\yaoyu\\Documents\\EE675\\preprocessed_epochs\\sub-01_ses-1_retained-epochs.fif ...\n",
      "    Found the data of interest:\n",
      "        t =       0.00 ...    3998.00 ms\n",
      "        0 CTF compensation matrices available\n",
      "Not setting metadata\n",
      "75 matching events found\n",
      "No baseline correction applied\n",
      "0 projection items activated\n"
     ]
    },
    {
     "name": "stderr",
     "output_type": "stream",
     "text": [
      "C:\\Users\\yaoyu\\AppData\\Local\\Temp\\ipykernel_24788\\3533774731.py:36: RuntimeWarning: This filename (preprocessed_epochs\\sub-01_ses-1_retained-epochs.fif) does not conform to MNE naming conventions. All epochs files should end with -epo.fif, -epo.fif.gz, _epo.fif or _epo.fif.gz\n",
      "  epochs = mne.read_epochs(file_path, preload=True)\n"
     ]
    },
    {
     "name": "stdout",
     "output_type": "stream",
     "text": [
      "Processed sub-01_ses-1_retained-epochs.fif: (75, 25, 2000)\n",
      "Reading c:\\Users\\yaoyu\\Documents\\EE675\\preprocessed_epochs\\sub-01_ses-2_retained-epochs.fif ...\n",
      "    Found the data of interest:\n",
      "        t =       0.00 ...    3998.00 ms\n",
      "        0 CTF compensation matrices available\n",
      "Not setting metadata\n",
      "56 matching events found\n",
      "No baseline correction applied\n",
      "0 projection items activated\n"
     ]
    },
    {
     "name": "stderr",
     "output_type": "stream",
     "text": [
      "C:\\Users\\yaoyu\\AppData\\Local\\Temp\\ipykernel_24788\\3533774731.py:36: RuntimeWarning: This filename (preprocessed_epochs\\sub-01_ses-2_retained-epochs.fif) does not conform to MNE naming conventions. All epochs files should end with -epo.fif, -epo.fif.gz, _epo.fif or _epo.fif.gz\n",
      "  epochs = mne.read_epochs(file_path, preload=True)\n"
     ]
    },
    {
     "name": "stdout",
     "output_type": "stream",
     "text": [
      "Processed sub-01_ses-2_retained-epochs.fif: (56, 25, 2000)\n",
      "Reading c:\\Users\\yaoyu\\Documents\\EE675\\preprocessed_epochs\\sub-02_ses-1_retained-epochs.fif ...\n",
      "    Found the data of interest:\n",
      "        t =       0.00 ...    3998.00 ms\n",
      "        0 CTF compensation matrices available\n",
      "Not setting metadata\n",
      "69 matching events found\n",
      "No baseline correction applied\n",
      "0 projection items activated\n"
     ]
    },
    {
     "name": "stderr",
     "output_type": "stream",
     "text": [
      "C:\\Users\\yaoyu\\AppData\\Local\\Temp\\ipykernel_24788\\3533774731.py:36: RuntimeWarning: This filename (preprocessed_epochs\\sub-02_ses-1_retained-epochs.fif) does not conform to MNE naming conventions. All epochs files should end with -epo.fif, -epo.fif.gz, _epo.fif or _epo.fif.gz\n",
      "  epochs = mne.read_epochs(file_path, preload=True)\n"
     ]
    },
    {
     "name": "stdout",
     "output_type": "stream",
     "text": [
      "Processed sub-02_ses-1_retained-epochs.fif: (69, 25, 2000)\n",
      "Reading c:\\Users\\yaoyu\\Documents\\EE675\\preprocessed_epochs\\sub-02_ses-2_retained-epochs.fif ...\n",
      "    Found the data of interest:\n",
      "        t =       0.00 ...    3998.00 ms\n",
      "        0 CTF compensation matrices available\n",
      "Not setting metadata\n",
      "67 matching events found\n",
      "No baseline correction applied\n",
      "0 projection items activated\n"
     ]
    },
    {
     "name": "stderr",
     "output_type": "stream",
     "text": [
      "C:\\Users\\yaoyu\\AppData\\Local\\Temp\\ipykernel_24788\\3533774731.py:36: RuntimeWarning: This filename (preprocessed_epochs\\sub-02_ses-2_retained-epochs.fif) does not conform to MNE naming conventions. All epochs files should end with -epo.fif, -epo.fif.gz, _epo.fif or _epo.fif.gz\n",
      "  epochs = mne.read_epochs(file_path, preload=True)\n"
     ]
    },
    {
     "name": "stdout",
     "output_type": "stream",
     "text": [
      "Processed sub-02_ses-2_retained-epochs.fif: (67, 25, 2000)\n",
      "Reading c:\\Users\\yaoyu\\Documents\\EE675\\preprocessed_epochs\\sub-03_ses-1_retained-epochs.fif ...\n",
      "    Found the data of interest:\n",
      "        t =       0.00 ...    3998.00 ms\n",
      "        0 CTF compensation matrices available\n",
      "Not setting metadata\n",
      "70 matching events found\n",
      "No baseline correction applied\n",
      "0 projection items activated\n"
     ]
    },
    {
     "name": "stderr",
     "output_type": "stream",
     "text": [
      "C:\\Users\\yaoyu\\AppData\\Local\\Temp\\ipykernel_24788\\3533774731.py:36: RuntimeWarning: This filename (preprocessed_epochs\\sub-03_ses-1_retained-epochs.fif) does not conform to MNE naming conventions. All epochs files should end with -epo.fif, -epo.fif.gz, _epo.fif or _epo.fif.gz\n",
      "  epochs = mne.read_epochs(file_path, preload=True)\n"
     ]
    },
    {
     "name": "stdout",
     "output_type": "stream",
     "text": [
      "Processed sub-03_ses-1_retained-epochs.fif: (70, 25, 2000)\n",
      "Reading c:\\Users\\yaoyu\\Documents\\EE675\\preprocessed_epochs\\sub-03_ses-2_retained-epochs.fif ...\n",
      "    Found the data of interest:\n",
      "        t =       0.00 ...    3998.00 ms\n",
      "        0 CTF compensation matrices available\n",
      "Not setting metadata\n",
      "72 matching events found\n",
      "No baseline correction applied\n",
      "0 projection items activated\n"
     ]
    },
    {
     "name": "stderr",
     "output_type": "stream",
     "text": [
      "C:\\Users\\yaoyu\\AppData\\Local\\Temp\\ipykernel_24788\\3533774731.py:36: RuntimeWarning: This filename (preprocessed_epochs\\sub-03_ses-2_retained-epochs.fif) does not conform to MNE naming conventions. All epochs files should end with -epo.fif, -epo.fif.gz, _epo.fif or _epo.fif.gz\n",
      "  epochs = mne.read_epochs(file_path, preload=True)\n"
     ]
    },
    {
     "name": "stdout",
     "output_type": "stream",
     "text": [
      "Processed sub-03_ses-2_retained-epochs.fif: (72, 25, 2000)\n",
      "Reading c:\\Users\\yaoyu\\Documents\\EE675\\preprocessed_epochs\\sub-04_ses-2_retained-epochs.fif ...\n",
      "    Found the data of interest:\n",
      "        t =       0.00 ...    3998.00 ms\n",
      "        0 CTF compensation matrices available\n",
      "Not setting metadata\n",
      "48 matching events found\n",
      "No baseline correction applied\n",
      "0 projection items activated\n"
     ]
    },
    {
     "name": "stderr",
     "output_type": "stream",
     "text": [
      "C:\\Users\\yaoyu\\AppData\\Local\\Temp\\ipykernel_24788\\3533774731.py:36: RuntimeWarning: This filename (preprocessed_epochs\\sub-04_ses-2_retained-epochs.fif) does not conform to MNE naming conventions. All epochs files should end with -epo.fif, -epo.fif.gz, _epo.fif or _epo.fif.gz\n",
      "  epochs = mne.read_epochs(file_path, preload=True)\n"
     ]
    },
    {
     "name": "stdout",
     "output_type": "stream",
     "text": [
      "Processed sub-04_ses-2_retained-epochs.fif: (48, 25, 2000)\n",
      "Reading c:\\Users\\yaoyu\\Documents\\EE675\\preprocessed_epochs\\sub-05_ses-1_retained-epochs.fif ...\n",
      "    Found the data of interest:\n",
      "        t =       0.00 ...    3998.00 ms\n",
      "        0 CTF compensation matrices available\n",
      "Not setting metadata\n",
      "75 matching events found\n",
      "No baseline correction applied\n",
      "0 projection items activated\n"
     ]
    },
    {
     "name": "stderr",
     "output_type": "stream",
     "text": [
      "C:\\Users\\yaoyu\\AppData\\Local\\Temp\\ipykernel_24788\\3533774731.py:36: RuntimeWarning: This filename (preprocessed_epochs\\sub-05_ses-1_retained-epochs.fif) does not conform to MNE naming conventions. All epochs files should end with -epo.fif, -epo.fif.gz, _epo.fif or _epo.fif.gz\n",
      "  epochs = mne.read_epochs(file_path, preload=True)\n"
     ]
    },
    {
     "name": "stdout",
     "output_type": "stream",
     "text": [
      "Processed sub-05_ses-1_retained-epochs.fif: (75, 25, 2000)\n",
      "Reading c:\\Users\\yaoyu\\Documents\\EE675\\preprocessed_epochs\\sub-05_ses-2_retained-epochs.fif ...\n",
      "    Found the data of interest:\n",
      "        t =       0.00 ...    3998.00 ms\n",
      "        0 CTF compensation matrices available\n",
      "Not setting metadata\n",
      "75 matching events found\n",
      "No baseline correction applied\n",
      "0 projection items activated\n"
     ]
    },
    {
     "name": "stderr",
     "output_type": "stream",
     "text": [
      "C:\\Users\\yaoyu\\AppData\\Local\\Temp\\ipykernel_24788\\3533774731.py:36: RuntimeWarning: This filename (preprocessed_epochs\\sub-05_ses-2_retained-epochs.fif) does not conform to MNE naming conventions. All epochs files should end with -epo.fif, -epo.fif.gz, _epo.fif or _epo.fif.gz\n",
      "  epochs = mne.read_epochs(file_path, preload=True)\n"
     ]
    },
    {
     "name": "stdout",
     "output_type": "stream",
     "text": [
      "Processed sub-05_ses-2_retained-epochs.fif: (75, 25, 2000)\n",
      "Reading c:\\Users\\yaoyu\\Documents\\EE675\\preprocessed_epochs\\sub-06_ses-1_retained-epochs.fif ...\n",
      "    Found the data of interest:\n",
      "        t =       0.00 ...    3998.00 ms\n",
      "        0 CTF compensation matrices available\n",
      "Not setting metadata\n",
      "74 matching events found\n",
      "No baseline correction applied\n",
      "0 projection items activated\n"
     ]
    },
    {
     "name": "stderr",
     "output_type": "stream",
     "text": [
      "C:\\Users\\yaoyu\\AppData\\Local\\Temp\\ipykernel_24788\\3533774731.py:36: RuntimeWarning: This filename (preprocessed_epochs\\sub-06_ses-1_retained-epochs.fif) does not conform to MNE naming conventions. All epochs files should end with -epo.fif, -epo.fif.gz, _epo.fif or _epo.fif.gz\n",
      "  epochs = mne.read_epochs(file_path, preload=True)\n"
     ]
    },
    {
     "name": "stdout",
     "output_type": "stream",
     "text": [
      "Processed sub-06_ses-1_retained-epochs.fif: (74, 25, 2000)\n",
      "Reading c:\\Users\\yaoyu\\Documents\\EE675\\preprocessed_epochs\\sub-06_ses-2_retained-epochs.fif ...\n",
      "    Found the data of interest:\n",
      "        t =       0.00 ...    3998.00 ms\n",
      "        0 CTF compensation matrices available\n",
      "Not setting metadata\n",
      "66 matching events found\n",
      "No baseline correction applied\n",
      "0 projection items activated\n"
     ]
    },
    {
     "name": "stderr",
     "output_type": "stream",
     "text": [
      "C:\\Users\\yaoyu\\AppData\\Local\\Temp\\ipykernel_24788\\3533774731.py:36: RuntimeWarning: This filename (preprocessed_epochs\\sub-06_ses-2_retained-epochs.fif) does not conform to MNE naming conventions. All epochs files should end with -epo.fif, -epo.fif.gz, _epo.fif or _epo.fif.gz\n",
      "  epochs = mne.read_epochs(file_path, preload=True)\n"
     ]
    },
    {
     "name": "stdout",
     "output_type": "stream",
     "text": [
      "Processed sub-06_ses-2_retained-epochs.fif: (66, 25, 2000)\n",
      "Reading c:\\Users\\yaoyu\\Documents\\EE675\\preprocessed_epochs\\sub-07_ses-1_retained-epochs.fif ...\n",
      "    Found the data of interest:\n",
      "        t =       0.00 ...    3998.00 ms\n",
      "        0 CTF compensation matrices available\n",
      "Not setting metadata\n",
      "71 matching events found\n",
      "No baseline correction applied\n",
      "0 projection items activated\n"
     ]
    },
    {
     "name": "stderr",
     "output_type": "stream",
     "text": [
      "C:\\Users\\yaoyu\\AppData\\Local\\Temp\\ipykernel_24788\\3533774731.py:36: RuntimeWarning: This filename (preprocessed_epochs\\sub-07_ses-1_retained-epochs.fif) does not conform to MNE naming conventions. All epochs files should end with -epo.fif, -epo.fif.gz, _epo.fif or _epo.fif.gz\n",
      "  epochs = mne.read_epochs(file_path, preload=True)\n"
     ]
    },
    {
     "name": "stdout",
     "output_type": "stream",
     "text": [
      "Processed sub-07_ses-1_retained-epochs.fif: (71, 25, 2000)\n",
      "Reading c:\\Users\\yaoyu\\Documents\\EE675\\preprocessed_epochs\\sub-07_ses-2_retained-epochs.fif ...\n",
      "    Found the data of interest:\n",
      "        t =       0.00 ...    3998.00 ms\n",
      "        0 CTF compensation matrices available\n",
      "Not setting metadata\n",
      "39 matching events found\n",
      "No baseline correction applied\n",
      "0 projection items activated\n"
     ]
    },
    {
     "name": "stderr",
     "output_type": "stream",
     "text": [
      "C:\\Users\\yaoyu\\AppData\\Local\\Temp\\ipykernel_24788\\3533774731.py:36: RuntimeWarning: This filename (preprocessed_epochs\\sub-07_ses-2_retained-epochs.fif) does not conform to MNE naming conventions. All epochs files should end with -epo.fif, -epo.fif.gz, _epo.fif or _epo.fif.gz\n",
      "  epochs = mne.read_epochs(file_path, preload=True)\n"
     ]
    },
    {
     "name": "stdout",
     "output_type": "stream",
     "text": [
      "Processed sub-07_ses-2_retained-epochs.fif: (39, 25, 2000)\n",
      "Reading c:\\Users\\yaoyu\\Documents\\EE675\\preprocessed_epochs\\sub-08_ses-1_retained-epochs.fif ...\n",
      "    Found the data of interest:\n",
      "        t =       0.00 ...    3998.00 ms\n",
      "        0 CTF compensation matrices available\n",
      "Not setting metadata\n",
      "38 matching events found\n",
      "No baseline correction applied\n",
      "0 projection items activated\n"
     ]
    },
    {
     "name": "stderr",
     "output_type": "stream",
     "text": [
      "C:\\Users\\yaoyu\\AppData\\Local\\Temp\\ipykernel_24788\\3533774731.py:36: RuntimeWarning: This filename (preprocessed_epochs\\sub-08_ses-1_retained-epochs.fif) does not conform to MNE naming conventions. All epochs files should end with -epo.fif, -epo.fif.gz, _epo.fif or _epo.fif.gz\n",
      "  epochs = mne.read_epochs(file_path, preload=True)\n"
     ]
    },
    {
     "name": "stdout",
     "output_type": "stream",
     "text": [
      "Processed sub-08_ses-1_retained-epochs.fif: (38, 25, 2000)\n",
      "Reading c:\\Users\\yaoyu\\Documents\\EE675\\preprocessed_epochs\\sub-08_ses-2_retained-epochs.fif ...\n",
      "    Found the data of interest:\n",
      "        t =       0.00 ...    3998.00 ms\n",
      "        0 CTF compensation matrices available\n",
      "Not setting metadata\n",
      "58 matching events found\n",
      "No baseline correction applied\n",
      "0 projection items activated\n"
     ]
    },
    {
     "name": "stderr",
     "output_type": "stream",
     "text": [
      "C:\\Users\\yaoyu\\AppData\\Local\\Temp\\ipykernel_24788\\3533774731.py:36: RuntimeWarning: This filename (preprocessed_epochs\\sub-08_ses-2_retained-epochs.fif) does not conform to MNE naming conventions. All epochs files should end with -epo.fif, -epo.fif.gz, _epo.fif or _epo.fif.gz\n",
      "  epochs = mne.read_epochs(file_path, preload=True)\n"
     ]
    },
    {
     "name": "stdout",
     "output_type": "stream",
     "text": [
      "Processed sub-08_ses-2_retained-epochs.fif: (58, 25, 2000)\n",
      "Reading c:\\Users\\yaoyu\\Documents\\EE675\\preprocessed_epochs\\sub-09_ses-1_retained-epochs.fif ...\n",
      "    Found the data of interest:\n",
      "        t =       0.00 ...    3998.00 ms\n",
      "        0 CTF compensation matrices available\n",
      "Not setting metadata\n",
      "33 matching events found\n",
      "No baseline correction applied\n",
      "0 projection items activated\n"
     ]
    },
    {
     "name": "stderr",
     "output_type": "stream",
     "text": [
      "C:\\Users\\yaoyu\\AppData\\Local\\Temp\\ipykernel_24788\\3533774731.py:36: RuntimeWarning: This filename (preprocessed_epochs\\sub-09_ses-1_retained-epochs.fif) does not conform to MNE naming conventions. All epochs files should end with -epo.fif, -epo.fif.gz, _epo.fif or _epo.fif.gz\n",
      "  epochs = mne.read_epochs(file_path, preload=True)\n"
     ]
    },
    {
     "name": "stdout",
     "output_type": "stream",
     "text": [
      "Processed sub-09_ses-1_retained-epochs.fif: (33, 25, 2000)\n",
      "Reading c:\\Users\\yaoyu\\Documents\\EE675\\preprocessed_epochs\\sub-09_ses-2_retained-epochs.fif ...\n",
      "    Found the data of interest:\n",
      "        t =       0.00 ...    3998.00 ms\n",
      "        0 CTF compensation matrices available\n",
      "Not setting metadata\n",
      "41 matching events found\n",
      "No baseline correction applied\n",
      "0 projection items activated\n"
     ]
    },
    {
     "name": "stderr",
     "output_type": "stream",
     "text": [
      "C:\\Users\\yaoyu\\AppData\\Local\\Temp\\ipykernel_24788\\3533774731.py:36: RuntimeWarning: This filename (preprocessed_epochs\\sub-09_ses-2_retained-epochs.fif) does not conform to MNE naming conventions. All epochs files should end with -epo.fif, -epo.fif.gz, _epo.fif or _epo.fif.gz\n",
      "  epochs = mne.read_epochs(file_path, preload=True)\n"
     ]
    },
    {
     "name": "stdout",
     "output_type": "stream",
     "text": [
      "Processed sub-09_ses-2_retained-epochs.fif: (41, 25, 2000)\n",
      "Reading c:\\Users\\yaoyu\\Documents\\EE675\\preprocessed_epochs\\sub-10_ses-1_retained-epochs.fif ...\n",
      "    Found the data of interest:\n",
      "        t =       0.00 ...    3998.00 ms\n",
      "        0 CTF compensation matrices available\n",
      "Not setting metadata\n",
      "74 matching events found\n",
      "No baseline correction applied\n",
      "0 projection items activated\n"
     ]
    },
    {
     "name": "stderr",
     "output_type": "stream",
     "text": [
      "C:\\Users\\yaoyu\\AppData\\Local\\Temp\\ipykernel_24788\\3533774731.py:36: RuntimeWarning: This filename (preprocessed_epochs\\sub-10_ses-1_retained-epochs.fif) does not conform to MNE naming conventions. All epochs files should end with -epo.fif, -epo.fif.gz, _epo.fif or _epo.fif.gz\n",
      "  epochs = mne.read_epochs(file_path, preload=True)\n"
     ]
    },
    {
     "name": "stdout",
     "output_type": "stream",
     "text": [
      "Processed sub-10_ses-1_retained-epochs.fif: (74, 25, 2000)\n",
      "Reading c:\\Users\\yaoyu\\Documents\\EE675\\preprocessed_epochs\\sub-10_ses-2_retained-epochs.fif ...\n",
      "    Found the data of interest:\n",
      "        t =       0.00 ...    3998.00 ms\n",
      "        0 CTF compensation matrices available\n",
      "Not setting metadata\n",
      "73 matching events found\n",
      "No baseline correction applied\n",
      "0 projection items activated\n"
     ]
    },
    {
     "name": "stderr",
     "output_type": "stream",
     "text": [
      "C:\\Users\\yaoyu\\AppData\\Local\\Temp\\ipykernel_24788\\3533774731.py:36: RuntimeWarning: This filename (preprocessed_epochs\\sub-10_ses-2_retained-epochs.fif) does not conform to MNE naming conventions. All epochs files should end with -epo.fif, -epo.fif.gz, _epo.fif or _epo.fif.gz\n",
      "  epochs = mne.read_epochs(file_path, preload=True)\n"
     ]
    },
    {
     "name": "stdout",
     "output_type": "stream",
     "text": [
      "Processed sub-10_ses-2_retained-epochs.fif: (73, 25, 2000)\n",
      "Reading c:\\Users\\yaoyu\\Documents\\EE675\\preprocessed_epochs\\sub-11_ses-1_retained-epochs.fif ...\n",
      "    Found the data of interest:\n",
      "        t =       0.00 ...    3998.00 ms\n",
      "        0 CTF compensation matrices available\n",
      "Not setting metadata\n",
      "48 matching events found\n",
      "No baseline correction applied\n",
      "0 projection items activated\n"
     ]
    },
    {
     "name": "stderr",
     "output_type": "stream",
     "text": [
      "C:\\Users\\yaoyu\\AppData\\Local\\Temp\\ipykernel_24788\\3533774731.py:36: RuntimeWarning: This filename (preprocessed_epochs\\sub-11_ses-1_retained-epochs.fif) does not conform to MNE naming conventions. All epochs files should end with -epo.fif, -epo.fif.gz, _epo.fif or _epo.fif.gz\n",
      "  epochs = mne.read_epochs(file_path, preload=True)\n"
     ]
    },
    {
     "name": "stdout",
     "output_type": "stream",
     "text": [
      "Processed sub-11_ses-1_retained-epochs.fif: (48, 25, 2000)\n",
      "Reading c:\\Users\\yaoyu\\Documents\\EE675\\preprocessed_epochs\\sub-11_ses-2_retained-epochs.fif ...\n",
      "    Found the data of interest:\n",
      "        t =       0.00 ...    3998.00 ms\n",
      "        0 CTF compensation matrices available\n",
      "Not setting metadata\n",
      "66 matching events found\n",
      "No baseline correction applied\n",
      "0 projection items activated\n"
     ]
    },
    {
     "name": "stderr",
     "output_type": "stream",
     "text": [
      "C:\\Users\\yaoyu\\AppData\\Local\\Temp\\ipykernel_24788\\3533774731.py:36: RuntimeWarning: This filename (preprocessed_epochs\\sub-11_ses-2_retained-epochs.fif) does not conform to MNE naming conventions. All epochs files should end with -epo.fif, -epo.fif.gz, _epo.fif or _epo.fif.gz\n",
      "  epochs = mne.read_epochs(file_path, preload=True)\n"
     ]
    },
    {
     "name": "stdout",
     "output_type": "stream",
     "text": [
      "Processed sub-11_ses-2_retained-epochs.fif: (66, 25, 2000)\n",
      "Reading c:\\Users\\yaoyu\\Documents\\EE675\\preprocessed_epochs\\sub-12_ses-1_retained-epochs.fif ...\n",
      "    Found the data of interest:\n",
      "        t =       0.00 ...    3998.00 ms\n",
      "        0 CTF compensation matrices available\n",
      "Not setting metadata\n",
      "74 matching events found\n",
      "No baseline correction applied\n",
      "0 projection items activated\n"
     ]
    },
    {
     "name": "stderr",
     "output_type": "stream",
     "text": [
      "C:\\Users\\yaoyu\\AppData\\Local\\Temp\\ipykernel_24788\\3533774731.py:36: RuntimeWarning: This filename (preprocessed_epochs\\sub-12_ses-1_retained-epochs.fif) does not conform to MNE naming conventions. All epochs files should end with -epo.fif, -epo.fif.gz, _epo.fif or _epo.fif.gz\n",
      "  epochs = mne.read_epochs(file_path, preload=True)\n"
     ]
    },
    {
     "name": "stdout",
     "output_type": "stream",
     "text": [
      "Processed sub-12_ses-1_retained-epochs.fif: (74, 25, 2000)\n",
      "Reading c:\\Users\\yaoyu\\Documents\\EE675\\preprocessed_epochs\\sub-12_ses-2_retained-epochs.fif ...\n",
      "    Found the data of interest:\n",
      "        t =       0.00 ...    3998.00 ms\n",
      "        0 CTF compensation matrices available\n",
      "Not setting metadata\n",
      "68 matching events found\n",
      "No baseline correction applied\n",
      "0 projection items activated\n"
     ]
    },
    {
     "name": "stderr",
     "output_type": "stream",
     "text": [
      "C:\\Users\\yaoyu\\AppData\\Local\\Temp\\ipykernel_24788\\3533774731.py:36: RuntimeWarning: This filename (preprocessed_epochs\\sub-12_ses-2_retained-epochs.fif) does not conform to MNE naming conventions. All epochs files should end with -epo.fif, -epo.fif.gz, _epo.fif or _epo.fif.gz\n",
      "  epochs = mne.read_epochs(file_path, preload=True)\n"
     ]
    },
    {
     "name": "stdout",
     "output_type": "stream",
     "text": [
      "Processed sub-12_ses-2_retained-epochs.fif: (68, 25, 2000)\n",
      "Reading c:\\Users\\yaoyu\\Documents\\EE675\\preprocessed_epochs\\sub-13_ses-1_retained-epochs.fif ...\n",
      "    Found the data of interest:\n",
      "        t =       0.00 ...    3998.00 ms\n",
      "        0 CTF compensation matrices available\n",
      "Not setting metadata\n",
      "74 matching events found\n",
      "No baseline correction applied\n",
      "0 projection items activated\n"
     ]
    },
    {
     "name": "stderr",
     "output_type": "stream",
     "text": [
      "C:\\Users\\yaoyu\\AppData\\Local\\Temp\\ipykernel_24788\\3533774731.py:36: RuntimeWarning: This filename (preprocessed_epochs\\sub-13_ses-1_retained-epochs.fif) does not conform to MNE naming conventions. All epochs files should end with -epo.fif, -epo.fif.gz, _epo.fif or _epo.fif.gz\n",
      "  epochs = mne.read_epochs(file_path, preload=True)\n"
     ]
    },
    {
     "name": "stdout",
     "output_type": "stream",
     "text": [
      "Processed sub-13_ses-1_retained-epochs.fif: (74, 25, 2000)\n",
      "Reading c:\\Users\\yaoyu\\Documents\\EE675\\preprocessed_epochs\\sub-13_ses-2_retained-epochs.fif ...\n",
      "    Found the data of interest:\n",
      "        t =       0.00 ...    3998.00 ms\n",
      "        0 CTF compensation matrices available\n",
      "Not setting metadata\n",
      "1 matching events found\n",
      "No baseline correction applied\n",
      "0 projection items activated\n",
      "Reading c:\\Users\\yaoyu\\Documents\\EE675\\preprocessed_epochs\\sub-14_ses-1_retained-epochs.fif ...\n",
      "    Found the data of interest:\n",
      "        t =       0.00 ...    3998.00 ms\n",
      "        0 CTF compensation matrices available\n",
      "Not setting metadata\n",
      "67 matching events found\n",
      "No baseline correction applied\n",
      "0 projection items activated\n"
     ]
    },
    {
     "name": "stderr",
     "output_type": "stream",
     "text": [
      "C:\\Users\\yaoyu\\AppData\\Local\\Temp\\ipykernel_24788\\3533774731.py:36: RuntimeWarning: This filename (preprocessed_epochs\\sub-13_ses-2_retained-epochs.fif) does not conform to MNE naming conventions. All epochs files should end with -epo.fif, -epo.fif.gz, _epo.fif or _epo.fif.gz\n",
      "  epochs = mne.read_epochs(file_path, preload=True)\n",
      "C:\\Users\\yaoyu\\AppData\\Local\\Temp\\ipykernel_24788\\3533774731.py:36: RuntimeWarning: This filename (preprocessed_epochs\\sub-14_ses-1_retained-epochs.fif) does not conform to MNE naming conventions. All epochs files should end with -epo.fif, -epo.fif.gz, _epo.fif or _epo.fif.gz\n",
      "  epochs = mne.read_epochs(file_path, preload=True)\n"
     ]
    },
    {
     "name": "stdout",
     "output_type": "stream",
     "text": [
      "Processed sub-14_ses-1_retained-epochs.fif: (67, 25, 2000)\n",
      "Reading c:\\Users\\yaoyu\\Documents\\EE675\\preprocessed_epochs\\sub-14_ses-2_retained-epochs.fif ...\n",
      "    Found the data of interest:\n",
      "        t =       0.00 ...    3998.00 ms\n",
      "        0 CTF compensation matrices available\n",
      "Not setting metadata\n",
      "70 matching events found\n",
      "No baseline correction applied\n",
      "0 projection items activated\n"
     ]
    },
    {
     "name": "stderr",
     "output_type": "stream",
     "text": [
      "C:\\Users\\yaoyu\\AppData\\Local\\Temp\\ipykernel_24788\\3533774731.py:36: RuntimeWarning: This filename (preprocessed_epochs\\sub-14_ses-2_retained-epochs.fif) does not conform to MNE naming conventions. All epochs files should end with -epo.fif, -epo.fif.gz, _epo.fif or _epo.fif.gz\n",
      "  epochs = mne.read_epochs(file_path, preload=True)\n"
     ]
    },
    {
     "name": "stdout",
     "output_type": "stream",
     "text": [
      "Processed sub-14_ses-2_retained-epochs.fif: (70, 25, 2000)\n",
      "Reading c:\\Users\\yaoyu\\Documents\\EE675\\preprocessed_epochs\\sub-15_ses-1_retained-epochs.fif ...\n",
      "    Found the data of interest:\n",
      "        t =       0.00 ...    3998.00 ms\n",
      "        0 CTF compensation matrices available\n",
      "Not setting metadata\n",
      "65 matching events found\n",
      "No baseline correction applied\n",
      "0 projection items activated\n"
     ]
    },
    {
     "name": "stderr",
     "output_type": "stream",
     "text": [
      "C:\\Users\\yaoyu\\AppData\\Local\\Temp\\ipykernel_24788\\3533774731.py:36: RuntimeWarning: This filename (preprocessed_epochs\\sub-15_ses-1_retained-epochs.fif) does not conform to MNE naming conventions. All epochs files should end with -epo.fif, -epo.fif.gz, _epo.fif or _epo.fif.gz\n",
      "  epochs = mne.read_epochs(file_path, preload=True)\n"
     ]
    },
    {
     "name": "stdout",
     "output_type": "stream",
     "text": [
      "Processed sub-15_ses-1_retained-epochs.fif: (65, 25, 2000)\n",
      "Reading c:\\Users\\yaoyu\\Documents\\EE675\\preprocessed_epochs\\sub-15_ses-2_retained-epochs.fif ...\n",
      "    Found the data of interest:\n",
      "        t =       0.00 ...    3998.00 ms\n",
      "        0 CTF compensation matrices available\n",
      "Not setting metadata\n",
      "73 matching events found\n",
      "No baseline correction applied\n",
      "0 projection items activated\n"
     ]
    },
    {
     "name": "stderr",
     "output_type": "stream",
     "text": [
      "C:\\Users\\yaoyu\\AppData\\Local\\Temp\\ipykernel_24788\\3533774731.py:36: RuntimeWarning: This filename (preprocessed_epochs\\sub-15_ses-2_retained-epochs.fif) does not conform to MNE naming conventions. All epochs files should end with -epo.fif, -epo.fif.gz, _epo.fif or _epo.fif.gz\n",
      "  epochs = mne.read_epochs(file_path, preload=True)\n"
     ]
    },
    {
     "name": "stdout",
     "output_type": "stream",
     "text": [
      "Processed sub-15_ses-2_retained-epochs.fif: (73, 25, 2000)\n",
      "Reading c:\\Users\\yaoyu\\Documents\\EE675\\preprocessed_epochs\\sub-16_ses-1_retained-epochs.fif ...\n",
      "    Found the data of interest:\n",
      "        t =       0.00 ...    3998.00 ms\n",
      "        0 CTF compensation matrices available\n",
      "Not setting metadata\n",
      "71 matching events found\n",
      "No baseline correction applied\n",
      "0 projection items activated\n"
     ]
    },
    {
     "name": "stderr",
     "output_type": "stream",
     "text": [
      "C:\\Users\\yaoyu\\AppData\\Local\\Temp\\ipykernel_24788\\3533774731.py:36: RuntimeWarning: This filename (preprocessed_epochs\\sub-16_ses-1_retained-epochs.fif) does not conform to MNE naming conventions. All epochs files should end with -epo.fif, -epo.fif.gz, _epo.fif or _epo.fif.gz\n",
      "  epochs = mne.read_epochs(file_path, preload=True)\n"
     ]
    },
    {
     "name": "stdout",
     "output_type": "stream",
     "text": [
      "Processed sub-16_ses-1_retained-epochs.fif: (71, 25, 2000)\n",
      "Reading c:\\Users\\yaoyu\\Documents\\EE675\\preprocessed_epochs\\sub-16_ses-2_retained-epochs.fif ...\n",
      "    Found the data of interest:\n",
      "        t =       0.00 ...    3998.00 ms\n",
      "        0 CTF compensation matrices available\n",
      "Not setting metadata\n",
      "68 matching events found\n",
      "No baseline correction applied\n",
      "0 projection items activated\n"
     ]
    },
    {
     "name": "stderr",
     "output_type": "stream",
     "text": [
      "C:\\Users\\yaoyu\\AppData\\Local\\Temp\\ipykernel_24788\\3533774731.py:36: RuntimeWarning: This filename (preprocessed_epochs\\sub-16_ses-2_retained-epochs.fif) does not conform to MNE naming conventions. All epochs files should end with -epo.fif, -epo.fif.gz, _epo.fif or _epo.fif.gz\n",
      "  epochs = mne.read_epochs(file_path, preload=True)\n"
     ]
    },
    {
     "name": "stdout",
     "output_type": "stream",
     "text": [
      "Processed sub-16_ses-2_retained-epochs.fif: (68, 25, 2000)\n",
      "Reading c:\\Users\\yaoyu\\Documents\\EE675\\preprocessed_epochs\\sub-17_ses-1_retained-epochs.fif ...\n",
      "    Found the data of interest:\n",
      "        t =       0.00 ...    3998.00 ms\n",
      "        0 CTF compensation matrices available\n",
      "Not setting metadata\n",
      "68 matching events found\n",
      "No baseline correction applied\n",
      "0 projection items activated\n"
     ]
    },
    {
     "name": "stderr",
     "output_type": "stream",
     "text": [
      "C:\\Users\\yaoyu\\AppData\\Local\\Temp\\ipykernel_24788\\3533774731.py:36: RuntimeWarning: This filename (preprocessed_epochs\\sub-17_ses-1_retained-epochs.fif) does not conform to MNE naming conventions. All epochs files should end with -epo.fif, -epo.fif.gz, _epo.fif or _epo.fif.gz\n",
      "  epochs = mne.read_epochs(file_path, preload=True)\n"
     ]
    },
    {
     "name": "stdout",
     "output_type": "stream",
     "text": [
      "Processed sub-17_ses-1_retained-epochs.fif: (68, 25, 2000)\n",
      "Reading c:\\Users\\yaoyu\\Documents\\EE675\\preprocessed_epochs\\sub-17_ses-2_retained-epochs.fif ...\n",
      "    Found the data of interest:\n",
      "        t =       0.00 ...    3998.00 ms\n",
      "        0 CTF compensation matrices available\n",
      "Not setting metadata\n",
      "74 matching events found\n",
      "No baseline correction applied\n",
      "0 projection items activated\n"
     ]
    },
    {
     "name": "stderr",
     "output_type": "stream",
     "text": [
      "C:\\Users\\yaoyu\\AppData\\Local\\Temp\\ipykernel_24788\\3533774731.py:36: RuntimeWarning: This filename (preprocessed_epochs\\sub-17_ses-2_retained-epochs.fif) does not conform to MNE naming conventions. All epochs files should end with -epo.fif, -epo.fif.gz, _epo.fif or _epo.fif.gz\n",
      "  epochs = mne.read_epochs(file_path, preload=True)\n"
     ]
    },
    {
     "name": "stdout",
     "output_type": "stream",
     "text": [
      "Processed sub-17_ses-2_retained-epochs.fif: (74, 25, 2000)\n",
      "Reading c:\\Users\\yaoyu\\Documents\\EE675\\preprocessed_epochs\\sub-18_ses-1_retained-epochs.fif ...\n",
      "    Found the data of interest:\n",
      "        t =       0.00 ...    3998.00 ms\n",
      "        0 CTF compensation matrices available\n",
      "Not setting metadata\n",
      "73 matching events found\n",
      "No baseline correction applied\n",
      "0 projection items activated\n"
     ]
    },
    {
     "name": "stderr",
     "output_type": "stream",
     "text": [
      "C:\\Users\\yaoyu\\AppData\\Local\\Temp\\ipykernel_24788\\3533774731.py:36: RuntimeWarning: This filename (preprocessed_epochs\\sub-18_ses-1_retained-epochs.fif) does not conform to MNE naming conventions. All epochs files should end with -epo.fif, -epo.fif.gz, _epo.fif or _epo.fif.gz\n",
      "  epochs = mne.read_epochs(file_path, preload=True)\n"
     ]
    },
    {
     "name": "stdout",
     "output_type": "stream",
     "text": [
      "Processed sub-18_ses-1_retained-epochs.fif: (73, 25, 2000)\n",
      "Reading c:\\Users\\yaoyu\\Documents\\EE675\\preprocessed_epochs\\sub-18_ses-2_retained-epochs.fif ...\n",
      "    Found the data of interest:\n",
      "        t =       0.00 ...    3998.00 ms\n",
      "        0 CTF compensation matrices available\n",
      "Not setting metadata\n",
      "75 matching events found\n",
      "No baseline correction applied\n",
      "0 projection items activated\n"
     ]
    },
    {
     "name": "stderr",
     "output_type": "stream",
     "text": [
      "C:\\Users\\yaoyu\\AppData\\Local\\Temp\\ipykernel_24788\\3533774731.py:36: RuntimeWarning: This filename (preprocessed_epochs\\sub-18_ses-2_retained-epochs.fif) does not conform to MNE naming conventions. All epochs files should end with -epo.fif, -epo.fif.gz, _epo.fif or _epo.fif.gz\n",
      "  epochs = mne.read_epochs(file_path, preload=True)\n"
     ]
    },
    {
     "name": "stdout",
     "output_type": "stream",
     "text": [
      "Processed sub-18_ses-2_retained-epochs.fif: (75, 25, 2000)\n",
      "Reading c:\\Users\\yaoyu\\Documents\\EE675\\preprocessed_epochs\\sub-19_ses-1_retained-epochs.fif ...\n",
      "    Found the data of interest:\n",
      "        t =       0.00 ...    3998.00 ms\n",
      "        0 CTF compensation matrices available\n",
      "Not setting metadata\n",
      "75 matching events found\n",
      "No baseline correction applied\n",
      "0 projection items activated\n"
     ]
    },
    {
     "name": "stderr",
     "output_type": "stream",
     "text": [
      "C:\\Users\\yaoyu\\AppData\\Local\\Temp\\ipykernel_24788\\3533774731.py:36: RuntimeWarning: This filename (preprocessed_epochs\\sub-19_ses-1_retained-epochs.fif) does not conform to MNE naming conventions. All epochs files should end with -epo.fif, -epo.fif.gz, _epo.fif or _epo.fif.gz\n",
      "  epochs = mne.read_epochs(file_path, preload=True)\n"
     ]
    },
    {
     "name": "stdout",
     "output_type": "stream",
     "text": [
      "Processed sub-19_ses-1_retained-epochs.fif: (75, 25, 2000)\n",
      "Reading c:\\Users\\yaoyu\\Documents\\EE675\\preprocessed_epochs\\sub-19_ses-2_retained-epochs.fif ...\n",
      "    Found the data of interest:\n",
      "        t =       0.00 ...    3998.00 ms\n",
      "        0 CTF compensation matrices available\n",
      "Not setting metadata\n",
      "72 matching events found\n",
      "No baseline correction applied\n",
      "0 projection items activated\n"
     ]
    },
    {
     "name": "stderr",
     "output_type": "stream",
     "text": [
      "C:\\Users\\yaoyu\\AppData\\Local\\Temp\\ipykernel_24788\\3533774731.py:36: RuntimeWarning: This filename (preprocessed_epochs\\sub-19_ses-2_retained-epochs.fif) does not conform to MNE naming conventions. All epochs files should end with -epo.fif, -epo.fif.gz, _epo.fif or _epo.fif.gz\n",
      "  epochs = mne.read_epochs(file_path, preload=True)\n"
     ]
    },
    {
     "name": "stdout",
     "output_type": "stream",
     "text": [
      "Processed sub-19_ses-2_retained-epochs.fif: (72, 25, 2000)\n",
      "Reading c:\\Users\\yaoyu\\Documents\\EE675\\preprocessed_epochs\\sub-20_ses-1_retained-epochs.fif ...\n",
      "    Found the data of interest:\n",
      "        t =       0.00 ...    3998.00 ms\n",
      "        0 CTF compensation matrices available\n",
      "Not setting metadata\n",
      "74 matching events found\n",
      "No baseline correction applied\n",
      "0 projection items activated\n"
     ]
    },
    {
     "name": "stderr",
     "output_type": "stream",
     "text": [
      "C:\\Users\\yaoyu\\AppData\\Local\\Temp\\ipykernel_24788\\3533774731.py:36: RuntimeWarning: This filename (preprocessed_epochs\\sub-20_ses-1_retained-epochs.fif) does not conform to MNE naming conventions. All epochs files should end with -epo.fif, -epo.fif.gz, _epo.fif or _epo.fif.gz\n",
      "  epochs = mne.read_epochs(file_path, preload=True)\n"
     ]
    },
    {
     "name": "stdout",
     "output_type": "stream",
     "text": [
      "Processed sub-20_ses-1_retained-epochs.fif: (74, 25, 2000)\n",
      "Reading c:\\Users\\yaoyu\\Documents\\EE675\\preprocessed_epochs\\sub-20_ses-2_retained-epochs.fif ...\n",
      "    Found the data of interest:\n",
      "        t =       0.00 ...    3998.00 ms\n",
      "        0 CTF compensation matrices available\n",
      "Not setting metadata\n",
      "58 matching events found\n",
      "No baseline correction applied\n",
      "0 projection items activated\n"
     ]
    },
    {
     "name": "stderr",
     "output_type": "stream",
     "text": [
      "C:\\Users\\yaoyu\\AppData\\Local\\Temp\\ipykernel_24788\\3533774731.py:36: RuntimeWarning: This filename (preprocessed_epochs\\sub-20_ses-2_retained-epochs.fif) does not conform to MNE naming conventions. All epochs files should end with -epo.fif, -epo.fif.gz, _epo.fif or _epo.fif.gz\n",
      "  epochs = mne.read_epochs(file_path, preload=True)\n"
     ]
    },
    {
     "name": "stdout",
     "output_type": "stream",
     "text": [
      "Processed sub-20_ses-2_retained-epochs.fif: (58, 25, 2000)\n",
      "Reading c:\\Users\\yaoyu\\Documents\\EE675\\preprocessed_epochs\\sub-21_ses-1_retained-epochs.fif ...\n",
      "    Found the data of interest:\n",
      "        t =       0.00 ...    3998.00 ms\n",
      "        0 CTF compensation matrices available\n",
      "Not setting metadata\n",
      "45 matching events found\n",
      "No baseline correction applied\n",
      "0 projection items activated\n"
     ]
    },
    {
     "name": "stderr",
     "output_type": "stream",
     "text": [
      "C:\\Users\\yaoyu\\AppData\\Local\\Temp\\ipykernel_24788\\3533774731.py:36: RuntimeWarning: This filename (preprocessed_epochs\\sub-21_ses-1_retained-epochs.fif) does not conform to MNE naming conventions. All epochs files should end with -epo.fif, -epo.fif.gz, _epo.fif or _epo.fif.gz\n",
      "  epochs = mne.read_epochs(file_path, preload=True)\n"
     ]
    },
    {
     "name": "stdout",
     "output_type": "stream",
     "text": [
      "Processed sub-21_ses-1_retained-epochs.fif: (45, 25, 2000)\n",
      "Reading c:\\Users\\yaoyu\\Documents\\EE675\\preprocessed_epochs\\sub-21_ses-2_retained-epochs.fif ...\n",
      "    Found the data of interest:\n",
      "        t =       0.00 ...    3998.00 ms\n",
      "        0 CTF compensation matrices available\n",
      "Not setting metadata\n",
      "49 matching events found\n",
      "No baseline correction applied\n",
      "0 projection items activated\n"
     ]
    },
    {
     "name": "stderr",
     "output_type": "stream",
     "text": [
      "C:\\Users\\yaoyu\\AppData\\Local\\Temp\\ipykernel_24788\\3533774731.py:36: RuntimeWarning: This filename (preprocessed_epochs\\sub-21_ses-2_retained-epochs.fif) does not conform to MNE naming conventions. All epochs files should end with -epo.fif, -epo.fif.gz, _epo.fif or _epo.fif.gz\n",
      "  epochs = mne.read_epochs(file_path, preload=True)\n"
     ]
    },
    {
     "name": "stdout",
     "output_type": "stream",
     "text": [
      "Processed sub-21_ses-2_retained-epochs.fif: (49, 25, 2000)\n",
      "Reading c:\\Users\\yaoyu\\Documents\\EE675\\preprocessed_epochs\\sub-22_ses-1_retained-epochs.fif ...\n",
      "    Found the data of interest:\n",
      "        t =       0.00 ...    3998.00 ms\n",
      "        0 CTF compensation matrices available\n",
      "Not setting metadata\n",
      "72 matching events found\n",
      "No baseline correction applied\n",
      "0 projection items activated\n"
     ]
    },
    {
     "name": "stderr",
     "output_type": "stream",
     "text": [
      "C:\\Users\\yaoyu\\AppData\\Local\\Temp\\ipykernel_24788\\3533774731.py:36: RuntimeWarning: This filename (preprocessed_epochs\\sub-22_ses-1_retained-epochs.fif) does not conform to MNE naming conventions. All epochs files should end with -epo.fif, -epo.fif.gz, _epo.fif or _epo.fif.gz\n",
      "  epochs = mne.read_epochs(file_path, preload=True)\n"
     ]
    },
    {
     "name": "stdout",
     "output_type": "stream",
     "text": [
      "Processed sub-22_ses-1_retained-epochs.fif: (72, 25, 2000)\n",
      "Reading c:\\Users\\yaoyu\\Documents\\EE675\\preprocessed_epochs\\sub-22_ses-2_retained-epochs.fif ...\n",
      "    Found the data of interest:\n",
      "        t =       0.00 ...    3998.00 ms\n",
      "        0 CTF compensation matrices available\n",
      "Not setting metadata\n",
      "73 matching events found\n",
      "No baseline correction applied\n",
      "0 projection items activated\n"
     ]
    },
    {
     "name": "stderr",
     "output_type": "stream",
     "text": [
      "C:\\Users\\yaoyu\\AppData\\Local\\Temp\\ipykernel_24788\\3533774731.py:36: RuntimeWarning: This filename (preprocessed_epochs\\sub-22_ses-2_retained-epochs.fif) does not conform to MNE naming conventions. All epochs files should end with -epo.fif, -epo.fif.gz, _epo.fif or _epo.fif.gz\n",
      "  epochs = mne.read_epochs(file_path, preload=True)\n"
     ]
    },
    {
     "name": "stdout",
     "output_type": "stream",
     "text": [
      "Processed sub-22_ses-2_retained-epochs.fif: (73, 25, 2000)\n",
      "Reading c:\\Users\\yaoyu\\Documents\\EE675\\preprocessed_epochs\\sub-23_ses-1_retained-epochs.fif ...\n",
      "    Found the data of interest:\n",
      "        t =       0.00 ...    3998.00 ms\n",
      "        0 CTF compensation matrices available\n",
      "Not setting metadata\n",
      "70 matching events found\n",
      "No baseline correction applied\n",
      "0 projection items activated\n"
     ]
    },
    {
     "name": "stderr",
     "output_type": "stream",
     "text": [
      "C:\\Users\\yaoyu\\AppData\\Local\\Temp\\ipykernel_24788\\3533774731.py:36: RuntimeWarning: This filename (preprocessed_epochs\\sub-23_ses-1_retained-epochs.fif) does not conform to MNE naming conventions. All epochs files should end with -epo.fif, -epo.fif.gz, _epo.fif or _epo.fif.gz\n",
      "  epochs = mne.read_epochs(file_path, preload=True)\n"
     ]
    },
    {
     "name": "stdout",
     "output_type": "stream",
     "text": [
      "Processed sub-23_ses-1_retained-epochs.fif: (70, 25, 2000)\n",
      "Reading c:\\Users\\yaoyu\\Documents\\EE675\\preprocessed_epochs\\sub-23_ses-2_retained-epochs.fif ...\n",
      "    Found the data of interest:\n",
      "        t =       0.00 ...    3998.00 ms\n",
      "        0 CTF compensation matrices available\n",
      "Not setting metadata\n",
      "74 matching events found\n",
      "No baseline correction applied\n",
      "0 projection items activated\n"
     ]
    },
    {
     "name": "stderr",
     "output_type": "stream",
     "text": [
      "C:\\Users\\yaoyu\\AppData\\Local\\Temp\\ipykernel_24788\\3533774731.py:36: RuntimeWarning: This filename (preprocessed_epochs\\sub-23_ses-2_retained-epochs.fif) does not conform to MNE naming conventions. All epochs files should end with -epo.fif, -epo.fif.gz, _epo.fif or _epo.fif.gz\n",
      "  epochs = mne.read_epochs(file_path, preload=True)\n"
     ]
    },
    {
     "name": "stdout",
     "output_type": "stream",
     "text": [
      "Processed sub-23_ses-2_retained-epochs.fif: (74, 25, 2000)\n",
      "Reading c:\\Users\\yaoyu\\Documents\\EE675\\preprocessed_epochs\\sub-24_ses-1_retained-epochs.fif ...\n",
      "    Found the data of interest:\n",
      "        t =       0.00 ...    3998.00 ms\n",
      "        0 CTF compensation matrices available\n",
      "Not setting metadata\n",
      "73 matching events found\n",
      "No baseline correction applied\n",
      "0 projection items activated\n"
     ]
    },
    {
     "name": "stderr",
     "output_type": "stream",
     "text": [
      "C:\\Users\\yaoyu\\AppData\\Local\\Temp\\ipykernel_24788\\3533774731.py:36: RuntimeWarning: This filename (preprocessed_epochs\\sub-24_ses-1_retained-epochs.fif) does not conform to MNE naming conventions. All epochs files should end with -epo.fif, -epo.fif.gz, _epo.fif or _epo.fif.gz\n",
      "  epochs = mne.read_epochs(file_path, preload=True)\n"
     ]
    },
    {
     "name": "stdout",
     "output_type": "stream",
     "text": [
      "Processed sub-24_ses-1_retained-epochs.fif: (73, 25, 2000)\n",
      "Reading c:\\Users\\yaoyu\\Documents\\EE675\\preprocessed_epochs\\sub-24_ses-2_retained-epochs.fif ...\n",
      "    Found the data of interest:\n",
      "        t =       0.00 ...    3998.00 ms\n",
      "        0 CTF compensation matrices available\n",
      "Not setting metadata\n",
      "50 matching events found\n",
      "No baseline correction applied\n",
      "0 projection items activated\n"
     ]
    },
    {
     "name": "stderr",
     "output_type": "stream",
     "text": [
      "C:\\Users\\yaoyu\\AppData\\Local\\Temp\\ipykernel_24788\\3533774731.py:36: RuntimeWarning: This filename (preprocessed_epochs\\sub-24_ses-2_retained-epochs.fif) does not conform to MNE naming conventions. All epochs files should end with -epo.fif, -epo.fif.gz, _epo.fif or _epo.fif.gz\n",
      "  epochs = mne.read_epochs(file_path, preload=True)\n"
     ]
    },
    {
     "name": "stdout",
     "output_type": "stream",
     "text": [
      "Processed sub-24_ses-2_retained-epochs.fif: (50, 25, 2000)\n",
      "Reading c:\\Users\\yaoyu\\Documents\\EE675\\preprocessed_epochs\\sub-25_ses-1_retained-epochs.fif ...\n",
      "    Found the data of interest:\n",
      "        t =       0.00 ...    3998.00 ms\n",
      "        0 CTF compensation matrices available\n",
      "Not setting metadata\n",
      "74 matching events found\n",
      "No baseline correction applied\n",
      "0 projection items activated\n"
     ]
    },
    {
     "name": "stderr",
     "output_type": "stream",
     "text": [
      "C:\\Users\\yaoyu\\AppData\\Local\\Temp\\ipykernel_24788\\3533774731.py:36: RuntimeWarning: This filename (preprocessed_epochs\\sub-25_ses-1_retained-epochs.fif) does not conform to MNE naming conventions. All epochs files should end with -epo.fif, -epo.fif.gz, _epo.fif or _epo.fif.gz\n",
      "  epochs = mne.read_epochs(file_path, preload=True)\n"
     ]
    },
    {
     "name": "stdout",
     "output_type": "stream",
     "text": [
      "Processed sub-25_ses-1_retained-epochs.fif: (74, 25, 2000)\n",
      "Reading c:\\Users\\yaoyu\\Documents\\EE675\\preprocessed_epochs\\sub-25_ses-2_retained-epochs.fif ...\n",
      "    Found the data of interest:\n",
      "        t =       0.00 ...    3998.00 ms\n",
      "        0 CTF compensation matrices available\n",
      "Not setting metadata\n",
      "69 matching events found\n",
      "No baseline correction applied\n",
      "0 projection items activated\n"
     ]
    },
    {
     "name": "stderr",
     "output_type": "stream",
     "text": [
      "C:\\Users\\yaoyu\\AppData\\Local\\Temp\\ipykernel_24788\\3533774731.py:36: RuntimeWarning: This filename (preprocessed_epochs\\sub-25_ses-2_retained-epochs.fif) does not conform to MNE naming conventions. All epochs files should end with -epo.fif, -epo.fif.gz, _epo.fif or _epo.fif.gz\n",
      "  epochs = mne.read_epochs(file_path, preload=True)\n"
     ]
    },
    {
     "name": "stdout",
     "output_type": "stream",
     "text": [
      "Processed sub-25_ses-2_retained-epochs.fif: (69, 25, 2000)\n",
      "Reading c:\\Users\\yaoyu\\Documents\\EE675\\preprocessed_epochs\\sub-26_ses-1_retained-epochs.fif ...\n",
      "    Found the data of interest:\n",
      "        t =       0.00 ...    3998.00 ms\n",
      "        0 CTF compensation matrices available\n",
      "Not setting metadata\n",
      "75 matching events found\n",
      "No baseline correction applied\n",
      "0 projection items activated\n"
     ]
    },
    {
     "name": "stderr",
     "output_type": "stream",
     "text": [
      "C:\\Users\\yaoyu\\AppData\\Local\\Temp\\ipykernel_24788\\3533774731.py:36: RuntimeWarning: This filename (preprocessed_epochs\\sub-26_ses-1_retained-epochs.fif) does not conform to MNE naming conventions. All epochs files should end with -epo.fif, -epo.fif.gz, _epo.fif or _epo.fif.gz\n",
      "  epochs = mne.read_epochs(file_path, preload=True)\n"
     ]
    },
    {
     "name": "stdout",
     "output_type": "stream",
     "text": [
      "Processed sub-26_ses-1_retained-epochs.fif: (75, 25, 2000)\n",
      "Reading c:\\Users\\yaoyu\\Documents\\EE675\\preprocessed_epochs\\sub-26_ses-2_retained-epochs.fif ...\n",
      "    Found the data of interest:\n",
      "        t =       0.00 ...    3998.00 ms\n",
      "        0 CTF compensation matrices available\n",
      "Not setting metadata\n",
      "75 matching events found\n",
      "No baseline correction applied\n",
      "0 projection items activated\n"
     ]
    },
    {
     "name": "stderr",
     "output_type": "stream",
     "text": [
      "C:\\Users\\yaoyu\\AppData\\Local\\Temp\\ipykernel_24788\\3533774731.py:36: RuntimeWarning: This filename (preprocessed_epochs\\sub-26_ses-2_retained-epochs.fif) does not conform to MNE naming conventions. All epochs files should end with -epo.fif, -epo.fif.gz, _epo.fif or _epo.fif.gz\n",
      "  epochs = mne.read_epochs(file_path, preload=True)\n"
     ]
    },
    {
     "name": "stdout",
     "output_type": "stream",
     "text": [
      "Processed sub-26_ses-2_retained-epochs.fif: (75, 25, 2000)\n",
      "Reading c:\\Users\\yaoyu\\Documents\\EE675\\preprocessed_epochs\\sub-27_ses-1_retained-epochs.fif ...\n",
      "    Found the data of interest:\n",
      "        t =       0.00 ...    3998.00 ms\n",
      "        0 CTF compensation matrices available\n",
      "Not setting metadata\n",
      "73 matching events found\n",
      "No baseline correction applied\n",
      "0 projection items activated\n"
     ]
    },
    {
     "name": "stderr",
     "output_type": "stream",
     "text": [
      "C:\\Users\\yaoyu\\AppData\\Local\\Temp\\ipykernel_24788\\3533774731.py:36: RuntimeWarning: This filename (preprocessed_epochs\\sub-27_ses-1_retained-epochs.fif) does not conform to MNE naming conventions. All epochs files should end with -epo.fif, -epo.fif.gz, _epo.fif or _epo.fif.gz\n",
      "  epochs = mne.read_epochs(file_path, preload=True)\n"
     ]
    },
    {
     "name": "stdout",
     "output_type": "stream",
     "text": [
      "Processed sub-27_ses-1_retained-epochs.fif: (73, 25, 2000)\n",
      "Reading c:\\Users\\yaoyu\\Documents\\EE675\\preprocessed_epochs\\sub-27_ses-2_retained-epochs.fif ...\n",
      "    Found the data of interest:\n",
      "        t =       0.00 ...    3998.00 ms\n",
      "        0 CTF compensation matrices available\n",
      "Not setting metadata\n",
      "73 matching events found\n",
      "No baseline correction applied\n",
      "0 projection items activated\n"
     ]
    },
    {
     "name": "stderr",
     "output_type": "stream",
     "text": [
      "C:\\Users\\yaoyu\\AppData\\Local\\Temp\\ipykernel_24788\\3533774731.py:36: RuntimeWarning: This filename (preprocessed_epochs\\sub-27_ses-2_retained-epochs.fif) does not conform to MNE naming conventions. All epochs files should end with -epo.fif, -epo.fif.gz, _epo.fif or _epo.fif.gz\n",
      "  epochs = mne.read_epochs(file_path, preload=True)\n"
     ]
    },
    {
     "name": "stdout",
     "output_type": "stream",
     "text": [
      "Processed sub-27_ses-2_retained-epochs.fif: (73, 25, 2000)\n",
      "Reading c:\\Users\\yaoyu\\Documents\\EE675\\preprocessed_epochs\\sub-28_ses-1_retained-epochs.fif ...\n",
      "    Found the data of interest:\n",
      "        t =       0.00 ...    3998.00 ms\n",
      "        0 CTF compensation matrices available\n",
      "Not setting metadata\n",
      "54 matching events found\n",
      "No baseline correction applied\n",
      "0 projection items activated\n"
     ]
    },
    {
     "name": "stderr",
     "output_type": "stream",
     "text": [
      "C:\\Users\\yaoyu\\AppData\\Local\\Temp\\ipykernel_24788\\3533774731.py:36: RuntimeWarning: This filename (preprocessed_epochs\\sub-28_ses-1_retained-epochs.fif) does not conform to MNE naming conventions. All epochs files should end with -epo.fif, -epo.fif.gz, _epo.fif or _epo.fif.gz\n",
      "  epochs = mne.read_epochs(file_path, preload=True)\n"
     ]
    },
    {
     "name": "stdout",
     "output_type": "stream",
     "text": [
      "Processed sub-28_ses-1_retained-epochs.fif: (54, 25, 2000)\n",
      "Reading c:\\Users\\yaoyu\\Documents\\EE675\\preprocessed_epochs\\sub-28_ses-2_retained-epochs.fif ...\n",
      "    Found the data of interest:\n",
      "        t =       0.00 ...    3998.00 ms\n",
      "        0 CTF compensation matrices available\n",
      "Not setting metadata\n",
      "8 matching events found\n",
      "No baseline correction applied\n",
      "0 projection items activated\n",
      "Reading c:\\Users\\yaoyu\\Documents\\EE675\\preprocessed_epochs\\sub-29_ses-1_retained-epochs.fif ...\n",
      "    Found the data of interest:\n",
      "        t =       0.00 ...    3998.00 ms\n",
      "        0 CTF compensation matrices available\n",
      "Not setting metadata\n",
      "31 matching events found\n",
      "No baseline correction applied\n",
      "0 projection items activated\n"
     ]
    },
    {
     "name": "stderr",
     "output_type": "stream",
     "text": [
      "C:\\Users\\yaoyu\\AppData\\Local\\Temp\\ipykernel_24788\\3533774731.py:36: RuntimeWarning: This filename (preprocessed_epochs\\sub-28_ses-2_retained-epochs.fif) does not conform to MNE naming conventions. All epochs files should end with -epo.fif, -epo.fif.gz, _epo.fif or _epo.fif.gz\n",
      "  epochs = mne.read_epochs(file_path, preload=True)\n",
      "C:\\Users\\yaoyu\\AppData\\Local\\Temp\\ipykernel_24788\\3533774731.py:36: RuntimeWarning: This filename (preprocessed_epochs\\sub-29_ses-1_retained-epochs.fif) does not conform to MNE naming conventions. All epochs files should end with -epo.fif, -epo.fif.gz, _epo.fif or _epo.fif.gz\n",
      "  epochs = mne.read_epochs(file_path, preload=True)\n"
     ]
    },
    {
     "name": "stdout",
     "output_type": "stream",
     "text": [
      "Processed sub-29_ses-1_retained-epochs.fif: (31, 25, 2000)\n",
      "Reading c:\\Users\\yaoyu\\Documents\\EE675\\preprocessed_epochs\\sub-29_ses-2_retained-epochs.fif ...\n",
      "    Found the data of interest:\n",
      "        t =       0.00 ...    3998.00 ms\n",
      "        0 CTF compensation matrices available\n",
      "Not setting metadata\n",
      "75 matching events found\n",
      "No baseline correction applied\n",
      "0 projection items activated\n"
     ]
    },
    {
     "name": "stderr",
     "output_type": "stream",
     "text": [
      "C:\\Users\\yaoyu\\AppData\\Local\\Temp\\ipykernel_24788\\3533774731.py:36: RuntimeWarning: This filename (preprocessed_epochs\\sub-29_ses-2_retained-epochs.fif) does not conform to MNE naming conventions. All epochs files should end with -epo.fif, -epo.fif.gz, _epo.fif or _epo.fif.gz\n",
      "  epochs = mne.read_epochs(file_path, preload=True)\n"
     ]
    },
    {
     "name": "stdout",
     "output_type": "stream",
     "text": [
      "Processed sub-29_ses-2_retained-epochs.fif: (75, 25, 2000)\n",
      "Reading c:\\Users\\yaoyu\\Documents\\EE675\\preprocessed_epochs\\sub-30_ses-1_retained-epochs.fif ...\n",
      "    Found the data of interest:\n",
      "        t =       0.00 ...    3998.00 ms\n",
      "        0 CTF compensation matrices available\n",
      "Not setting metadata\n",
      "75 matching events found\n",
      "No baseline correction applied\n",
      "0 projection items activated\n"
     ]
    },
    {
     "name": "stderr",
     "output_type": "stream",
     "text": [
      "C:\\Users\\yaoyu\\AppData\\Local\\Temp\\ipykernel_24788\\3533774731.py:36: RuntimeWarning: This filename (preprocessed_epochs\\sub-30_ses-1_retained-epochs.fif) does not conform to MNE naming conventions. All epochs files should end with -epo.fif, -epo.fif.gz, _epo.fif or _epo.fif.gz\n",
      "  epochs = mne.read_epochs(file_path, preload=True)\n"
     ]
    },
    {
     "name": "stdout",
     "output_type": "stream",
     "text": [
      "Processed sub-30_ses-1_retained-epochs.fif: (75, 25, 2000)\n",
      "Reading c:\\Users\\yaoyu\\Documents\\EE675\\preprocessed_epochs\\sub-30_ses-2_retained-epochs.fif ...\n",
      "    Found the data of interest:\n",
      "        t =       0.00 ...    3998.00 ms\n",
      "        0 CTF compensation matrices available\n",
      "Not setting metadata\n",
      "42 matching events found\n",
      "No baseline correction applied\n",
      "0 projection items activated\n"
     ]
    },
    {
     "name": "stderr",
     "output_type": "stream",
     "text": [
      "C:\\Users\\yaoyu\\AppData\\Local\\Temp\\ipykernel_24788\\3533774731.py:36: RuntimeWarning: This filename (preprocessed_epochs\\sub-30_ses-2_retained-epochs.fif) does not conform to MNE naming conventions. All epochs files should end with -epo.fif, -epo.fif.gz, _epo.fif or _epo.fif.gz\n",
      "  epochs = mne.read_epochs(file_path, preload=True)\n"
     ]
    },
    {
     "name": "stdout",
     "output_type": "stream",
     "text": [
      "Processed sub-30_ses-2_retained-epochs.fif: (42, 25, 2000)\n",
      "Reading c:\\Users\\yaoyu\\Documents\\EE675\\preprocessed_epochs\\sub-31_ses-1_retained-epochs.fif ...\n",
      "    Found the data of interest:\n",
      "        t =       0.00 ...    3998.00 ms\n",
      "        0 CTF compensation matrices available\n",
      "Not setting metadata\n",
      "74 matching events found\n",
      "No baseline correction applied\n",
      "0 projection items activated\n"
     ]
    },
    {
     "name": "stderr",
     "output_type": "stream",
     "text": [
      "C:\\Users\\yaoyu\\AppData\\Local\\Temp\\ipykernel_24788\\3533774731.py:36: RuntimeWarning: This filename (preprocessed_epochs\\sub-31_ses-1_retained-epochs.fif) does not conform to MNE naming conventions. All epochs files should end with -epo.fif, -epo.fif.gz, _epo.fif or _epo.fif.gz\n",
      "  epochs = mne.read_epochs(file_path, preload=True)\n"
     ]
    },
    {
     "name": "stdout",
     "output_type": "stream",
     "text": [
      "Processed sub-31_ses-1_retained-epochs.fif: (74, 25, 2000)\n",
      "Reading c:\\Users\\yaoyu\\Documents\\EE675\\preprocessed_epochs\\sub-31_ses-2_retained-epochs.fif ...\n",
      "    Found the data of interest:\n",
      "        t =       0.00 ...    3998.00 ms\n",
      "        0 CTF compensation matrices available\n",
      "Not setting metadata\n",
      "68 matching events found\n",
      "No baseline correction applied\n",
      "0 projection items activated\n"
     ]
    },
    {
     "name": "stderr",
     "output_type": "stream",
     "text": [
      "C:\\Users\\yaoyu\\AppData\\Local\\Temp\\ipykernel_24788\\3533774731.py:36: RuntimeWarning: This filename (preprocessed_epochs\\sub-31_ses-2_retained-epochs.fif) does not conform to MNE naming conventions. All epochs files should end with -epo.fif, -epo.fif.gz, _epo.fif or _epo.fif.gz\n",
      "  epochs = mne.read_epochs(file_path, preload=True)\n"
     ]
    },
    {
     "name": "stdout",
     "output_type": "stream",
     "text": [
      "Processed sub-31_ses-2_retained-epochs.fif: (68, 25, 2000)\n",
      "Reading c:\\Users\\yaoyu\\Documents\\EE675\\preprocessed_epochs\\sub-32_ses-1_retained-epochs.fif ...\n",
      "    Found the data of interest:\n",
      "        t =       0.00 ...    3998.00 ms\n",
      "        0 CTF compensation matrices available\n",
      "Not setting metadata\n",
      "62 matching events found\n",
      "No baseline correction applied\n",
      "0 projection items activated\n"
     ]
    },
    {
     "name": "stderr",
     "output_type": "stream",
     "text": [
      "C:\\Users\\yaoyu\\AppData\\Local\\Temp\\ipykernel_24788\\3533774731.py:36: RuntimeWarning: This filename (preprocessed_epochs\\sub-32_ses-1_retained-epochs.fif) does not conform to MNE naming conventions. All epochs files should end with -epo.fif, -epo.fif.gz, _epo.fif or _epo.fif.gz\n",
      "  epochs = mne.read_epochs(file_path, preload=True)\n"
     ]
    },
    {
     "name": "stdout",
     "output_type": "stream",
     "text": [
      "Processed sub-32_ses-1_retained-epochs.fif: (62, 25, 2000)\n",
      "Reading c:\\Users\\yaoyu\\Documents\\EE675\\preprocessed_epochs\\sub-32_ses-2_retained-epochs.fif ...\n",
      "    Found the data of interest:\n",
      "        t =       0.00 ...    3998.00 ms\n",
      "        0 CTF compensation matrices available\n",
      "Not setting metadata\n",
      "17 matching events found\n",
      "No baseline correction applied\n",
      "0 projection items activated\n"
     ]
    },
    {
     "name": "stderr",
     "output_type": "stream",
     "text": [
      "C:\\Users\\yaoyu\\AppData\\Local\\Temp\\ipykernel_24788\\3533774731.py:36: RuntimeWarning: This filename (preprocessed_epochs\\sub-32_ses-2_retained-epochs.fif) does not conform to MNE naming conventions. All epochs files should end with -epo.fif, -epo.fif.gz, _epo.fif or _epo.fif.gz\n",
      "  epochs = mne.read_epochs(file_path, preload=True)\n"
     ]
    },
    {
     "name": "stdout",
     "output_type": "stream",
     "text": [
      "Processed sub-32_ses-2_retained-epochs.fif: (17, 25, 2000)\n",
      "Reading c:\\Users\\yaoyu\\Documents\\EE675\\preprocessed_epochs\\sub-33_ses-1_retained-epochs.fif ...\n",
      "    Found the data of interest:\n",
      "        t =       0.00 ...    3998.00 ms\n",
      "        0 CTF compensation matrices available\n",
      "Not setting metadata\n",
      "73 matching events found\n",
      "No baseline correction applied\n",
      "0 projection items activated\n"
     ]
    },
    {
     "name": "stderr",
     "output_type": "stream",
     "text": [
      "C:\\Users\\yaoyu\\AppData\\Local\\Temp\\ipykernel_24788\\3533774731.py:36: RuntimeWarning: This filename (preprocessed_epochs\\sub-33_ses-1_retained-epochs.fif) does not conform to MNE naming conventions. All epochs files should end with -epo.fif, -epo.fif.gz, _epo.fif or _epo.fif.gz\n",
      "  epochs = mne.read_epochs(file_path, preload=True)\n"
     ]
    },
    {
     "name": "stdout",
     "output_type": "stream",
     "text": [
      "Processed sub-33_ses-1_retained-epochs.fif: (73, 25, 2000)\n",
      "Reading c:\\Users\\yaoyu\\Documents\\EE675\\preprocessed_epochs\\sub-33_ses-2_retained-epochs.fif ...\n",
      "    Found the data of interest:\n",
      "        t =       0.00 ...    3998.00 ms\n",
      "        0 CTF compensation matrices available\n",
      "Not setting metadata\n",
      "72 matching events found\n",
      "No baseline correction applied\n",
      "0 projection items activated\n"
     ]
    },
    {
     "name": "stderr",
     "output_type": "stream",
     "text": [
      "C:\\Users\\yaoyu\\AppData\\Local\\Temp\\ipykernel_24788\\3533774731.py:36: RuntimeWarning: This filename (preprocessed_epochs\\sub-33_ses-2_retained-epochs.fif) does not conform to MNE naming conventions. All epochs files should end with -epo.fif, -epo.fif.gz, _epo.fif or _epo.fif.gz\n",
      "  epochs = mne.read_epochs(file_path, preload=True)\n"
     ]
    },
    {
     "name": "stdout",
     "output_type": "stream",
     "text": [
      "Processed sub-33_ses-2_retained-epochs.fif: (72, 25, 2000)\n",
      "Reading c:\\Users\\yaoyu\\Documents\\EE675\\preprocessed_epochs\\sub-34_ses-1_retained-epochs.fif ...\n",
      "    Found the data of interest:\n",
      "        t =       0.00 ...    3998.00 ms\n",
      "        0 CTF compensation matrices available\n",
      "Not setting metadata\n",
      "72 matching events found\n",
      "No baseline correction applied\n",
      "0 projection items activated\n"
     ]
    },
    {
     "name": "stderr",
     "output_type": "stream",
     "text": [
      "C:\\Users\\yaoyu\\AppData\\Local\\Temp\\ipykernel_24788\\3533774731.py:36: RuntimeWarning: This filename (preprocessed_epochs\\sub-34_ses-1_retained-epochs.fif) does not conform to MNE naming conventions. All epochs files should end with -epo.fif, -epo.fif.gz, _epo.fif or _epo.fif.gz\n",
      "  epochs = mne.read_epochs(file_path, preload=True)\n"
     ]
    },
    {
     "name": "stdout",
     "output_type": "stream",
     "text": [
      "Processed sub-34_ses-1_retained-epochs.fif: (72, 25, 2000)\n",
      "Reading c:\\Users\\yaoyu\\Documents\\EE675\\preprocessed_epochs\\sub-34_ses-2_retained-epochs.fif ...\n",
      "    Found the data of interest:\n",
      "        t =       0.00 ...    3998.00 ms\n",
      "        0 CTF compensation matrices available\n",
      "Not setting metadata\n",
      "74 matching events found\n",
      "No baseline correction applied\n",
      "0 projection items activated\n"
     ]
    },
    {
     "name": "stderr",
     "output_type": "stream",
     "text": [
      "C:\\Users\\yaoyu\\AppData\\Local\\Temp\\ipykernel_24788\\3533774731.py:36: RuntimeWarning: This filename (preprocessed_epochs\\sub-34_ses-2_retained-epochs.fif) does not conform to MNE naming conventions. All epochs files should end with -epo.fif, -epo.fif.gz, _epo.fif or _epo.fif.gz\n",
      "  epochs = mne.read_epochs(file_path, preload=True)\n"
     ]
    },
    {
     "name": "stdout",
     "output_type": "stream",
     "text": [
      "Processed sub-34_ses-2_retained-epochs.fif: (74, 25, 2000)\n",
      "Reading c:\\Users\\yaoyu\\Documents\\EE675\\preprocessed_epochs\\sub-35_ses-1_retained-epochs.fif ...\n",
      "    Found the data of interest:\n",
      "        t =       0.00 ...    3998.00 ms\n",
      "        0 CTF compensation matrices available\n",
      "Not setting metadata\n",
      "43 matching events found\n",
      "No baseline correction applied\n",
      "0 projection items activated\n"
     ]
    },
    {
     "name": "stderr",
     "output_type": "stream",
     "text": [
      "C:\\Users\\yaoyu\\AppData\\Local\\Temp\\ipykernel_24788\\3533774731.py:36: RuntimeWarning: This filename (preprocessed_epochs\\sub-35_ses-1_retained-epochs.fif) does not conform to MNE naming conventions. All epochs files should end with -epo.fif, -epo.fif.gz, _epo.fif or _epo.fif.gz\n",
      "  epochs = mne.read_epochs(file_path, preload=True)\n"
     ]
    },
    {
     "name": "stdout",
     "output_type": "stream",
     "text": [
      "Processed sub-35_ses-1_retained-epochs.fif: (43, 25, 2000)\n",
      "Reading c:\\Users\\yaoyu\\Documents\\EE675\\preprocessed_epochs\\sub-35_ses-2_retained-epochs.fif ...\n",
      "    Found the data of interest:\n",
      "        t =       0.00 ...    3998.00 ms\n",
      "        0 CTF compensation matrices available\n",
      "Not setting metadata\n",
      "69 matching events found\n",
      "No baseline correction applied\n",
      "0 projection items activated\n"
     ]
    },
    {
     "name": "stderr",
     "output_type": "stream",
     "text": [
      "C:\\Users\\yaoyu\\AppData\\Local\\Temp\\ipykernel_24788\\3533774731.py:36: RuntimeWarning: This filename (preprocessed_epochs\\sub-35_ses-2_retained-epochs.fif) does not conform to MNE naming conventions. All epochs files should end with -epo.fif, -epo.fif.gz, _epo.fif or _epo.fif.gz\n",
      "  epochs = mne.read_epochs(file_path, preload=True)\n"
     ]
    },
    {
     "name": "stdout",
     "output_type": "stream",
     "text": [
      "Processed sub-35_ses-2_retained-epochs.fif: (69, 25, 2000)\n",
      "Reading c:\\Users\\yaoyu\\Documents\\EE675\\preprocessed_epochs\\sub-36_ses-1_retained-epochs.fif ...\n",
      "    Found the data of interest:\n",
      "        t =       0.00 ...    3998.00 ms\n",
      "        0 CTF compensation matrices available\n",
      "Not setting metadata\n",
      "49 matching events found\n",
      "No baseline correction applied\n",
      "0 projection items activated\n"
     ]
    },
    {
     "name": "stderr",
     "output_type": "stream",
     "text": [
      "C:\\Users\\yaoyu\\AppData\\Local\\Temp\\ipykernel_24788\\3533774731.py:36: RuntimeWarning: This filename (preprocessed_epochs\\sub-36_ses-1_retained-epochs.fif) does not conform to MNE naming conventions. All epochs files should end with -epo.fif, -epo.fif.gz, _epo.fif or _epo.fif.gz\n",
      "  epochs = mne.read_epochs(file_path, preload=True)\n"
     ]
    },
    {
     "name": "stdout",
     "output_type": "stream",
     "text": [
      "Processed sub-36_ses-1_retained-epochs.fif: (49, 25, 2000)\n",
      "Reading c:\\Users\\yaoyu\\Documents\\EE675\\preprocessed_epochs\\sub-36_ses-2_retained-epochs.fif ...\n",
      "    Found the data of interest:\n",
      "        t =       0.00 ...    3998.00 ms\n",
      "        0 CTF compensation matrices available\n",
      "Not setting metadata\n",
      "75 matching events found\n",
      "No baseline correction applied\n",
      "0 projection items activated\n"
     ]
    },
    {
     "name": "stderr",
     "output_type": "stream",
     "text": [
      "C:\\Users\\yaoyu\\AppData\\Local\\Temp\\ipykernel_24788\\3533774731.py:36: RuntimeWarning: This filename (preprocessed_epochs\\sub-36_ses-2_retained-epochs.fif) does not conform to MNE naming conventions. All epochs files should end with -epo.fif, -epo.fif.gz, _epo.fif or _epo.fif.gz\n",
      "  epochs = mne.read_epochs(file_path, preload=True)\n"
     ]
    },
    {
     "name": "stdout",
     "output_type": "stream",
     "text": [
      "Processed sub-36_ses-2_retained-epochs.fif: (75, 25, 2000)\n",
      "Reading c:\\Users\\yaoyu\\Documents\\EE675\\preprocessed_epochs\\sub-37_ses-1_retained-epochs.fif ...\n",
      "    Found the data of interest:\n",
      "        t =       0.00 ...    3998.00 ms\n",
      "        0 CTF compensation matrices available\n",
      "Not setting metadata\n",
      "73 matching events found\n",
      "No baseline correction applied\n",
      "0 projection items activated\n"
     ]
    },
    {
     "name": "stderr",
     "output_type": "stream",
     "text": [
      "C:\\Users\\yaoyu\\AppData\\Local\\Temp\\ipykernel_24788\\3533774731.py:36: RuntimeWarning: This filename (preprocessed_epochs\\sub-37_ses-1_retained-epochs.fif) does not conform to MNE naming conventions. All epochs files should end with -epo.fif, -epo.fif.gz, _epo.fif or _epo.fif.gz\n",
      "  epochs = mne.read_epochs(file_path, preload=True)\n"
     ]
    },
    {
     "name": "stdout",
     "output_type": "stream",
     "text": [
      "Processed sub-37_ses-1_retained-epochs.fif: (73, 25, 2000)\n",
      "Reading c:\\Users\\yaoyu\\Documents\\EE675\\preprocessed_epochs\\sub-37_ses-2_retained-epochs.fif ...\n",
      "    Found the data of interest:\n",
      "        t =       0.00 ...    3998.00 ms\n",
      "        0 CTF compensation matrices available\n",
      "Not setting metadata\n",
      "41 matching events found\n",
      "No baseline correction applied\n",
      "0 projection items activated\n"
     ]
    },
    {
     "name": "stderr",
     "output_type": "stream",
     "text": [
      "C:\\Users\\yaoyu\\AppData\\Local\\Temp\\ipykernel_24788\\3533774731.py:36: RuntimeWarning: This filename (preprocessed_epochs\\sub-37_ses-2_retained-epochs.fif) does not conform to MNE naming conventions. All epochs files should end with -epo.fif, -epo.fif.gz, _epo.fif or _epo.fif.gz\n",
      "  epochs = mne.read_epochs(file_path, preload=True)\n"
     ]
    },
    {
     "name": "stdout",
     "output_type": "stream",
     "text": [
      "Processed sub-37_ses-2_retained-epochs.fif: (41, 25, 2000)\n",
      "Reading c:\\Users\\yaoyu\\Documents\\EE675\\preprocessed_epochs\\sub-38_ses-1_retained-epochs.fif ...\n",
      "    Found the data of interest:\n",
      "        t =       0.00 ...    3998.00 ms\n",
      "        0 CTF compensation matrices available\n",
      "Not setting metadata\n",
      "73 matching events found\n",
      "No baseline correction applied\n",
      "0 projection items activated\n"
     ]
    },
    {
     "name": "stderr",
     "output_type": "stream",
     "text": [
      "C:\\Users\\yaoyu\\AppData\\Local\\Temp\\ipykernel_24788\\3533774731.py:36: RuntimeWarning: This filename (preprocessed_epochs\\sub-38_ses-1_retained-epochs.fif) does not conform to MNE naming conventions. All epochs files should end with -epo.fif, -epo.fif.gz, _epo.fif or _epo.fif.gz\n",
      "  epochs = mne.read_epochs(file_path, preload=True)\n"
     ]
    },
    {
     "name": "stdout",
     "output_type": "stream",
     "text": [
      "Processed sub-38_ses-1_retained-epochs.fif: (73, 25, 2000)\n",
      "Reading c:\\Users\\yaoyu\\Documents\\EE675\\preprocessed_epochs\\sub-39_ses-1_retained-epochs.fif ...\n",
      "    Found the data of interest:\n",
      "        t =       0.00 ...    3998.00 ms\n",
      "        0 CTF compensation matrices available\n",
      "Not setting metadata\n",
      "17 matching events found\n",
      "No baseline correction applied\n",
      "0 projection items activated\n"
     ]
    },
    {
     "name": "stderr",
     "output_type": "stream",
     "text": [
      "C:\\Users\\yaoyu\\AppData\\Local\\Temp\\ipykernel_24788\\3533774731.py:36: RuntimeWarning: This filename (preprocessed_epochs\\sub-39_ses-1_retained-epochs.fif) does not conform to MNE naming conventions. All epochs files should end with -epo.fif, -epo.fif.gz, _epo.fif or _epo.fif.gz\n",
      "  epochs = mne.read_epochs(file_path, preload=True)\n"
     ]
    },
    {
     "name": "stdout",
     "output_type": "stream",
     "text": [
      "Processed sub-39_ses-1_retained-epochs.fif: (17, 25, 2000)\n",
      "Reading c:\\Users\\yaoyu\\Documents\\EE675\\preprocessed_epochs\\sub-39_ses-2_retained-epochs.fif ...\n",
      "    Found the data of interest:\n",
      "        t =       0.00 ...    3998.00 ms\n",
      "        0 CTF compensation matrices available\n",
      "Not setting metadata\n",
      "56 matching events found\n",
      "No baseline correction applied\n",
      "0 projection items activated\n"
     ]
    },
    {
     "name": "stderr",
     "output_type": "stream",
     "text": [
      "C:\\Users\\yaoyu\\AppData\\Local\\Temp\\ipykernel_24788\\3533774731.py:36: RuntimeWarning: This filename (preprocessed_epochs\\sub-39_ses-2_retained-epochs.fif) does not conform to MNE naming conventions. All epochs files should end with -epo.fif, -epo.fif.gz, _epo.fif or _epo.fif.gz\n",
      "  epochs = mne.read_epochs(file_path, preload=True)\n"
     ]
    },
    {
     "name": "stdout",
     "output_type": "stream",
     "text": [
      "Processed sub-39_ses-2_retained-epochs.fif: (56, 25, 2000)\n",
      "Reading c:\\Users\\yaoyu\\Documents\\EE675\\preprocessed_epochs\\sub-40_ses-1_retained-epochs.fif ...\n",
      "    Found the data of interest:\n",
      "        t =       0.00 ...    3998.00 ms\n",
      "        0 CTF compensation matrices available\n",
      "Not setting metadata\n",
      "67 matching events found\n",
      "No baseline correction applied\n",
      "0 projection items activated\n"
     ]
    },
    {
     "name": "stderr",
     "output_type": "stream",
     "text": [
      "C:\\Users\\yaoyu\\AppData\\Local\\Temp\\ipykernel_24788\\3533774731.py:36: RuntimeWarning: This filename (preprocessed_epochs\\sub-40_ses-1_retained-epochs.fif) does not conform to MNE naming conventions. All epochs files should end with -epo.fif, -epo.fif.gz, _epo.fif or _epo.fif.gz\n",
      "  epochs = mne.read_epochs(file_path, preload=True)\n"
     ]
    },
    {
     "name": "stdout",
     "output_type": "stream",
     "text": [
      "Processed sub-40_ses-1_retained-epochs.fif: (67, 25, 2000)\n",
      "Reading c:\\Users\\yaoyu\\Documents\\EE675\\preprocessed_epochs\\sub-40_ses-2_retained-epochs.fif ...\n",
      "    Found the data of interest:\n",
      "        t =       0.00 ...    3998.00 ms\n",
      "        0 CTF compensation matrices available\n",
      "Not setting metadata\n",
      "49 matching events found\n",
      "No baseline correction applied\n",
      "0 projection items activated\n"
     ]
    },
    {
     "name": "stderr",
     "output_type": "stream",
     "text": [
      "C:\\Users\\yaoyu\\AppData\\Local\\Temp\\ipykernel_24788\\3533774731.py:36: RuntimeWarning: This filename (preprocessed_epochs\\sub-40_ses-2_retained-epochs.fif) does not conform to MNE naming conventions. All epochs files should end with -epo.fif, -epo.fif.gz, _epo.fif or _epo.fif.gz\n",
      "  epochs = mne.read_epochs(file_path, preload=True)\n"
     ]
    },
    {
     "name": "stdout",
     "output_type": "stream",
     "text": [
      "Processed sub-40_ses-2_retained-epochs.fif: (49, 25, 2000)\n",
      "Reading c:\\Users\\yaoyu\\Documents\\EE675\\preprocessed_epochs\\sub-41_ses-1_retained-epochs.fif ...\n",
      "    Found the data of interest:\n",
      "        t =       0.00 ...    3998.00 ms\n",
      "        0 CTF compensation matrices available\n",
      "Not setting metadata\n",
      "53 matching events found\n",
      "No baseline correction applied\n",
      "0 projection items activated\n"
     ]
    },
    {
     "name": "stderr",
     "output_type": "stream",
     "text": [
      "C:\\Users\\yaoyu\\AppData\\Local\\Temp\\ipykernel_24788\\3533774731.py:36: RuntimeWarning: This filename (preprocessed_epochs\\sub-41_ses-1_retained-epochs.fif) does not conform to MNE naming conventions. All epochs files should end with -epo.fif, -epo.fif.gz, _epo.fif or _epo.fif.gz\n",
      "  epochs = mne.read_epochs(file_path, preload=True)\n"
     ]
    },
    {
     "name": "stdout",
     "output_type": "stream",
     "text": [
      "Processed sub-41_ses-1_retained-epochs.fif: (53, 25, 2000)\n",
      "Reading c:\\Users\\yaoyu\\Documents\\EE675\\preprocessed_epochs\\sub-41_ses-2_retained-epochs.fif ...\n",
      "    Found the data of interest:\n",
      "        t =       0.00 ...    3998.00 ms\n",
      "        0 CTF compensation matrices available\n",
      "Not setting metadata\n",
      "62 matching events found\n",
      "No baseline correction applied\n",
      "0 projection items activated\n"
     ]
    },
    {
     "name": "stderr",
     "output_type": "stream",
     "text": [
      "C:\\Users\\yaoyu\\AppData\\Local\\Temp\\ipykernel_24788\\3533774731.py:36: RuntimeWarning: This filename (preprocessed_epochs\\sub-41_ses-2_retained-epochs.fif) does not conform to MNE naming conventions. All epochs files should end with -epo.fif, -epo.fif.gz, _epo.fif or _epo.fif.gz\n",
      "  epochs = mne.read_epochs(file_path, preload=True)\n"
     ]
    },
    {
     "name": "stdout",
     "output_type": "stream",
     "text": [
      "Processed sub-41_ses-2_retained-epochs.fif: (62, 25, 2000)\n",
      "Reading c:\\Users\\yaoyu\\Documents\\EE675\\preprocessed_epochs\\sub-42_ses-1_retained-epochs.fif ...\n",
      "    Found the data of interest:\n",
      "        t =       0.00 ...    3998.00 ms\n",
      "        0 CTF compensation matrices available\n",
      "Not setting metadata\n",
      "71 matching events found\n",
      "No baseline correction applied\n",
      "0 projection items activated\n"
     ]
    },
    {
     "name": "stderr",
     "output_type": "stream",
     "text": [
      "C:\\Users\\yaoyu\\AppData\\Local\\Temp\\ipykernel_24788\\3533774731.py:36: RuntimeWarning: This filename (preprocessed_epochs\\sub-42_ses-1_retained-epochs.fif) does not conform to MNE naming conventions. All epochs files should end with -epo.fif, -epo.fif.gz, _epo.fif or _epo.fif.gz\n",
      "  epochs = mne.read_epochs(file_path, preload=True)\n"
     ]
    },
    {
     "name": "stdout",
     "output_type": "stream",
     "text": [
      "Processed sub-42_ses-1_retained-epochs.fif: (71, 25, 2000)\n",
      "Reading c:\\Users\\yaoyu\\Documents\\EE675\\preprocessed_epochs\\sub-42_ses-2_retained-epochs.fif ...\n",
      "    Found the data of interest:\n",
      "        t =       0.00 ...    3998.00 ms\n",
      "        0 CTF compensation matrices available\n",
      "Not setting metadata\n",
      "72 matching events found\n",
      "No baseline correction applied\n",
      "0 projection items activated\n"
     ]
    },
    {
     "name": "stderr",
     "output_type": "stream",
     "text": [
      "C:\\Users\\yaoyu\\AppData\\Local\\Temp\\ipykernel_24788\\3533774731.py:36: RuntimeWarning: This filename (preprocessed_epochs\\sub-42_ses-2_retained-epochs.fif) does not conform to MNE naming conventions. All epochs files should end with -epo.fif, -epo.fif.gz, _epo.fif or _epo.fif.gz\n",
      "  epochs = mne.read_epochs(file_path, preload=True)\n"
     ]
    },
    {
     "name": "stdout",
     "output_type": "stream",
     "text": [
      "Processed sub-42_ses-2_retained-epochs.fif: (72, 25, 2000)\n",
      "Reading c:\\Users\\yaoyu\\Documents\\EE675\\preprocessed_epochs\\sub-43_ses-1_retained-epochs.fif ...\n",
      "    Found the data of interest:\n",
      "        t =       0.00 ...    3998.00 ms\n",
      "        0 CTF compensation matrices available\n",
      "Not setting metadata\n",
      "65 matching events found\n",
      "No baseline correction applied\n",
      "0 projection items activated\n"
     ]
    },
    {
     "name": "stderr",
     "output_type": "stream",
     "text": [
      "C:\\Users\\yaoyu\\AppData\\Local\\Temp\\ipykernel_24788\\3533774731.py:36: RuntimeWarning: This filename (preprocessed_epochs\\sub-43_ses-1_retained-epochs.fif) does not conform to MNE naming conventions. All epochs files should end with -epo.fif, -epo.fif.gz, _epo.fif or _epo.fif.gz\n",
      "  epochs = mne.read_epochs(file_path, preload=True)\n"
     ]
    },
    {
     "name": "stdout",
     "output_type": "stream",
     "text": [
      "Processed sub-43_ses-1_retained-epochs.fif: (65, 25, 2000)\n",
      "Reading c:\\Users\\yaoyu\\Documents\\EE675\\preprocessed_epochs\\sub-43_ses-2_retained-epochs.fif ...\n",
      "    Found the data of interest:\n",
      "        t =       0.00 ...    3998.00 ms\n",
      "        0 CTF compensation matrices available\n",
      "Not setting metadata\n",
      "49 matching events found\n",
      "No baseline correction applied\n",
      "0 projection items activated\n"
     ]
    },
    {
     "name": "stderr",
     "output_type": "stream",
     "text": [
      "C:\\Users\\yaoyu\\AppData\\Local\\Temp\\ipykernel_24788\\3533774731.py:36: RuntimeWarning: This filename (preprocessed_epochs\\sub-43_ses-2_retained-epochs.fif) does not conform to MNE naming conventions. All epochs files should end with -epo.fif, -epo.fif.gz, _epo.fif or _epo.fif.gz\n",
      "  epochs = mne.read_epochs(file_path, preload=True)\n"
     ]
    },
    {
     "name": "stdout",
     "output_type": "stream",
     "text": [
      "Processed sub-43_ses-2_retained-epochs.fif: (49, 25, 2000)\n",
      "Reading c:\\Users\\yaoyu\\Documents\\EE675\\preprocessed_epochs\\sub-44_ses-1_retained-epochs.fif ...\n",
      "    Found the data of interest:\n",
      "        t =       0.00 ...    3998.00 ms\n",
      "        0 CTF compensation matrices available\n",
      "Not setting metadata\n",
      "65 matching events found\n",
      "No baseline correction applied\n",
      "0 projection items activated\n"
     ]
    },
    {
     "name": "stderr",
     "output_type": "stream",
     "text": [
      "C:\\Users\\yaoyu\\AppData\\Local\\Temp\\ipykernel_24788\\3533774731.py:36: RuntimeWarning: This filename (preprocessed_epochs\\sub-44_ses-1_retained-epochs.fif) does not conform to MNE naming conventions. All epochs files should end with -epo.fif, -epo.fif.gz, _epo.fif or _epo.fif.gz\n",
      "  epochs = mne.read_epochs(file_path, preload=True)\n"
     ]
    },
    {
     "name": "stdout",
     "output_type": "stream",
     "text": [
      "Processed sub-44_ses-1_retained-epochs.fif: (65, 25, 2000)\n",
      "Reading c:\\Users\\yaoyu\\Documents\\EE675\\preprocessed_epochs\\sub-45_ses-1_retained-epochs.fif ...\n",
      "    Found the data of interest:\n",
      "        t =       0.00 ...    3998.00 ms\n",
      "        0 CTF compensation matrices available\n",
      "Not setting metadata\n",
      "70 matching events found\n",
      "No baseline correction applied\n",
      "0 projection items activated\n"
     ]
    },
    {
     "name": "stderr",
     "output_type": "stream",
     "text": [
      "C:\\Users\\yaoyu\\AppData\\Local\\Temp\\ipykernel_24788\\3533774731.py:36: RuntimeWarning: This filename (preprocessed_epochs\\sub-45_ses-1_retained-epochs.fif) does not conform to MNE naming conventions. All epochs files should end with -epo.fif, -epo.fif.gz, _epo.fif or _epo.fif.gz\n",
      "  epochs = mne.read_epochs(file_path, preload=True)\n"
     ]
    },
    {
     "name": "stdout",
     "output_type": "stream",
     "text": [
      "Processed sub-45_ses-1_retained-epochs.fif: (70, 25, 2000)\n",
      "Reading c:\\Users\\yaoyu\\Documents\\EE675\\preprocessed_epochs\\sub-45_ses-2_retained-epochs.fif ...\n",
      "    Found the data of interest:\n",
      "        t =       0.00 ...    3998.00 ms\n",
      "        0 CTF compensation matrices available\n",
      "Not setting metadata\n",
      "28 matching events found\n",
      "No baseline correction applied\n",
      "0 projection items activated\n"
     ]
    },
    {
     "name": "stderr",
     "output_type": "stream",
     "text": [
      "C:\\Users\\yaoyu\\AppData\\Local\\Temp\\ipykernel_24788\\3533774731.py:36: RuntimeWarning: This filename (preprocessed_epochs\\sub-45_ses-2_retained-epochs.fif) does not conform to MNE naming conventions. All epochs files should end with -epo.fif, -epo.fif.gz, _epo.fif or _epo.fif.gz\n",
      "  epochs = mne.read_epochs(file_path, preload=True)\n"
     ]
    },
    {
     "name": "stdout",
     "output_type": "stream",
     "text": [
      "Processed sub-45_ses-2_retained-epochs.fif: (28, 25, 2000)\n",
      "Reading c:\\Users\\yaoyu\\Documents\\EE675\\preprocessed_epochs\\sub-46_ses-1_retained-epochs.fif ...\n",
      "    Found the data of interest:\n",
      "        t =       0.00 ...    3998.00 ms\n",
      "        0 CTF compensation matrices available\n",
      "Not setting metadata\n",
      "66 matching events found\n",
      "No baseline correction applied\n",
      "0 projection items activated\n"
     ]
    },
    {
     "name": "stderr",
     "output_type": "stream",
     "text": [
      "C:\\Users\\yaoyu\\AppData\\Local\\Temp\\ipykernel_24788\\3533774731.py:36: RuntimeWarning: This filename (preprocessed_epochs\\sub-46_ses-1_retained-epochs.fif) does not conform to MNE naming conventions. All epochs files should end with -epo.fif, -epo.fif.gz, _epo.fif or _epo.fif.gz\n",
      "  epochs = mne.read_epochs(file_path, preload=True)\n"
     ]
    },
    {
     "name": "stdout",
     "output_type": "stream",
     "text": [
      "Processed sub-46_ses-1_retained-epochs.fif: (66, 25, 2000)\n",
      "Reading c:\\Users\\yaoyu\\Documents\\EE675\\preprocessed_epochs\\sub-46_ses-2_retained-epochs.fif ...\n",
      "    Found the data of interest:\n",
      "        t =       0.00 ...    3998.00 ms\n",
      "        0 CTF compensation matrices available\n",
      "Not setting metadata\n",
      "59 matching events found\n",
      "No baseline correction applied\n",
      "0 projection items activated\n"
     ]
    },
    {
     "name": "stderr",
     "output_type": "stream",
     "text": [
      "C:\\Users\\yaoyu\\AppData\\Local\\Temp\\ipykernel_24788\\3533774731.py:36: RuntimeWarning: This filename (preprocessed_epochs\\sub-46_ses-2_retained-epochs.fif) does not conform to MNE naming conventions. All epochs files should end with -epo.fif, -epo.fif.gz, _epo.fif or _epo.fif.gz\n",
      "  epochs = mne.read_epochs(file_path, preload=True)\n"
     ]
    },
    {
     "name": "stdout",
     "output_type": "stream",
     "text": [
      "Processed sub-46_ses-2_retained-epochs.fif: (59, 25, 2000)\n",
      "Reading c:\\Users\\yaoyu\\Documents\\EE675\\preprocessed_epochs\\sub-47_ses-2_retained-epochs.fif ...\n",
      "    Found the data of interest:\n",
      "        t =       0.00 ...    3998.00 ms\n",
      "        0 CTF compensation matrices available\n",
      "Not setting metadata\n",
      "52 matching events found\n",
      "No baseline correction applied\n",
      "0 projection items activated\n"
     ]
    },
    {
     "name": "stderr",
     "output_type": "stream",
     "text": [
      "C:\\Users\\yaoyu\\AppData\\Local\\Temp\\ipykernel_24788\\3533774731.py:36: RuntimeWarning: This filename (preprocessed_epochs\\sub-47_ses-2_retained-epochs.fif) does not conform to MNE naming conventions. All epochs files should end with -epo.fif, -epo.fif.gz, _epo.fif or _epo.fif.gz\n",
      "  epochs = mne.read_epochs(file_path, preload=True)\n"
     ]
    },
    {
     "name": "stdout",
     "output_type": "stream",
     "text": [
      "Processed sub-47_ses-2_retained-epochs.fif: (52, 25, 2000)\n",
      "Reading c:\\Users\\yaoyu\\Documents\\EE675\\preprocessed_epochs\\sub-48_ses-1_retained-epochs.fif ...\n",
      "    Found the data of interest:\n",
      "        t =       0.00 ...    3998.00 ms\n",
      "        0 CTF compensation matrices available\n",
      "Not setting metadata\n",
      "40 matching events found\n",
      "No baseline correction applied\n",
      "0 projection items activated\n"
     ]
    },
    {
     "name": "stderr",
     "output_type": "stream",
     "text": [
      "C:\\Users\\yaoyu\\AppData\\Local\\Temp\\ipykernel_24788\\3533774731.py:36: RuntimeWarning: This filename (preprocessed_epochs\\sub-48_ses-1_retained-epochs.fif) does not conform to MNE naming conventions. All epochs files should end with -epo.fif, -epo.fif.gz, _epo.fif or _epo.fif.gz\n",
      "  epochs = mne.read_epochs(file_path, preload=True)\n"
     ]
    },
    {
     "name": "stdout",
     "output_type": "stream",
     "text": [
      "Processed sub-48_ses-1_retained-epochs.fif: (40, 25, 2000)\n",
      "Reading c:\\Users\\yaoyu\\Documents\\EE675\\preprocessed_epochs\\sub-48_ses-2_retained-epochs.fif ...\n",
      "    Found the data of interest:\n",
      "        t =       0.00 ...    3998.00 ms\n",
      "        0 CTF compensation matrices available\n",
      "Not setting metadata\n",
      "36 matching events found\n",
      "No baseline correction applied\n",
      "0 projection items activated\n"
     ]
    },
    {
     "name": "stderr",
     "output_type": "stream",
     "text": [
      "C:\\Users\\yaoyu\\AppData\\Local\\Temp\\ipykernel_24788\\3533774731.py:36: RuntimeWarning: This filename (preprocessed_epochs\\sub-48_ses-2_retained-epochs.fif) does not conform to MNE naming conventions. All epochs files should end with -epo.fif, -epo.fif.gz, _epo.fif or _epo.fif.gz\n",
      "  epochs = mne.read_epochs(file_path, preload=True)\n"
     ]
    },
    {
     "name": "stdout",
     "output_type": "stream",
     "text": [
      "Processed sub-48_ses-2_retained-epochs.fif: (36, 25, 2000)\n",
      "Reading c:\\Users\\yaoyu\\Documents\\EE675\\preprocessed_epochs\\sub-49_ses-1_retained-epochs.fif ...\n",
      "    Found the data of interest:\n",
      "        t =       0.00 ...    3998.00 ms\n",
      "        0 CTF compensation matrices available\n",
      "Not setting metadata\n",
      "73 matching events found\n",
      "No baseline correction applied\n",
      "0 projection items activated\n"
     ]
    },
    {
     "name": "stderr",
     "output_type": "stream",
     "text": [
      "C:\\Users\\yaoyu\\AppData\\Local\\Temp\\ipykernel_24788\\3533774731.py:36: RuntimeWarning: This filename (preprocessed_epochs\\sub-49_ses-1_retained-epochs.fif) does not conform to MNE naming conventions. All epochs files should end with -epo.fif, -epo.fif.gz, _epo.fif or _epo.fif.gz\n",
      "  epochs = mne.read_epochs(file_path, preload=True)\n"
     ]
    },
    {
     "name": "stdout",
     "output_type": "stream",
     "text": [
      "Processed sub-49_ses-1_retained-epochs.fif: (73, 25, 2000)\n",
      "Reading c:\\Users\\yaoyu\\Documents\\EE675\\preprocessed_epochs\\sub-49_ses-2_retained-epochs.fif ...\n",
      "    Found the data of interest:\n",
      "        t =       0.00 ...    3998.00 ms\n",
      "        0 CTF compensation matrices available\n",
      "Not setting metadata\n",
      "72 matching events found\n",
      "No baseline correction applied\n",
      "0 projection items activated\n"
     ]
    },
    {
     "name": "stderr",
     "output_type": "stream",
     "text": [
      "C:\\Users\\yaoyu\\AppData\\Local\\Temp\\ipykernel_24788\\3533774731.py:36: RuntimeWarning: This filename (preprocessed_epochs\\sub-49_ses-2_retained-epochs.fif) does not conform to MNE naming conventions. All epochs files should end with -epo.fif, -epo.fif.gz, _epo.fif or _epo.fif.gz\n",
      "  epochs = mne.read_epochs(file_path, preload=True)\n"
     ]
    },
    {
     "name": "stdout",
     "output_type": "stream",
     "text": [
      "Processed sub-49_ses-2_retained-epochs.fif: (72, 25, 2000)\n",
      "Reading c:\\Users\\yaoyu\\Documents\\EE675\\preprocessed_epochs\\sub-50_ses-1_retained-epochs.fif ...\n",
      "    Found the data of interest:\n",
      "        t =       0.00 ...    3998.00 ms\n",
      "        0 CTF compensation matrices available\n",
      "Not setting metadata\n",
      "61 matching events found\n",
      "No baseline correction applied\n",
      "0 projection items activated\n"
     ]
    },
    {
     "name": "stderr",
     "output_type": "stream",
     "text": [
      "C:\\Users\\yaoyu\\AppData\\Local\\Temp\\ipykernel_24788\\3533774731.py:36: RuntimeWarning: This filename (preprocessed_epochs\\sub-50_ses-1_retained-epochs.fif) does not conform to MNE naming conventions. All epochs files should end with -epo.fif, -epo.fif.gz, _epo.fif or _epo.fif.gz\n",
      "  epochs = mne.read_epochs(file_path, preload=True)\n"
     ]
    },
    {
     "name": "stdout",
     "output_type": "stream",
     "text": [
      "Processed sub-50_ses-1_retained-epochs.fif: (61, 25, 2000)\n",
      "Reading c:\\Users\\yaoyu\\Documents\\EE675\\preprocessed_epochs\\sub-50_ses-2_retained-epochs.fif ...\n",
      "    Found the data of interest:\n",
      "        t =       0.00 ...    3998.00 ms\n",
      "        0 CTF compensation matrices available\n",
      "Not setting metadata\n",
      "74 matching events found\n",
      "No baseline correction applied\n",
      "0 projection items activated\n"
     ]
    },
    {
     "name": "stderr",
     "output_type": "stream",
     "text": [
      "C:\\Users\\yaoyu\\AppData\\Local\\Temp\\ipykernel_24788\\3533774731.py:36: RuntimeWarning: This filename (preprocessed_epochs\\sub-50_ses-2_retained-epochs.fif) does not conform to MNE naming conventions. All epochs files should end with -epo.fif, -epo.fif.gz, _epo.fif or _epo.fif.gz\n",
      "  epochs = mne.read_epochs(file_path, preload=True)\n"
     ]
    },
    {
     "name": "stdout",
     "output_type": "stream",
     "text": [
      "Processed sub-50_ses-2_retained-epochs.fif: (74, 25, 2000)\n",
      "Reading c:\\Users\\yaoyu\\Documents\\EE675\\preprocessed_epochs\\sub-51_ses-1_retained-epochs.fif ...\n",
      "    Found the data of interest:\n",
      "        t =       0.00 ...    3998.00 ms\n",
      "        0 CTF compensation matrices available\n",
      "Not setting metadata\n",
      "72 matching events found\n",
      "No baseline correction applied\n",
      "0 projection items activated\n"
     ]
    },
    {
     "name": "stderr",
     "output_type": "stream",
     "text": [
      "C:\\Users\\yaoyu\\AppData\\Local\\Temp\\ipykernel_24788\\3533774731.py:36: RuntimeWarning: This filename (preprocessed_epochs\\sub-51_ses-1_retained-epochs.fif) does not conform to MNE naming conventions. All epochs files should end with -epo.fif, -epo.fif.gz, _epo.fif or _epo.fif.gz\n",
      "  epochs = mne.read_epochs(file_path, preload=True)\n"
     ]
    },
    {
     "name": "stdout",
     "output_type": "stream",
     "text": [
      "Processed sub-51_ses-1_retained-epochs.fif: (72, 25, 2000)\n",
      "Reading c:\\Users\\yaoyu\\Documents\\EE675\\preprocessed_epochs\\sub-51_ses-2_retained-epochs.fif ...\n",
      "    Found the data of interest:\n",
      "        t =       0.00 ...    3998.00 ms\n",
      "        0 CTF compensation matrices available\n",
      "Not setting metadata\n",
      "65 matching events found\n",
      "No baseline correction applied\n",
      "0 projection items activated\n"
     ]
    },
    {
     "name": "stderr",
     "output_type": "stream",
     "text": [
      "C:\\Users\\yaoyu\\AppData\\Local\\Temp\\ipykernel_24788\\3533774731.py:36: RuntimeWarning: This filename (preprocessed_epochs\\sub-51_ses-2_retained-epochs.fif) does not conform to MNE naming conventions. All epochs files should end with -epo.fif, -epo.fif.gz, _epo.fif or _epo.fif.gz\n",
      "  epochs = mne.read_epochs(file_path, preload=True)\n"
     ]
    },
    {
     "name": "stdout",
     "output_type": "stream",
     "text": [
      "Processed sub-51_ses-2_retained-epochs.fif: (65, 25, 2000)\n",
      "Reading c:\\Users\\yaoyu\\Documents\\EE675\\preprocessed_epochs\\sub-52_ses-1_retained-epochs.fif ...\n",
      "    Found the data of interest:\n",
      "        t =       0.00 ...    3998.00 ms\n",
      "        0 CTF compensation matrices available\n",
      "Not setting metadata\n",
      "72 matching events found\n",
      "No baseline correction applied\n",
      "0 projection items activated\n"
     ]
    },
    {
     "name": "stderr",
     "output_type": "stream",
     "text": [
      "C:\\Users\\yaoyu\\AppData\\Local\\Temp\\ipykernel_24788\\3533774731.py:36: RuntimeWarning: This filename (preprocessed_epochs\\sub-52_ses-1_retained-epochs.fif) does not conform to MNE naming conventions. All epochs files should end with -epo.fif, -epo.fif.gz, _epo.fif or _epo.fif.gz\n",
      "  epochs = mne.read_epochs(file_path, preload=True)\n"
     ]
    },
    {
     "name": "stdout",
     "output_type": "stream",
     "text": [
      "Processed sub-52_ses-1_retained-epochs.fif: (72, 25, 2000)\n",
      "Reading c:\\Users\\yaoyu\\Documents\\EE675\\preprocessed_epochs\\sub-52_ses-2_retained-epochs.fif ...\n",
      "    Found the data of interest:\n",
      "        t =       0.00 ...    3998.00 ms\n",
      "        0 CTF compensation matrices available\n",
      "Not setting metadata\n",
      "83 matching events found\n",
      "No baseline correction applied\n",
      "0 projection items activated\n"
     ]
    },
    {
     "name": "stderr",
     "output_type": "stream",
     "text": [
      "C:\\Users\\yaoyu\\AppData\\Local\\Temp\\ipykernel_24788\\3533774731.py:36: RuntimeWarning: This filename (preprocessed_epochs\\sub-52_ses-2_retained-epochs.fif) does not conform to MNE naming conventions. All epochs files should end with -epo.fif, -epo.fif.gz, _epo.fif or _epo.fif.gz\n",
      "  epochs = mne.read_epochs(file_path, preload=True)\n"
     ]
    },
    {
     "name": "stdout",
     "output_type": "stream",
     "text": [
      "Processed sub-52_ses-2_retained-epochs.fif: (83, 25, 2000)\n",
      "Reading c:\\Users\\yaoyu\\Documents\\EE675\\preprocessed_epochs\\sub-53_ses-1_retained-epochs.fif ...\n",
      "    Found the data of interest:\n",
      "        t =       0.00 ...    3998.00 ms\n",
      "        0 CTF compensation matrices available\n",
      "Not setting metadata\n",
      "71 matching events found\n",
      "No baseline correction applied\n",
      "0 projection items activated\n"
     ]
    },
    {
     "name": "stderr",
     "output_type": "stream",
     "text": [
      "C:\\Users\\yaoyu\\AppData\\Local\\Temp\\ipykernel_24788\\3533774731.py:36: RuntimeWarning: This filename (preprocessed_epochs\\sub-53_ses-1_retained-epochs.fif) does not conform to MNE naming conventions. All epochs files should end with -epo.fif, -epo.fif.gz, _epo.fif or _epo.fif.gz\n",
      "  epochs = mne.read_epochs(file_path, preload=True)\n"
     ]
    },
    {
     "name": "stdout",
     "output_type": "stream",
     "text": [
      "Processed sub-53_ses-1_retained-epochs.fif: (71, 25, 2000)\n",
      "Reading c:\\Users\\yaoyu\\Documents\\EE675\\preprocessed_epochs\\sub-53_ses-2_retained-epochs.fif ...\n",
      "    Found the data of interest:\n",
      "        t =       0.00 ...    3998.00 ms\n",
      "        0 CTF compensation matrices available\n",
      "Not setting metadata\n",
      "70 matching events found\n",
      "No baseline correction applied\n",
      "0 projection items activated\n"
     ]
    },
    {
     "name": "stderr",
     "output_type": "stream",
     "text": [
      "C:\\Users\\yaoyu\\AppData\\Local\\Temp\\ipykernel_24788\\3533774731.py:36: RuntimeWarning: This filename (preprocessed_epochs\\sub-53_ses-2_retained-epochs.fif) does not conform to MNE naming conventions. All epochs files should end with -epo.fif, -epo.fif.gz, _epo.fif or _epo.fif.gz\n",
      "  epochs = mne.read_epochs(file_path, preload=True)\n"
     ]
    },
    {
     "name": "stdout",
     "output_type": "stream",
     "text": [
      "Processed sub-53_ses-2_retained-epochs.fif: (70, 25, 2000)\n",
      "Reading c:\\Users\\yaoyu\\Documents\\EE675\\preprocessed_epochs\\sub-54_ses-1_retained-epochs.fif ...\n",
      "    Found the data of interest:\n",
      "        t =       0.00 ...    3998.00 ms\n",
      "        0 CTF compensation matrices available\n",
      "Not setting metadata\n",
      "47 matching events found\n",
      "No baseline correction applied\n",
      "0 projection items activated\n"
     ]
    },
    {
     "name": "stderr",
     "output_type": "stream",
     "text": [
      "C:\\Users\\yaoyu\\AppData\\Local\\Temp\\ipykernel_24788\\3533774731.py:36: RuntimeWarning: This filename (preprocessed_epochs\\sub-54_ses-1_retained-epochs.fif) does not conform to MNE naming conventions. All epochs files should end with -epo.fif, -epo.fif.gz, _epo.fif or _epo.fif.gz\n",
      "  epochs = mne.read_epochs(file_path, preload=True)\n"
     ]
    },
    {
     "name": "stdout",
     "output_type": "stream",
     "text": [
      "Processed sub-54_ses-1_retained-epochs.fif: (47, 25, 2000)\n",
      "Reading c:\\Users\\yaoyu\\Documents\\EE675\\preprocessed_epochs\\sub-54_ses-2_retained-epochs.fif ...\n",
      "    Found the data of interest:\n",
      "        t =       0.00 ...    3998.00 ms\n",
      "        0 CTF compensation matrices available\n",
      "Not setting metadata\n",
      "7 matching events found\n",
      "No baseline correction applied\n",
      "0 projection items activated\n",
      "Reading c:\\Users\\yaoyu\\Documents\\EE675\\preprocessed_epochs\\sub-55_ses-1_retained-epochs.fif ...\n",
      "    Found the data of interest:\n",
      "        t =       0.00 ...    3998.00 ms\n",
      "        0 CTF compensation matrices available\n",
      "Not setting metadata\n",
      "75 matching events found\n",
      "No baseline correction applied\n",
      "0 projection items activated\n"
     ]
    },
    {
     "name": "stderr",
     "output_type": "stream",
     "text": [
      "C:\\Users\\yaoyu\\AppData\\Local\\Temp\\ipykernel_24788\\3533774731.py:36: RuntimeWarning: This filename (preprocessed_epochs\\sub-54_ses-2_retained-epochs.fif) does not conform to MNE naming conventions. All epochs files should end with -epo.fif, -epo.fif.gz, _epo.fif or _epo.fif.gz\n",
      "  epochs = mne.read_epochs(file_path, preload=True)\n",
      "C:\\Users\\yaoyu\\AppData\\Local\\Temp\\ipykernel_24788\\3533774731.py:36: RuntimeWarning: This filename (preprocessed_epochs\\sub-55_ses-1_retained-epochs.fif) does not conform to MNE naming conventions. All epochs files should end with -epo.fif, -epo.fif.gz, _epo.fif or _epo.fif.gz\n",
      "  epochs = mne.read_epochs(file_path, preload=True)\n"
     ]
    },
    {
     "name": "stdout",
     "output_type": "stream",
     "text": [
      "Processed sub-55_ses-1_retained-epochs.fif: (75, 25, 2000)\n",
      "Reading c:\\Users\\yaoyu\\Documents\\EE675\\preprocessed_epochs\\sub-55_ses-2_retained-epochs.fif ...\n",
      "    Found the data of interest:\n",
      "        t =       0.00 ...    3998.00 ms\n",
      "        0 CTF compensation matrices available\n",
      "Not setting metadata\n",
      "74 matching events found\n",
      "No baseline correction applied\n",
      "0 projection items activated\n"
     ]
    },
    {
     "name": "stderr",
     "output_type": "stream",
     "text": [
      "C:\\Users\\yaoyu\\AppData\\Local\\Temp\\ipykernel_24788\\3533774731.py:36: RuntimeWarning: This filename (preprocessed_epochs\\sub-55_ses-2_retained-epochs.fif) does not conform to MNE naming conventions. All epochs files should end with -epo.fif, -epo.fif.gz, _epo.fif or _epo.fif.gz\n",
      "  epochs = mne.read_epochs(file_path, preload=True)\n"
     ]
    },
    {
     "name": "stdout",
     "output_type": "stream",
     "text": [
      "Processed sub-55_ses-2_retained-epochs.fif: (74, 25, 2000)\n",
      "Reading c:\\Users\\yaoyu\\Documents\\EE675\\preprocessed_epochs\\sub-56_ses-1_retained-epochs.fif ...\n",
      "    Found the data of interest:\n",
      "        t =       0.00 ...    3998.00 ms\n",
      "        0 CTF compensation matrices available\n",
      "Not setting metadata\n",
      "68 matching events found\n",
      "No baseline correction applied\n",
      "0 projection items activated\n"
     ]
    },
    {
     "name": "stderr",
     "output_type": "stream",
     "text": [
      "C:\\Users\\yaoyu\\AppData\\Local\\Temp\\ipykernel_24788\\3533774731.py:36: RuntimeWarning: This filename (preprocessed_epochs\\sub-56_ses-1_retained-epochs.fif) does not conform to MNE naming conventions. All epochs files should end with -epo.fif, -epo.fif.gz, _epo.fif or _epo.fif.gz\n",
      "  epochs = mne.read_epochs(file_path, preload=True)\n"
     ]
    },
    {
     "name": "stdout",
     "output_type": "stream",
     "text": [
      "Processed sub-56_ses-1_retained-epochs.fif: (68, 25, 2000)\n",
      "Reading c:\\Users\\yaoyu\\Documents\\EE675\\preprocessed_epochs\\sub-56_ses-2_retained-epochs.fif ...\n",
      "    Found the data of interest:\n",
      "        t =       0.00 ...    3998.00 ms\n",
      "        0 CTF compensation matrices available\n",
      "Not setting metadata\n",
      "56 matching events found\n",
      "No baseline correction applied\n",
      "0 projection items activated\n"
     ]
    },
    {
     "name": "stderr",
     "output_type": "stream",
     "text": [
      "C:\\Users\\yaoyu\\AppData\\Local\\Temp\\ipykernel_24788\\3533774731.py:36: RuntimeWarning: This filename (preprocessed_epochs\\sub-56_ses-2_retained-epochs.fif) does not conform to MNE naming conventions. All epochs files should end with -epo.fif, -epo.fif.gz, _epo.fif or _epo.fif.gz\n",
      "  epochs = mne.read_epochs(file_path, preload=True)\n"
     ]
    },
    {
     "name": "stdout",
     "output_type": "stream",
     "text": [
      "Processed sub-56_ses-2_retained-epochs.fif: (56, 25, 2000)\n",
      "Reading c:\\Users\\yaoyu\\Documents\\EE675\\preprocessed_epochs\\sub-57_ses-1_retained-epochs.fif ...\n",
      "    Found the data of interest:\n",
      "        t =       0.00 ...    3998.00 ms\n",
      "        0 CTF compensation matrices available\n",
      "Not setting metadata\n",
      "72 matching events found\n",
      "No baseline correction applied\n",
      "0 projection items activated\n"
     ]
    },
    {
     "name": "stderr",
     "output_type": "stream",
     "text": [
      "C:\\Users\\yaoyu\\AppData\\Local\\Temp\\ipykernel_24788\\3533774731.py:36: RuntimeWarning: This filename (preprocessed_epochs\\sub-57_ses-1_retained-epochs.fif) does not conform to MNE naming conventions. All epochs files should end with -epo.fif, -epo.fif.gz, _epo.fif or _epo.fif.gz\n",
      "  epochs = mne.read_epochs(file_path, preload=True)\n"
     ]
    },
    {
     "name": "stdout",
     "output_type": "stream",
     "text": [
      "Processed sub-57_ses-1_retained-epochs.fif: (72, 25, 2000)\n",
      "Reading c:\\Users\\yaoyu\\Documents\\EE675\\preprocessed_epochs\\sub-57_ses-2_retained-epochs.fif ...\n",
      "    Found the data of interest:\n",
      "        t =       0.00 ...    3998.00 ms\n",
      "        0 CTF compensation matrices available\n",
      "Not setting metadata\n",
      "46 matching events found\n",
      "No baseline correction applied\n",
      "0 projection items activated\n"
     ]
    },
    {
     "name": "stderr",
     "output_type": "stream",
     "text": [
      "C:\\Users\\yaoyu\\AppData\\Local\\Temp\\ipykernel_24788\\3533774731.py:36: RuntimeWarning: This filename (preprocessed_epochs\\sub-57_ses-2_retained-epochs.fif) does not conform to MNE naming conventions. All epochs files should end with -epo.fif, -epo.fif.gz, _epo.fif or _epo.fif.gz\n",
      "  epochs = mne.read_epochs(file_path, preload=True)\n"
     ]
    },
    {
     "name": "stdout",
     "output_type": "stream",
     "text": [
      "Processed sub-57_ses-2_retained-epochs.fif: (46, 25, 2000)\n",
      "Reading c:\\Users\\yaoyu\\Documents\\EE675\\preprocessed_epochs\\sub-58_ses-1_retained-epochs.fif ...\n",
      "    Found the data of interest:\n",
      "        t =       0.00 ...    3998.00 ms\n",
      "        0 CTF compensation matrices available\n",
      "Not setting metadata\n",
      "7 matching events found\n",
      "No baseline correction applied\n",
      "0 projection items activated\n",
      "Reading c:\\Users\\yaoyu\\Documents\\EE675\\preprocessed_epochs\\sub-58_ses-2_retained-epochs.fif ...\n",
      "    Found the data of interest:\n",
      "        t =       0.00 ...    3998.00 ms\n",
      "        0 CTF compensation matrices available\n",
      "Not setting metadata\n",
      "39 matching events found\n",
      "No baseline correction applied\n",
      "0 projection items activated\n"
     ]
    },
    {
     "name": "stderr",
     "output_type": "stream",
     "text": [
      "C:\\Users\\yaoyu\\AppData\\Local\\Temp\\ipykernel_24788\\3533774731.py:36: RuntimeWarning: This filename (preprocessed_epochs\\sub-58_ses-1_retained-epochs.fif) does not conform to MNE naming conventions. All epochs files should end with -epo.fif, -epo.fif.gz, _epo.fif or _epo.fif.gz\n",
      "  epochs = mne.read_epochs(file_path, preload=True)\n",
      "C:\\Users\\yaoyu\\AppData\\Local\\Temp\\ipykernel_24788\\3533774731.py:36: RuntimeWarning: This filename (preprocessed_epochs\\sub-58_ses-2_retained-epochs.fif) does not conform to MNE naming conventions. All epochs files should end with -epo.fif, -epo.fif.gz, _epo.fif or _epo.fif.gz\n",
      "  epochs = mne.read_epochs(file_path, preload=True)\n"
     ]
    },
    {
     "name": "stdout",
     "output_type": "stream",
     "text": [
      "Processed sub-58_ses-2_retained-epochs.fif: (39, 25, 2000)\n",
      "Reading c:\\Users\\yaoyu\\Documents\\EE675\\preprocessed_epochs\\sub-59_ses-1_retained-epochs.fif ...\n",
      "    Found the data of interest:\n",
      "        t =       0.00 ...    3998.00 ms\n",
      "        0 CTF compensation matrices available\n",
      "Not setting metadata\n",
      "72 matching events found\n",
      "No baseline correction applied\n",
      "0 projection items activated\n"
     ]
    },
    {
     "name": "stderr",
     "output_type": "stream",
     "text": [
      "C:\\Users\\yaoyu\\AppData\\Local\\Temp\\ipykernel_24788\\3533774731.py:36: RuntimeWarning: This filename (preprocessed_epochs\\sub-59_ses-1_retained-epochs.fif) does not conform to MNE naming conventions. All epochs files should end with -epo.fif, -epo.fif.gz, _epo.fif or _epo.fif.gz\n",
      "  epochs = mne.read_epochs(file_path, preload=True)\n"
     ]
    },
    {
     "name": "stdout",
     "output_type": "stream",
     "text": [
      "Processed sub-59_ses-1_retained-epochs.fif: (72, 25, 2000)\n",
      "Reading c:\\Users\\yaoyu\\Documents\\EE675\\preprocessed_epochs\\sub-59_ses-2_retained-epochs.fif ...\n",
      "    Found the data of interest:\n",
      "        t =       0.00 ...    3998.00 ms\n",
      "        0 CTF compensation matrices available\n",
      "Not setting metadata\n",
      "57 matching events found\n",
      "No baseline correction applied\n",
      "0 projection items activated\n"
     ]
    },
    {
     "name": "stderr",
     "output_type": "stream",
     "text": [
      "C:\\Users\\yaoyu\\AppData\\Local\\Temp\\ipykernel_24788\\3533774731.py:36: RuntimeWarning: This filename (preprocessed_epochs\\sub-59_ses-2_retained-epochs.fif) does not conform to MNE naming conventions. All epochs files should end with -epo.fif, -epo.fif.gz, _epo.fif or _epo.fif.gz\n",
      "  epochs = mne.read_epochs(file_path, preload=True)\n"
     ]
    },
    {
     "name": "stdout",
     "output_type": "stream",
     "text": [
      "Processed sub-59_ses-2_retained-epochs.fif: (57, 25, 2000)\n",
      "Reading c:\\Users\\yaoyu\\Documents\\EE675\\preprocessed_epochs\\sub-60_ses-1_retained-epochs.fif ...\n",
      "    Found the data of interest:\n",
      "        t =       0.00 ...    3998.00 ms\n",
      "        0 CTF compensation matrices available\n",
      "Not setting metadata\n",
      "19 matching events found\n",
      "No baseline correction applied\n",
      "0 projection items activated\n"
     ]
    },
    {
     "name": "stderr",
     "output_type": "stream",
     "text": [
      "C:\\Users\\yaoyu\\AppData\\Local\\Temp\\ipykernel_24788\\3533774731.py:36: RuntimeWarning: This filename (preprocessed_epochs\\sub-60_ses-1_retained-epochs.fif) does not conform to MNE naming conventions. All epochs files should end with -epo.fif, -epo.fif.gz, _epo.fif or _epo.fif.gz\n",
      "  epochs = mne.read_epochs(file_path, preload=True)\n"
     ]
    },
    {
     "name": "stdout",
     "output_type": "stream",
     "text": [
      "Processed sub-60_ses-1_retained-epochs.fif: (19, 25, 2000)\n",
      "Reading c:\\Users\\yaoyu\\Documents\\EE675\\preprocessed_epochs\\sub-60_ses-2_retained-epochs.fif ...\n",
      "    Found the data of interest:\n",
      "        t =       0.00 ...    3998.00 ms\n",
      "        0 CTF compensation matrices available\n",
      "Not setting metadata\n",
      "28 matching events found\n",
      "No baseline correction applied\n",
      "0 projection items activated\n"
     ]
    },
    {
     "name": "stderr",
     "output_type": "stream",
     "text": [
      "C:\\Users\\yaoyu\\AppData\\Local\\Temp\\ipykernel_24788\\3533774731.py:36: RuntimeWarning: This filename (preprocessed_epochs\\sub-60_ses-2_retained-epochs.fif) does not conform to MNE naming conventions. All epochs files should end with -epo.fif, -epo.fif.gz, _epo.fif or _epo.fif.gz\n",
      "  epochs = mne.read_epochs(file_path, preload=True)\n"
     ]
    },
    {
     "name": "stdout",
     "output_type": "stream",
     "text": [
      "Processed sub-60_ses-2_retained-epochs.fif: (28, 25, 2000)\n",
      "Reading c:\\Users\\yaoyu\\Documents\\EE675\\preprocessed_epochs\\sub-61_ses-1_retained-epochs.fif ...\n",
      "    Found the data of interest:\n",
      "        t =       0.00 ...    3998.00 ms\n",
      "        0 CTF compensation matrices available\n",
      "Not setting metadata\n",
      "71 matching events found\n",
      "No baseline correction applied\n",
      "0 projection items activated\n"
     ]
    },
    {
     "name": "stderr",
     "output_type": "stream",
     "text": [
      "C:\\Users\\yaoyu\\AppData\\Local\\Temp\\ipykernel_24788\\3533774731.py:36: RuntimeWarning: This filename (preprocessed_epochs\\sub-61_ses-1_retained-epochs.fif) does not conform to MNE naming conventions. All epochs files should end with -epo.fif, -epo.fif.gz, _epo.fif or _epo.fif.gz\n",
      "  epochs = mne.read_epochs(file_path, preload=True)\n"
     ]
    },
    {
     "name": "stdout",
     "output_type": "stream",
     "text": [
      "Processed sub-61_ses-1_retained-epochs.fif: (71, 25, 2000)\n",
      "Reading c:\\Users\\yaoyu\\Documents\\EE675\\preprocessed_epochs\\sub-61_ses-2_retained-epochs.fif ...\n",
      "    Found the data of interest:\n",
      "        t =       0.00 ...    3998.00 ms\n",
      "        0 CTF compensation matrices available\n",
      "Not setting metadata\n",
      "74 matching events found\n",
      "No baseline correction applied\n",
      "0 projection items activated\n"
     ]
    },
    {
     "name": "stderr",
     "output_type": "stream",
     "text": [
      "C:\\Users\\yaoyu\\AppData\\Local\\Temp\\ipykernel_24788\\3533774731.py:36: RuntimeWarning: This filename (preprocessed_epochs\\sub-61_ses-2_retained-epochs.fif) does not conform to MNE naming conventions. All epochs files should end with -epo.fif, -epo.fif.gz, _epo.fif or _epo.fif.gz\n",
      "  epochs = mne.read_epochs(file_path, preload=True)\n"
     ]
    },
    {
     "name": "stdout",
     "output_type": "stream",
     "text": [
      "Processed sub-61_ses-2_retained-epochs.fif: (74, 25, 2000)\n",
      "Reading c:\\Users\\yaoyu\\Documents\\EE675\\preprocessed_epochs\\sub-62_ses-1_retained-epochs.fif ...\n",
      "    Found the data of interest:\n",
      "        t =       0.00 ...    3998.00 ms\n",
      "        0 CTF compensation matrices available\n",
      "Not setting metadata\n",
      "52 matching events found\n",
      "No baseline correction applied\n",
      "0 projection items activated\n"
     ]
    },
    {
     "name": "stderr",
     "output_type": "stream",
     "text": [
      "C:\\Users\\yaoyu\\AppData\\Local\\Temp\\ipykernel_24788\\3533774731.py:36: RuntimeWarning: This filename (preprocessed_epochs\\sub-62_ses-1_retained-epochs.fif) does not conform to MNE naming conventions. All epochs files should end with -epo.fif, -epo.fif.gz, _epo.fif or _epo.fif.gz\n",
      "  epochs = mne.read_epochs(file_path, preload=True)\n"
     ]
    },
    {
     "name": "stdout",
     "output_type": "stream",
     "text": [
      "Processed sub-62_ses-1_retained-epochs.fif: (52, 25, 2000)\n",
      "Reading c:\\Users\\yaoyu\\Documents\\EE675\\preprocessed_epochs\\sub-62_ses-2_retained-epochs.fif ...\n",
      "    Found the data of interest:\n",
      "        t =       0.00 ...    3998.00 ms\n",
      "        0 CTF compensation matrices available\n",
      "Not setting metadata\n",
      "23 matching events found\n",
      "No baseline correction applied\n",
      "0 projection items activated\n"
     ]
    },
    {
     "name": "stderr",
     "output_type": "stream",
     "text": [
      "C:\\Users\\yaoyu\\AppData\\Local\\Temp\\ipykernel_24788\\3533774731.py:36: RuntimeWarning: This filename (preprocessed_epochs\\sub-62_ses-2_retained-epochs.fif) does not conform to MNE naming conventions. All epochs files should end with -epo.fif, -epo.fif.gz, _epo.fif or _epo.fif.gz\n",
      "  epochs = mne.read_epochs(file_path, preload=True)\n"
     ]
    },
    {
     "name": "stdout",
     "output_type": "stream",
     "text": [
      "Processed sub-62_ses-2_retained-epochs.fif: (23, 25, 2000)\n",
      "Reading c:\\Users\\yaoyu\\Documents\\EE675\\preprocessed_epochs\\sub-63_ses-1_retained-epochs.fif ...\n",
      "    Found the data of interest:\n",
      "        t =       0.00 ...    3998.00 ms\n",
      "        0 CTF compensation matrices available\n",
      "Not setting metadata\n",
      "63 matching events found\n",
      "No baseline correction applied\n",
      "0 projection items activated\n"
     ]
    },
    {
     "name": "stderr",
     "output_type": "stream",
     "text": [
      "C:\\Users\\yaoyu\\AppData\\Local\\Temp\\ipykernel_24788\\3533774731.py:36: RuntimeWarning: This filename (preprocessed_epochs\\sub-63_ses-1_retained-epochs.fif) does not conform to MNE naming conventions. All epochs files should end with -epo.fif, -epo.fif.gz, _epo.fif or _epo.fif.gz\n",
      "  epochs = mne.read_epochs(file_path, preload=True)\n"
     ]
    },
    {
     "name": "stdout",
     "output_type": "stream",
     "text": [
      "Processed sub-63_ses-1_retained-epochs.fif: (63, 25, 2000)\n",
      "Reading c:\\Users\\yaoyu\\Documents\\EE675\\preprocessed_epochs\\sub-63_ses-2_retained-epochs.fif ...\n",
      "    Found the data of interest:\n",
      "        t =       0.00 ...    3998.00 ms\n",
      "        0 CTF compensation matrices available\n",
      "Not setting metadata\n",
      "72 matching events found\n",
      "No baseline correction applied\n",
      "0 projection items activated\n"
     ]
    },
    {
     "name": "stderr",
     "output_type": "stream",
     "text": [
      "C:\\Users\\yaoyu\\AppData\\Local\\Temp\\ipykernel_24788\\3533774731.py:36: RuntimeWarning: This filename (preprocessed_epochs\\sub-63_ses-2_retained-epochs.fif) does not conform to MNE naming conventions. All epochs files should end with -epo.fif, -epo.fif.gz, _epo.fif or _epo.fif.gz\n",
      "  epochs = mne.read_epochs(file_path, preload=True)\n"
     ]
    },
    {
     "name": "stdout",
     "output_type": "stream",
     "text": [
      "Processed sub-63_ses-2_retained-epochs.fif: (72, 25, 2000)\n",
      "Reading c:\\Users\\yaoyu\\Documents\\EE675\\preprocessed_epochs\\sub-64_ses-1_retained-epochs.fif ...\n",
      "    Found the data of interest:\n",
      "        t =       0.00 ...    3998.00 ms\n",
      "        0 CTF compensation matrices available\n",
      "Not setting metadata\n",
      "67 matching events found\n",
      "No baseline correction applied\n",
      "0 projection items activated\n"
     ]
    },
    {
     "name": "stderr",
     "output_type": "stream",
     "text": [
      "C:\\Users\\yaoyu\\AppData\\Local\\Temp\\ipykernel_24788\\3533774731.py:36: RuntimeWarning: This filename (preprocessed_epochs\\sub-64_ses-1_retained-epochs.fif) does not conform to MNE naming conventions. All epochs files should end with -epo.fif, -epo.fif.gz, _epo.fif or _epo.fif.gz\n",
      "  epochs = mne.read_epochs(file_path, preload=True)\n"
     ]
    },
    {
     "name": "stdout",
     "output_type": "stream",
     "text": [
      "Processed sub-64_ses-1_retained-epochs.fif: (67, 25, 2000)\n",
      "Reading c:\\Users\\yaoyu\\Documents\\EE675\\preprocessed_epochs\\sub-64_ses-2_retained-epochs.fif ...\n",
      "    Found the data of interest:\n",
      "        t =       0.00 ...    3998.00 ms\n",
      "        0 CTF compensation matrices available\n",
      "Not setting metadata\n",
      "60 matching events found\n",
      "No baseline correction applied\n",
      "0 projection items activated\n"
     ]
    },
    {
     "name": "stderr",
     "output_type": "stream",
     "text": [
      "C:\\Users\\yaoyu\\AppData\\Local\\Temp\\ipykernel_24788\\3533774731.py:36: RuntimeWarning: This filename (preprocessed_epochs\\sub-64_ses-2_retained-epochs.fif) does not conform to MNE naming conventions. All epochs files should end with -epo.fif, -epo.fif.gz, _epo.fif or _epo.fif.gz\n",
      "  epochs = mne.read_epochs(file_path, preload=True)\n"
     ]
    },
    {
     "name": "stdout",
     "output_type": "stream",
     "text": [
      "Processed sub-64_ses-2_retained-epochs.fif: (60, 25, 2000)\n",
      "Reading c:\\Users\\yaoyu\\Documents\\EE675\\preprocessed_epochs\\sub-65_ses-1_retained-epochs.fif ...\n",
      "    Found the data of interest:\n",
      "        t =       0.00 ...    3998.00 ms\n",
      "        0 CTF compensation matrices available\n",
      "Not setting metadata\n",
      "75 matching events found\n",
      "No baseline correction applied\n",
      "0 projection items activated\n"
     ]
    },
    {
     "name": "stderr",
     "output_type": "stream",
     "text": [
      "C:\\Users\\yaoyu\\AppData\\Local\\Temp\\ipykernel_24788\\3533774731.py:36: RuntimeWarning: This filename (preprocessed_epochs\\sub-65_ses-1_retained-epochs.fif) does not conform to MNE naming conventions. All epochs files should end with -epo.fif, -epo.fif.gz, _epo.fif or _epo.fif.gz\n",
      "  epochs = mne.read_epochs(file_path, preload=True)\n"
     ]
    },
    {
     "name": "stdout",
     "output_type": "stream",
     "text": [
      "Processed sub-65_ses-1_retained-epochs.fif: (75, 25, 2000)\n",
      "Reading c:\\Users\\yaoyu\\Documents\\EE675\\preprocessed_epochs\\sub-65_ses-2_retained-epochs.fif ...\n",
      "    Found the data of interest:\n",
      "        t =       0.00 ...    3998.00 ms\n",
      "        0 CTF compensation matrices available\n",
      "Not setting metadata\n",
      "59 matching events found\n",
      "No baseline correction applied\n",
      "0 projection items activated\n"
     ]
    },
    {
     "name": "stderr",
     "output_type": "stream",
     "text": [
      "C:\\Users\\yaoyu\\AppData\\Local\\Temp\\ipykernel_24788\\3533774731.py:36: RuntimeWarning: This filename (preprocessed_epochs\\sub-65_ses-2_retained-epochs.fif) does not conform to MNE naming conventions. All epochs files should end with -epo.fif, -epo.fif.gz, _epo.fif or _epo.fif.gz\n",
      "  epochs = mne.read_epochs(file_path, preload=True)\n"
     ]
    },
    {
     "name": "stdout",
     "output_type": "stream",
     "text": [
      "Processed sub-65_ses-2_retained-epochs.fif: (59, 25, 2000)\n",
      "Reading c:\\Users\\yaoyu\\Documents\\EE675\\preprocessed_epochs\\sub-66_ses-1_retained-epochs.fif ...\n",
      "    Found the data of interest:\n",
      "        t =       0.00 ...    3998.00 ms\n",
      "        0 CTF compensation matrices available\n",
      "Not setting metadata\n",
      "66 matching events found\n",
      "No baseline correction applied\n",
      "0 projection items activated\n"
     ]
    },
    {
     "name": "stderr",
     "output_type": "stream",
     "text": [
      "C:\\Users\\yaoyu\\AppData\\Local\\Temp\\ipykernel_24788\\3533774731.py:36: RuntimeWarning: This filename (preprocessed_epochs\\sub-66_ses-1_retained-epochs.fif) does not conform to MNE naming conventions. All epochs files should end with -epo.fif, -epo.fif.gz, _epo.fif or _epo.fif.gz\n",
      "  epochs = mne.read_epochs(file_path, preload=True)\n"
     ]
    },
    {
     "name": "stdout",
     "output_type": "stream",
     "text": [
      "Processed sub-66_ses-1_retained-epochs.fif: (66, 25, 2000)\n",
      "Reading c:\\Users\\yaoyu\\Documents\\EE675\\preprocessed_epochs\\sub-66_ses-2_retained-epochs.fif ...\n",
      "    Found the data of interest:\n",
      "        t =       0.00 ...    3998.00 ms\n",
      "        0 CTF compensation matrices available\n",
      "Not setting metadata\n",
      "69 matching events found\n",
      "No baseline correction applied\n",
      "0 projection items activated\n"
     ]
    },
    {
     "name": "stderr",
     "output_type": "stream",
     "text": [
      "C:\\Users\\yaoyu\\AppData\\Local\\Temp\\ipykernel_24788\\3533774731.py:36: RuntimeWarning: This filename (preprocessed_epochs\\sub-66_ses-2_retained-epochs.fif) does not conform to MNE naming conventions. All epochs files should end with -epo.fif, -epo.fif.gz, _epo.fif or _epo.fif.gz\n",
      "  epochs = mne.read_epochs(file_path, preload=True)\n"
     ]
    },
    {
     "name": "stdout",
     "output_type": "stream",
     "text": [
      "Processed sub-66_ses-2_retained-epochs.fif: (69, 25, 2000)\n",
      "Reading c:\\Users\\yaoyu\\Documents\\EE675\\preprocessed_epochs\\sub-67_ses-1_retained-epochs.fif ...\n",
      "    Found the data of interest:\n",
      "        t =       0.00 ...    3998.00 ms\n",
      "        0 CTF compensation matrices available\n",
      "Not setting metadata\n",
      "73 matching events found\n",
      "No baseline correction applied\n",
      "0 projection items activated\n"
     ]
    },
    {
     "name": "stderr",
     "output_type": "stream",
     "text": [
      "C:\\Users\\yaoyu\\AppData\\Local\\Temp\\ipykernel_24788\\3533774731.py:36: RuntimeWarning: This filename (preprocessed_epochs\\sub-67_ses-1_retained-epochs.fif) does not conform to MNE naming conventions. All epochs files should end with -epo.fif, -epo.fif.gz, _epo.fif or _epo.fif.gz\n",
      "  epochs = mne.read_epochs(file_path, preload=True)\n"
     ]
    },
    {
     "name": "stdout",
     "output_type": "stream",
     "text": [
      "Processed sub-67_ses-1_retained-epochs.fif: (73, 25, 2000)\n",
      "Reading c:\\Users\\yaoyu\\Documents\\EE675\\preprocessed_epochs\\sub-67_ses-2_retained-epochs.fif ...\n",
      "    Found the data of interest:\n",
      "        t =       0.00 ...    3998.00 ms\n",
      "        0 CTF compensation matrices available\n",
      "Not setting metadata\n",
      "72 matching events found\n",
      "No baseline correction applied\n",
      "0 projection items activated\n"
     ]
    },
    {
     "name": "stderr",
     "output_type": "stream",
     "text": [
      "C:\\Users\\yaoyu\\AppData\\Local\\Temp\\ipykernel_24788\\3533774731.py:36: RuntimeWarning: This filename (preprocessed_epochs\\sub-67_ses-2_retained-epochs.fif) does not conform to MNE naming conventions. All epochs files should end with -epo.fif, -epo.fif.gz, _epo.fif or _epo.fif.gz\n",
      "  epochs = mne.read_epochs(file_path, preload=True)\n"
     ]
    },
    {
     "name": "stdout",
     "output_type": "stream",
     "text": [
      "Processed sub-67_ses-2_retained-epochs.fif: (72, 25, 2000)\n",
      "Reading c:\\Users\\yaoyu\\Documents\\EE675\\preprocessed_epochs\\sub-68_ses-1_retained-epochs.fif ...\n",
      "    Found the data of interest:\n",
      "        t =       0.00 ...    3998.00 ms\n",
      "        0 CTF compensation matrices available\n",
      "Not setting metadata\n",
      "59 matching events found\n",
      "No baseline correction applied\n",
      "0 projection items activated\n"
     ]
    },
    {
     "name": "stderr",
     "output_type": "stream",
     "text": [
      "C:\\Users\\yaoyu\\AppData\\Local\\Temp\\ipykernel_24788\\3533774731.py:36: RuntimeWarning: This filename (preprocessed_epochs\\sub-68_ses-1_retained-epochs.fif) does not conform to MNE naming conventions. All epochs files should end with -epo.fif, -epo.fif.gz, _epo.fif or _epo.fif.gz\n",
      "  epochs = mne.read_epochs(file_path, preload=True)\n"
     ]
    },
    {
     "name": "stdout",
     "output_type": "stream",
     "text": [
      "Processed sub-68_ses-1_retained-epochs.fif: (59, 25, 2000)\n",
      "Reading c:\\Users\\yaoyu\\Documents\\EE675\\preprocessed_epochs\\sub-68_ses-2_retained-epochs.fif ...\n",
      "    Found the data of interest:\n",
      "        t =       0.00 ...    3998.00 ms\n",
      "        0 CTF compensation matrices available\n",
      "Not setting metadata\n",
      "73 matching events found\n",
      "No baseline correction applied\n",
      "0 projection items activated\n"
     ]
    },
    {
     "name": "stderr",
     "output_type": "stream",
     "text": [
      "C:\\Users\\yaoyu\\AppData\\Local\\Temp\\ipykernel_24788\\3533774731.py:36: RuntimeWarning: This filename (preprocessed_epochs\\sub-68_ses-2_retained-epochs.fif) does not conform to MNE naming conventions. All epochs files should end with -epo.fif, -epo.fif.gz, _epo.fif or _epo.fif.gz\n",
      "  epochs = mne.read_epochs(file_path, preload=True)\n"
     ]
    },
    {
     "name": "stdout",
     "output_type": "stream",
     "text": [
      "Processed sub-68_ses-2_retained-epochs.fif: (73, 25, 2000)\n",
      "Reading c:\\Users\\yaoyu\\Documents\\EE675\\preprocessed_epochs\\sub-69_ses-1_retained-epochs.fif ...\n",
      "    Found the data of interest:\n",
      "        t =       0.00 ...    3998.00 ms\n",
      "        0 CTF compensation matrices available\n",
      "Not setting metadata\n",
      "74 matching events found\n",
      "No baseline correction applied\n",
      "0 projection items activated\n"
     ]
    },
    {
     "name": "stderr",
     "output_type": "stream",
     "text": [
      "C:\\Users\\yaoyu\\AppData\\Local\\Temp\\ipykernel_24788\\3533774731.py:36: RuntimeWarning: This filename (preprocessed_epochs\\sub-69_ses-1_retained-epochs.fif) does not conform to MNE naming conventions. All epochs files should end with -epo.fif, -epo.fif.gz, _epo.fif or _epo.fif.gz\n",
      "  epochs = mne.read_epochs(file_path, preload=True)\n"
     ]
    },
    {
     "name": "stdout",
     "output_type": "stream",
     "text": [
      "Processed sub-69_ses-1_retained-epochs.fif: (74, 25, 2000)\n",
      "Reading c:\\Users\\yaoyu\\Documents\\EE675\\preprocessed_epochs\\sub-69_ses-2_retained-epochs.fif ...\n",
      "    Found the data of interest:\n",
      "        t =       0.00 ...    3998.00 ms\n",
      "        0 CTF compensation matrices available\n",
      "Not setting metadata\n",
      "53 matching events found\n",
      "No baseline correction applied\n",
      "0 projection items activated\n"
     ]
    },
    {
     "name": "stderr",
     "output_type": "stream",
     "text": [
      "C:\\Users\\yaoyu\\AppData\\Local\\Temp\\ipykernel_24788\\3533774731.py:36: RuntimeWarning: This filename (preprocessed_epochs\\sub-69_ses-2_retained-epochs.fif) does not conform to MNE naming conventions. All epochs files should end with -epo.fif, -epo.fif.gz, _epo.fif or _epo.fif.gz\n",
      "  epochs = mne.read_epochs(file_path, preload=True)\n"
     ]
    },
    {
     "name": "stdout",
     "output_type": "stream",
     "text": [
      "Processed sub-69_ses-2_retained-epochs.fif: (53, 25, 2000)\n",
      "Reading c:\\Users\\yaoyu\\Documents\\EE675\\preprocessed_epochs\\sub-70_ses-1_retained-epochs.fif ...\n",
      "    Found the data of interest:\n",
      "        t =       0.00 ...    3998.00 ms\n",
      "        0 CTF compensation matrices available\n",
      "Not setting metadata\n",
      "3 matching events found\n",
      "No baseline correction applied\n",
      "0 projection items activated\n",
      "Reading c:\\Users\\yaoyu\\Documents\\EE675\\preprocessed_epochs\\sub-70_ses-2_retained-epochs.fif ...\n",
      "    Found the data of interest:\n",
      "        t =       0.00 ...    3998.00 ms\n",
      "        0 CTF compensation matrices available\n",
      "Not setting metadata\n",
      "58 matching events found\n",
      "No baseline correction applied\n",
      "0 projection items activated\n"
     ]
    },
    {
     "name": "stderr",
     "output_type": "stream",
     "text": [
      "C:\\Users\\yaoyu\\AppData\\Local\\Temp\\ipykernel_24788\\3533774731.py:36: RuntimeWarning: This filename (preprocessed_epochs\\sub-70_ses-1_retained-epochs.fif) does not conform to MNE naming conventions. All epochs files should end with -epo.fif, -epo.fif.gz, _epo.fif or _epo.fif.gz\n",
      "  epochs = mne.read_epochs(file_path, preload=True)\n",
      "C:\\Users\\yaoyu\\AppData\\Local\\Temp\\ipykernel_24788\\3533774731.py:36: RuntimeWarning: This filename (preprocessed_epochs\\sub-70_ses-2_retained-epochs.fif) does not conform to MNE naming conventions. All epochs files should end with -epo.fif, -epo.fif.gz, _epo.fif or _epo.fif.gz\n",
      "  epochs = mne.read_epochs(file_path, preload=True)\n"
     ]
    },
    {
     "name": "stdout",
     "output_type": "stream",
     "text": [
      "Processed sub-70_ses-2_retained-epochs.fif: (58, 25, 2000)\n",
      "Reading c:\\Users\\yaoyu\\Documents\\EE675\\preprocessed_epochs\\sub-71_ses-1_retained-epochs.fif ...\n",
      "    Found the data of interest:\n",
      "        t =       0.00 ...    3998.00 ms\n",
      "        0 CTF compensation matrices available\n",
      "Not setting metadata\n",
      "65 matching events found\n",
      "No baseline correction applied\n",
      "0 projection items activated\n"
     ]
    },
    {
     "name": "stderr",
     "output_type": "stream",
     "text": [
      "C:\\Users\\yaoyu\\AppData\\Local\\Temp\\ipykernel_24788\\3533774731.py:36: RuntimeWarning: This filename (preprocessed_epochs\\sub-71_ses-1_retained-epochs.fif) does not conform to MNE naming conventions. All epochs files should end with -epo.fif, -epo.fif.gz, _epo.fif or _epo.fif.gz\n",
      "  epochs = mne.read_epochs(file_path, preload=True)\n"
     ]
    },
    {
     "name": "stdout",
     "output_type": "stream",
     "text": [
      "Processed sub-71_ses-1_retained-epochs.fif: (65, 25, 2000)\n",
      "Reading c:\\Users\\yaoyu\\Documents\\EE675\\preprocessed_epochs\\sub-71_ses-2_retained-epochs.fif ...\n",
      "    Found the data of interest:\n",
      "        t =       0.00 ...    3998.00 ms\n",
      "        0 CTF compensation matrices available\n",
      "Not setting metadata\n",
      "30 matching events found\n",
      "No baseline correction applied\n",
      "0 projection items activated\n"
     ]
    },
    {
     "name": "stderr",
     "output_type": "stream",
     "text": [
      "C:\\Users\\yaoyu\\AppData\\Local\\Temp\\ipykernel_24788\\3533774731.py:36: RuntimeWarning: This filename (preprocessed_epochs\\sub-71_ses-2_retained-epochs.fif) does not conform to MNE naming conventions. All epochs files should end with -epo.fif, -epo.fif.gz, _epo.fif or _epo.fif.gz\n",
      "  epochs = mne.read_epochs(file_path, preload=True)\n"
     ]
    },
    {
     "name": "stdout",
     "output_type": "stream",
     "text": [
      "Processed sub-71_ses-2_retained-epochs.fif: (30, 25, 2000)\n",
      "Saved smoothed data to KF_smoothed_data.pkl.\n"
     ]
    }
   ],
   "source": [
    "test_sessions = []\n",
    "for patient in test_patients_ns:\n",
    "    test_sessions.append((patient, \"1\"))\n",
    "for patient in test_patients_sd:\n",
    "    test_sessions.append((patient, \"2\"))\n",
    "\n",
    "def process_epoch_em(epoch, n_components, n_iter):\n",
    "    \"\"\"\n",
    "    Apply PCA to reduce dimensionality, then use Kalman Filter with EM to estimate parameters.\n",
    "    \"\"\"\n",
    "    # Apply PCA (variance percentage?)\n",
    "    pca = PCA(n_components=n_components)\n",
    "    reduced_epoch = pca.fit_transform(epoch.T)  \n",
    "    kf = KalmanFilter(\n",
    "        transition_matrices=np.eye(n_components),  # Initial guess for transition matrix\n",
    "        observation_matrices=np.eye(n_components), \n",
    "        transition_covariance=np.eye(n_components) * 1e-4,  # Small regularization, did not converge without this \n",
    "        observation_covariance=np.eye(n_components) * 1e-4 \n",
    "    )\n",
    "\n",
    "    kf = kf.em(reduced_epoch, n_iter=n_iter)\n",
    "\n",
    "    smoothed_state_means, _ = kf.smooth(reduced_epoch)\n",
    "    return smoothed_state_means.T  \n",
    "\n",
    "smoothed_data_dict = {}\n",
    "\n",
    "for file_name in os.listdir(data_dir):\n",
    "    if not file_name.endswith(\".fif\"):\n",
    "        continue\n",
    "\n",
    "    patient_id = file_name.split(\"_\")[0].split(\"-\")[1]\n",
    "    session = file_name.split(\"_\")[1].split(\"-\")[1]\n",
    "\n",
    "    file_path = os.path.join(data_dir, file_name)\n",
    "    epochs = mne.read_epochs(file_path, preload=True)\n",
    "\n",
    "    # skip patients with less than 10 epochs, too little data, may skew results \n",
    "    if len(epochs) < 10:\n",
    "        continue\n",
    "\n",
    "    # parallel\n",
    "    smoothed_epochs = Parallel(n_jobs=14)(\n",
    "        delayed(process_epoch_em)(epoch, n_components = 25, n_iter=7) for epoch in epochs.get_data()\n",
    "    )\n",
    "\n",
    "    smoothed_data_dict[f\"{patient_id}_ses-{session}\"] = {\n",
    "        \"smoothed_data\": np.array(smoothed_epochs), \n",
    "        \"label\": 0 if session == \"1\" else 1  # 0 = NS, 1 = SD\n",
    "    }\n",
    "\n",
    "    smoothed_data = np.array(smoothed_epochs)  \n",
    "    print(f\"Processed {file_name}: {smoothed_data.shape}\")\n",
    "\n",
    "output_file = \"KF_smoothed_data.pkl\"\n",
    "with open(output_file, \"wb\") as f:\n",
    "    pickle.dump(smoothed_data_dict, f)\n",
    "\n",
    "print(f\"Saved smoothed data to {output_file}.\")"
   ]
  },
  {
   "cell_type": "code",
   "execution_count": 2,
   "metadata": {},
   "outputs": [
    {
     "name": "stdout",
     "output_type": "stream",
     "text": [
      "Saved extracted features to KF_extracted_features.pkl.\n"
     ]
    }
   ],
   "source": [
    "#EXTRACTING FEATURES\n",
    "frequency_bands = {\n",
    "    \"theta\": (4, 8),\n",
    "    \"alpha\": (8, 13),\n",
    "    \"beta\": (13, 30),\n",
    "}\n",
    "\n",
    "features_file = \"KF_smoothed_data.pkl\"\n",
    "\n",
    "with open(features_file, 'rb') as f:\n",
    "    smoothed_data_dict = pickle.load(f)\n",
    "\n",
    "patient_features_dict = {}\n",
    "sfreq = 500\n",
    "# feature extraction is similar in each one, just change a little bit based on the input to ML \n",
    "for patient_session, data in smoothed_data_dict.items():\n",
    "    smoothed_data = data[\"smoothed_data\"]  \n",
    "    label = data[\"label\"]\n",
    "    n_epochs, n_components, n_timepoints = smoothed_data.shape\n",
    "\n",
    "    band_power_features = {band: [] for band in frequency_bands}\n",
    "    temporal_features = []\n",
    "    for epoch in smoothed_data:  \n",
    "        freqs, psd = welch(epoch, sfreq, nperseg=sfreq * 2, axis=1)  \n",
    "\n",
    "        for band_name, (fmin, fmax) in frequency_bands.items():\n",
    "            band_mask = (freqs >= fmin) & (freqs <= fmax)\n",
    "            band_power = psd[:, band_mask].mean(axis=1)  \n",
    "            band_power_features[band_name].append(band_power)\n",
    "        \n",
    "        mean_features = np.mean(epoch, axis=1) \n",
    "        variance_features = np.var(epoch, axis=1)\n",
    "        temporal_features.append(np.hstack([mean_features, variance_features]))\n",
    "    for band_name in frequency_bands:\n",
    "        band_power_features[band_name] = np.array(band_power_features[band_name]) \n",
    "\n",
    "    theta_power = band_power_features[\"theta\"]\n",
    "    alpha_power = band_power_features[\"alpha\"]\n",
    "    beta_power = band_power_features[\"beta\"]\n",
    "\n",
    "    theta_alpha_ratio = theta_power / (alpha_power + 1e-10)\n",
    "    theta_beta_ratio = theta_power / (beta_power + 1e-10)\n",
    "    alpha_beta_ratio = alpha_power / (beta_power + 1e-10)\n",
    "   \n",
    "    temporal_features = np.array(temporal_features)\n",
    "    \n",
    "    all_features = np.hstack([theta_power, alpha_power, beta_power, theta_beta_ratio, alpha_beta_ratio, theta_alpha_ratio, temporal_features])\n",
    "    patient_id, session = patient_session.split(\"_\")  \n",
    "    unique_patient_id = f\"{patient_id}_{session}\"\n",
    "\n",
    "    patient_features_dict[unique_patient_id] = {\n",
    "    \"features\": all_features,\n",
    "    \"label\": label,\n",
    "    }   \n",
    "output_file = \"KF_extracted_features.pkl\"\n",
    "with open(output_file, 'wb') as f:\n",
    "    pickle.dump(patient_features_dict, f)\n",
    "\n",
    "print(f\"Saved extracted features to {output_file}.\")"
   ]
  },
  {
   "cell_type": "code",
   "execution_count": 4,
   "metadata": {},
   "outputs": [
    {
     "name": "stdout",
     "output_type": "stream",
     "text": [
      "\n",
      "Evaluating SVM with configuration: {'kernel': 'linear', 'C': 1.0, 'class_weight': 'balanced'}\n",
      "Fold 1 Epoch-Level Accuracy: 0.75\n",
      "Fold 1 Session-Level Accuracy: 1.00\n",
      "Session-Level Classification Report:\n",
      "              precision    recall  f1-score   support\n",
      "\n",
      "           0       1.00      1.00      1.00         1\n",
      "           1       1.00      1.00      1.00         1\n",
      "\n",
      "    accuracy                           1.00         2\n",
      "   macro avg       1.00      1.00      1.00         2\n",
      "weighted avg       1.00      1.00      1.00         2\n",
      "\n",
      "Fold 2 Epoch-Level Accuracy: 0.73\n",
      "Fold 2 Session-Level Accuracy: 1.00\n",
      "Session-Level Classification Report:\n",
      "              precision    recall  f1-score   support\n",
      "\n",
      "           0       1.00      1.00      1.00         1\n",
      "           1       1.00      1.00      1.00         1\n",
      "\n",
      "    accuracy                           1.00         2\n",
      "   macro avg       1.00      1.00      1.00         2\n",
      "weighted avg       1.00      1.00      1.00         2\n",
      "\n",
      "Fold 3 Epoch-Level Accuracy: 0.46\n",
      "Fold 3 Session-Level Accuracy: 0.50\n",
      "Session-Level Classification Report:\n",
      "              precision    recall  f1-score   support\n",
      "\n",
      "           0       0.50      1.00      0.67         1\n",
      "           1       0.00      0.00      0.00         1\n",
      "\n",
      "    accuracy                           0.50         2\n",
      "   macro avg       0.25      0.50      0.33         2\n",
      "weighted avg       0.25      0.50      0.33         2\n",
      "\n"
     ]
    },
    {
     "name": "stderr",
     "output_type": "stream",
     "text": [
      "c:\\Users\\yaoyu\\miniconda3\\Lib\\site-packages\\sklearn\\metrics\\_classification.py:1517: UndefinedMetricWarning: Precision is ill-defined and being set to 0.0 in labels with no predicted samples. Use `zero_division` parameter to control this behavior.\n",
      "  _warn_prf(average, modifier, f\"{metric.capitalize()} is\", len(result))\n",
      "c:\\Users\\yaoyu\\miniconda3\\Lib\\site-packages\\sklearn\\metrics\\_classification.py:1517: UndefinedMetricWarning: Precision is ill-defined and being set to 0.0 in labels with no predicted samples. Use `zero_division` parameter to control this behavior.\n",
      "  _warn_prf(average, modifier, f\"{metric.capitalize()} is\", len(result))\n",
      "c:\\Users\\yaoyu\\miniconda3\\Lib\\site-packages\\sklearn\\metrics\\_classification.py:1517: UndefinedMetricWarning: Precision is ill-defined and being set to 0.0 in labels with no predicted samples. Use `zero_division` parameter to control this behavior.\n",
      "  _warn_prf(average, modifier, f\"{metric.capitalize()} is\", len(result))\n"
     ]
    },
    {
     "name": "stdout",
     "output_type": "stream",
     "text": [
      "Fold 4 Epoch-Level Accuracy: 0.81\n",
      "Fold 4 Session-Level Accuracy: 1.00\n",
      "Session-Level Classification Report:\n",
      "              precision    recall  f1-score   support\n",
      "\n",
      "           0       1.00      1.00      1.00         1\n",
      "           1       1.00      1.00      1.00         1\n",
      "\n",
      "    accuracy                           1.00         2\n",
      "   macro avg       1.00      1.00      1.00         2\n",
      "weighted avg       1.00      1.00      1.00         2\n",
      "\n",
      "Fold 5 Epoch-Level Accuracy: 0.97\n",
      "Fold 5 Session-Level Accuracy: 1.00\n",
      "Session-Level Classification Report:\n",
      "              precision    recall  f1-score   support\n",
      "\n",
      "           0       1.00      1.00      1.00         1\n",
      "           1       1.00      1.00      1.00         1\n",
      "\n",
      "    accuracy                           1.00         2\n",
      "   macro avg       1.00      1.00      1.00         2\n",
      "weighted avg       1.00      1.00      1.00         2\n",
      "\n",
      "Fold 6 Epoch-Level Accuracy: 0.89\n",
      "Fold 6 Session-Level Accuracy: 1.00\n",
      "Session-Level Classification Report:\n",
      "              precision    recall  f1-score   support\n",
      "\n",
      "           0       1.00      1.00      1.00         1\n",
      "           1       1.00      1.00      1.00         1\n",
      "\n",
      "    accuracy                           1.00         2\n",
      "   macro avg       1.00      1.00      1.00         2\n",
      "weighted avg       1.00      1.00      1.00         2\n",
      "\n",
      "Fold 7 Epoch-Level Accuracy: 0.88\n",
      "Fold 7 Session-Level Accuracy: 1.00\n",
      "Session-Level Classification Report:\n",
      "              precision    recall  f1-score   support\n",
      "\n",
      "           0       1.00      1.00      1.00         1\n",
      "           1       1.00      1.00      1.00         1\n",
      "\n",
      "    accuracy                           1.00         2\n",
      "   macro avg       1.00      1.00      1.00         2\n",
      "weighted avg       1.00      1.00      1.00         2\n",
      "\n",
      "Fold 8 Epoch-Level Accuracy: 0.31\n",
      "Fold 8 Session-Level Accuracy: 0.50\n",
      "Session-Level Classification Report:\n",
      "              precision    recall  f1-score   support\n",
      "\n",
      "           0       0.50      1.00      0.67         1\n",
      "           1       0.00      0.00      0.00         1\n",
      "\n",
      "    accuracy                           0.50         2\n",
      "   macro avg       0.25      0.50      0.33         2\n",
      "weighted avg       0.25      0.50      0.33         2\n",
      "\n"
     ]
    },
    {
     "name": "stderr",
     "output_type": "stream",
     "text": [
      "c:\\Users\\yaoyu\\miniconda3\\Lib\\site-packages\\sklearn\\metrics\\_classification.py:1517: UndefinedMetricWarning: Precision is ill-defined and being set to 0.0 in labels with no predicted samples. Use `zero_division` parameter to control this behavior.\n",
      "  _warn_prf(average, modifier, f\"{metric.capitalize()} is\", len(result))\n",
      "c:\\Users\\yaoyu\\miniconda3\\Lib\\site-packages\\sklearn\\metrics\\_classification.py:1517: UndefinedMetricWarning: Precision is ill-defined and being set to 0.0 in labels with no predicted samples. Use `zero_division` parameter to control this behavior.\n",
      "  _warn_prf(average, modifier, f\"{metric.capitalize()} is\", len(result))\n",
      "c:\\Users\\yaoyu\\miniconda3\\Lib\\site-packages\\sklearn\\metrics\\_classification.py:1517: UndefinedMetricWarning: Precision is ill-defined and being set to 0.0 in labels with no predicted samples. Use `zero_division` parameter to control this behavior.\n",
      "  _warn_prf(average, modifier, f\"{metric.capitalize()} is\", len(result))\n"
     ]
    },
    {
     "name": "stdout",
     "output_type": "stream",
     "text": [
      "Fold 9 Epoch-Level Accuracy: 0.78\n",
      "Fold 9 Session-Level Accuracy: 1.00\n",
      "Session-Level Classification Report:\n",
      "              precision    recall  f1-score   support\n",
      "\n",
      "           0       1.00      1.00      1.00         1\n",
      "           1       1.00      1.00      1.00         1\n",
      "\n",
      "    accuracy                           1.00         2\n",
      "   macro avg       1.00      1.00      1.00         2\n",
      "weighted avg       1.00      1.00      1.00         2\n",
      "\n",
      "Fold 10 Epoch-Level Accuracy: 0.88\n",
      "Fold 10 Session-Level Accuracy: 1.00\n",
      "Session-Level Classification Report:\n",
      "              precision    recall  f1-score   support\n",
      "\n",
      "           0       1.00      1.00      1.00         1\n",
      "           1       1.00      1.00      1.00         1\n",
      "\n",
      "    accuracy                           1.00         2\n",
      "   macro avg       1.00      1.00      1.00         2\n",
      "weighted avg       1.00      1.00      1.00         2\n",
      "\n",
      "Fold 11 Epoch-Level Accuracy: 0.70\n",
      "Fold 11 Session-Level Accuracy: 0.50\n",
      "Session-Level Classification Report:\n",
      "              precision    recall  f1-score   support\n",
      "\n",
      "           0       0.50      1.00      0.67         1\n",
      "           1       0.00      0.00      0.00         1\n",
      "\n",
      "    accuracy                           0.50         2\n",
      "   macro avg       0.25      0.50      0.33         2\n",
      "weighted avg       0.25      0.50      0.33         2\n",
      "\n"
     ]
    },
    {
     "name": "stderr",
     "output_type": "stream",
     "text": [
      "c:\\Users\\yaoyu\\miniconda3\\Lib\\site-packages\\sklearn\\metrics\\_classification.py:1517: UndefinedMetricWarning: Precision is ill-defined and being set to 0.0 in labels with no predicted samples. Use `zero_division` parameter to control this behavior.\n",
      "  _warn_prf(average, modifier, f\"{metric.capitalize()} is\", len(result))\n",
      "c:\\Users\\yaoyu\\miniconda3\\Lib\\site-packages\\sklearn\\metrics\\_classification.py:1517: UndefinedMetricWarning: Precision is ill-defined and being set to 0.0 in labels with no predicted samples. Use `zero_division` parameter to control this behavior.\n",
      "  _warn_prf(average, modifier, f\"{metric.capitalize()} is\", len(result))\n",
      "c:\\Users\\yaoyu\\miniconda3\\Lib\\site-packages\\sklearn\\metrics\\_classification.py:1517: UndefinedMetricWarning: Precision is ill-defined and being set to 0.0 in labels with no predicted samples. Use `zero_division` parameter to control this behavior.\n",
      "  _warn_prf(average, modifier, f\"{metric.capitalize()} is\", len(result))\n"
     ]
    },
    {
     "name": "stdout",
     "output_type": "stream",
     "text": [
      "Fold 12 Epoch-Level Accuracy: 0.30\n",
      "Fold 12 Session-Level Accuracy: 0.00\n",
      "Session-Level Classification Report:\n",
      "              precision    recall  f1-score   support\n",
      "\n",
      "           0       0.00      0.00      0.00       1.0\n",
      "           1       0.00      0.00      0.00       1.0\n",
      "\n",
      "    accuracy                           0.00       2.0\n",
      "   macro avg       0.00      0.00      0.00       2.0\n",
      "weighted avg       0.00      0.00      0.00       2.0\n",
      "\n",
      "\n",
      "Overall Epoch-Level Accuracy: 0.71\n",
      "Total Correct Predictions (Epoch-Level): 1254/1778\n",
      "\n",
      "Overall Session-Level Accuracy: 0.79\n",
      "Total Correct Predictions (Session-Level): 19/24\n",
      "\n",
      "Evaluating SVM with configuration: {'kernel': 'rbf', 'C': 1.0, 'gamma': 'scale', 'class_weight': 'balanced'}\n",
      "Fold 1 Epoch-Level Accuracy: 0.46\n",
      "Fold 1 Session-Level Accuracy: 0.50\n",
      "Session-Level Classification Report:\n",
      "              precision    recall  f1-score   support\n",
      "\n",
      "           0       0.00      0.00      0.00         1\n",
      "           1       0.50      1.00      0.67         1\n",
      "\n",
      "    accuracy                           0.50         2\n",
      "   macro avg       0.25      0.50      0.33         2\n",
      "weighted avg       0.25      0.50      0.33         2\n",
      "\n"
     ]
    },
    {
     "name": "stderr",
     "output_type": "stream",
     "text": [
      "c:\\Users\\yaoyu\\miniconda3\\Lib\\site-packages\\sklearn\\metrics\\_classification.py:1517: UndefinedMetricWarning: Precision is ill-defined and being set to 0.0 in labels with no predicted samples. Use `zero_division` parameter to control this behavior.\n",
      "  _warn_prf(average, modifier, f\"{metric.capitalize()} is\", len(result))\n",
      "c:\\Users\\yaoyu\\miniconda3\\Lib\\site-packages\\sklearn\\metrics\\_classification.py:1517: UndefinedMetricWarning: Precision is ill-defined and being set to 0.0 in labels with no predicted samples. Use `zero_division` parameter to control this behavior.\n",
      "  _warn_prf(average, modifier, f\"{metric.capitalize()} is\", len(result))\n",
      "c:\\Users\\yaoyu\\miniconda3\\Lib\\site-packages\\sklearn\\metrics\\_classification.py:1517: UndefinedMetricWarning: Precision is ill-defined and being set to 0.0 in labels with no predicted samples. Use `zero_division` parameter to control this behavior.\n",
      "  _warn_prf(average, modifier, f\"{metric.capitalize()} is\", len(result))\n"
     ]
    },
    {
     "name": "stdout",
     "output_type": "stream",
     "text": [
      "Fold 2 Epoch-Level Accuracy: 0.57\n",
      "Fold 2 Session-Level Accuracy: 0.50\n",
      "Session-Level Classification Report:\n",
      "              precision    recall  f1-score   support\n",
      "\n",
      "           0       0.50      1.00      0.67         1\n",
      "           1       0.00      0.00      0.00         1\n",
      "\n",
      "    accuracy                           0.50         2\n",
      "   macro avg       0.25      0.50      0.33         2\n",
      "weighted avg       0.25      0.50      0.33         2\n",
      "\n"
     ]
    },
    {
     "name": "stderr",
     "output_type": "stream",
     "text": [
      "c:\\Users\\yaoyu\\miniconda3\\Lib\\site-packages\\sklearn\\metrics\\_classification.py:1517: UndefinedMetricWarning: Precision is ill-defined and being set to 0.0 in labels with no predicted samples. Use `zero_division` parameter to control this behavior.\n",
      "  _warn_prf(average, modifier, f\"{metric.capitalize()} is\", len(result))\n",
      "c:\\Users\\yaoyu\\miniconda3\\Lib\\site-packages\\sklearn\\metrics\\_classification.py:1517: UndefinedMetricWarning: Precision is ill-defined and being set to 0.0 in labels with no predicted samples. Use `zero_division` parameter to control this behavior.\n",
      "  _warn_prf(average, modifier, f\"{metric.capitalize()} is\", len(result))\n",
      "c:\\Users\\yaoyu\\miniconda3\\Lib\\site-packages\\sklearn\\metrics\\_classification.py:1517: UndefinedMetricWarning: Precision is ill-defined and being set to 0.0 in labels with no predicted samples. Use `zero_division` parameter to control this behavior.\n",
      "  _warn_prf(average, modifier, f\"{metric.capitalize()} is\", len(result))\n"
     ]
    },
    {
     "name": "stdout",
     "output_type": "stream",
     "text": [
      "Fold 3 Epoch-Level Accuracy: 0.51\n",
      "Fold 3 Session-Level Accuracy: 0.50\n",
      "Session-Level Classification Report:\n",
      "              precision    recall  f1-score   support\n",
      "\n",
      "           0       0.50      1.00      0.67         1\n",
      "           1       0.00      0.00      0.00         1\n",
      "\n",
      "    accuracy                           0.50         2\n",
      "   macro avg       0.25      0.50      0.33         2\n",
      "weighted avg       0.25      0.50      0.33         2\n",
      "\n"
     ]
    },
    {
     "name": "stderr",
     "output_type": "stream",
     "text": [
      "c:\\Users\\yaoyu\\miniconda3\\Lib\\site-packages\\sklearn\\metrics\\_classification.py:1517: UndefinedMetricWarning: Precision is ill-defined and being set to 0.0 in labels with no predicted samples. Use `zero_division` parameter to control this behavior.\n",
      "  _warn_prf(average, modifier, f\"{metric.capitalize()} is\", len(result))\n",
      "c:\\Users\\yaoyu\\miniconda3\\Lib\\site-packages\\sklearn\\metrics\\_classification.py:1517: UndefinedMetricWarning: Precision is ill-defined and being set to 0.0 in labels with no predicted samples. Use `zero_division` parameter to control this behavior.\n",
      "  _warn_prf(average, modifier, f\"{metric.capitalize()} is\", len(result))\n",
      "c:\\Users\\yaoyu\\miniconda3\\Lib\\site-packages\\sklearn\\metrics\\_classification.py:1517: UndefinedMetricWarning: Precision is ill-defined and being set to 0.0 in labels with no predicted samples. Use `zero_division` parameter to control this behavior.\n",
      "  _warn_prf(average, modifier, f\"{metric.capitalize()} is\", len(result))\n"
     ]
    },
    {
     "name": "stdout",
     "output_type": "stream",
     "text": [
      "Fold 4 Epoch-Level Accuracy: 0.74\n",
      "Fold 4 Session-Level Accuracy: 1.00\n",
      "Session-Level Classification Report:\n",
      "              precision    recall  f1-score   support\n",
      "\n",
      "           0       1.00      1.00      1.00         1\n",
      "           1       1.00      1.00      1.00         1\n",
      "\n",
      "    accuracy                           1.00         2\n",
      "   macro avg       1.00      1.00      1.00         2\n",
      "weighted avg       1.00      1.00      1.00         2\n",
      "\n",
      "Fold 5 Epoch-Level Accuracy: 0.88\n",
      "Fold 5 Session-Level Accuracy: 1.00\n",
      "Session-Level Classification Report:\n",
      "              precision    recall  f1-score   support\n",
      "\n",
      "           0       1.00      1.00      1.00         1\n",
      "           1       1.00      1.00      1.00         1\n",
      "\n",
      "    accuracy                           1.00         2\n",
      "   macro avg       1.00      1.00      1.00         2\n",
      "weighted avg       1.00      1.00      1.00         2\n",
      "\n",
      "Fold 6 Epoch-Level Accuracy: 0.88\n",
      "Fold 6 Session-Level Accuracy: 1.00\n",
      "Session-Level Classification Report:\n",
      "              precision    recall  f1-score   support\n",
      "\n",
      "           0       1.00      1.00      1.00         1\n",
      "           1       1.00      1.00      1.00         1\n",
      "\n",
      "    accuracy                           1.00         2\n",
      "   macro avg       1.00      1.00      1.00         2\n",
      "weighted avg       1.00      1.00      1.00         2\n",
      "\n",
      "Fold 7 Epoch-Level Accuracy: 0.87\n",
      "Fold 7 Session-Level Accuracy: 1.00\n",
      "Session-Level Classification Report:\n",
      "              precision    recall  f1-score   support\n",
      "\n",
      "           0       1.00      1.00      1.00         1\n",
      "           1       1.00      1.00      1.00         1\n",
      "\n",
      "    accuracy                           1.00         2\n",
      "   macro avg       1.00      1.00      1.00         2\n",
      "weighted avg       1.00      1.00      1.00         2\n",
      "\n",
      "Fold 8 Epoch-Level Accuracy: 0.40\n",
      "Fold 8 Session-Level Accuracy: 0.50\n",
      "Session-Level Classification Report:\n",
      "              precision    recall  f1-score   support\n",
      "\n",
      "           0       0.50      1.00      0.67         1\n",
      "           1       0.00      0.00      0.00         1\n",
      "\n",
      "    accuracy                           0.50         2\n",
      "   macro avg       0.25      0.50      0.33         2\n",
      "weighted avg       0.25      0.50      0.33         2\n",
      "\n"
     ]
    },
    {
     "name": "stderr",
     "output_type": "stream",
     "text": [
      "c:\\Users\\yaoyu\\miniconda3\\Lib\\site-packages\\sklearn\\metrics\\_classification.py:1517: UndefinedMetricWarning: Precision is ill-defined and being set to 0.0 in labels with no predicted samples. Use `zero_division` parameter to control this behavior.\n",
      "  _warn_prf(average, modifier, f\"{metric.capitalize()} is\", len(result))\n",
      "c:\\Users\\yaoyu\\miniconda3\\Lib\\site-packages\\sklearn\\metrics\\_classification.py:1517: UndefinedMetricWarning: Precision is ill-defined and being set to 0.0 in labels with no predicted samples. Use `zero_division` parameter to control this behavior.\n",
      "  _warn_prf(average, modifier, f\"{metric.capitalize()} is\", len(result))\n",
      "c:\\Users\\yaoyu\\miniconda3\\Lib\\site-packages\\sklearn\\metrics\\_classification.py:1517: UndefinedMetricWarning: Precision is ill-defined and being set to 0.0 in labels with no predicted samples. Use `zero_division` parameter to control this behavior.\n",
      "  _warn_prf(average, modifier, f\"{metric.capitalize()} is\", len(result))\n"
     ]
    },
    {
     "name": "stdout",
     "output_type": "stream",
     "text": [
      "Fold 9 Epoch-Level Accuracy: 0.69\n",
      "Fold 9 Session-Level Accuracy: 0.50\n",
      "Session-Level Classification Report:\n",
      "              precision    recall  f1-score   support\n",
      "\n",
      "           0       0.50      1.00      0.67         1\n",
      "           1       0.00      0.00      0.00         1\n",
      "\n",
      "    accuracy                           0.50         2\n",
      "   macro avg       0.25      0.50      0.33         2\n",
      "weighted avg       0.25      0.50      0.33         2\n",
      "\n"
     ]
    },
    {
     "name": "stderr",
     "output_type": "stream",
     "text": [
      "c:\\Users\\yaoyu\\miniconda3\\Lib\\site-packages\\sklearn\\metrics\\_classification.py:1517: UndefinedMetricWarning: Precision is ill-defined and being set to 0.0 in labels with no predicted samples. Use `zero_division` parameter to control this behavior.\n",
      "  _warn_prf(average, modifier, f\"{metric.capitalize()} is\", len(result))\n",
      "c:\\Users\\yaoyu\\miniconda3\\Lib\\site-packages\\sklearn\\metrics\\_classification.py:1517: UndefinedMetricWarning: Precision is ill-defined and being set to 0.0 in labels with no predicted samples. Use `zero_division` parameter to control this behavior.\n",
      "  _warn_prf(average, modifier, f\"{metric.capitalize()} is\", len(result))\n",
      "c:\\Users\\yaoyu\\miniconda3\\Lib\\site-packages\\sklearn\\metrics\\_classification.py:1517: UndefinedMetricWarning: Precision is ill-defined and being set to 0.0 in labels with no predicted samples. Use `zero_division` parameter to control this behavior.\n",
      "  _warn_prf(average, modifier, f\"{metric.capitalize()} is\", len(result))\n"
     ]
    },
    {
     "name": "stdout",
     "output_type": "stream",
     "text": [
      "Fold 10 Epoch-Level Accuracy: 0.81\n",
      "Fold 10 Session-Level Accuracy: 1.00\n",
      "Session-Level Classification Report:\n",
      "              precision    recall  f1-score   support\n",
      "\n",
      "           0       1.00      1.00      1.00         1\n",
      "           1       1.00      1.00      1.00         1\n",
      "\n",
      "    accuracy                           1.00         2\n",
      "   macro avg       1.00      1.00      1.00         2\n",
      "weighted avg       1.00      1.00      1.00         2\n",
      "\n",
      "Fold 11 Epoch-Level Accuracy: 0.77\n",
      "Fold 11 Session-Level Accuracy: 1.00\n",
      "Session-Level Classification Report:\n",
      "              precision    recall  f1-score   support\n",
      "\n",
      "           0       1.00      1.00      1.00         1\n",
      "           1       1.00      1.00      1.00         1\n",
      "\n",
      "    accuracy                           1.00         2\n",
      "   macro avg       1.00      1.00      1.00         2\n",
      "weighted avg       1.00      1.00      1.00         2\n",
      "\n",
      "Fold 12 Epoch-Level Accuracy: 0.21\n",
      "Fold 12 Session-Level Accuracy: 0.00\n",
      "Session-Level Classification Report:\n",
      "              precision    recall  f1-score   support\n",
      "\n",
      "           0       0.00      0.00      0.00       1.0\n",
      "           1       0.00      0.00      0.00       1.0\n",
      "\n",
      "    accuracy                           0.00       2.0\n",
      "   macro avg       0.00      0.00      0.00       2.0\n",
      "weighted avg       0.00      0.00      0.00       2.0\n",
      "\n",
      "\n",
      "Overall Epoch-Level Accuracy: 0.65\n",
      "Total Correct Predictions (Epoch-Level): 1154/1778\n",
      "\n",
      "Overall Session-Level Accuracy: 0.71\n",
      "Total Correct Predictions (Session-Level): 17/24\n",
      "\n",
      "Evaluating SVM with configuration: {'kernel': 'poly', 'C': 1.0, 'degree': 3, 'class_weight': 'balanced'}\n",
      "Fold 1 Epoch-Level Accuracy: 0.54\n",
      "Fold 1 Session-Level Accuracy: 0.50\n",
      "Session-Level Classification Report:\n",
      "              precision    recall  f1-score   support\n",
      "\n",
      "           0       0.50      1.00      0.67         1\n",
      "           1       0.00      0.00      0.00         1\n",
      "\n",
      "    accuracy                           0.50         2\n",
      "   macro avg       0.25      0.50      0.33         2\n",
      "weighted avg       0.25      0.50      0.33         2\n",
      "\n"
     ]
    },
    {
     "name": "stderr",
     "output_type": "stream",
     "text": [
      "c:\\Users\\yaoyu\\miniconda3\\Lib\\site-packages\\sklearn\\metrics\\_classification.py:1517: UndefinedMetricWarning: Precision is ill-defined and being set to 0.0 in labels with no predicted samples. Use `zero_division` parameter to control this behavior.\n",
      "  _warn_prf(average, modifier, f\"{metric.capitalize()} is\", len(result))\n",
      "c:\\Users\\yaoyu\\miniconda3\\Lib\\site-packages\\sklearn\\metrics\\_classification.py:1517: UndefinedMetricWarning: Precision is ill-defined and being set to 0.0 in labels with no predicted samples. Use `zero_division` parameter to control this behavior.\n",
      "  _warn_prf(average, modifier, f\"{metric.capitalize()} is\", len(result))\n",
      "c:\\Users\\yaoyu\\miniconda3\\Lib\\site-packages\\sklearn\\metrics\\_classification.py:1517: UndefinedMetricWarning: Precision is ill-defined and being set to 0.0 in labels with no predicted samples. Use `zero_division` parameter to control this behavior.\n",
      "  _warn_prf(average, modifier, f\"{metric.capitalize()} is\", len(result))\n"
     ]
    },
    {
     "name": "stdout",
     "output_type": "stream",
     "text": [
      "Fold 2 Epoch-Level Accuracy: 0.51\n",
      "Fold 2 Session-Level Accuracy: 0.50\n",
      "Session-Level Classification Report:\n",
      "              precision    recall  f1-score   support\n",
      "\n",
      "           0       0.50      1.00      0.67         1\n",
      "           1       0.00      0.00      0.00         1\n",
      "\n",
      "    accuracy                           0.50         2\n",
      "   macro avg       0.25      0.50      0.33         2\n",
      "weighted avg       0.25      0.50      0.33         2\n",
      "\n"
     ]
    },
    {
     "name": "stderr",
     "output_type": "stream",
     "text": [
      "c:\\Users\\yaoyu\\miniconda3\\Lib\\site-packages\\sklearn\\metrics\\_classification.py:1517: UndefinedMetricWarning: Precision is ill-defined and being set to 0.0 in labels with no predicted samples. Use `zero_division` parameter to control this behavior.\n",
      "  _warn_prf(average, modifier, f\"{metric.capitalize()} is\", len(result))\n",
      "c:\\Users\\yaoyu\\miniconda3\\Lib\\site-packages\\sklearn\\metrics\\_classification.py:1517: UndefinedMetricWarning: Precision is ill-defined and being set to 0.0 in labels with no predicted samples. Use `zero_division` parameter to control this behavior.\n",
      "  _warn_prf(average, modifier, f\"{metric.capitalize()} is\", len(result))\n",
      "c:\\Users\\yaoyu\\miniconda3\\Lib\\site-packages\\sklearn\\metrics\\_classification.py:1517: UndefinedMetricWarning: Precision is ill-defined and being set to 0.0 in labels with no predicted samples. Use `zero_division` parameter to control this behavior.\n",
      "  _warn_prf(average, modifier, f\"{metric.capitalize()} is\", len(result))\n"
     ]
    },
    {
     "name": "stdout",
     "output_type": "stream",
     "text": [
      "Fold 3 Epoch-Level Accuracy: 0.48\n",
      "Fold 3 Session-Level Accuracy: 0.50\n",
      "Session-Level Classification Report:\n",
      "              precision    recall  f1-score   support\n",
      "\n",
      "           0       0.50      1.00      0.67         1\n",
      "           1       0.00      0.00      0.00         1\n",
      "\n",
      "    accuracy                           0.50         2\n",
      "   macro avg       0.25      0.50      0.33         2\n",
      "weighted avg       0.25      0.50      0.33         2\n",
      "\n"
     ]
    },
    {
     "name": "stderr",
     "output_type": "stream",
     "text": [
      "c:\\Users\\yaoyu\\miniconda3\\Lib\\site-packages\\sklearn\\metrics\\_classification.py:1517: UndefinedMetricWarning: Precision is ill-defined and being set to 0.0 in labels with no predicted samples. Use `zero_division` parameter to control this behavior.\n",
      "  _warn_prf(average, modifier, f\"{metric.capitalize()} is\", len(result))\n",
      "c:\\Users\\yaoyu\\miniconda3\\Lib\\site-packages\\sklearn\\metrics\\_classification.py:1517: UndefinedMetricWarning: Precision is ill-defined and being set to 0.0 in labels with no predicted samples. Use `zero_division` parameter to control this behavior.\n",
      "  _warn_prf(average, modifier, f\"{metric.capitalize()} is\", len(result))\n",
      "c:\\Users\\yaoyu\\miniconda3\\Lib\\site-packages\\sklearn\\metrics\\_classification.py:1517: UndefinedMetricWarning: Precision is ill-defined and being set to 0.0 in labels with no predicted samples. Use `zero_division` parameter to control this behavior.\n",
      "  _warn_prf(average, modifier, f\"{metric.capitalize()} is\", len(result))\n"
     ]
    },
    {
     "name": "stdout",
     "output_type": "stream",
     "text": [
      "Fold 4 Epoch-Level Accuracy: 0.52\n",
      "Fold 4 Session-Level Accuracy: 0.50\n",
      "Session-Level Classification Report:\n",
      "              precision    recall  f1-score   support\n",
      "\n",
      "           0       0.50      1.00      0.67         1\n",
      "           1       0.00      0.00      0.00         1\n",
      "\n",
      "    accuracy                           0.50         2\n",
      "   macro avg       0.25      0.50      0.33         2\n",
      "weighted avg       0.25      0.50      0.33         2\n",
      "\n"
     ]
    },
    {
     "name": "stderr",
     "output_type": "stream",
     "text": [
      "c:\\Users\\yaoyu\\miniconda3\\Lib\\site-packages\\sklearn\\metrics\\_classification.py:1517: UndefinedMetricWarning: Precision is ill-defined and being set to 0.0 in labels with no predicted samples. Use `zero_division` parameter to control this behavior.\n",
      "  _warn_prf(average, modifier, f\"{metric.capitalize()} is\", len(result))\n",
      "c:\\Users\\yaoyu\\miniconda3\\Lib\\site-packages\\sklearn\\metrics\\_classification.py:1517: UndefinedMetricWarning: Precision is ill-defined and being set to 0.0 in labels with no predicted samples. Use `zero_division` parameter to control this behavior.\n",
      "  _warn_prf(average, modifier, f\"{metric.capitalize()} is\", len(result))\n",
      "c:\\Users\\yaoyu\\miniconda3\\Lib\\site-packages\\sklearn\\metrics\\_classification.py:1517: UndefinedMetricWarning: Precision is ill-defined and being set to 0.0 in labels with no predicted samples. Use `zero_division` parameter to control this behavior.\n",
      "  _warn_prf(average, modifier, f\"{metric.capitalize()} is\", len(result))\n"
     ]
    },
    {
     "name": "stdout",
     "output_type": "stream",
     "text": [
      "Fold 5 Epoch-Level Accuracy: 0.82\n",
      "Fold 5 Session-Level Accuracy: 1.00\n",
      "Session-Level Classification Report:\n",
      "              precision    recall  f1-score   support\n",
      "\n",
      "           0       1.00      1.00      1.00         1\n",
      "           1       1.00      1.00      1.00         1\n",
      "\n",
      "    accuracy                           1.00         2\n",
      "   macro avg       1.00      1.00      1.00         2\n",
      "weighted avg       1.00      1.00      1.00         2\n",
      "\n",
      "Fold 6 Epoch-Level Accuracy: 0.99\n",
      "Fold 6 Session-Level Accuracy: 1.00\n",
      "Session-Level Classification Report:\n",
      "              precision    recall  f1-score   support\n",
      "\n",
      "           0       1.00      1.00      1.00         1\n",
      "           1       1.00      1.00      1.00         1\n",
      "\n",
      "    accuracy                           1.00         2\n",
      "   macro avg       1.00      1.00      1.00         2\n",
      "weighted avg       1.00      1.00      1.00         2\n",
      "\n",
      "Fold 7 Epoch-Level Accuracy: 0.53\n",
      "Fold 7 Session-Level Accuracy: 0.50\n",
      "Session-Level Classification Report:\n",
      "              precision    recall  f1-score   support\n",
      "\n",
      "           0       0.50      1.00      0.67         1\n",
      "           1       0.00      0.00      0.00         1\n",
      "\n",
      "    accuracy                           0.50         2\n",
      "   macro avg       0.25      0.50      0.33         2\n",
      "weighted avg       0.25      0.50      0.33         2\n",
      "\n"
     ]
    },
    {
     "name": "stderr",
     "output_type": "stream",
     "text": [
      "c:\\Users\\yaoyu\\miniconda3\\Lib\\site-packages\\sklearn\\metrics\\_classification.py:1517: UndefinedMetricWarning: Precision is ill-defined and being set to 0.0 in labels with no predicted samples. Use `zero_division` parameter to control this behavior.\n",
      "  _warn_prf(average, modifier, f\"{metric.capitalize()} is\", len(result))\n",
      "c:\\Users\\yaoyu\\miniconda3\\Lib\\site-packages\\sklearn\\metrics\\_classification.py:1517: UndefinedMetricWarning: Precision is ill-defined and being set to 0.0 in labels with no predicted samples. Use `zero_division` parameter to control this behavior.\n",
      "  _warn_prf(average, modifier, f\"{metric.capitalize()} is\", len(result))\n",
      "c:\\Users\\yaoyu\\miniconda3\\Lib\\site-packages\\sklearn\\metrics\\_classification.py:1517: UndefinedMetricWarning: Precision is ill-defined and being set to 0.0 in labels with no predicted samples. Use `zero_division` parameter to control this behavior.\n",
      "  _warn_prf(average, modifier, f\"{metric.capitalize()} is\", len(result))\n"
     ]
    },
    {
     "name": "stdout",
     "output_type": "stream",
     "text": [
      "Fold 8 Epoch-Level Accuracy: 0.50\n",
      "Fold 8 Session-Level Accuracy: 0.50\n",
      "Session-Level Classification Report:\n",
      "              precision    recall  f1-score   support\n",
      "\n",
      "           0       0.50      1.00      0.67         1\n",
      "           1       0.00      0.00      0.00         1\n",
      "\n",
      "    accuracy                           0.50         2\n",
      "   macro avg       0.25      0.50      0.33         2\n",
      "weighted avg       0.25      0.50      0.33         2\n",
      "\n"
     ]
    },
    {
     "name": "stderr",
     "output_type": "stream",
     "text": [
      "c:\\Users\\yaoyu\\miniconda3\\Lib\\site-packages\\sklearn\\metrics\\_classification.py:1517: UndefinedMetricWarning: Precision is ill-defined and being set to 0.0 in labels with no predicted samples. Use `zero_division` parameter to control this behavior.\n",
      "  _warn_prf(average, modifier, f\"{metric.capitalize()} is\", len(result))\n",
      "c:\\Users\\yaoyu\\miniconda3\\Lib\\site-packages\\sklearn\\metrics\\_classification.py:1517: UndefinedMetricWarning: Precision is ill-defined and being set to 0.0 in labels with no predicted samples. Use `zero_division` parameter to control this behavior.\n",
      "  _warn_prf(average, modifier, f\"{metric.capitalize()} is\", len(result))\n",
      "c:\\Users\\yaoyu\\miniconda3\\Lib\\site-packages\\sklearn\\metrics\\_classification.py:1517: UndefinedMetricWarning: Precision is ill-defined and being set to 0.0 in labels with no predicted samples. Use `zero_division` parameter to control this behavior.\n",
      "  _warn_prf(average, modifier, f\"{metric.capitalize()} is\", len(result))\n"
     ]
    },
    {
     "name": "stdout",
     "output_type": "stream",
     "text": [
      "Fold 9 Epoch-Level Accuracy: 0.62\n",
      "Fold 9 Session-Level Accuracy: 0.50\n",
      "Session-Level Classification Report:\n",
      "              precision    recall  f1-score   support\n",
      "\n",
      "           0       0.50      1.00      0.67         1\n",
      "           1       0.00      0.00      0.00         1\n",
      "\n",
      "    accuracy                           0.50         2\n",
      "   macro avg       0.25      0.50      0.33         2\n",
      "weighted avg       0.25      0.50      0.33         2\n",
      "\n"
     ]
    },
    {
     "name": "stderr",
     "output_type": "stream",
     "text": [
      "c:\\Users\\yaoyu\\miniconda3\\Lib\\site-packages\\sklearn\\metrics\\_classification.py:1517: UndefinedMetricWarning: Precision is ill-defined and being set to 0.0 in labels with no predicted samples. Use `zero_division` parameter to control this behavior.\n",
      "  _warn_prf(average, modifier, f\"{metric.capitalize()} is\", len(result))\n",
      "c:\\Users\\yaoyu\\miniconda3\\Lib\\site-packages\\sklearn\\metrics\\_classification.py:1517: UndefinedMetricWarning: Precision is ill-defined and being set to 0.0 in labels with no predicted samples. Use `zero_division` parameter to control this behavior.\n",
      "  _warn_prf(average, modifier, f\"{metric.capitalize()} is\", len(result))\n",
      "c:\\Users\\yaoyu\\miniconda3\\Lib\\site-packages\\sklearn\\metrics\\_classification.py:1517: UndefinedMetricWarning: Precision is ill-defined and being set to 0.0 in labels with no predicted samples. Use `zero_division` parameter to control this behavior.\n",
      "  _warn_prf(average, modifier, f\"{metric.capitalize()} is\", len(result))\n"
     ]
    },
    {
     "name": "stdout",
     "output_type": "stream",
     "text": [
      "Fold 10 Epoch-Level Accuracy: 0.66\n",
      "Fold 10 Session-Level Accuracy: 1.00\n",
      "Session-Level Classification Report:\n",
      "              precision    recall  f1-score   support\n",
      "\n",
      "           0       1.00      1.00      1.00         1\n",
      "           1       1.00      1.00      1.00         1\n",
      "\n",
      "    accuracy                           1.00         2\n",
      "   macro avg       1.00      1.00      1.00         2\n",
      "weighted avg       1.00      1.00      1.00         2\n",
      "\n",
      "Fold 11 Epoch-Level Accuracy: 0.64\n",
      "Fold 11 Session-Level Accuracy: 0.50\n",
      "Session-Level Classification Report:\n",
      "              precision    recall  f1-score   support\n",
      "\n",
      "           0       0.50      1.00      0.67         1\n",
      "           1       0.00      0.00      0.00         1\n",
      "\n",
      "    accuracy                           0.50         2\n",
      "   macro avg       0.25      0.50      0.33         2\n",
      "weighted avg       0.25      0.50      0.33         2\n",
      "\n"
     ]
    },
    {
     "name": "stderr",
     "output_type": "stream",
     "text": [
      "c:\\Users\\yaoyu\\miniconda3\\Lib\\site-packages\\sklearn\\metrics\\_classification.py:1517: UndefinedMetricWarning: Precision is ill-defined and being set to 0.0 in labels with no predicted samples. Use `zero_division` parameter to control this behavior.\n",
      "  _warn_prf(average, modifier, f\"{metric.capitalize()} is\", len(result))\n",
      "c:\\Users\\yaoyu\\miniconda3\\Lib\\site-packages\\sklearn\\metrics\\_classification.py:1517: UndefinedMetricWarning: Precision is ill-defined and being set to 0.0 in labels with no predicted samples. Use `zero_division` parameter to control this behavior.\n",
      "  _warn_prf(average, modifier, f\"{metric.capitalize()} is\", len(result))\n",
      "c:\\Users\\yaoyu\\miniconda3\\Lib\\site-packages\\sklearn\\metrics\\_classification.py:1517: UndefinedMetricWarning: Precision is ill-defined and being set to 0.0 in labels with no predicted samples. Use `zero_division` parameter to control this behavior.\n",
      "  _warn_prf(average, modifier, f\"{metric.capitalize()} is\", len(result))\n"
     ]
    },
    {
     "name": "stdout",
     "output_type": "stream",
     "text": [
      "Fold 12 Epoch-Level Accuracy: 0.45\n",
      "Fold 12 Session-Level Accuracy: 0.50\n",
      "Session-Level Classification Report:\n",
      "              precision    recall  f1-score   support\n",
      "\n",
      "           0       0.50      1.00      0.67         1\n",
      "           1       0.00      0.00      0.00         1\n",
      "\n",
      "    accuracy                           0.50         2\n",
      "   macro avg       0.25      0.50      0.33         2\n",
      "weighted avg       0.25      0.50      0.33         2\n",
      "\n",
      "\n",
      "Overall Epoch-Level Accuracy: 0.60\n",
      "Total Correct Predictions (Epoch-Level): 1075/1778\n",
      "\n",
      "Overall Session-Level Accuracy: 0.62\n",
      "Total Correct Predictions (Session-Level): 15/24\n",
      "\n",
      "Evaluating SVM with configuration: {'kernel': 'sigmoid', 'C': 1.0, 'class_weight': 'balanced'}\n"
     ]
    },
    {
     "name": "stderr",
     "output_type": "stream",
     "text": [
      "c:\\Users\\yaoyu\\miniconda3\\Lib\\site-packages\\sklearn\\metrics\\_classification.py:1517: UndefinedMetricWarning: Precision is ill-defined and being set to 0.0 in labels with no predicted samples. Use `zero_division` parameter to control this behavior.\n",
      "  _warn_prf(average, modifier, f\"{metric.capitalize()} is\", len(result))\n",
      "c:\\Users\\yaoyu\\miniconda3\\Lib\\site-packages\\sklearn\\metrics\\_classification.py:1517: UndefinedMetricWarning: Precision is ill-defined and being set to 0.0 in labels with no predicted samples. Use `zero_division` parameter to control this behavior.\n",
      "  _warn_prf(average, modifier, f\"{metric.capitalize()} is\", len(result))\n",
      "c:\\Users\\yaoyu\\miniconda3\\Lib\\site-packages\\sklearn\\metrics\\_classification.py:1517: UndefinedMetricWarning: Precision is ill-defined and being set to 0.0 in labels with no predicted samples. Use `zero_division` parameter to control this behavior.\n",
      "  _warn_prf(average, modifier, f\"{metric.capitalize()} is\", len(result))\n"
     ]
    },
    {
     "name": "stdout",
     "output_type": "stream",
     "text": [
      "Fold 1 Epoch-Level Accuracy: 0.77\n",
      "Fold 1 Session-Level Accuracy: 1.00\n",
      "Session-Level Classification Report:\n",
      "              precision    recall  f1-score   support\n",
      "\n",
      "           0       1.00      1.00      1.00         1\n",
      "           1       1.00      1.00      1.00         1\n",
      "\n",
      "    accuracy                           1.00         2\n",
      "   macro avg       1.00      1.00      1.00         2\n",
      "weighted avg       1.00      1.00      1.00         2\n",
      "\n",
      "Fold 2 Epoch-Level Accuracy: 0.66\n",
      "Fold 2 Session-Level Accuracy: 0.50\n",
      "Session-Level Classification Report:\n",
      "              precision    recall  f1-score   support\n",
      "\n",
      "           0       0.50      1.00      0.67         1\n",
      "           1       0.00      0.00      0.00         1\n",
      "\n",
      "    accuracy                           0.50         2\n",
      "   macro avg       0.25      0.50      0.33         2\n",
      "weighted avg       0.25      0.50      0.33         2\n",
      "\n"
     ]
    },
    {
     "name": "stderr",
     "output_type": "stream",
     "text": [
      "c:\\Users\\yaoyu\\miniconda3\\Lib\\site-packages\\sklearn\\metrics\\_classification.py:1517: UndefinedMetricWarning: Precision is ill-defined and being set to 0.0 in labels with no predicted samples. Use `zero_division` parameter to control this behavior.\n",
      "  _warn_prf(average, modifier, f\"{metric.capitalize()} is\", len(result))\n",
      "c:\\Users\\yaoyu\\miniconda3\\Lib\\site-packages\\sklearn\\metrics\\_classification.py:1517: UndefinedMetricWarning: Precision is ill-defined and being set to 0.0 in labels with no predicted samples. Use `zero_division` parameter to control this behavior.\n",
      "  _warn_prf(average, modifier, f\"{metric.capitalize()} is\", len(result))\n",
      "c:\\Users\\yaoyu\\miniconda3\\Lib\\site-packages\\sklearn\\metrics\\_classification.py:1517: UndefinedMetricWarning: Precision is ill-defined and being set to 0.0 in labels with no predicted samples. Use `zero_division` parameter to control this behavior.\n",
      "  _warn_prf(average, modifier, f\"{metric.capitalize()} is\", len(result))\n"
     ]
    },
    {
     "name": "stdout",
     "output_type": "stream",
     "text": [
      "Fold 3 Epoch-Level Accuracy: 0.06\n",
      "Fold 3 Session-Level Accuracy: 0.00\n",
      "Session-Level Classification Report:\n",
      "              precision    recall  f1-score   support\n",
      "\n",
      "           0       0.00      0.00      0.00       1.0\n",
      "           1       0.00      0.00      0.00       1.0\n",
      "\n",
      "    accuracy                           0.00       2.0\n",
      "   macro avg       0.00      0.00      0.00       2.0\n",
      "weighted avg       0.00      0.00      0.00       2.0\n",
      "\n",
      "Fold 4 Epoch-Level Accuracy: 0.51\n",
      "Fold 4 Session-Level Accuracy: 0.50\n",
      "Session-Level Classification Report:\n",
      "              precision    recall  f1-score   support\n",
      "\n",
      "           0       0.50      1.00      0.67         1\n",
      "           1       0.00      0.00      0.00         1\n",
      "\n",
      "    accuracy                           0.50         2\n",
      "   macro avg       0.25      0.50      0.33         2\n",
      "weighted avg       0.25      0.50      0.33         2\n",
      "\n"
     ]
    },
    {
     "name": "stderr",
     "output_type": "stream",
     "text": [
      "c:\\Users\\yaoyu\\miniconda3\\Lib\\site-packages\\sklearn\\metrics\\_classification.py:1517: UndefinedMetricWarning: Precision is ill-defined and being set to 0.0 in labels with no predicted samples. Use `zero_division` parameter to control this behavior.\n",
      "  _warn_prf(average, modifier, f\"{metric.capitalize()} is\", len(result))\n",
      "c:\\Users\\yaoyu\\miniconda3\\Lib\\site-packages\\sklearn\\metrics\\_classification.py:1517: UndefinedMetricWarning: Precision is ill-defined and being set to 0.0 in labels with no predicted samples. Use `zero_division` parameter to control this behavior.\n",
      "  _warn_prf(average, modifier, f\"{metric.capitalize()} is\", len(result))\n",
      "c:\\Users\\yaoyu\\miniconda3\\Lib\\site-packages\\sklearn\\metrics\\_classification.py:1517: UndefinedMetricWarning: Precision is ill-defined and being set to 0.0 in labels with no predicted samples. Use `zero_division` parameter to control this behavior.\n",
      "  _warn_prf(average, modifier, f\"{metric.capitalize()} is\", len(result))\n"
     ]
    },
    {
     "name": "stdout",
     "output_type": "stream",
     "text": [
      "Fold 5 Epoch-Level Accuracy: 0.79\n",
      "Fold 5 Session-Level Accuracy: 1.00\n",
      "Session-Level Classification Report:\n",
      "              precision    recall  f1-score   support\n",
      "\n",
      "           0       1.00      1.00      1.00         1\n",
      "           1       1.00      1.00      1.00         1\n",
      "\n",
      "    accuracy                           1.00         2\n",
      "   macro avg       1.00      1.00      1.00         2\n",
      "weighted avg       1.00      1.00      1.00         2\n",
      "\n",
      "Fold 6 Epoch-Level Accuracy: 0.89\n",
      "Fold 6 Session-Level Accuracy: 1.00\n",
      "Session-Level Classification Report:\n",
      "              precision    recall  f1-score   support\n",
      "\n",
      "           0       1.00      1.00      1.00         1\n",
      "           1       1.00      1.00      1.00         1\n",
      "\n",
      "    accuracy                           1.00         2\n",
      "   macro avg       1.00      1.00      1.00         2\n",
      "weighted avg       1.00      1.00      1.00         2\n",
      "\n",
      "Fold 7 Epoch-Level Accuracy: 0.48\n",
      "Fold 7 Session-Level Accuracy: 0.50\n",
      "Session-Level Classification Report:\n",
      "              precision    recall  f1-score   support\n",
      "\n",
      "           0       0.00      0.00      0.00         1\n",
      "           1       0.50      1.00      0.67         1\n",
      "\n",
      "    accuracy                           0.50         2\n",
      "   macro avg       0.25      0.50      0.33         2\n",
      "weighted avg       0.25      0.50      0.33         2\n",
      "\n"
     ]
    },
    {
     "name": "stderr",
     "output_type": "stream",
     "text": [
      "c:\\Users\\yaoyu\\miniconda3\\Lib\\site-packages\\sklearn\\metrics\\_classification.py:1517: UndefinedMetricWarning: Precision is ill-defined and being set to 0.0 in labels with no predicted samples. Use `zero_division` parameter to control this behavior.\n",
      "  _warn_prf(average, modifier, f\"{metric.capitalize()} is\", len(result))\n",
      "c:\\Users\\yaoyu\\miniconda3\\Lib\\site-packages\\sklearn\\metrics\\_classification.py:1517: UndefinedMetricWarning: Precision is ill-defined and being set to 0.0 in labels with no predicted samples. Use `zero_division` parameter to control this behavior.\n",
      "  _warn_prf(average, modifier, f\"{metric.capitalize()} is\", len(result))\n",
      "c:\\Users\\yaoyu\\miniconda3\\Lib\\site-packages\\sklearn\\metrics\\_classification.py:1517: UndefinedMetricWarning: Precision is ill-defined and being set to 0.0 in labels with no predicted samples. Use `zero_division` parameter to control this behavior.\n",
      "  _warn_prf(average, modifier, f\"{metric.capitalize()} is\", len(result))\n"
     ]
    },
    {
     "name": "stdout",
     "output_type": "stream",
     "text": [
      "Fold 8 Epoch-Level Accuracy: 0.69\n",
      "Fold 8 Session-Level Accuracy: 0.50\n",
      "Session-Level Classification Report:\n",
      "              precision    recall  f1-score   support\n",
      "\n",
      "           0       0.00      0.00      0.00         1\n",
      "           1       0.50      1.00      0.67         1\n",
      "\n",
      "    accuracy                           0.50         2\n",
      "   macro avg       0.25      0.50      0.33         2\n",
      "weighted avg       0.25      0.50      0.33         2\n",
      "\n"
     ]
    },
    {
     "name": "stderr",
     "output_type": "stream",
     "text": [
      "c:\\Users\\yaoyu\\miniconda3\\Lib\\site-packages\\sklearn\\metrics\\_classification.py:1517: UndefinedMetricWarning: Precision is ill-defined and being set to 0.0 in labels with no predicted samples. Use `zero_division` parameter to control this behavior.\n",
      "  _warn_prf(average, modifier, f\"{metric.capitalize()} is\", len(result))\n",
      "c:\\Users\\yaoyu\\miniconda3\\Lib\\site-packages\\sklearn\\metrics\\_classification.py:1517: UndefinedMetricWarning: Precision is ill-defined and being set to 0.0 in labels with no predicted samples. Use `zero_division` parameter to control this behavior.\n",
      "  _warn_prf(average, modifier, f\"{metric.capitalize()} is\", len(result))\n",
      "c:\\Users\\yaoyu\\miniconda3\\Lib\\site-packages\\sklearn\\metrics\\_classification.py:1517: UndefinedMetricWarning: Precision is ill-defined and being set to 0.0 in labels with no predicted samples. Use `zero_division` parameter to control this behavior.\n",
      "  _warn_prf(average, modifier, f\"{metric.capitalize()} is\", len(result))\n"
     ]
    },
    {
     "name": "stdout",
     "output_type": "stream",
     "text": [
      "Fold 9 Epoch-Level Accuracy: 0.48\n",
      "Fold 9 Session-Level Accuracy: 0.50\n",
      "Session-Level Classification Report:\n",
      "              precision    recall  f1-score   support\n",
      "\n",
      "           0       0.00      0.00      0.00         1\n",
      "           1       0.50      1.00      0.67         1\n",
      "\n",
      "    accuracy                           0.50         2\n",
      "   macro avg       0.25      0.50      0.33         2\n",
      "weighted avg       0.25      0.50      0.33         2\n",
      "\n"
     ]
    },
    {
     "name": "stderr",
     "output_type": "stream",
     "text": [
      "c:\\Users\\yaoyu\\miniconda3\\Lib\\site-packages\\sklearn\\metrics\\_classification.py:1517: UndefinedMetricWarning: Precision is ill-defined and being set to 0.0 in labels with no predicted samples. Use `zero_division` parameter to control this behavior.\n",
      "  _warn_prf(average, modifier, f\"{metric.capitalize()} is\", len(result))\n",
      "c:\\Users\\yaoyu\\miniconda3\\Lib\\site-packages\\sklearn\\metrics\\_classification.py:1517: UndefinedMetricWarning: Precision is ill-defined and being set to 0.0 in labels with no predicted samples. Use `zero_division` parameter to control this behavior.\n",
      "  _warn_prf(average, modifier, f\"{metric.capitalize()} is\", len(result))\n",
      "c:\\Users\\yaoyu\\miniconda3\\Lib\\site-packages\\sklearn\\metrics\\_classification.py:1517: UndefinedMetricWarning: Precision is ill-defined and being set to 0.0 in labels with no predicted samples. Use `zero_division` parameter to control this behavior.\n",
      "  _warn_prf(average, modifier, f\"{metric.capitalize()} is\", len(result))\n"
     ]
    },
    {
     "name": "stdout",
     "output_type": "stream",
     "text": [
      "Fold 10 Epoch-Level Accuracy: 0.37\n",
      "Fold 10 Session-Level Accuracy: 0.50\n",
      "Session-Level Classification Report:\n",
      "              precision    recall  f1-score   support\n",
      "\n",
      "           0       0.00      0.00      0.00         1\n",
      "           1       0.50      1.00      0.67         1\n",
      "\n",
      "    accuracy                           0.50         2\n",
      "   macro avg       0.25      0.50      0.33         2\n",
      "weighted avg       0.25      0.50      0.33         2\n",
      "\n"
     ]
    },
    {
     "name": "stderr",
     "output_type": "stream",
     "text": [
      "c:\\Users\\yaoyu\\miniconda3\\Lib\\site-packages\\sklearn\\metrics\\_classification.py:1517: UndefinedMetricWarning: Precision is ill-defined and being set to 0.0 in labels with no predicted samples. Use `zero_division` parameter to control this behavior.\n",
      "  _warn_prf(average, modifier, f\"{metric.capitalize()} is\", len(result))\n",
      "c:\\Users\\yaoyu\\miniconda3\\Lib\\site-packages\\sklearn\\metrics\\_classification.py:1517: UndefinedMetricWarning: Precision is ill-defined and being set to 0.0 in labels with no predicted samples. Use `zero_division` parameter to control this behavior.\n",
      "  _warn_prf(average, modifier, f\"{metric.capitalize()} is\", len(result))\n",
      "c:\\Users\\yaoyu\\miniconda3\\Lib\\site-packages\\sklearn\\metrics\\_classification.py:1517: UndefinedMetricWarning: Precision is ill-defined and being set to 0.0 in labels with no predicted samples. Use `zero_division` parameter to control this behavior.\n",
      "  _warn_prf(average, modifier, f\"{metric.capitalize()} is\", len(result))\n"
     ]
    },
    {
     "name": "stdout",
     "output_type": "stream",
     "text": [
      "Fold 11 Epoch-Level Accuracy: 0.77\n",
      "Fold 11 Session-Level Accuracy: 1.00\n",
      "Session-Level Classification Report:\n",
      "              precision    recall  f1-score   support\n",
      "\n",
      "           0       1.00      1.00      1.00         1\n",
      "           1       1.00      1.00      1.00         1\n",
      "\n",
      "    accuracy                           1.00         2\n",
      "   macro avg       1.00      1.00      1.00         2\n",
      "weighted avg       1.00      1.00      1.00         2\n",
      "\n",
      "Fold 12 Epoch-Level Accuracy: 0.57\n",
      "Fold 12 Session-Level Accuracy: 0.50\n",
      "Session-Level Classification Report:\n",
      "              precision    recall  f1-score   support\n",
      "\n",
      "           0       0.50      1.00      0.67         1\n",
      "           1       0.00      0.00      0.00         1\n",
      "\n",
      "    accuracy                           0.50         2\n",
      "   macro avg       0.25      0.50      0.33         2\n",
      "weighted avg       0.25      0.50      0.33         2\n",
      "\n",
      "\n",
      "Overall Epoch-Level Accuracy: 0.59\n",
      "Total Correct Predictions (Epoch-Level): 1042/1778\n",
      "\n",
      "Overall Session-Level Accuracy: 0.62\n",
      "Total Correct Predictions (Session-Level): 15/24\n"
     ]
    },
    {
     "name": "stderr",
     "output_type": "stream",
     "text": [
      "c:\\Users\\yaoyu\\miniconda3\\Lib\\site-packages\\sklearn\\metrics\\_classification.py:1517: UndefinedMetricWarning: Precision is ill-defined and being set to 0.0 in labels with no predicted samples. Use `zero_division` parameter to control this behavior.\n",
      "  _warn_prf(average, modifier, f\"{metric.capitalize()} is\", len(result))\n",
      "c:\\Users\\yaoyu\\miniconda3\\Lib\\site-packages\\sklearn\\metrics\\_classification.py:1517: UndefinedMetricWarning: Precision is ill-defined and being set to 0.0 in labels with no predicted samples. Use `zero_division` parameter to control this behavior.\n",
      "  _warn_prf(average, modifier, f\"{metric.capitalize()} is\", len(result))\n",
      "c:\\Users\\yaoyu\\miniconda3\\Lib\\site-packages\\sklearn\\metrics\\_classification.py:1517: UndefinedMetricWarning: Precision is ill-defined and being set to 0.0 in labels with no predicted samples. Use `zero_division` parameter to control this behavior.\n",
      "  _warn_prf(average, modifier, f\"{metric.capitalize()} is\", len(result))\n"
     ]
    }
   ],
   "source": [
    "# TRAIN MODEL AND LEAVE 2 PATIENT OUT FOLD \n",
    "from collections import Counter\n",
    "features_file = \"KF_extracted_features.pkl\"\n",
    "\n",
    "with open(features_file, 'rb') as f:\n",
    "    patient_features_dict = pickle.load(f)\n",
    "\n",
    "pairs = list(zip(test_patients_ns, test_patients_sd))\n",
    "\n",
    "#loop through different svm configs, to see which one is the best \n",
    "svm_configs = [\n",
    "    {\"kernel\": \"linear\", \"C\": 1.0, \"class_weight\": \"balanced\"},\n",
    "    {\"kernel\": \"rbf\", \"C\": 1.0, \"gamma\": \"scale\", \"class_weight\": \"balanced\"},\n",
    "    {\"kernel\": \"poly\", \"C\": 1.0, \"degree\": 3, \"class_weight\": \"balanced\"},\n",
    "    {\"kernel\": \"sigmoid\", \"C\": 1.0, \"class_weight\": \"balanced\"}\n",
    "]\n",
    "\n",
    "results = {}\n",
    "\n",
    "for config in svm_configs:\n",
    "    print(f\"\\nEvaluating SVM with configuration: {config}\")\n",
    "    \n",
    "    total_correct_sessions = 0\n",
    "    total_correct_epochs = 0\n",
    "    total_sessions = len(test_patients_ns) + len(test_patients_sd)\n",
    "    total_epochs = 0\n",
    "    for fold, (ns_patient, sd_patient) in enumerate(pairs):\n",
    "        train_features = []\n",
    "        train_labels = []\n",
    "        test_features = []\n",
    "        test_labels = []\n",
    "        test_patient_data = []\n",
    "\n",
    "        for unique_patient_session, data in patient_features_dict.items():\n",
    "            patient_id, session = unique_patient_session.split(\"_\")\n",
    "\n",
    "            # Skip the test patients \n",
    "            if (patient_id == ns_patient and session == \"ses-1\") or (patient_id == sd_patient and session == \"ses-2\"):\n",
    "                test_features.append(data[\"features\"])  \n",
    "                num_epochs = data[\"features\"].shape[0]  \n",
    "                test_labels.extend([data[\"label\"]] * num_epochs) \n",
    "                test_patient_data.append(data)\n",
    "                continue\n",
    "            \n",
    "            train_features.append(data[\"features\"])\n",
    "            num_epochs = data[\"features\"].shape[0] \n",
    "            train_labels.extend([data[\"label\"]] * num_epochs)\n",
    "\n",
    "        X_train = np.vstack(train_features)\n",
    "        y_train = np.array(train_labels)\n",
    "\n",
    "        X_test = np.vstack(test_features)\n",
    "        y_test = np.array(test_labels)\n",
    "\n",
    "        scaler = StandardScaler()\n",
    "        X_train_scaled = scaler.fit_transform(X_train)  \n",
    "        X_test_scaled = scaler.transform(X_test)  \n",
    "    \n",
    "        pca = PCA(n_components=0.95)  # Retain 95% variance\n",
    "        X_train_reduced = pca.fit_transform(X_train_scaled)\n",
    "        X_test_reduced = pca.transform(X_test_scaled)\n",
    "\n",
    "        # train svm \n",
    "        svm = SVC(**config, random_state=42)\n",
    "        svm.fit(X_train_reduced, y_train)\n",
    "\n",
    "        # evaluate \n",
    "        y_pred = svm.predict(X_test_reduced)\n",
    "        \n",
    "        epoch_accuracy = accuracy_score(y_test, y_pred)\n",
    "        print(f\"Fold {fold + 1} Epoch-Level Accuracy: {epoch_accuracy:.2f}\")\n",
    "\n",
    "        epoch_correct = sum(y_test == y_pred) \n",
    "        fold_total_epochs = len(y_test)       \n",
    "        total_correct_epochs += epoch_correct\n",
    "        total_epochs += fold_total_epochs\n",
    "        # Majority voting for session-level prediction, predicts if each epoch is SD or NS \n",
    "        session_predictions = []\n",
    "        session_labels = []\n",
    "        start_idx = 0\n",
    "        for data in test_patient_data:\n",
    "            num_epochs = data[\"features\"].shape[0]\n",
    "            session_pred = y_pred[start_idx:start_idx + num_epochs]\n",
    "            session_label = data[\"label\"]\n",
    "            majority_label = Counter(session_pred).most_common(1)[0][0]  \n",
    "            session_predictions.append(majority_label)\n",
    "            session_labels.append(session_label)\n",
    "            start_idx += num_epochs\n",
    "\n",
    "        session_accuracy = accuracy_score(session_labels, session_predictions)\n",
    "        correct_sessions = sum(np.array(session_labels) == np.array(session_predictions))\n",
    "        fold_total_sessions = len(session_labels)\n",
    "        print(f\"Fold {fold + 1} Session-Level Accuracy: {session_accuracy:.2f}\")\n",
    "        total_correct_sessions += correct_sessions\n",
    "\n",
    "        print(\"Session-Level Classification Report:\")\n",
    "        print(classification_report(session_labels, session_predictions))\n",
    "\n",
    "    overall_epoch_accuracy = total_correct_epochs / total_epochs\n",
    "    overall_session_accuracy = total_correct_sessions / total_sessions\n",
    "\n",
    "    print(f\"\\nOverall Epoch-Level Accuracy: {overall_epoch_accuracy:.2f}\")\n",
    "    print(f\"Total Correct Predictions (Epoch-Level): {total_correct_epochs}/{total_epochs}\")\n",
    "    print(f\"\\nOverall Session-Level Accuracy: {overall_session_accuracy:.2f}\")\n",
    "    print(f\"Total Correct Predictions (Session-Level): {total_correct_sessions}/{total_sessions}\")"
   ]
  },
  {
   "cell_type": "code",
   "execution_count": 23,
   "metadata": {},
   "outputs": [
    {
     "name": "stdout",
     "output_type": "stream",
     "text": [
      "Reading c:\\Users\\yaoyu\\Documents\\EE675\\Sleep_dep_dataset\\sub-01\\ses-1\\eeg\\sub-01_ses-1_task-eyesopen_eeg.fdt\n",
      "Reading 0 ... 149999  =      0.000 ...   299.998 secs...\n",
      "Reading c:\\Users\\yaoyu\\Documents\\EE675\\Sleep_dep_dataset\\sub-01\\ses-2\\eeg\\sub-01_ses-2_task-eyesopen_eeg.fdt\n",
      "Reading 0 ... 113955  =      0.000 ...   227.910 secs...\n",
      "Reading c:\\Users\\yaoyu\\Documents\\EE675\\Sleep_dep_dataset\\sub-02\\ses-1\\eeg\\sub-02_ses-1_task-eyesopen_eeg.fdt\n",
      "Reading 0 ... 149999  =      0.000 ...   299.998 secs...\n",
      "Reading c:\\Users\\yaoyu\\Documents\\EE675\\Sleep_dep_dataset\\sub-02\\ses-2\\eeg\\sub-02_ses-2_task-eyesopen_eeg.fdt\n",
      "Reading 0 ... 149999  =      0.000 ...   299.998 secs...\n",
      "Reading c:\\Users\\yaoyu\\Documents\\EE675\\Sleep_dep_dataset\\sub-03\\ses-1\\eeg\\sub-03_ses-1_task-eyesopen_eeg.fdt\n",
      "Reading 0 ... 149999  =      0.000 ...   299.998 secs...\n",
      "Reading c:\\Users\\yaoyu\\Documents\\EE675\\Sleep_dep_dataset\\sub-03\\ses-2\\eeg\\sub-03_ses-2_task-eyesopen_eeg.fdt\n",
      "Reading 0 ... 149999  =      0.000 ...   299.998 secs...\n",
      "Reading c:\\Users\\yaoyu\\Documents\\EE675\\Sleep_dep_dataset\\sub-04\\ses-2\\eeg\\sub-04_ses-2_task-eyesopen_eeg.fdt\n",
      "Reading 0 ... 149999  =      0.000 ...   299.998 secs...\n",
      "Reading c:\\Users\\yaoyu\\Documents\\EE675\\Sleep_dep_dataset\\sub-05\\ses-1\\eeg\\sub-05_ses-1_task-eyesopen_eeg.fdt\n",
      "Reading 0 ... 149999  =      0.000 ...   299.998 secs...\n",
      "Reading c:\\Users\\yaoyu\\Documents\\EE675\\Sleep_dep_dataset\\sub-05\\ses-2\\eeg\\sub-05_ses-2_task-eyesopen_eeg.fdt\n",
      "Reading 0 ... 149999  =      0.000 ...   299.998 secs...\n",
      "Reading c:\\Users\\yaoyu\\Documents\\EE675\\Sleep_dep_dataset\\sub-06\\ses-1\\eeg\\sub-06_ses-1_task-eyesopen_eeg.fdt\n",
      "Reading 0 ... 149999  =      0.000 ...   299.998 secs...\n",
      "Reading c:\\Users\\yaoyu\\Documents\\EE675\\Sleep_dep_dataset\\sub-06\\ses-2\\eeg\\sub-06_ses-2_task-eyesopen_eeg.fdt\n",
      "Reading 0 ... 149999  =      0.000 ...   299.998 secs...\n",
      "Reading c:\\Users\\yaoyu\\Documents\\EE675\\Sleep_dep_dataset\\sub-07\\ses-1\\eeg\\sub-07_ses-1_task-eyesopen_eeg.fdt\n",
      "Reading 0 ... 149999  =      0.000 ...   299.998 secs...\n",
      "Reading c:\\Users\\yaoyu\\Documents\\EE675\\Sleep_dep_dataset\\sub-07\\ses-2\\eeg\\sub-07_ses-2_task-eyesopen_eeg.fdt\n",
      "Reading 0 ... 149999  =      0.000 ...   299.998 secs...\n",
      "Reading c:\\Users\\yaoyu\\Documents\\EE675\\Sleep_dep_dataset\\sub-08\\ses-1\\eeg\\sub-08_ses-1_task-eyesopen_eeg.fdt\n",
      "Reading 0 ... 149999  =      0.000 ...   299.998 secs...\n",
      "Reading c:\\Users\\yaoyu\\Documents\\EE675\\Sleep_dep_dataset\\sub-08\\ses-2\\eeg\\sub-08_ses-2_task-eyesopen_eeg.fdt\n",
      "Reading 0 ... 149999  =      0.000 ...   299.998 secs...\n",
      "Reading c:\\Users\\yaoyu\\Documents\\EE675\\Sleep_dep_dataset\\sub-09\\ses-1\\eeg\\sub-09_ses-1_task-eyesopen_eeg.fdt\n",
      "Reading 0 ... 149999  =      0.000 ...   299.998 secs...\n",
      "Reading c:\\Users\\yaoyu\\Documents\\EE675\\Sleep_dep_dataset\\sub-09\\ses-2\\eeg\\sub-09_ses-2_task-eyesopen_eeg.fdt\n",
      "Reading 0 ... 149999  =      0.000 ...   299.998 secs...\n",
      "Reading c:\\Users\\yaoyu\\Documents\\EE675\\Sleep_dep_dataset\\sub-10\\ses-1\\eeg\\sub-10_ses-1_task-eyesopen_eeg.fdt\n",
      "Reading 0 ... 149999  =      0.000 ...   299.998 secs...\n",
      "Reading c:\\Users\\yaoyu\\Documents\\EE675\\Sleep_dep_dataset\\sub-10\\ses-2\\eeg\\sub-10_ses-2_task-eyesopen_eeg.fdt\n",
      "Reading 0 ... 149999  =      0.000 ...   299.998 secs...\n",
      "Reading c:\\Users\\yaoyu\\Documents\\EE675\\Sleep_dep_dataset\\sub-11\\ses-1\\eeg\\sub-11_ses-1_task-eyesopen_eeg.fdt\n",
      "Reading 0 ... 149999  =      0.000 ...   299.998 secs...\n",
      "Reading c:\\Users\\yaoyu\\Documents\\EE675\\Sleep_dep_dataset\\sub-11\\ses-2\\eeg\\sub-11_ses-2_task-eyesopen_eeg.fdt\n",
      "Reading 0 ... 149999  =      0.000 ...   299.998 secs...\n",
      "Reading c:\\Users\\yaoyu\\Documents\\EE675\\Sleep_dep_dataset\\sub-12\\ses-1\\eeg\\sub-12_ses-1_task-eyesopen_eeg.fdt\n",
      "Reading 0 ... 149999  =      0.000 ...   299.998 secs...\n",
      "Reading c:\\Users\\yaoyu\\Documents\\EE675\\Sleep_dep_dataset\\sub-12\\ses-2\\eeg\\sub-12_ses-2_task-eyesopen_eeg.fdt\n",
      "Reading 0 ... 149999  =      0.000 ...   299.998 secs...\n",
      "Reading c:\\Users\\yaoyu\\Documents\\EE675\\Sleep_dep_dataset\\sub-13\\ses-1\\eeg\\sub-13_ses-1_task-eyesopen_eeg.fdt\n",
      "Reading 0 ... 149999  =      0.000 ...   299.998 secs...\n",
      "Reading c:\\Users\\yaoyu\\Documents\\EE675\\Sleep_dep_dataset\\sub-13\\ses-2\\eeg\\sub-13_ses-2_task-eyesopen_eeg.fdt\n",
      "Reading 0 ... 149999  =      0.000 ...   299.998 secs...\n",
      "Reading c:\\Users\\yaoyu\\Documents\\EE675\\Sleep_dep_dataset\\sub-14\\ses-1\\eeg\\sub-14_ses-1_task-eyesopen_eeg.fdt\n",
      "Reading 0 ... 149999  =      0.000 ...   299.998 secs...\n",
      "Reading c:\\Users\\yaoyu\\Documents\\EE675\\Sleep_dep_dataset\\sub-14\\ses-2\\eeg\\sub-14_ses-2_task-eyesopen_eeg.fdt\n",
      "Reading 0 ... 149999  =      0.000 ...   299.998 secs...\n",
      "Reading c:\\Users\\yaoyu\\Documents\\EE675\\Sleep_dep_dataset\\sub-15\\ses-1\\eeg\\sub-15_ses-1_task-eyesopen_eeg.fdt\n",
      "Reading 0 ... 149999  =      0.000 ...   299.998 secs...\n",
      "Reading c:\\Users\\yaoyu\\Documents\\EE675\\Sleep_dep_dataset\\sub-15\\ses-2\\eeg\\sub-15_ses-2_task-eyesopen_eeg.fdt\n",
      "Reading 0 ... 149999  =      0.000 ...   299.998 secs...\n",
      "Reading c:\\Users\\yaoyu\\Documents\\EE675\\Sleep_dep_dataset\\sub-16\\ses-1\\eeg\\sub-16_ses-1_task-eyesopen_eeg.fdt\n",
      "Reading 0 ... 149999  =      0.000 ...   299.998 secs...\n",
      "Reading c:\\Users\\yaoyu\\Documents\\EE675\\Sleep_dep_dataset\\sub-16\\ses-2\\eeg\\sub-16_ses-2_task-eyesopen_eeg.fdt\n",
      "Reading 0 ... 149999  =      0.000 ...   299.998 secs...\n",
      "Reading c:\\Users\\yaoyu\\Documents\\EE675\\Sleep_dep_dataset\\sub-17\\ses-1\\eeg\\sub-17_ses-1_task-eyesopen_eeg.fdt\n",
      "Reading 0 ... 149999  =      0.000 ...   299.998 secs...\n",
      "Reading c:\\Users\\yaoyu\\Documents\\EE675\\Sleep_dep_dataset\\sub-17\\ses-2\\eeg\\sub-17_ses-2_task-eyesopen_eeg.fdt\n",
      "Reading 0 ... 149999  =      0.000 ...   299.998 secs...\n",
      "Reading c:\\Users\\yaoyu\\Documents\\EE675\\Sleep_dep_dataset\\sub-18\\ses-1\\eeg\\sub-18_ses-1_task-eyesopen_eeg.fdt\n",
      "Reading 0 ... 149999  =      0.000 ...   299.998 secs...\n",
      "Reading c:\\Users\\yaoyu\\Documents\\EE675\\Sleep_dep_dataset\\sub-18\\ses-2\\eeg\\sub-18_ses-2_task-eyesopen_eeg.fdt\n",
      "Reading 0 ... 149999  =      0.000 ...   299.998 secs...\n",
      "Reading c:\\Users\\yaoyu\\Documents\\EE675\\Sleep_dep_dataset\\sub-19\\ses-1\\eeg\\sub-19_ses-1_task-eyesopen_eeg.fdt\n",
      "Reading 0 ... 149999  =      0.000 ...   299.998 secs...\n",
      "Reading c:\\Users\\yaoyu\\Documents\\EE675\\Sleep_dep_dataset\\sub-19\\ses-2\\eeg\\sub-19_ses-2_task-eyesopen_eeg.fdt\n",
      "Reading 0 ... 149999  =      0.000 ...   299.998 secs...\n",
      "Reading c:\\Users\\yaoyu\\Documents\\EE675\\Sleep_dep_dataset\\sub-20\\ses-1\\eeg\\sub-20_ses-1_task-eyesopen_eeg.fdt\n",
      "Reading 0 ... 149999  =      0.000 ...   299.998 secs...\n",
      "Reading c:\\Users\\yaoyu\\Documents\\EE675\\Sleep_dep_dataset\\sub-20\\ses-2\\eeg\\sub-20_ses-2_task-eyesopen_eeg.fdt\n",
      "Reading 0 ... 149999  =      0.000 ...   299.998 secs...\n",
      "Reading c:\\Users\\yaoyu\\Documents\\EE675\\Sleep_dep_dataset\\sub-21\\ses-1\\eeg\\sub-21_ses-1_task-eyesopen_eeg.fdt\n",
      "Reading 0 ... 149999  =      0.000 ...   299.998 secs...\n",
      "Reading c:\\Users\\yaoyu\\Documents\\EE675\\Sleep_dep_dataset\\sub-21\\ses-2\\eeg\\sub-21_ses-2_task-eyesopen_eeg.fdt\n",
      "Reading 0 ... 149999  =      0.000 ...   299.998 secs...\n",
      "Reading c:\\Users\\yaoyu\\Documents\\EE675\\Sleep_dep_dataset\\sub-22\\ses-1\\eeg\\sub-22_ses-1_task-eyesopen_eeg.fdt\n",
      "Reading 0 ... 149999  =      0.000 ...   299.998 secs...\n",
      "Reading c:\\Users\\yaoyu\\Documents\\EE675\\Sleep_dep_dataset\\sub-22\\ses-2\\eeg\\sub-22_ses-2_task-eyesopen_eeg.fdt\n",
      "Reading 0 ... 149999  =      0.000 ...   299.998 secs...\n",
      "Reading c:\\Users\\yaoyu\\Documents\\EE675\\Sleep_dep_dataset\\sub-23\\ses-1\\eeg\\sub-23_ses-1_task-eyesopen_eeg.fdt\n",
      "Reading 0 ... 149999  =      0.000 ...   299.998 secs...\n",
      "Reading c:\\Users\\yaoyu\\Documents\\EE675\\Sleep_dep_dataset\\sub-23\\ses-2\\eeg\\sub-23_ses-2_task-eyesopen_eeg.fdt\n",
      "Reading 0 ... 149999  =      0.000 ...   299.998 secs...\n",
      "Reading c:\\Users\\yaoyu\\Documents\\EE675\\Sleep_dep_dataset\\sub-24\\ses-1\\eeg\\sub-24_ses-1_task-eyesopen_eeg.fdt\n",
      "Reading 0 ... 149999  =      0.000 ...   299.998 secs...\n",
      "Reading c:\\Users\\yaoyu\\Documents\\EE675\\Sleep_dep_dataset\\sub-24\\ses-2\\eeg\\sub-24_ses-2_task-eyesopen_eeg.fdt\n",
      "Reading 0 ... 149999  =      0.000 ...   299.998 secs...\n",
      "Reading c:\\Users\\yaoyu\\Documents\\EE675\\Sleep_dep_dataset\\sub-25\\ses-1\\eeg\\sub-25_ses-1_task-eyesopen_eeg.fdt\n",
      "Reading 0 ... 149999  =      0.000 ...   299.998 secs...\n",
      "Reading c:\\Users\\yaoyu\\Documents\\EE675\\Sleep_dep_dataset\\sub-25\\ses-2\\eeg\\sub-25_ses-2_task-eyesopen_eeg.fdt\n",
      "Reading 0 ... 149999  =      0.000 ...   299.998 secs...\n",
      "Reading c:\\Users\\yaoyu\\Documents\\EE675\\Sleep_dep_dataset\\sub-26\\ses-1\\eeg\\sub-26_ses-1_task-eyesopen_eeg.fdt\n",
      "Reading 0 ... 149999  =      0.000 ...   299.998 secs...\n",
      "Reading c:\\Users\\yaoyu\\Documents\\EE675\\Sleep_dep_dataset\\sub-26\\ses-2\\eeg\\sub-26_ses-2_task-eyesopen_eeg.fdt\n",
      "Reading 0 ... 149999  =      0.000 ...   299.998 secs...\n",
      "Reading c:\\Users\\yaoyu\\Documents\\EE675\\Sleep_dep_dataset\\sub-27\\ses-1\\eeg\\sub-27_ses-1_task-eyesopen_eeg.fdt\n",
      "Reading 0 ... 149999  =      0.000 ...   299.998 secs...\n",
      "Reading c:\\Users\\yaoyu\\Documents\\EE675\\Sleep_dep_dataset\\sub-27\\ses-2\\eeg\\sub-27_ses-2_task-eyesopen_eeg.fdt\n",
      "Reading 0 ... 149999  =      0.000 ...   299.998 secs...\n",
      "Reading c:\\Users\\yaoyu\\Documents\\EE675\\Sleep_dep_dataset\\sub-28\\ses-1\\eeg\\sub-28_ses-1_task-eyesopen_eeg.fdt\n",
      "Reading 0 ... 149999  =      0.000 ...   299.998 secs...\n",
      "Reading c:\\Users\\yaoyu\\Documents\\EE675\\Sleep_dep_dataset\\sub-28\\ses-2\\eeg\\sub-28_ses-2_task-eyesopen_eeg.fdt\n",
      "Reading 0 ... 120529  =      0.000 ...   241.058 secs...\n",
      "Reading c:\\Users\\yaoyu\\Documents\\EE675\\Sleep_dep_dataset\\sub-29\\ses-1\\eeg\\sub-29_ses-1_task-eyesopen_eeg.fdt\n",
      "Reading 0 ... 149999  =      0.000 ...   299.998 secs...\n",
      "Reading c:\\Users\\yaoyu\\Documents\\EE675\\Sleep_dep_dataset\\sub-29\\ses-2\\eeg\\sub-29_ses-2_task-eyesopen_eeg.fdt\n",
      "Reading 0 ... 149999  =      0.000 ...   299.998 secs...\n",
      "Reading c:\\Users\\yaoyu\\Documents\\EE675\\Sleep_dep_dataset\\sub-30\\ses-1\\eeg\\sub-30_ses-1_task-eyesopen_eeg.fdt\n",
      "Reading 0 ... 149999  =      0.000 ...   299.998 secs...\n",
      "Reading c:\\Users\\yaoyu\\Documents\\EE675\\Sleep_dep_dataset\\sub-30\\ses-2\\eeg\\sub-30_ses-2_task-eyesopen_eeg.fdt\n",
      "Reading 0 ... 149999  =      0.000 ...   299.998 secs...\n",
      "Reading c:\\Users\\yaoyu\\Documents\\EE675\\Sleep_dep_dataset\\sub-31\\ses-1\\eeg\\sub-31_ses-1_task-eyesopen_eeg.fdt\n",
      "Reading 0 ... 149999  =      0.000 ...   299.998 secs...\n",
      "Reading c:\\Users\\yaoyu\\Documents\\EE675\\Sleep_dep_dataset\\sub-31\\ses-2\\eeg\\sub-31_ses-2_task-eyesopen_eeg.fdt\n",
      "Reading 0 ... 149999  =      0.000 ...   299.998 secs...\n",
      "Reading c:\\Users\\yaoyu\\Documents\\EE675\\Sleep_dep_dataset\\sub-32\\ses-1\\eeg\\sub-32_ses-1_task-eyesopen_eeg.fdt\n",
      "Reading 0 ... 149999  =      0.000 ...   299.998 secs...\n",
      "Reading c:\\Users\\yaoyu\\Documents\\EE675\\Sleep_dep_dataset\\sub-32\\ses-2\\eeg\\sub-32_ses-2_task-eyesopen_eeg.fdt\n",
      "Reading 0 ... 149999  =      0.000 ...   299.998 secs...\n",
      "Reading c:\\Users\\yaoyu\\Documents\\EE675\\Sleep_dep_dataset\\sub-33\\ses-1\\eeg\\sub-33_ses-1_task-eyesopen_eeg.fdt\n",
      "Reading 0 ... 149999  =      0.000 ...   299.998 secs...\n",
      "Reading c:\\Users\\yaoyu\\Documents\\EE675\\Sleep_dep_dataset\\sub-33\\ses-2\\eeg\\sub-33_ses-2_task-eyesopen_eeg.fdt\n",
      "Reading 0 ... 149999  =      0.000 ...   299.998 secs...\n",
      "Reading c:\\Users\\yaoyu\\Documents\\EE675\\Sleep_dep_dataset\\sub-34\\ses-1\\eeg\\sub-34_ses-1_task-eyesopen_eeg.fdt\n",
      "Reading 0 ... 149999  =      0.000 ...   299.998 secs...\n",
      "Reading c:\\Users\\yaoyu\\Documents\\EE675\\Sleep_dep_dataset\\sub-34\\ses-2\\eeg\\sub-34_ses-2_task-eyesopen_eeg.fdt\n",
      "Reading 0 ... 149999  =      0.000 ...   299.998 secs...\n",
      "Reading c:\\Users\\yaoyu\\Documents\\EE675\\Sleep_dep_dataset\\sub-35\\ses-1\\eeg\\sub-35_ses-1_task-eyesopen_eeg.fdt\n",
      "Reading 0 ... 149999  =      0.000 ...   299.998 secs...\n",
      "Reading c:\\Users\\yaoyu\\Documents\\EE675\\Sleep_dep_dataset\\sub-35\\ses-2\\eeg\\sub-35_ses-2_task-eyesopen_eeg.fdt\n",
      "Reading 0 ... 149999  =      0.000 ...   299.998 secs...\n",
      "Reading c:\\Users\\yaoyu\\Documents\\EE675\\Sleep_dep_dataset\\sub-36\\ses-1\\eeg\\sub-36_ses-1_task-eyesopen_eeg.fdt\n",
      "Reading 0 ... 149999  =      0.000 ...   299.998 secs...\n",
      "Reading c:\\Users\\yaoyu\\Documents\\EE675\\Sleep_dep_dataset\\sub-36\\ses-2\\eeg\\sub-36_ses-2_task-eyesopen_eeg.fdt\n",
      "Reading 0 ... 149999  =      0.000 ...   299.998 secs...\n",
      "Reading c:\\Users\\yaoyu\\Documents\\EE675\\Sleep_dep_dataset\\sub-37\\ses-1\\eeg\\sub-37_ses-1_task-eyesopen_eeg.fdt\n",
      "Reading 0 ... 149999  =      0.000 ...   299.998 secs...\n",
      "Reading c:\\Users\\yaoyu\\Documents\\EE675\\Sleep_dep_dataset\\sub-37\\ses-2\\eeg\\sub-37_ses-2_task-eyesopen_eeg.fdt\n",
      "Reading 0 ... 149999  =      0.000 ...   299.998 secs...\n",
      "Reading c:\\Users\\yaoyu\\Documents\\EE675\\Sleep_dep_dataset\\sub-38\\ses-1\\eeg\\sub-38_ses-1_task-eyesopen_eeg.fdt\n",
      "Reading 0 ... 149999  =      0.000 ...   299.998 secs...\n",
      "Reading c:\\Users\\yaoyu\\Documents\\EE675\\Sleep_dep_dataset\\sub-39\\ses-1\\eeg\\sub-39_ses-1_task-eyesopen_eeg.fdt\n",
      "Reading 0 ... 149999  =      0.000 ...   299.998 secs...\n",
      "Reading c:\\Users\\yaoyu\\Documents\\EE675\\Sleep_dep_dataset\\sub-40\\ses-1\\eeg\\sub-40_ses-1_task-eyesopen_eeg.fdt\n",
      "Reading 0 ... 149999  =      0.000 ...   299.998 secs...\n",
      "Reading c:\\Users\\yaoyu\\Documents\\EE675\\Sleep_dep_dataset\\sub-40\\ses-2\\eeg\\sub-40_ses-2_task-eyesopen_eeg.fdt\n",
      "Reading 0 ... 149999  =      0.000 ...   299.998 secs...\n",
      "Reading c:\\Users\\yaoyu\\Documents\\EE675\\Sleep_dep_dataset\\sub-41\\ses-1\\eeg\\sub-41_ses-1_task-eyesopen_eeg.fdt\n",
      "Reading 0 ... 149999  =      0.000 ...   299.998 secs...\n",
      "Reading c:\\Users\\yaoyu\\Documents\\EE675\\Sleep_dep_dataset\\sub-41\\ses-2\\eeg\\sub-41_ses-2_task-eyesopen_eeg.fdt\n",
      "Reading 0 ... 149999  =      0.000 ...   299.998 secs...\n",
      "Reading c:\\Users\\yaoyu\\Documents\\EE675\\Sleep_dep_dataset\\sub-42\\ses-1\\eeg\\sub-42_ses-1_task-eyesopen_eeg.fdt\n",
      "Reading 0 ... 149999  =      0.000 ...   299.998 secs...\n",
      "Reading c:\\Users\\yaoyu\\Documents\\EE675\\Sleep_dep_dataset\\sub-42\\ses-2\\eeg\\sub-42_ses-2_task-eyesopen_eeg.fdt\n",
      "Reading 0 ... 149999  =      0.000 ...   299.998 secs...\n",
      "Reading c:\\Users\\yaoyu\\Documents\\EE675\\Sleep_dep_dataset\\sub-43\\ses-1\\eeg\\sub-43_ses-1_task-eyesopen_eeg.fdt\n",
      "Reading 0 ... 149999  =      0.000 ...   299.998 secs...\n",
      "Reading c:\\Users\\yaoyu\\Documents\\EE675\\Sleep_dep_dataset\\sub-44\\ses-1\\eeg\\sub-44_ses-1_task-eyesopen_eeg.fdt\n",
      "Reading 0 ... 149999  =      0.000 ...   299.998 secs...\n",
      "Reading c:\\Users\\yaoyu\\Documents\\EE675\\Sleep_dep_dataset\\sub-45\\ses-1\\eeg\\sub-45_ses-1_task-eyesopen_eeg.fdt\n",
      "Reading 0 ... 149999  =      0.000 ...   299.998 secs...\n",
      "Reading c:\\Users\\yaoyu\\Documents\\EE675\\Sleep_dep_dataset\\sub-45\\ses-2\\eeg\\sub-45_ses-2_task-eyesopen_eeg.fdt\n",
      "Reading 0 ... 149999  =      0.000 ...   299.998 secs...\n",
      "Reading c:\\Users\\yaoyu\\Documents\\EE675\\Sleep_dep_dataset\\sub-46\\ses-1\\eeg\\sub-46_ses-1_task-eyesopen_eeg.fdt\n",
      "Reading 0 ... 149999  =      0.000 ...   299.998 secs...\n",
      "Reading c:\\Users\\yaoyu\\Documents\\EE675\\Sleep_dep_dataset\\sub-46\\ses-2\\eeg\\sub-46_ses-2_task-eyesopen_eeg.fdt\n",
      "Reading 0 ... 147919  =      0.000 ...   295.838 secs...\n"
     ]
    },
    {
     "name": "stderr",
     "output_type": "stream",
     "text": [
      "C:\\Users\\yaoyu\\AppData\\Local\\Temp\\ipykernel_21016\\90962688.py:13: RuntimeWarning: The data contains 'boundary' events, indicating data discontinuities. Be cautious of filtering and epoching around these events.\n",
      "  raw = mne.io.read_raw_eeglab(eeg_path, preload=True)\n"
     ]
    },
    {
     "name": "stdout",
     "output_type": "stream",
     "text": [
      "Reading c:\\Users\\yaoyu\\Documents\\EE675\\Sleep_dep_dataset\\sub-47\\ses-1\\eeg\\sub-47_ses-1_task-eyesopen_eeg.fdt\n",
      "Reading 0 ... 149999  =      0.000 ...   299.998 secs...\n",
      "Reading c:\\Users\\yaoyu\\Documents\\EE675\\Sleep_dep_dataset\\sub-47\\ses-2\\eeg\\sub-47_ses-2_task-eyesopen_eeg.fdt\n",
      "Reading 0 ... 149999  =      0.000 ...   299.998 secs...\n",
      "Reading c:\\Users\\yaoyu\\Documents\\EE675\\Sleep_dep_dataset\\sub-48\\ses-1\\eeg\\sub-48_ses-1_task-eyesopen_eeg.fdt\n",
      "Reading 0 ... 149999  =      0.000 ...   299.998 secs...\n",
      "Reading c:\\Users\\yaoyu\\Documents\\EE675\\Sleep_dep_dataset\\sub-48\\ses-2\\eeg\\sub-48_ses-2_task-eyesopen_eeg.fdt\n",
      "Reading 0 ... 149999  =      0.000 ...   299.998 secs...\n",
      "Reading c:\\Users\\yaoyu\\Documents\\EE675\\Sleep_dep_dataset\\sub-49\\ses-1\\eeg\\sub-49_ses-1_task-eyesopen_eeg.fdt\n",
      "Reading 0 ... 149999  =      0.000 ...   299.998 secs...\n",
      "Reading c:\\Users\\yaoyu\\Documents\\EE675\\Sleep_dep_dataset\\sub-49\\ses-2\\eeg\\sub-49_ses-2_task-eyesopen_eeg.fdt\n",
      "Reading 0 ... 149999  =      0.000 ...   299.998 secs...\n",
      "Reading c:\\Users\\yaoyu\\Documents\\EE675\\Sleep_dep_dataset\\sub-50\\ses-1\\eeg\\sub-50_ses-1_task-eyesopen_eeg.fdt\n",
      "Reading 0 ... 149999  =      0.000 ...   299.998 secs...\n",
      "Reading c:\\Users\\yaoyu\\Documents\\EE675\\Sleep_dep_dataset\\sub-50\\ses-2\\eeg\\sub-50_ses-2_task-eyesopen_eeg.fdt\n",
      "Reading 0 ... 149999  =      0.000 ...   299.998 secs...\n",
      "Reading c:\\Users\\yaoyu\\Documents\\EE675\\Sleep_dep_dataset\\sub-51\\ses-1\\eeg\\sub-51_ses-1_task-eyesopen_eeg.fdt\n",
      "Reading 0 ... 149999  =      0.000 ...   299.998 secs...\n",
      "Reading c:\\Users\\yaoyu\\Documents\\EE675\\Sleep_dep_dataset\\sub-51\\ses-2\\eeg\\sub-51_ses-2_task-eyesopen_eeg.fdt\n",
      "Reading 0 ... 145419  =      0.000 ...   290.838 secs...\n"
     ]
    },
    {
     "name": "stderr",
     "output_type": "stream",
     "text": [
      "C:\\Users\\yaoyu\\AppData\\Local\\Temp\\ipykernel_21016\\90962688.py:13: RuntimeWarning: The data contains 'boundary' events, indicating data discontinuities. Be cautious of filtering and epoching around these events.\n",
      "  raw = mne.io.read_raw_eeglab(eeg_path, preload=True)\n"
     ]
    },
    {
     "name": "stdout",
     "output_type": "stream",
     "text": [
      "Reading c:\\Users\\yaoyu\\Documents\\EE675\\Sleep_dep_dataset\\sub-52\\ses-1\\eeg\\sub-52_ses-1_task-eyesopen_eeg.fdt\n",
      "Reading 0 ... 149999  =      0.000 ...   299.998 secs...\n",
      "Reading c:\\Users\\yaoyu\\Documents\\EE675\\Sleep_dep_dataset\\sub-52\\ses-2\\eeg\\sub-52_ses-2_task-eyesopen_eeg.fdt\n",
      "Reading 0 ... 182389  =      0.000 ...   364.778 secs...\n"
     ]
    },
    {
     "name": "stderr",
     "output_type": "stream",
     "text": [
      "C:\\Users\\yaoyu\\AppData\\Local\\Temp\\ipykernel_21016\\90962688.py:13: RuntimeWarning: The data contains 'boundary' events, indicating data discontinuities. Be cautious of filtering and epoching around these events.\n",
      "  raw = mne.io.read_raw_eeglab(eeg_path, preload=True)\n"
     ]
    },
    {
     "name": "stdout",
     "output_type": "stream",
     "text": [
      "Reading c:\\Users\\yaoyu\\Documents\\EE675\\Sleep_dep_dataset\\sub-53\\ses-1\\eeg\\sub-53_ses-1_task-eyesopen_eeg.fdt\n",
      "Reading 0 ... 149999  =      0.000 ...   299.998 secs...\n",
      "Reading c:\\Users\\yaoyu\\Documents\\EE675\\Sleep_dep_dataset\\sub-53\\ses-2\\eeg\\sub-53_ses-2_task-eyesopen_eeg.fdt\n",
      "Reading 0 ... 149999  =      0.000 ...   299.998 secs...\n",
      "Reading c:\\Users\\yaoyu\\Documents\\EE675\\Sleep_dep_dataset\\sub-54\\ses-1\\eeg\\sub-54_ses-1_task-eyesopen_eeg.fdt\n",
      "Reading 0 ... 149999  =      0.000 ...   299.998 secs...\n",
      "Reading c:\\Users\\yaoyu\\Documents\\EE675\\Sleep_dep_dataset\\sub-54\\ses-2\\eeg\\sub-54_ses-2_task-eyesopen_eeg.fdt\n",
      "Reading 0 ... 149999  =      0.000 ...   299.998 secs...\n",
      "Reading c:\\Users\\yaoyu\\Documents\\EE675\\Sleep_dep_dataset\\sub-55\\ses-1\\eeg\\sub-55_ses-1_task-eyesopen_eeg.fdt\n",
      "Reading 0 ... 149999  =      0.000 ...   299.998 secs...\n",
      "Reading c:\\Users\\yaoyu\\Documents\\EE675\\Sleep_dep_dataset\\sub-55\\ses-2\\eeg\\sub-55_ses-2_task-eyesopen_eeg.fdt\n",
      "Reading 0 ... 149999  =      0.000 ...   299.998 secs...\n",
      "Reading c:\\Users\\yaoyu\\Documents\\EE675\\Sleep_dep_dataset\\sub-56\\ses-1\\eeg\\sub-56_ses-1_task-eyesopen_eeg.fdt\n",
      "Reading 0 ... 149999  =      0.000 ...   299.998 secs...\n",
      "Reading c:\\Users\\yaoyu\\Documents\\EE675\\Sleep_dep_dataset\\sub-56\\ses-2\\eeg\\sub-56_ses-2_task-eyesopen_eeg.fdt\n",
      "Reading 0 ... 149999  =      0.000 ...   299.998 secs...\n",
      "Reading c:\\Users\\yaoyu\\Documents\\EE675\\Sleep_dep_dataset\\sub-57\\ses-1\\eeg\\sub-57_ses-1_task-eyesopen_eeg.fdt\n",
      "Reading 0 ... 149999  =      0.000 ...   299.998 secs...\n"
     ]
    },
    {
     "name": "stderr",
     "output_type": "stream",
     "text": [
      "C:\\Users\\yaoyu\\AppData\\Local\\Temp\\ipykernel_21016\\90962688.py:13: RuntimeWarning: Limited 1 annotation(s) that were expanding outside the data range.\n",
      "  raw = mne.io.read_raw_eeglab(eeg_path, preload=True)\n",
      "C:\\Users\\yaoyu\\AppData\\Local\\Temp\\ipykernel_21016\\90962688.py:13: RuntimeWarning: The data contains 'boundary' events, indicating data discontinuities. Be cautious of filtering and epoching around these events.\n",
      "  raw = mne.io.read_raw_eeglab(eeg_path, preload=True)\n"
     ]
    },
    {
     "name": "stdout",
     "output_type": "stream",
     "text": [
      "Reading c:\\Users\\yaoyu\\Documents\\EE675\\Sleep_dep_dataset\\sub-57\\ses-2\\eeg\\sub-57_ses-2_task-eyesopen_eeg.fdt\n",
      "Reading 0 ... 125719  =      0.000 ...   251.438 secs...\n"
     ]
    },
    {
     "name": "stderr",
     "output_type": "stream",
     "text": [
      "C:\\Users\\yaoyu\\AppData\\Local\\Temp\\ipykernel_21016\\90962688.py:13: RuntimeWarning: The data contains 'boundary' events, indicating data discontinuities. Be cautious of filtering and epoching around these events.\n",
      "  raw = mne.io.read_raw_eeglab(eeg_path, preload=True)\n"
     ]
    },
    {
     "name": "stdout",
     "output_type": "stream",
     "text": [
      "Reading c:\\Users\\yaoyu\\Documents\\EE675\\Sleep_dep_dataset\\sub-58\\ses-1\\eeg\\sub-58_ses-1_task-eyesopen_eeg.fdt\n",
      "Reading 0 ... 149999  =      0.000 ...   299.998 secs...\n",
      "Reading c:\\Users\\yaoyu\\Documents\\EE675\\Sleep_dep_dataset\\sub-58\\ses-2\\eeg\\sub-58_ses-2_task-eyesopen_eeg.fdt\n",
      "Reading 0 ... 132409  =      0.000 ...   264.818 secs...\n"
     ]
    },
    {
     "name": "stderr",
     "output_type": "stream",
     "text": [
      "C:\\Users\\yaoyu\\AppData\\Local\\Temp\\ipykernel_21016\\90962688.py:13: RuntimeWarning: The data contains 'boundary' events, indicating data discontinuities. Be cautious of filtering and epoching around these events.\n",
      "  raw = mne.io.read_raw_eeglab(eeg_path, preload=True)\n"
     ]
    },
    {
     "name": "stdout",
     "output_type": "stream",
     "text": [
      "Reading c:\\Users\\yaoyu\\Documents\\EE675\\Sleep_dep_dataset\\sub-59\\ses-1\\eeg\\sub-59_ses-1_task-eyesopen_eeg.fdt\n",
      "Reading 0 ... 149999  =      0.000 ...   299.998 secs...\n",
      "Reading c:\\Users\\yaoyu\\Documents\\EE675\\Sleep_dep_dataset\\sub-59\\ses-2\\eeg\\sub-59_ses-2_task-eyesopen_eeg.fdt\n",
      "Reading 0 ... 144109  =      0.000 ...   288.218 secs...\n"
     ]
    },
    {
     "name": "stderr",
     "output_type": "stream",
     "text": [
      "C:\\Users\\yaoyu\\AppData\\Local\\Temp\\ipykernel_21016\\90962688.py:13: RuntimeWarning: The data contains 'boundary' events, indicating data discontinuities. Be cautious of filtering and epoching around these events.\n",
      "  raw = mne.io.read_raw_eeglab(eeg_path, preload=True)\n"
     ]
    },
    {
     "name": "stdout",
     "output_type": "stream",
     "text": [
      "Reading c:\\Users\\yaoyu\\Documents\\EE675\\Sleep_dep_dataset\\sub-60\\ses-1\\eeg\\sub-60_ses-1_task-eyesopen_eeg.fdt\n",
      "Reading 0 ... 124489  =      0.000 ...   248.978 secs...\n"
     ]
    },
    {
     "name": "stderr",
     "output_type": "stream",
     "text": [
      "C:\\Users\\yaoyu\\AppData\\Local\\Temp\\ipykernel_21016\\90962688.py:13: RuntimeWarning: The data contains 'boundary' events, indicating data discontinuities. Be cautious of filtering and epoching around these events.\n",
      "  raw = mne.io.read_raw_eeglab(eeg_path, preload=True)\n"
     ]
    },
    {
     "name": "stdout",
     "output_type": "stream",
     "text": [
      "Reading c:\\Users\\yaoyu\\Documents\\EE675\\Sleep_dep_dataset\\sub-60\\ses-2\\eeg\\sub-60_ses-2_task-eyesopen_eeg.fdt\n",
      "Reading 0 ... 149999  =      0.000 ...   299.998 secs...\n",
      "Reading c:\\Users\\yaoyu\\Documents\\EE675\\Sleep_dep_dataset\\sub-61\\ses-1\\eeg\\sub-61_ses-1_task-eyesopen_eeg.fdt\n",
      "Reading 0 ... 149999  =      0.000 ...   299.998 secs...\n",
      "Reading c:\\Users\\yaoyu\\Documents\\EE675\\Sleep_dep_dataset\\sub-61\\ses-2\\eeg\\sub-61_ses-2_task-eyesopen_eeg.fdt\n",
      "Reading 0 ... 149999  =      0.000 ...   299.998 secs...\n",
      "Reading c:\\Users\\yaoyu\\Documents\\EE675\\Sleep_dep_dataset\\sub-62\\ses-1\\eeg\\sub-62_ses-1_task-eyesopen_eeg.fdt\n",
      "Reading 0 ... 149999  =      0.000 ...   299.998 secs...\n",
      "Reading c:\\Users\\yaoyu\\Documents\\EE675\\Sleep_dep_dataset\\sub-62\\ses-2\\eeg\\sub-62_ses-2_task-eyesopen_eeg.fdt\n",
      "Reading 0 ... 141789  =      0.000 ...   283.578 secs...\n"
     ]
    },
    {
     "name": "stderr",
     "output_type": "stream",
     "text": [
      "C:\\Users\\yaoyu\\AppData\\Local\\Temp\\ipykernel_21016\\90962688.py:13: RuntimeWarning: The data contains 'boundary' events, indicating data discontinuities. Be cautious of filtering and epoching around these events.\n",
      "  raw = mne.io.read_raw_eeglab(eeg_path, preload=True)\n"
     ]
    },
    {
     "name": "stdout",
     "output_type": "stream",
     "text": [
      "Reading c:\\Users\\yaoyu\\Documents\\EE675\\Sleep_dep_dataset\\sub-63\\ses-1\\eeg\\sub-63_ses-1_task-eyesopen_eeg.fdt\n",
      "Reading 0 ... 149999  =      0.000 ...   299.998 secs...\n",
      "Reading c:\\Users\\yaoyu\\Documents\\EE675\\Sleep_dep_dataset\\sub-63\\ses-2\\eeg\\sub-63_ses-2_task-eyesopen_eeg.fdt\n",
      "Reading 0 ... 149999  =      0.000 ...   299.998 secs...\n",
      "Reading c:\\Users\\yaoyu\\Documents\\EE675\\Sleep_dep_dataset\\sub-64\\ses-1\\eeg\\sub-64_ses-1_task-eyesopen_eeg.fdt\n",
      "Reading 0 ... 149999  =      0.000 ...   299.998 secs...\n",
      "Reading c:\\Users\\yaoyu\\Documents\\EE675\\Sleep_dep_dataset\\sub-64\\ses-2\\eeg\\sub-64_ses-2_task-eyesopen_eeg.fdt\n",
      "Reading 0 ... 149999  =      0.000 ...   299.998 secs...\n",
      "Reading c:\\Users\\yaoyu\\Documents\\EE675\\Sleep_dep_dataset\\sub-65\\ses-1\\eeg\\sub-65_ses-1_task-eyesopen_eeg.fdt\n",
      "Reading 0 ... 149999  =      0.000 ...   299.998 secs...\n",
      "Reading c:\\Users\\yaoyu\\Documents\\EE675\\Sleep_dep_dataset\\sub-65\\ses-2\\eeg\\sub-65_ses-2_task-eyesopen_eeg.fdt\n",
      "Reading 0 ... 118919  =      0.000 ...   237.838 secs...\n"
     ]
    },
    {
     "name": "stderr",
     "output_type": "stream",
     "text": [
      "C:\\Users\\yaoyu\\AppData\\Local\\Temp\\ipykernel_21016\\90962688.py:13: RuntimeWarning: The data contains 'boundary' events, indicating data discontinuities. Be cautious of filtering and epoching around these events.\n",
      "  raw = mne.io.read_raw_eeglab(eeg_path, preload=True)\n"
     ]
    },
    {
     "name": "stdout",
     "output_type": "stream",
     "text": [
      "Reading c:\\Users\\yaoyu\\Documents\\EE675\\Sleep_dep_dataset\\sub-66\\ses-1\\eeg\\sub-66_ses-1_task-eyesopen_eeg.fdt\n",
      "Reading 0 ... 149999  =      0.000 ...   299.998 secs...\n",
      "Reading c:\\Users\\yaoyu\\Documents\\EE675\\Sleep_dep_dataset\\sub-66\\ses-2\\eeg\\sub-66_ses-2_task-eyesopen_eeg.fdt\n",
      "Reading 0 ... 149999  =      0.000 ...   299.998 secs...\n",
      "Reading c:\\Users\\yaoyu\\Documents\\EE675\\Sleep_dep_dataset\\sub-67\\ses-1\\eeg\\sub-67_ses-1_task-eyesopen_eeg.fdt\n",
      "Reading 0 ... 149999  =      0.000 ...   299.998 secs...\n",
      "Reading c:\\Users\\yaoyu\\Documents\\EE675\\Sleep_dep_dataset\\sub-67\\ses-2\\eeg\\sub-67_ses-2_task-eyesopen_eeg.fdt\n",
      "Reading 0 ... 149999  =      0.000 ...   299.998 secs...\n",
      "Reading c:\\Users\\yaoyu\\Documents\\EE675\\Sleep_dep_dataset\\sub-68\\ses-1\\eeg\\sub-68_ses-1_task-eyesopen_eeg.fdt\n",
      "Reading 0 ... 149999  =      0.000 ...   299.998 secs...\n",
      "Reading c:\\Users\\yaoyu\\Documents\\EE675\\Sleep_dep_dataset\\sub-68\\ses-2\\eeg\\sub-68_ses-2_task-eyesopen_eeg.fdt\n",
      "Reading 0 ... 149999  =      0.000 ...   299.998 secs...\n",
      "Reading c:\\Users\\yaoyu\\Documents\\EE675\\Sleep_dep_dataset\\sub-69\\ses-1\\eeg\\sub-69_ses-1_task-eyesopen_eeg.fdt\n",
      "Reading 0 ... 149999  =      0.000 ...   299.998 secs...\n",
      "Reading c:\\Users\\yaoyu\\Documents\\EE675\\Sleep_dep_dataset\\sub-69\\ses-2\\eeg\\sub-69_ses-2_task-eyesopen_eeg.fdt\n",
      "Reading 0 ... 149999  =      0.000 ...   299.998 secs...\n",
      "Reading c:\\Users\\yaoyu\\Documents\\EE675\\Sleep_dep_dataset\\sub-70\\ses-1\\eeg\\sub-70_ses-1_task-eyesopen_eeg.fdt\n",
      "Reading 0 ... 149999  =      0.000 ...   299.998 secs...\n",
      "Reading c:\\Users\\yaoyu\\Documents\\EE675\\Sleep_dep_dataset\\sub-70\\ses-2\\eeg\\sub-70_ses-2_task-eyesopen_eeg.fdt\n",
      "Reading 0 ... 149999  =      0.000 ...   299.998 secs...\n",
      "Reading c:\\Users\\yaoyu\\Documents\\EE675\\Sleep_dep_dataset\\sub-71\\ses-1\\eeg\\sub-71_ses-1_task-eyesopen_eeg.fdt\n",
      "Reading 0 ... 149999  =      0.000 ...   299.998 secs...\n",
      "Reading c:\\Users\\yaoyu\\Documents\\EE675\\Sleep_dep_dataset\\sub-71\\ses-2\\eeg\\sub-71_ses-2_task-eyesopen_eeg.fdt\n",
      "Reading 0 ... 149999  =      0.000 ...   299.998 secs...\n"
     ]
    }
   ],
   "source": [
    "#get PSD for raw and smoothed signal\n",
    "import matplotlib.pyplot as plt\n",
    "\n",
    "psd_raw = []\n",
    "fmin, fmax = 2, 40  # Hz\n",
    "\n",
    "for i in range(1, 72):\n",
    "    patient_id = f\"sub-{i:02d}\"\n",
    "    for session, condition in zip(['1', '2'], ['normal sleep', 'sleep deprivation']):\n",
    "        eeg_path = os.path.join(\"Sleep_dep_dataset\", patient_id, \"ses-\" + session, \"eeg\", patient_id + \"_ses-\" + session + \"_task-eyesopen_eeg.set\")\n",
    "        \n",
    "        if os.path.exists(eeg_path):\n",
    "            raw = mne.io.read_raw_eeglab(eeg_path, preload=True)\n",
    "            data = raw.get_data()\n",
    "            freqs, psd = welch(data, sfreq, nperseg=sfreq * 2, axis=1)\n",
    "            freq_mask = (freqs >= fmin) & (freqs <= fmax)\n",
    "            freqs_filtered = freqs[freq_mask]\n",
    "            psd_filtered = psd[:, freq_mask]\n",
    "            mean_psd = np.mean(psd_filtered, axis=0)  \n",
    "            psd_raw.append(mean_psd)\n",
    "           \n",
    "psd_raw = np.array(psd_raw)\n",
    "mean_raw = np.mean(psd_raw, axis=0)\n",
    "sem_raw = np.std(psd_raw, axis=0) / np.sqrt(psd_raw.shape[0])\n",
    "\n",
    "\n",
    "#SMOOTHED SIGNAL PSD\n",
    "features_file = \"KF_smoothed_data.pkl\"\n",
    "with open(features_file, 'rb') as f:\n",
    "    smoothed_data_dict = pickle.load(f)\n",
    "psd_smoothed = [] \n",
    "sfreq = 500\n",
    "for patient_session, data in smoothed_data_dict.items():\n",
    "    smoothed_data = data['smoothed_data'] \n",
    "\n",
    "    smoothed_data_continuous = np.concatenate(smoothed_data, axis=-1)  \n",
    "\n",
    "    freqs, psd = welch(smoothed_data_continuous, sfreq, nperseg=sfreq * 2, axis=1) \n",
    "    freq_mask = (freqs >= fmin) & (freqs <= fmax)\n",
    "    freqs_filtered = freqs[freq_mask]\n",
    "    psd_filtered = psd[:, freq_mask]\n",
    "    mean_psd = np.mean(psd_filtered, axis=0) \n",
    "    psd_smoothed.append(mean_psd)\n",
    "\n",
    "#\n",
    "psd_smoothed = np.array(psd_smoothed)\n",
    "mean_smoothed = np.mean(psd_smoothed, axis=0)\n",
    "sem_smoothed = np.std(psd_smoothed, axis=0) / np.sqrt(psd_smoothed.shape[0])"
   ]
  },
  {
   "cell_type": "code",
   "execution_count": 24,
   "metadata": {},
   "outputs": [
    {
     "data": {
      "image/png": "[encoded data removed]",
      "text/plain": [
       "<Figure size 1000x600 with 1 Axes>"
      ]
     },
     "metadata": {},
     "output_type": "display_data"
    }
   ],
   "source": [
    "plt.figure(figsize=(10, 6))\n",
    "\n",
    "# Convert PSD values to dB\n",
    "mean_smoothed_db = 10 * np.log10(mean_smoothed)\n",
    "sem_smoothed_db = 10 * np.log10(mean_smoothed + sem_smoothed) - mean_smoothed_db\n",
    "\n",
    "mean_raw_db = 10 * np.log10(mean_raw)\n",
    "sem_raw_db = 10 * np.log10(mean_raw + sem_raw) - mean_raw_db\n",
    "\n",
    "# Plotting the smoothed signal\n",
    "plt.plot(freqs_filtered, mean_smoothed_db, label='KF Smoothed Signal', color='blue')\n",
    "plt.fill_between(\n",
    "    freqs_filtered, \n",
    "    mean_smoothed_db - sem_smoothed_db, \n",
    "    mean_smoothed_db + sem_smoothed_db, \n",
    "    alpha=0.2, \n",
    "    color='blue'\n",
    ")\n",
    "\n",
    "# Plotting the original signal\n",
    "plt.plot(freqs_filtered, mean_raw_db, label='Original Signal', color='orange')\n",
    "plt.fill_between(\n",
    "    freqs_filtered, \n",
    "    mean_raw_db - sem_raw_db, \n",
    "    mean_raw_db + sem_raw_db, \n",
    "    alpha=0.2, \n",
    "    color='orange'\n",
    ")\n",
    "\n",
    "# Labels and title\n",
    "plt.xlabel('Frequency (Hz)')\n",
    "plt.ylabel('PSD (dB)')  # Updated units\n",
    "plt.title('KF Smoothed Signal vs Original Signal (PSD in dB)')\n",
    "plt.legend()\n",
    "plt.grid(True)\n",
    "plt.show()\n"
   ]
  },
  {
   "cell_type": "code",
   "execution_count": 25,
   "metadata": {},
   "outputs": [
    {
     "name": "stdout",
     "output_type": "stream",
     "text": [
      "Reading c:\\Users\\yaoyu\\Documents\\EE675\\Sleep_dep_dataset\\sub-01\\ses-1\\eeg\\sub-01_ses-1_task-eyesopen_eeg.fdt\n",
      "Reading 0 ... 149999  =      0.000 ...   299.998 secs...\n",
      "Reading c:\\Users\\yaoyu\\Documents\\EE675\\Sleep_dep_dataset\\sub-01\\ses-2\\eeg\\sub-01_ses-2_task-eyesopen_eeg.fdt\n",
      "Reading 0 ... 113955  =      0.000 ...   227.910 secs...\n",
      "Reading c:\\Users\\yaoyu\\Documents\\EE675\\Sleep_dep_dataset\\sub-02\\ses-1\\eeg\\sub-02_ses-1_task-eyesopen_eeg.fdt\n",
      "Reading 0 ... 149999  =      0.000 ...   299.998 secs...\n",
      "Reading c:\\Users\\yaoyu\\Documents\\EE675\\Sleep_dep_dataset\\sub-02\\ses-2\\eeg\\sub-02_ses-2_task-eyesopen_eeg.fdt\n",
      "Reading 0 ... 149999  =      0.000 ...   299.998 secs...\n",
      "Reading c:\\Users\\yaoyu\\Documents\\EE675\\Sleep_dep_dataset\\sub-03\\ses-1\\eeg\\sub-03_ses-1_task-eyesopen_eeg.fdt\n",
      "Reading 0 ... 149999  =      0.000 ...   299.998 secs...\n",
      "Reading c:\\Users\\yaoyu\\Documents\\EE675\\Sleep_dep_dataset\\sub-03\\ses-2\\eeg\\sub-03_ses-2_task-eyesopen_eeg.fdt\n",
      "Reading 0 ... 149999  =      0.000 ...   299.998 secs...\n",
      "Reading c:\\Users\\yaoyu\\Documents\\EE675\\Sleep_dep_dataset\\sub-04\\ses-2\\eeg\\sub-04_ses-2_task-eyesopen_eeg.fdt\n",
      "Reading 0 ... 149999  =      0.000 ...   299.998 secs...\n",
      "Reading c:\\Users\\yaoyu\\Documents\\EE675\\Sleep_dep_dataset\\sub-05\\ses-1\\eeg\\sub-05_ses-1_task-eyesopen_eeg.fdt\n",
      "Reading 0 ... 149999  =      0.000 ...   299.998 secs...\n",
      "Reading c:\\Users\\yaoyu\\Documents\\EE675\\Sleep_dep_dataset\\sub-05\\ses-2\\eeg\\sub-05_ses-2_task-eyesopen_eeg.fdt\n",
      "Reading 0 ... 149999  =      0.000 ...   299.998 secs...\n",
      "Reading c:\\Users\\yaoyu\\Documents\\EE675\\Sleep_dep_dataset\\sub-06\\ses-1\\eeg\\sub-06_ses-1_task-eyesopen_eeg.fdt\n",
      "Reading 0 ... 149999  =      0.000 ...   299.998 secs...\n",
      "Reading c:\\Users\\yaoyu\\Documents\\EE675\\Sleep_dep_dataset\\sub-06\\ses-2\\eeg\\sub-06_ses-2_task-eyesopen_eeg.fdt\n",
      "Reading 0 ... 149999  =      0.000 ...   299.998 secs...\n",
      "Reading c:\\Users\\yaoyu\\Documents\\EE675\\Sleep_dep_dataset\\sub-07\\ses-1\\eeg\\sub-07_ses-1_task-eyesopen_eeg.fdt\n",
      "Reading 0 ... 149999  =      0.000 ...   299.998 secs...\n",
      "Reading c:\\Users\\yaoyu\\Documents\\EE675\\Sleep_dep_dataset\\sub-07\\ses-2\\eeg\\sub-07_ses-2_task-eyesopen_eeg.fdt\n",
      "Reading 0 ... 149999  =      0.000 ...   299.998 secs...\n",
      "Reading c:\\Users\\yaoyu\\Documents\\EE675\\Sleep_dep_dataset\\sub-08\\ses-1\\eeg\\sub-08_ses-1_task-eyesopen_eeg.fdt\n",
      "Reading 0 ... 149999  =      0.000 ...   299.998 secs...\n",
      "Reading c:\\Users\\yaoyu\\Documents\\EE675\\Sleep_dep_dataset\\sub-08\\ses-2\\eeg\\sub-08_ses-2_task-eyesopen_eeg.fdt\n",
      "Reading 0 ... 149999  =      0.000 ...   299.998 secs...\n",
      "Reading c:\\Users\\yaoyu\\Documents\\EE675\\Sleep_dep_dataset\\sub-09\\ses-1\\eeg\\sub-09_ses-1_task-eyesopen_eeg.fdt\n",
      "Reading 0 ... 149999  =      0.000 ...   299.998 secs...\n",
      "Reading c:\\Users\\yaoyu\\Documents\\EE675\\Sleep_dep_dataset\\sub-09\\ses-2\\eeg\\sub-09_ses-2_task-eyesopen_eeg.fdt\n",
      "Reading 0 ... 149999  =      0.000 ...   299.998 secs...\n",
      "Reading c:\\Users\\yaoyu\\Documents\\EE675\\Sleep_dep_dataset\\sub-10\\ses-1\\eeg\\sub-10_ses-1_task-eyesopen_eeg.fdt\n",
      "Reading 0 ... 149999  =      0.000 ...   299.998 secs...\n",
      "Reading c:\\Users\\yaoyu\\Documents\\EE675\\Sleep_dep_dataset\\sub-10\\ses-2\\eeg\\sub-10_ses-2_task-eyesopen_eeg.fdt\n",
      "Reading 0 ... 149999  =      0.000 ...   299.998 secs...\n",
      "Reading c:\\Users\\yaoyu\\Documents\\EE675\\Sleep_dep_dataset\\sub-11\\ses-1\\eeg\\sub-11_ses-1_task-eyesopen_eeg.fdt\n",
      "Reading 0 ... 149999  =      0.000 ...   299.998 secs...\n",
      "Reading c:\\Users\\yaoyu\\Documents\\EE675\\Sleep_dep_dataset\\sub-11\\ses-2\\eeg\\sub-11_ses-2_task-eyesopen_eeg.fdt\n",
      "Reading 0 ... 149999  =      0.000 ...   299.998 secs...\n",
      "Reading c:\\Users\\yaoyu\\Documents\\EE675\\Sleep_dep_dataset\\sub-12\\ses-1\\eeg\\sub-12_ses-1_task-eyesopen_eeg.fdt\n",
      "Reading 0 ... 149999  =      0.000 ...   299.998 secs...\n",
      "Reading c:\\Users\\yaoyu\\Documents\\EE675\\Sleep_dep_dataset\\sub-12\\ses-2\\eeg\\sub-12_ses-2_task-eyesopen_eeg.fdt\n",
      "Reading 0 ... 149999  =      0.000 ...   299.998 secs...\n",
      "Reading c:\\Users\\yaoyu\\Documents\\EE675\\Sleep_dep_dataset\\sub-13\\ses-1\\eeg\\sub-13_ses-1_task-eyesopen_eeg.fdt\n",
      "Reading 0 ... 149999  =      0.000 ...   299.998 secs...\n",
      "Reading c:\\Users\\yaoyu\\Documents\\EE675\\Sleep_dep_dataset\\sub-13\\ses-2\\eeg\\sub-13_ses-2_task-eyesopen_eeg.fdt\n",
      "Reading 0 ... 149999  =      0.000 ...   299.998 secs...\n",
      "Reading c:\\Users\\yaoyu\\Documents\\EE675\\Sleep_dep_dataset\\sub-14\\ses-1\\eeg\\sub-14_ses-1_task-eyesopen_eeg.fdt\n",
      "Reading 0 ... 149999  =      0.000 ...   299.998 secs...\n",
      "Reading c:\\Users\\yaoyu\\Documents\\EE675\\Sleep_dep_dataset\\sub-14\\ses-2\\eeg\\sub-14_ses-2_task-eyesopen_eeg.fdt\n",
      "Reading 0 ... 149999  =      0.000 ...   299.998 secs...\n",
      "Reading c:\\Users\\yaoyu\\Documents\\EE675\\Sleep_dep_dataset\\sub-15\\ses-1\\eeg\\sub-15_ses-1_task-eyesopen_eeg.fdt\n",
      "Reading 0 ... 149999  =      0.000 ...   299.998 secs...\n",
      "Reading c:\\Users\\yaoyu\\Documents\\EE675\\Sleep_dep_dataset\\sub-15\\ses-2\\eeg\\sub-15_ses-2_task-eyesopen_eeg.fdt\n",
      "Reading 0 ... 149999  =      0.000 ...   299.998 secs...\n",
      "Reading c:\\Users\\yaoyu\\Documents\\EE675\\Sleep_dep_dataset\\sub-16\\ses-1\\eeg\\sub-16_ses-1_task-eyesopen_eeg.fdt\n",
      "Reading 0 ... 149999  =      0.000 ...   299.998 secs...\n",
      "Reading c:\\Users\\yaoyu\\Documents\\EE675\\Sleep_dep_dataset\\sub-16\\ses-2\\eeg\\sub-16_ses-2_task-eyesopen_eeg.fdt\n",
      "Reading 0 ... 149999  =      0.000 ...   299.998 secs...\n",
      "Reading c:\\Users\\yaoyu\\Documents\\EE675\\Sleep_dep_dataset\\sub-17\\ses-1\\eeg\\sub-17_ses-1_task-eyesopen_eeg.fdt\n",
      "Reading 0 ... 149999  =      0.000 ...   299.998 secs...\n",
      "Reading c:\\Users\\yaoyu\\Documents\\EE675\\Sleep_dep_dataset\\sub-17\\ses-2\\eeg\\sub-17_ses-2_task-eyesopen_eeg.fdt\n",
      "Reading 0 ... 149999  =      0.000 ...   299.998 secs...\n",
      "Reading c:\\Users\\yaoyu\\Documents\\EE675\\Sleep_dep_dataset\\sub-18\\ses-1\\eeg\\sub-18_ses-1_task-eyesopen_eeg.fdt\n",
      "Reading 0 ... 149999  =      0.000 ...   299.998 secs...\n",
      "Reading c:\\Users\\yaoyu\\Documents\\EE675\\Sleep_dep_dataset\\sub-18\\ses-2\\eeg\\sub-18_ses-2_task-eyesopen_eeg.fdt\n",
      "Reading 0 ... 149999  =      0.000 ...   299.998 secs...\n",
      "Reading c:\\Users\\yaoyu\\Documents\\EE675\\Sleep_dep_dataset\\sub-19\\ses-1\\eeg\\sub-19_ses-1_task-eyesopen_eeg.fdt\n",
      "Reading 0 ... 149999  =      0.000 ...   299.998 secs...\n",
      "Reading c:\\Users\\yaoyu\\Documents\\EE675\\Sleep_dep_dataset\\sub-19\\ses-2\\eeg\\sub-19_ses-2_task-eyesopen_eeg.fdt\n",
      "Reading 0 ... 149999  =      0.000 ...   299.998 secs...\n",
      "Reading c:\\Users\\yaoyu\\Documents\\EE675\\Sleep_dep_dataset\\sub-20\\ses-1\\eeg\\sub-20_ses-1_task-eyesopen_eeg.fdt\n",
      "Reading 0 ... 149999  =      0.000 ...   299.998 secs...\n",
      "Reading c:\\Users\\yaoyu\\Documents\\EE675\\Sleep_dep_dataset\\sub-20\\ses-2\\eeg\\sub-20_ses-2_task-eyesopen_eeg.fdt\n",
      "Reading 0 ... 149999  =      0.000 ...   299.998 secs...\n",
      "Reading c:\\Users\\yaoyu\\Documents\\EE675\\Sleep_dep_dataset\\sub-21\\ses-1\\eeg\\sub-21_ses-1_task-eyesopen_eeg.fdt\n",
      "Reading 0 ... 149999  =      0.000 ...   299.998 secs...\n",
      "Reading c:\\Users\\yaoyu\\Documents\\EE675\\Sleep_dep_dataset\\sub-21\\ses-2\\eeg\\sub-21_ses-2_task-eyesopen_eeg.fdt\n",
      "Reading 0 ... 149999  =      0.000 ...   299.998 secs...\n",
      "Reading c:\\Users\\yaoyu\\Documents\\EE675\\Sleep_dep_dataset\\sub-22\\ses-1\\eeg\\sub-22_ses-1_task-eyesopen_eeg.fdt\n",
      "Reading 0 ... 149999  =      0.000 ...   299.998 secs...\n",
      "Reading c:\\Users\\yaoyu\\Documents\\EE675\\Sleep_dep_dataset\\sub-22\\ses-2\\eeg\\sub-22_ses-2_task-eyesopen_eeg.fdt\n",
      "Reading 0 ... 149999  =      0.000 ...   299.998 secs...\n",
      "Reading c:\\Users\\yaoyu\\Documents\\EE675\\Sleep_dep_dataset\\sub-23\\ses-1\\eeg\\sub-23_ses-1_task-eyesopen_eeg.fdt\n",
      "Reading 0 ... 149999  =      0.000 ...   299.998 secs...\n",
      "Reading c:\\Users\\yaoyu\\Documents\\EE675\\Sleep_dep_dataset\\sub-23\\ses-2\\eeg\\sub-23_ses-2_task-eyesopen_eeg.fdt\n",
      "Reading 0 ... 149999  =      0.000 ...   299.998 secs...\n",
      "Reading c:\\Users\\yaoyu\\Documents\\EE675\\Sleep_dep_dataset\\sub-24\\ses-1\\eeg\\sub-24_ses-1_task-eyesopen_eeg.fdt\n",
      "Reading 0 ... 149999  =      0.000 ...   299.998 secs...\n",
      "Reading c:\\Users\\yaoyu\\Documents\\EE675\\Sleep_dep_dataset\\sub-24\\ses-2\\eeg\\sub-24_ses-2_task-eyesopen_eeg.fdt\n",
      "Reading 0 ... 149999  =      0.000 ...   299.998 secs...\n",
      "Reading c:\\Users\\yaoyu\\Documents\\EE675\\Sleep_dep_dataset\\sub-25\\ses-1\\eeg\\sub-25_ses-1_task-eyesopen_eeg.fdt\n",
      "Reading 0 ... 149999  =      0.000 ...   299.998 secs...\n",
      "Reading c:\\Users\\yaoyu\\Documents\\EE675\\Sleep_dep_dataset\\sub-25\\ses-2\\eeg\\sub-25_ses-2_task-eyesopen_eeg.fdt\n",
      "Reading 0 ... 149999  =      0.000 ...   299.998 secs...\n",
      "Reading c:\\Users\\yaoyu\\Documents\\EE675\\Sleep_dep_dataset\\sub-26\\ses-1\\eeg\\sub-26_ses-1_task-eyesopen_eeg.fdt\n",
      "Reading 0 ... 149999  =      0.000 ...   299.998 secs...\n",
      "Reading c:\\Users\\yaoyu\\Documents\\EE675\\Sleep_dep_dataset\\sub-26\\ses-2\\eeg\\sub-26_ses-2_task-eyesopen_eeg.fdt\n",
      "Reading 0 ... 149999  =      0.000 ...   299.998 secs...\n",
      "Reading c:\\Users\\yaoyu\\Documents\\EE675\\Sleep_dep_dataset\\sub-27\\ses-1\\eeg\\sub-27_ses-1_task-eyesopen_eeg.fdt\n",
      "Reading 0 ... 149999  =      0.000 ...   299.998 secs...\n",
      "Reading c:\\Users\\yaoyu\\Documents\\EE675\\Sleep_dep_dataset\\sub-27\\ses-2\\eeg\\sub-27_ses-2_task-eyesopen_eeg.fdt\n",
      "Reading 0 ... 149999  =      0.000 ...   299.998 secs...\n",
      "Reading c:\\Users\\yaoyu\\Documents\\EE675\\Sleep_dep_dataset\\sub-28\\ses-1\\eeg\\sub-28_ses-1_task-eyesopen_eeg.fdt\n",
      "Reading 0 ... 149999  =      0.000 ...   299.998 secs...\n",
      "Reading c:\\Users\\yaoyu\\Documents\\EE675\\Sleep_dep_dataset\\sub-28\\ses-2\\eeg\\sub-28_ses-2_task-eyesopen_eeg.fdt\n",
      "Reading 0 ... 120529  =      0.000 ...   241.058 secs...\n",
      "Reading c:\\Users\\yaoyu\\Documents\\EE675\\Sleep_dep_dataset\\sub-29\\ses-1\\eeg\\sub-29_ses-1_task-eyesopen_eeg.fdt\n",
      "Reading 0 ... 149999  =      0.000 ...   299.998 secs...\n",
      "Reading c:\\Users\\yaoyu\\Documents\\EE675\\Sleep_dep_dataset\\sub-29\\ses-2\\eeg\\sub-29_ses-2_task-eyesopen_eeg.fdt\n",
      "Reading 0 ... 149999  =      0.000 ...   299.998 secs...\n",
      "Reading c:\\Users\\yaoyu\\Documents\\EE675\\Sleep_dep_dataset\\sub-30\\ses-1\\eeg\\sub-30_ses-1_task-eyesopen_eeg.fdt\n",
      "Reading 0 ... 149999  =      0.000 ...   299.998 secs...\n",
      "Reading c:\\Users\\yaoyu\\Documents\\EE675\\Sleep_dep_dataset\\sub-30\\ses-2\\eeg\\sub-30_ses-2_task-eyesopen_eeg.fdt\n",
      "Reading 0 ... 149999  =      0.000 ...   299.998 secs...\n",
      "Reading c:\\Users\\yaoyu\\Documents\\EE675\\Sleep_dep_dataset\\sub-31\\ses-1\\eeg\\sub-31_ses-1_task-eyesopen_eeg.fdt\n",
      "Reading 0 ... 149999  =      0.000 ...   299.998 secs...\n",
      "Reading c:\\Users\\yaoyu\\Documents\\EE675\\Sleep_dep_dataset\\sub-31\\ses-2\\eeg\\sub-31_ses-2_task-eyesopen_eeg.fdt\n",
      "Reading 0 ... 149999  =      0.000 ...   299.998 secs...\n",
      "Reading c:\\Users\\yaoyu\\Documents\\EE675\\Sleep_dep_dataset\\sub-32\\ses-1\\eeg\\sub-32_ses-1_task-eyesopen_eeg.fdt\n",
      "Reading 0 ... 149999  =      0.000 ...   299.998 secs...\n",
      "Reading c:\\Users\\yaoyu\\Documents\\EE675\\Sleep_dep_dataset\\sub-32\\ses-2\\eeg\\sub-32_ses-2_task-eyesopen_eeg.fdt\n",
      "Reading 0 ... 149999  =      0.000 ...   299.998 secs...\n",
      "Reading c:\\Users\\yaoyu\\Documents\\EE675\\Sleep_dep_dataset\\sub-33\\ses-1\\eeg\\sub-33_ses-1_task-eyesopen_eeg.fdt\n",
      "Reading 0 ... 149999  =      0.000 ...   299.998 secs...\n",
      "Reading c:\\Users\\yaoyu\\Documents\\EE675\\Sleep_dep_dataset\\sub-33\\ses-2\\eeg\\sub-33_ses-2_task-eyesopen_eeg.fdt\n",
      "Reading 0 ... 149999  =      0.000 ...   299.998 secs...\n",
      "Reading c:\\Users\\yaoyu\\Documents\\EE675\\Sleep_dep_dataset\\sub-34\\ses-1\\eeg\\sub-34_ses-1_task-eyesopen_eeg.fdt\n",
      "Reading 0 ... 149999  =      0.000 ...   299.998 secs...\n",
      "Reading c:\\Users\\yaoyu\\Documents\\EE675\\Sleep_dep_dataset\\sub-34\\ses-2\\eeg\\sub-34_ses-2_task-eyesopen_eeg.fdt\n",
      "Reading 0 ... 149999  =      0.000 ...   299.998 secs...\n",
      "Reading c:\\Users\\yaoyu\\Documents\\EE675\\Sleep_dep_dataset\\sub-35\\ses-1\\eeg\\sub-35_ses-1_task-eyesopen_eeg.fdt\n",
      "Reading 0 ... 149999  =      0.000 ...   299.998 secs...\n",
      "Reading c:\\Users\\yaoyu\\Documents\\EE675\\Sleep_dep_dataset\\sub-35\\ses-2\\eeg\\sub-35_ses-2_task-eyesopen_eeg.fdt\n",
      "Reading 0 ... 149999  =      0.000 ...   299.998 secs...\n",
      "Reading c:\\Users\\yaoyu\\Documents\\EE675\\Sleep_dep_dataset\\sub-36\\ses-1\\eeg\\sub-36_ses-1_task-eyesopen_eeg.fdt\n",
      "Reading 0 ... 149999  =      0.000 ...   299.998 secs...\n",
      "Reading c:\\Users\\yaoyu\\Documents\\EE675\\Sleep_dep_dataset\\sub-36\\ses-2\\eeg\\sub-36_ses-2_task-eyesopen_eeg.fdt\n",
      "Reading 0 ... 149999  =      0.000 ...   299.998 secs...\n",
      "Reading c:\\Users\\yaoyu\\Documents\\EE675\\Sleep_dep_dataset\\sub-37\\ses-1\\eeg\\sub-37_ses-1_task-eyesopen_eeg.fdt\n",
      "Reading 0 ... 149999  =      0.000 ...   299.998 secs...\n",
      "Reading c:\\Users\\yaoyu\\Documents\\EE675\\Sleep_dep_dataset\\sub-37\\ses-2\\eeg\\sub-37_ses-2_task-eyesopen_eeg.fdt\n",
      "Reading 0 ... 149999  =      0.000 ...   299.998 secs...\n",
      "Reading c:\\Users\\yaoyu\\Documents\\EE675\\Sleep_dep_dataset\\sub-38\\ses-1\\eeg\\sub-38_ses-1_task-eyesopen_eeg.fdt\n",
      "Reading 0 ... 149999  =      0.000 ...   299.998 secs...\n",
      "Reading c:\\Users\\yaoyu\\Documents\\EE675\\Sleep_dep_dataset\\sub-39\\ses-1\\eeg\\sub-39_ses-1_task-eyesopen_eeg.fdt\n",
      "Reading 0 ... 149999  =      0.000 ...   299.998 secs...\n",
      "Reading c:\\Users\\yaoyu\\Documents\\EE675\\Sleep_dep_dataset\\sub-40\\ses-1\\eeg\\sub-40_ses-1_task-eyesopen_eeg.fdt\n",
      "Reading 0 ... 149999  =      0.000 ...   299.998 secs...\n",
      "Reading c:\\Users\\yaoyu\\Documents\\EE675\\Sleep_dep_dataset\\sub-40\\ses-2\\eeg\\sub-40_ses-2_task-eyesopen_eeg.fdt\n",
      "Reading 0 ... 149999  =      0.000 ...   299.998 secs...\n",
      "Reading c:\\Users\\yaoyu\\Documents\\EE675\\Sleep_dep_dataset\\sub-41\\ses-1\\eeg\\sub-41_ses-1_task-eyesopen_eeg.fdt\n",
      "Reading 0 ... 149999  =      0.000 ...   299.998 secs...\n",
      "Reading c:\\Users\\yaoyu\\Documents\\EE675\\Sleep_dep_dataset\\sub-41\\ses-2\\eeg\\sub-41_ses-2_task-eyesopen_eeg.fdt\n",
      "Reading 0 ... 149999  =      0.000 ...   299.998 secs...\n",
      "Reading c:\\Users\\yaoyu\\Documents\\EE675\\Sleep_dep_dataset\\sub-42\\ses-1\\eeg\\sub-42_ses-1_task-eyesopen_eeg.fdt\n",
      "Reading 0 ... 149999  =      0.000 ...   299.998 secs...\n",
      "Reading c:\\Users\\yaoyu\\Documents\\EE675\\Sleep_dep_dataset\\sub-42\\ses-2\\eeg\\sub-42_ses-2_task-eyesopen_eeg.fdt\n",
      "Reading 0 ... 149999  =      0.000 ...   299.998 secs...\n",
      "Reading c:\\Users\\yaoyu\\Documents\\EE675\\Sleep_dep_dataset\\sub-43\\ses-1\\eeg\\sub-43_ses-1_task-eyesopen_eeg.fdt\n",
      "Reading 0 ... 149999  =      0.000 ...   299.998 secs...\n",
      "Reading c:\\Users\\yaoyu\\Documents\\EE675\\Sleep_dep_dataset\\sub-44\\ses-1\\eeg\\sub-44_ses-1_task-eyesopen_eeg.fdt\n",
      "Reading 0 ... 149999  =      0.000 ...   299.998 secs...\n",
      "Reading c:\\Users\\yaoyu\\Documents\\EE675\\Sleep_dep_dataset\\sub-45\\ses-1\\eeg\\sub-45_ses-1_task-eyesopen_eeg.fdt\n",
      "Reading 0 ... 149999  =      0.000 ...   299.998 secs...\n",
      "Reading c:\\Users\\yaoyu\\Documents\\EE675\\Sleep_dep_dataset\\sub-45\\ses-2\\eeg\\sub-45_ses-2_task-eyesopen_eeg.fdt\n",
      "Reading 0 ... 149999  =      0.000 ...   299.998 secs...\n",
      "Reading c:\\Users\\yaoyu\\Documents\\EE675\\Sleep_dep_dataset\\sub-46\\ses-1\\eeg\\sub-46_ses-1_task-eyesopen_eeg.fdt\n",
      "Reading 0 ... 149999  =      0.000 ...   299.998 secs...\n",
      "Reading c:\\Users\\yaoyu\\Documents\\EE675\\Sleep_dep_dataset\\sub-46\\ses-2\\eeg\\sub-46_ses-2_task-eyesopen_eeg.fdt\n",
      "Reading 0 ... 147919  =      0.000 ...   295.838 secs...\n"
     ]
    },
    {
     "name": "stderr",
     "output_type": "stream",
     "text": [
      "C:\\Users\\yaoyu\\AppData\\Local\\Temp\\ipykernel_21016\\3265498461.py:9: RuntimeWarning: The data contains 'boundary' events, indicating data discontinuities. Be cautious of filtering and epoching around these events.\n",
      "  raw = mne.io.read_raw_eeglab(eeg_path, preload=True)\n"
     ]
    },
    {
     "name": "stdout",
     "output_type": "stream",
     "text": [
      "Reading c:\\Users\\yaoyu\\Documents\\EE675\\Sleep_dep_dataset\\sub-47\\ses-1\\eeg\\sub-47_ses-1_task-eyesopen_eeg.fdt\n",
      "Reading 0 ... 149999  =      0.000 ...   299.998 secs...\n",
      "Reading c:\\Users\\yaoyu\\Documents\\EE675\\Sleep_dep_dataset\\sub-47\\ses-2\\eeg\\sub-47_ses-2_task-eyesopen_eeg.fdt\n",
      "Reading 0 ... 149999  =      0.000 ...   299.998 secs...\n",
      "Reading c:\\Users\\yaoyu\\Documents\\EE675\\Sleep_dep_dataset\\sub-48\\ses-1\\eeg\\sub-48_ses-1_task-eyesopen_eeg.fdt\n",
      "Reading 0 ... 149999  =      0.000 ...   299.998 secs...\n",
      "Reading c:\\Users\\yaoyu\\Documents\\EE675\\Sleep_dep_dataset\\sub-48\\ses-2\\eeg\\sub-48_ses-2_task-eyesopen_eeg.fdt\n",
      "Reading 0 ... 149999  =      0.000 ...   299.998 secs...\n",
      "Reading c:\\Users\\yaoyu\\Documents\\EE675\\Sleep_dep_dataset\\sub-49\\ses-1\\eeg\\sub-49_ses-1_task-eyesopen_eeg.fdt\n",
      "Reading 0 ... 149999  =      0.000 ...   299.998 secs...\n",
      "Reading c:\\Users\\yaoyu\\Documents\\EE675\\Sleep_dep_dataset\\sub-49\\ses-2\\eeg\\sub-49_ses-2_task-eyesopen_eeg.fdt\n",
      "Reading 0 ... 149999  =      0.000 ...   299.998 secs...\n",
      "Reading c:\\Users\\yaoyu\\Documents\\EE675\\Sleep_dep_dataset\\sub-50\\ses-1\\eeg\\sub-50_ses-1_task-eyesopen_eeg.fdt\n",
      "Reading 0 ... 149999  =      0.000 ...   299.998 secs...\n",
      "Reading c:\\Users\\yaoyu\\Documents\\EE675\\Sleep_dep_dataset\\sub-50\\ses-2\\eeg\\sub-50_ses-2_task-eyesopen_eeg.fdt\n",
      "Reading 0 ... 149999  =      0.000 ...   299.998 secs...\n",
      "Reading c:\\Users\\yaoyu\\Documents\\EE675\\Sleep_dep_dataset\\sub-51\\ses-1\\eeg\\sub-51_ses-1_task-eyesopen_eeg.fdt\n",
      "Reading 0 ... 149999  =      0.000 ...   299.998 secs...\n",
      "Reading c:\\Users\\yaoyu\\Documents\\EE675\\Sleep_dep_dataset\\sub-51\\ses-2\\eeg\\sub-51_ses-2_task-eyesopen_eeg.fdt\n",
      "Reading 0 ... 145419  =      0.000 ...   290.838 secs...\n"
     ]
    },
    {
     "name": "stderr",
     "output_type": "stream",
     "text": [
      "C:\\Users\\yaoyu\\AppData\\Local\\Temp\\ipykernel_21016\\3265498461.py:9: RuntimeWarning: The data contains 'boundary' events, indicating data discontinuities. Be cautious of filtering and epoching around these events.\n",
      "  raw = mne.io.read_raw_eeglab(eeg_path, preload=True)\n"
     ]
    },
    {
     "name": "stdout",
     "output_type": "stream",
     "text": [
      "Reading c:\\Users\\yaoyu\\Documents\\EE675\\Sleep_dep_dataset\\sub-52\\ses-1\\eeg\\sub-52_ses-1_task-eyesopen_eeg.fdt\n",
      "Reading 0 ... 149999  =      0.000 ...   299.998 secs...\n",
      "Reading c:\\Users\\yaoyu\\Documents\\EE675\\Sleep_dep_dataset\\sub-52\\ses-2\\eeg\\sub-52_ses-2_task-eyesopen_eeg.fdt\n",
      "Reading 0 ... 182389  =      0.000 ...   364.778 secs...\n"
     ]
    },
    {
     "name": "stderr",
     "output_type": "stream",
     "text": [
      "C:\\Users\\yaoyu\\AppData\\Local\\Temp\\ipykernel_21016\\3265498461.py:9: RuntimeWarning: The data contains 'boundary' events, indicating data discontinuities. Be cautious of filtering and epoching around these events.\n",
      "  raw = mne.io.read_raw_eeglab(eeg_path, preload=True)\n"
     ]
    },
    {
     "name": "stdout",
     "output_type": "stream",
     "text": [
      "Reading c:\\Users\\yaoyu\\Documents\\EE675\\Sleep_dep_dataset\\sub-53\\ses-1\\eeg\\sub-53_ses-1_task-eyesopen_eeg.fdt\n",
      "Reading 0 ... 149999  =      0.000 ...   299.998 secs...\n",
      "Reading c:\\Users\\yaoyu\\Documents\\EE675\\Sleep_dep_dataset\\sub-53\\ses-2\\eeg\\sub-53_ses-2_task-eyesopen_eeg.fdt\n",
      "Reading 0 ... 149999  =      0.000 ...   299.998 secs...\n",
      "Reading c:\\Users\\yaoyu\\Documents\\EE675\\Sleep_dep_dataset\\sub-54\\ses-1\\eeg\\sub-54_ses-1_task-eyesopen_eeg.fdt\n",
      "Reading 0 ... 149999  =      0.000 ...   299.998 secs...\n",
      "Reading c:\\Users\\yaoyu\\Documents\\EE675\\Sleep_dep_dataset\\sub-54\\ses-2\\eeg\\sub-54_ses-2_task-eyesopen_eeg.fdt\n",
      "Reading 0 ... 149999  =      0.000 ...   299.998 secs...\n",
      "Reading c:\\Users\\yaoyu\\Documents\\EE675\\Sleep_dep_dataset\\sub-55\\ses-1\\eeg\\sub-55_ses-1_task-eyesopen_eeg.fdt\n",
      "Reading 0 ... 149999  =      0.000 ...   299.998 secs...\n",
      "Reading c:\\Users\\yaoyu\\Documents\\EE675\\Sleep_dep_dataset\\sub-55\\ses-2\\eeg\\sub-55_ses-2_task-eyesopen_eeg.fdt\n",
      "Reading 0 ... 149999  =      0.000 ...   299.998 secs...\n",
      "Reading c:\\Users\\yaoyu\\Documents\\EE675\\Sleep_dep_dataset\\sub-56\\ses-1\\eeg\\sub-56_ses-1_task-eyesopen_eeg.fdt\n",
      "Reading 0 ... 149999  =      0.000 ...   299.998 secs...\n",
      "Reading c:\\Users\\yaoyu\\Documents\\EE675\\Sleep_dep_dataset\\sub-56\\ses-2\\eeg\\sub-56_ses-2_task-eyesopen_eeg.fdt\n",
      "Reading 0 ... 149999  =      0.000 ...   299.998 secs...\n",
      "Reading c:\\Users\\yaoyu\\Documents\\EE675\\Sleep_dep_dataset\\sub-57\\ses-1\\eeg\\sub-57_ses-1_task-eyesopen_eeg.fdt\n",
      "Reading 0 ... 149999  =      0.000 ...   299.998 secs...\n"
     ]
    },
    {
     "name": "stderr",
     "output_type": "stream",
     "text": [
      "C:\\Users\\yaoyu\\AppData\\Local\\Temp\\ipykernel_21016\\3265498461.py:9: RuntimeWarning: Limited 1 annotation(s) that were expanding outside the data range.\n",
      "  raw = mne.io.read_raw_eeglab(eeg_path, preload=True)\n",
      "C:\\Users\\yaoyu\\AppData\\Local\\Temp\\ipykernel_21016\\3265498461.py:9: RuntimeWarning: The data contains 'boundary' events, indicating data discontinuities. Be cautious of filtering and epoching around these events.\n",
      "  raw = mne.io.read_raw_eeglab(eeg_path, preload=True)\n"
     ]
    },
    {
     "name": "stdout",
     "output_type": "stream",
     "text": [
      "Reading c:\\Users\\yaoyu\\Documents\\EE675\\Sleep_dep_dataset\\sub-57\\ses-2\\eeg\\sub-57_ses-2_task-eyesopen_eeg.fdt\n",
      "Reading 0 ... 125719  =      0.000 ...   251.438 secs...\n"
     ]
    },
    {
     "name": "stderr",
     "output_type": "stream",
     "text": [
      "C:\\Users\\yaoyu\\AppData\\Local\\Temp\\ipykernel_21016\\3265498461.py:9: RuntimeWarning: The data contains 'boundary' events, indicating data discontinuities. Be cautious of filtering and epoching around these events.\n",
      "  raw = mne.io.read_raw_eeglab(eeg_path, preload=True)\n"
     ]
    },
    {
     "name": "stdout",
     "output_type": "stream",
     "text": [
      "Reading c:\\Users\\yaoyu\\Documents\\EE675\\Sleep_dep_dataset\\sub-58\\ses-1\\eeg\\sub-58_ses-1_task-eyesopen_eeg.fdt\n",
      "Reading 0 ... 149999  =      0.000 ...   299.998 secs...\n",
      "Reading c:\\Users\\yaoyu\\Documents\\EE675\\Sleep_dep_dataset\\sub-58\\ses-2\\eeg\\sub-58_ses-2_task-eyesopen_eeg.fdt\n",
      "Reading 0 ... 132409  =      0.000 ...   264.818 secs...\n"
     ]
    },
    {
     "name": "stderr",
     "output_type": "stream",
     "text": [
      "C:\\Users\\yaoyu\\AppData\\Local\\Temp\\ipykernel_21016\\3265498461.py:9: RuntimeWarning: The data contains 'boundary' events, indicating data discontinuities. Be cautious of filtering and epoching around these events.\n",
      "  raw = mne.io.read_raw_eeglab(eeg_path, preload=True)\n"
     ]
    },
    {
     "name": "stdout",
     "output_type": "stream",
     "text": [
      "Reading c:\\Users\\yaoyu\\Documents\\EE675\\Sleep_dep_dataset\\sub-59\\ses-1\\eeg\\sub-59_ses-1_task-eyesopen_eeg.fdt\n",
      "Reading 0 ... 149999  =      0.000 ...   299.998 secs...\n",
      "Reading c:\\Users\\yaoyu\\Documents\\EE675\\Sleep_dep_dataset\\sub-59\\ses-2\\eeg\\sub-59_ses-2_task-eyesopen_eeg.fdt\n",
      "Reading 0 ... 144109  =      0.000 ...   288.218 secs...\n"
     ]
    },
    {
     "name": "stderr",
     "output_type": "stream",
     "text": [
      "C:\\Users\\yaoyu\\AppData\\Local\\Temp\\ipykernel_21016\\3265498461.py:9: RuntimeWarning: The data contains 'boundary' events, indicating data discontinuities. Be cautious of filtering and epoching around these events.\n",
      "  raw = mne.io.read_raw_eeglab(eeg_path, preload=True)\n"
     ]
    },
    {
     "name": "stdout",
     "output_type": "stream",
     "text": [
      "Reading c:\\Users\\yaoyu\\Documents\\EE675\\Sleep_dep_dataset\\sub-60\\ses-1\\eeg\\sub-60_ses-1_task-eyesopen_eeg.fdt\n",
      "Reading 0 ... 124489  =      0.000 ...   248.978 secs...\n"
     ]
    },
    {
     "name": "stderr",
     "output_type": "stream",
     "text": [
      "C:\\Users\\yaoyu\\AppData\\Local\\Temp\\ipykernel_21016\\3265498461.py:9: RuntimeWarning: The data contains 'boundary' events, indicating data discontinuities. Be cautious of filtering and epoching around these events.\n",
      "  raw = mne.io.read_raw_eeglab(eeg_path, preload=True)\n"
     ]
    },
    {
     "name": "stdout",
     "output_type": "stream",
     "text": [
      "Reading c:\\Users\\yaoyu\\Documents\\EE675\\Sleep_dep_dataset\\sub-60\\ses-2\\eeg\\sub-60_ses-2_task-eyesopen_eeg.fdt\n",
      "Reading 0 ... 149999  =      0.000 ...   299.998 secs...\n",
      "Reading c:\\Users\\yaoyu\\Documents\\EE675\\Sleep_dep_dataset\\sub-61\\ses-1\\eeg\\sub-61_ses-1_task-eyesopen_eeg.fdt\n",
      "Reading 0 ... 149999  =      0.000 ...   299.998 secs...\n",
      "Reading c:\\Users\\yaoyu\\Documents\\EE675\\Sleep_dep_dataset\\sub-61\\ses-2\\eeg\\sub-61_ses-2_task-eyesopen_eeg.fdt\n",
      "Reading 0 ... 149999  =      0.000 ...   299.998 secs...\n",
      "Reading c:\\Users\\yaoyu\\Documents\\EE675\\Sleep_dep_dataset\\sub-62\\ses-1\\eeg\\sub-62_ses-1_task-eyesopen_eeg.fdt\n",
      "Reading 0 ... 149999  =      0.000 ...   299.998 secs...\n",
      "Reading c:\\Users\\yaoyu\\Documents\\EE675\\Sleep_dep_dataset\\sub-62\\ses-2\\eeg\\sub-62_ses-2_task-eyesopen_eeg.fdt\n",
      "Reading 0 ... 141789  =      0.000 ...   283.578 secs...\n"
     ]
    },
    {
     "name": "stderr",
     "output_type": "stream",
     "text": [
      "C:\\Users\\yaoyu\\AppData\\Local\\Temp\\ipykernel_21016\\3265498461.py:9: RuntimeWarning: The data contains 'boundary' events, indicating data discontinuities. Be cautious of filtering and epoching around these events.\n",
      "  raw = mne.io.read_raw_eeglab(eeg_path, preload=True)\n"
     ]
    },
    {
     "name": "stdout",
     "output_type": "stream",
     "text": [
      "Reading c:\\Users\\yaoyu\\Documents\\EE675\\Sleep_dep_dataset\\sub-63\\ses-1\\eeg\\sub-63_ses-1_task-eyesopen_eeg.fdt\n",
      "Reading 0 ... 149999  =      0.000 ...   299.998 secs...\n",
      "Reading c:\\Users\\yaoyu\\Documents\\EE675\\Sleep_dep_dataset\\sub-63\\ses-2\\eeg\\sub-63_ses-2_task-eyesopen_eeg.fdt\n",
      "Reading 0 ... 149999  =      0.000 ...   299.998 secs...\n",
      "Reading c:\\Users\\yaoyu\\Documents\\EE675\\Sleep_dep_dataset\\sub-64\\ses-1\\eeg\\sub-64_ses-1_task-eyesopen_eeg.fdt\n",
      "Reading 0 ... 149999  =      0.000 ...   299.998 secs...\n",
      "Reading c:\\Users\\yaoyu\\Documents\\EE675\\Sleep_dep_dataset\\sub-64\\ses-2\\eeg\\sub-64_ses-2_task-eyesopen_eeg.fdt\n",
      "Reading 0 ... 149999  =      0.000 ...   299.998 secs...\n",
      "Reading c:\\Users\\yaoyu\\Documents\\EE675\\Sleep_dep_dataset\\sub-65\\ses-1\\eeg\\sub-65_ses-1_task-eyesopen_eeg.fdt\n",
      "Reading 0 ... 149999  =      0.000 ...   299.998 secs...\n",
      "Reading c:\\Users\\yaoyu\\Documents\\EE675\\Sleep_dep_dataset\\sub-65\\ses-2\\eeg\\sub-65_ses-2_task-eyesopen_eeg.fdt\n",
      "Reading 0 ... 118919  =      0.000 ...   237.838 secs...\n"
     ]
    },
    {
     "name": "stderr",
     "output_type": "stream",
     "text": [
      "C:\\Users\\yaoyu\\AppData\\Local\\Temp\\ipykernel_21016\\3265498461.py:9: RuntimeWarning: The data contains 'boundary' events, indicating data discontinuities. Be cautious of filtering and epoching around these events.\n",
      "  raw = mne.io.read_raw_eeglab(eeg_path, preload=True)\n"
     ]
    },
    {
     "name": "stdout",
     "output_type": "stream",
     "text": [
      "Reading c:\\Users\\yaoyu\\Documents\\EE675\\Sleep_dep_dataset\\sub-66\\ses-1\\eeg\\sub-66_ses-1_task-eyesopen_eeg.fdt\n",
      "Reading 0 ... 149999  =      0.000 ...   299.998 secs...\n",
      "Reading c:\\Users\\yaoyu\\Documents\\EE675\\Sleep_dep_dataset\\sub-66\\ses-2\\eeg\\sub-66_ses-2_task-eyesopen_eeg.fdt\n",
      "Reading 0 ... 149999  =      0.000 ...   299.998 secs...\n",
      "Reading c:\\Users\\yaoyu\\Documents\\EE675\\Sleep_dep_dataset\\sub-67\\ses-1\\eeg\\sub-67_ses-1_task-eyesopen_eeg.fdt\n",
      "Reading 0 ... 149999  =      0.000 ...   299.998 secs...\n",
      "Reading c:\\Users\\yaoyu\\Documents\\EE675\\Sleep_dep_dataset\\sub-67\\ses-2\\eeg\\sub-67_ses-2_task-eyesopen_eeg.fdt\n",
      "Reading 0 ... 149999  =      0.000 ...   299.998 secs...\n",
      "Reading c:\\Users\\yaoyu\\Documents\\EE675\\Sleep_dep_dataset\\sub-68\\ses-1\\eeg\\sub-68_ses-1_task-eyesopen_eeg.fdt\n",
      "Reading 0 ... 149999  =      0.000 ...   299.998 secs...\n",
      "Reading c:\\Users\\yaoyu\\Documents\\EE675\\Sleep_dep_dataset\\sub-68\\ses-2\\eeg\\sub-68_ses-2_task-eyesopen_eeg.fdt\n",
      "Reading 0 ... 149999  =      0.000 ...   299.998 secs...\n",
      "Reading c:\\Users\\yaoyu\\Documents\\EE675\\Sleep_dep_dataset\\sub-69\\ses-1\\eeg\\sub-69_ses-1_task-eyesopen_eeg.fdt\n",
      "Reading 0 ... 149999  =      0.000 ...   299.998 secs...\n",
      "Reading c:\\Users\\yaoyu\\Documents\\EE675\\Sleep_dep_dataset\\sub-69\\ses-2\\eeg\\sub-69_ses-2_task-eyesopen_eeg.fdt\n",
      "Reading 0 ... 149999  =      0.000 ...   299.998 secs...\n",
      "Reading c:\\Users\\yaoyu\\Documents\\EE675\\Sleep_dep_dataset\\sub-70\\ses-1\\eeg\\sub-70_ses-1_task-eyesopen_eeg.fdt\n",
      "Reading 0 ... 149999  =      0.000 ...   299.998 secs...\n",
      "Reading c:\\Users\\yaoyu\\Documents\\EE675\\Sleep_dep_dataset\\sub-70\\ses-2\\eeg\\sub-70_ses-2_task-eyesopen_eeg.fdt\n",
      "Reading 0 ... 149999  =      0.000 ...   299.998 secs...\n",
      "Reading c:\\Users\\yaoyu\\Documents\\EE675\\Sleep_dep_dataset\\sub-71\\ses-1\\eeg\\sub-71_ses-1_task-eyesopen_eeg.fdt\n",
      "Reading 0 ... 149999  =      0.000 ...   299.998 secs...\n",
      "Reading c:\\Users\\yaoyu\\Documents\\EE675\\Sleep_dep_dataset\\sub-71\\ses-2\\eeg\\sub-71_ses-2_task-eyesopen_eeg.fdt\n",
      "Reading 0 ... 149999  =      0.000 ...   299.998 secs...\n"
     ]
    }
   ],
   "source": [
    "psd_raw_ns = []\n",
    "psd_raw_sd = []\n",
    "for i in range(1, 72):\n",
    "    patient_id = f\"sub-{i:02d}\"\n",
    "    for session, condition in zip(['1', '2'], ['normal sleep', 'sleep deprivation']):\n",
    "        eeg_path = os.path.join(\"Sleep_dep_dataset\", patient_id, \"ses-\" + session, \"eeg\", patient_id + \"_ses-\" + session + \"_task-eyesopen_eeg.set\")\n",
    "        \n",
    "        if os.path.exists(eeg_path):\n",
    "            raw = mne.io.read_raw_eeglab(eeg_path, preload=True)\n",
    "            data = raw.get_data()\n",
    "\n",
    "            freqs, psd = welch(data, sfreq, nperseg=sfreq * 2, axis=1)\n",
    "            freq_mask = (freqs >= fmin) & (freqs <= fmax)\n",
    "            freqs_filtered = freqs[freq_mask]\n",
    "            psd_filtered = psd[:, freq_mask]\n",
    "            mean_psd = np.mean(psd_filtered, axis=0)\n",
    "  \n",
    "            if condition == 'normal sleep':\n",
    "                psd_raw_ns.append(mean_psd)\n",
    "            else:\n",
    "                psd_raw_sd.append(mean_psd)\n",
    "\n",
    "psd_raw_ns = np.array(psd_raw_ns)\n",
    "psd_raw_sd = np.array(psd_raw_sd)\n",
    "\n",
    "mean_raw_ns = np.mean(psd_raw_ns, axis=0)\n",
    "sem_raw_ns = np.std(psd_raw_ns, axis=0) / np.sqrt(psd_raw_ns.shape[0])\n",
    "\n",
    "mean_raw_sd = np.mean(psd_raw_sd, axis=0)\n",
    "sem_raw_sd = np.std(psd_raw_sd, axis=0) / np.sqrt(psd_raw_sd.shape[0])\n",
    "\n",
    "psd_smoothed_ns = []\n",
    "psd_smoothed_sd = []\n",
    "\n",
    "features_file = \"KF_smoothed_data.pkl\"\n",
    "with open(features_file, 'rb') as f:\n",
    "    smoothed_data_dict = pickle.load(f)\n",
    "\n",
    "for patient_session, data in smoothed_data_dict.items():\n",
    "    smoothed_data = data['smoothed_data'] \n",
    "    label = data['label']  \n",
    "\n",
    "\n",
    "    smoothed_data_continuous = np.concatenate(smoothed_data, axis=-1)  \n",
    "\n",
    "  \n",
    "    freqs, psd = welch(smoothed_data_continuous, sfreq, nperseg=sfreq * 2, axis=1)  \n",
    "    freq_mask = (freqs >= fmin) & (freqs <= fmax)\n",
    "    freqs_filtered = freqs[freq_mask]\n",
    "    psd_filtered = psd[:, freq_mask]\n",
    "    mean_psd = np.mean(psd_filtered, axis=0)\n",
    "    \n",
    "    if label == 0:  \n",
    "        psd_smoothed_ns.append(mean_psd)\n",
    "    else:  \n",
    "        psd_smoothed_sd.append(mean_psd)\n",
    "\n",
    "psd_smoothed_ns = np.array(psd_smoothed_ns)\n",
    "psd_smoothed_sd = np.array(psd_smoothed_sd)\n",
    "\n",
    "mean_smoothed_ns = np.mean(psd_smoothed_ns, axis=0)\n",
    "sem_smoothed_ns = np.std(psd_smoothed_ns, axis=0) / np.sqrt(psd_smoothed_ns.shape[0])\n",
    "\n",
    "mean_smoothed_sd = np.mean(psd_smoothed_sd, axis=0)\n",
    "sem_smoothed_sd = np.std(psd_smoothed_sd, axis=0) / np.sqrt(psd_smoothed_sd.shape[0])"
   ]
  },
  {
   "cell_type": "code",
   "execution_count": 26,
   "metadata": {},
   "outputs": [
    {
     "data": {
      "image/png": "[encoded data removed]",
      "text/plain": [
       "<Figure size 1400x600 with 2 Axes>"
      ]
     },
     "metadata": {},
     "output_type": "display_data"
    }
   ],
   "source": [
    "import matplotlib.pyplot as plt\n",
    "\n",
    "# Convert PSD values to dB for smoothed signals\n",
    "mean_smoothed_ns_db = 10 * np.log10(mean_smoothed_ns)\n",
    "sem_smoothed_ns_db = 10 * np.log10(mean_smoothed_ns + sem_smoothed_ns) - mean_smoothed_ns_db\n",
    "\n",
    "mean_smoothed_sd_db = 10 * np.log10(mean_smoothed_sd)\n",
    "sem_smoothed_sd_db = 10 * np.log10(mean_smoothed_sd + sem_smoothed_sd) - mean_smoothed_sd_db\n",
    "\n",
    "# Convert PSD values to dB for raw signals\n",
    "mean_raw_ns_db = 10 * np.log10(mean_raw_ns)\n",
    "sem_raw_ns_db = 10 * np.log10(mean_raw_ns + sem_raw_ns) - mean_raw_ns_db\n",
    "\n",
    "mean_raw_sd_db = 10 * np.log10(mean_raw_sd)\n",
    "sem_raw_sd_db = 10 * np.log10(mean_raw_sd + sem_raw_sd) - mean_raw_sd_db\n",
    "\n",
    "# Plotting\n",
    "fig, axes = plt.subplots(1, 2, figsize=(14, 6), sharey=True)\n",
    "\n",
    "# Smoothed signals plot\n",
    "axes[0].plot(freqs_filtered, mean_smoothed_ns_db, label='NS (Smoothed)', color='blue')\n",
    "axes[0].fill_between(\n",
    "    freqs_filtered,\n",
    "    mean_smoothed_ns_db - sem_smoothed_ns_db,\n",
    "    mean_smoothed_ns_db + sem_smoothed_ns_db,\n",
    "    alpha=0.2,\n",
    "    color='blue'\n",
    ")\n",
    "axes[0].plot(freqs_filtered, mean_smoothed_sd_db, label='SD (Smoothed)', color='orange')\n",
    "axes[0].fill_between(\n",
    "    freqs_filtered,\n",
    "    mean_smoothed_sd_db - sem_smoothed_sd_db,\n",
    "    mean_smoothed_sd_db + sem_smoothed_sd_db,\n",
    "    alpha=0.2,\n",
    "    color='orange'\n",
    ")\n",
    "axes[0].set_title('Smoothed Signal: NS vs SD')\n",
    "axes[0].set_xlabel('Frequency (Hz)')\n",
    "axes[0].set_ylabel('PSD (dB)')  # Updated units\n",
    "axes[0].legend()\n",
    "axes[0].grid(True)\n",
    "\n",
    "# Raw signals plot\n",
    "axes[1].plot(freqs_filtered, mean_raw_ns_db, label='NS (Raw)', color='blue')\n",
    "axes[1].fill_between(\n",
    "    freqs_filtered,\n",
    "    mean_raw_ns_db - sem_raw_ns_db,\n",
    "    mean_raw_ns_db + sem_raw_ns_db,\n",
    "    alpha=0.2,\n",
    "    color='blue'\n",
    ")\n",
    "axes[1].plot(freqs_filtered, mean_raw_sd_db, label='SD (Raw)', color='orange')\n",
    "axes[1].fill_between(\n",
    "    freqs_filtered,\n",
    "    mean_raw_sd_db - sem_raw_sd_db,\n",
    "    mean_raw_sd_db + sem_raw_sd_db,\n",
    "    alpha=0.2,\n",
    "    color='orange'\n",
    ")\n",
    "axes[1].set_title('Raw Signal: NS vs SD')\n",
    "axes[1].set_xlabel('Frequency (Hz)')\n",
    "axes[1].legend()\n",
    "axes[1].grid(True)\n",
    "\n",
    "plt.tight_layout()\n",
    "plt.show()\n"
   ]
  }
 ],
 "metadata": {
  "kernelspec": {
   "display_name": "base",
   "language": "python",
   "name": "python3"
  },
  "language_info": {
   "codemirror_mode": {
    "name": "ipython",
    "version": 3
   },
   "file_extension": ".py",
   "mimetype": "text/x-python",
   "name": "python",
   "nbconvert_exporter": "python",
   "pygments_lexer": "ipython3",
   "version": "3.12.3"
  }
 },
 "nbformat": 4,
 "nbformat_minor": 2
}
